{
  "nbformat": 4,
  "nbformat_minor": 0,
  "metadata": {
    "colab": {
      "name": "ASR_draft.ipynb",
      "provenance": [],
      "collapsed_sections": []
    },
    "kernelspec": {
      "name": "python3",
      "display_name": "Python 3"
    },
    "language_info": {
      "name": "python"
    },
    "accelerator": "GPU"
  },
  "cells": [
    {
      "cell_type": "code",
      "metadata": {
        "id": "fyX6BwsRPKTw"
      },
      "source": [
        "import numpy as np\n",
        "# feature extracture (mfcc) + load wave files\n",
        "import librosa\n",
        "# walking on the wave files with different names\n",
        "import os\n",
        "from tqdm import tqdm_notebook as tqdm\n",
        "# to save and load variables\n",
        "import pickle\n",
        "import matplotlib.pyplot as plt\n",
        "%matplotlib inline\n",
        "import matplotlib\n",
        "from IPython import display\n",
        "# Model\n",
        "import tensorflow as tf\n",
        "import tensorflow.keras\n",
        "from tensorflow import keras\n",
        "from tensorflow.keras import layers, models, activations, optimizers, losses\n",
        "from keras.models import Model\n",
        "from keras.layers import BatchNormalization, CuDNNGRU, Conv1D, MaxPooling1D, Dropout, Dense, GRU, Flatten, Bidirectional\n",
        "# Machine learning tools for performance comparison\n",
        "from sklearn.metrics import confusion_matrix, classification_report"
      ],
      "execution_count": 52,
      "outputs": []
    },
    {
      "cell_type": "code",
      "metadata": {
        "id": "NifdkJOBDllB"
      },
      "source": [
        "#setting\n",
        "matplotlib.rcParams['figure.figsize'] = (6, 2)\n",
        "colors = plt.rcParams['axes.prop_cycle'].by_key()['color']"
      ],
      "execution_count": 53,
      "outputs": []
    },
    {
      "cell_type": "code",
      "metadata": {
        "id": "5UkRt4MLmfWl"
      },
      "source": [
        "RANDOM_SEED = 42\n",
        "np.random.seed(RANDOM_SEED)\n",
        "tf.random.set_seed(RANDOM_SEED)"
      ],
      "execution_count": 54,
      "outputs": []
    },
    {
      "cell_type": "code",
      "metadata": {
        "id": "24DOMk2T3d32"
      },
      "source": [
        "#useing to load dataset\n",
        "loadProccedData = True"
      ],
      "execution_count": 55,
      "outputs": []
    },
    {
      "cell_type": "code",
      "metadata": {
        "id": "LE1Whv-PmOit"
      },
      "source": [
        "# download TIMIT DB\n",
        "if loadProccedData == False:\n",
        "  !wget cls.ru.nl/~ltenbosch/TIMIT.tar.gz"
      ],
      "execution_count": 56,
      "outputs": []
    },
    {
      "cell_type": "code",
      "metadata": {
        "id": "FK2o9lpYmc-d"
      },
      "source": [
        "# unzip files\n",
        "if loadProccedData == False:\n",
        "  !tar -zxvf /content/TIMIT.tar.gz"
      ],
      "execution_count": 57,
      "outputs": []
    },
    {
      "cell_type": "code",
      "metadata": {
        "id": "CHfnjCtbjIOI"
      },
      "source": [
        "#calculating the energy of wav files\n",
        "def energy(wav):\n",
        "  energ = np.inner(wav, wav)\n",
        "  return energ\n",
        "#Normalyzing the wav files\n",
        "def normaliz(wav):\n",
        "  wav /= energy(wav)\n",
        "  return wav"
      ],
      "execution_count": 58,
      "outputs": []
    },
    {
      "cell_type": "code",
      "metadata": {
        "id": "UZywpDIgnS66"
      },
      "source": [
        "# train set (feature extracting from wav and phonetics from text files)\n",
        "if loadProccedData == False:\n",
        "  trainPhonesFeatures = []\n",
        "  trainPhonesLabels = []\n",
        "  trainDialectRegion = []\n",
        "  trainSpeakerID = []\n",
        "  trainGenderID = []\n",
        "  # counterCheck = 0\n",
        "  pathBase = '/content/wavfiles16kHz/TRAIN/'\n",
        "  # walking on all files\n",
        "  for path in tqdm(os.listdir(pathBase)):\n",
        "    # counterCheck += 1\n",
        "    # if counterCheck == 10 :\n",
        "    #   break\n",
        "    wavFile, sampleRate = librosa.load(pathBase+path)\n",
        "    sampleRate = 16000\n",
        "    #Normilizing wav file to its energy\n",
        "    wavFile = normaliz(wavFile)\n",
        "    # extracting features \n",
        "    wavMfccFeatures = librosa.feature.mfcc(y=wavFile, sr=sampleRate,\n",
        "                                           n_mfcc=13, hop_length=160)\n",
        "    # print(len(wavFile)/sampleRate * 100)\n",
        "    # print(np.shape(wavMfccFeatures))\n",
        "    \n",
        "    \n",
        "    # path of text files (.PHN)\n",
        "    pathToPhn = '/content/PHN/TRAIN/' + os.path.splitext(os.path.basename(path))[0] + '.PHN'\n",
        "    dialectRegion = path[0 : 3]\n",
        "    genderID = path[3]\n",
        "    speakerID = path[3 : 8]\n",
        "\n",
        "    with open(pathToPhn) as f:\n",
        "      line = f.readline()\n",
        "      while line:\n",
        "        start, end, phoneName = line.split(sep=' ')\n",
        "        trainPhonesLabels.append(phoneName)\n",
        "        trainDialectRegion.append(dialectRegion)\n",
        "        trainSpeakerID.append(speakerID)\n",
        "        if genderID == 'M':\n",
        "          trainGenderID.append(0)\n",
        "        else:\n",
        "          trainGenderID.append(1)\n",
        "        #changing start and end of phones into centi_second\n",
        "        start = np.floor(int(start) / sampleRate * 100).astype(np.int)\n",
        "        end = np.floor(int(end) / sampleRate * 100).astype(np.int)\n",
        "        #getting feature slice\n",
        "        phoneFeatures = wavMfccFeatures[:,start:end]\n",
        "        trainPhonesFeatures.append(phoneFeatures)\n",
        "        #next line\n",
        "        line = f.readline()\n",
        "\n"
      ],
      "execution_count": 59,
      "outputs": []
    },
    {
      "cell_type": "code",
      "metadata": {
        "id": "YpFHYZfq3O-d"
      },
      "source": [
        "# test set (feature extracting from wav and phonetics from text files)\n",
        "if loadProccedData == False:\n",
        "  testPhonesFeatures = []\n",
        "  testPhonesLabels = []\n",
        "  testDialectRegion = []\n",
        "  testSpeakerID = []\n",
        "  testGenderID = []\n",
        "  counterCheck = 0\n",
        "  pathBase = '/content/wavfiles16kHz/TEST/'\n",
        "  # walking on all files\n",
        "  for path in tqdm(os.listdir(pathBase)):\n",
        "    # counterCheck += 1\n",
        "    # if counterCheck == 10 :\n",
        "    #   break\n",
        "    wavFile, sampleRate = librosa.load(pathBase+path)\n",
        "    sampleRate = 16000\n",
        "    #Normilizing wav file to its energy\n",
        "    wavFile = normaliz(wavFile)\n",
        "    # extracting features \n",
        "    wavMfccFeatures = librosa.feature.mfcc(y=wavFile, sr=sampleRate, n_mfcc=13, hop_length=160)\n",
        "    # path of text files (.PHN)\n",
        "    # print(len(wavFile)/sampleRate * 100)\n",
        "    # print(np.shape(wavMfccFeatures))\n",
        "    pathToPhn = '/content/PHN/TEST/' + os.path.splitext(os.path.basename(path))[0] + '.PHN'\n",
        "    dialectRegion = path[0:3]\n",
        "    genderID = path[3]\n",
        "    speakerID = path[3 : 8]\n",
        "\n",
        "    with open(pathToPhn) as f:\n",
        "      line = f.readline()\n",
        "      while line:\n",
        "        start, end, phoneName = line.split(sep=' ')\n",
        "        testPhonesLabels.append(phoneName)\n",
        "        testDialectRegion.append(dialectRegion)\n",
        "        testSpeakerID.append(speakerID)\n",
        "        if genderID == 'M':\n",
        "          testGenderID.append(0)\n",
        "        else:\n",
        "          testGenderID.append(1)\n",
        "        #changing start and end of phones into centi_second\n",
        "        start = np.floor(int(start) / sampleRate * 100).astype(np.int)\n",
        "        end = np.floor(int(end) / sampleRate * 100).astype(np.int)\n",
        "        #getting feature slice\n",
        "        phoneFeatures = wavMfccFeatures[:,start:end]\n",
        "        testPhonesFeatures.append(phoneFeatures)\n",
        "        #next line\n",
        "        line = f.readline()\n",
        "\n"
      ],
      "execution_count": 60,
      "outputs": []
    },
    {
      "cell_type": "code",
      "metadata": {
        "colab": {
          "base_uri": "https://localhost:8080/"
        },
        "id": "Shsg3nhZ0JCu",
        "outputId": "e5ef38e2-ee3f-4dd8-dd03-081c9d1c5098"
      },
      "source": [
        "from google.colab import drive\n",
        "drive.mount('/content/gdrive')\n"
      ],
      "execution_count": 61,
      "outputs": [
        {
          "output_type": "stream",
          "text": [
            "Drive already mounted at /content/gdrive; to attempt to forcibly remount, call drive.mount(\"/content/gdrive\", force_remount=True).\n"
          ],
          "name": "stdout"
        }
      ]
    },
    {
      "cell_type": "code",
      "metadata": {
        "id": "8becCKQp0igH"
      },
      "source": [
        "#saving the variables\n",
        "if loadProccedData == False:\n",
        "  AllVars = [trainPhonesFeatures, trainPhonesLabels, trainDialectRegion, trainSpeakerID,\n",
        "            testPhonesFeatures, testPhonesLabels, testDialectRegion, testSpeakerID,trainGenderID , testGenderID]\n",
        "  with open('/content/gdrive/MyDrive/Dataset/TIMITData/' + 'DS.pckl', 'wb') as f:\n",
        "      pickle.dump(AllVars, f)"
      ],
      "execution_count": 62,
      "outputs": []
    },
    {
      "cell_type": "code",
      "metadata": {
        "id": "wSdhEPEZ2nKh"
      },
      "source": [
        "#load the variables\n",
        "if loadProccedData:\n",
        "  with open('/content/gdrive/MyDrive/Dataset/TIMITData/' + 'DS.pckl', 'rb') as f:\n",
        "    [trainPhonesFeatures, trainPhonesLabels,\n",
        "    trainDialectRegion, trainSpeakerID,\n",
        "    testPhonesFeatures, testPhonesLabels, \n",
        "    testDialectRegion, testSpeakerID, trainGenderID, testGenderID] = pickle.load(f)"
      ],
      "execution_count": 63,
      "outputs": []
    },
    {
      "cell_type": "code",
      "metadata": {
        "colab": {
          "base_uri": "https://localhost:8080/"
        },
        "id": "rZhJieu33hwE",
        "outputId": "7271df3a-79c6-4781-9a78-93dd62ca3eb0"
      },
      "source": [
        "# check the number of phones which have the length less than 7\n",
        "c = 0\n",
        "for ph in trainPhonesFeatures:\n",
        "  if np.size(ph, axis=1) < 7:\n",
        "    c += 1\n",
        "\n",
        "print ('the number of phones with len less than 7 =', c)\n",
        "# as there are almost half of training data with len less than 7 we should use padding\n",
        "\n",
        "# check the number of phones which have the length less than 7\n",
        "c = 0\n",
        "for ph in trainPhonesFeatures:\n",
        "  if np.size(ph, axis=1) % 7 < 4:\n",
        "    c += 1\n",
        "\n",
        "print ('............................... =', c)\n",
        "# as there are almost half of training data with len less than 7 we should use padding\n",
        "\n",
        "# check the number of phones which have the length less than 7\n",
        "c = 0\n",
        "for ph in trainPhonesFeatures:\n",
        "  if np.size(ph, axis=1) % 7 != 0:\n",
        "    c += 1\n",
        "\n",
        "print ('the number of phones with len less than 4 =', c)\n",
        "# as there are almost half of training data with len less than 7 we should use padding"
      ],
      "execution_count": 64,
      "outputs": [
        {
          "output_type": "stream",
          "text": [
            "the number of phones with len less than 7 = 85162\n",
            "............................... = 95636\n",
            "the number of phones with len less than 4 = 154938\n"
          ],
          "name": "stdout"
        }
      ]
    },
    {
      "cell_type": "code",
      "metadata": {
        "colab": {
          "base_uri": "https://localhost:8080/"
        },
        "id": "SV40HP9VQHvz",
        "outputId": "bf060852-907d-4d79-a1f4-d0bff4a5e163"
      },
      "source": [
        "w = set(trainPhonesLabels)\n",
        "print(w)\n",
        "print('the number of unique phones = ', len(w))\n",
        "# the number of training data\n",
        "trainNumbers = len(trainPhonesLabels)\n",
        "# the number of test data\n",
        "testNumbers = len(testPhonesLabels)\n",
        "print('the number of training data = ', trainNumbers)\n",
        "print('the number of test data = ', testNumbers)"
      ],
      "execution_count": 65,
      "outputs": [
        {
          "output_type": "stream",
          "text": [
            "{'f\\n', 't\\n', 'm\\n', 'em\\n', 'hv\\n', 'dx\\n', 'ae\\n', 'b\\n', 'gcl\\n', 'ah\\n', 'aa\\n', 'th\\n', 'iy\\n', 'g\\n', 'ch\\n', 'ax\\n', 'nx\\n', 'uw\\n', 'hh\\n', 'aw\\n', 'q\\n', 'n\\n', 'v\\n', 'l\\n', 'eng\\n', 'ux\\n', 'er\\n', 'ow\\n', 'pau\\n', 's\\n', 'z\\n', 'en\\n', 'axr\\n', 'y\\n', 'w\\n', 'zh\\n', 'dh\\n', 'ng\\n', 'ix\\n', 'h#\\n', 'k\\n', 'r\\n', 'tcl\\n', 'epi\\n', 'oy\\n', 'ay\\n', 'bcl\\n', 'ih\\n', 'pcl\\n', 'ax-h\\n', 'ey\\n', 'dcl\\n', 'p\\n', 'ao\\n', 'jh\\n', 'sh\\n', 'el\\n', 'eh\\n', 'd\\n', 'kcl\\n', 'uh\\n'}\n",
            "the number of unique phones =  61\n",
            "the number of training data =  177080\n",
            "the number of test data =  64145\n"
          ],
          "name": "stdout"
        }
      ]
    },
    {
      "cell_type": "code",
      "metadata": {
        "colab": {
          "base_uri": "https://localhost:8080/",
          "height": 168
        },
        "id": "VZXhK-c9ob7h",
        "outputId": "298566a6-dbd5-4e97-ca48-59a02a73576e"
      },
      "source": [
        "plt.hist(trainPhonesLabels, bins=61, color='darkblue');"
      ],
      "execution_count": 66,
      "outputs": [
        {
          "output_type": "display_data",
          "data": {
            "image/png": "[encoded data removed]",
            "text/plain": [
              "<Figure size 432x144 with 1 Axes>"
            ]
          },
          "metadata": {
            "tags": [],
            "needs_background": "light"
          }
        }
      ]
    },
    {
      "cell_type": "code",
      "metadata": {
        "colab": {
          "base_uri": "https://localhost:8080/"
        },
        "id": "eQ8zhjRLU-7U",
        "outputId": "e0dc6dea-eb26-476b-f753-dbffe6e3f428"
      },
      "source": [
        "#removing '\\n' from phonetics\n",
        "trainPhonesLabels = [x.strip() if x is not None else '' for x in trainPhonesLabels]\n",
        "testPhonesLabels = [x.strip() if x is not None else '' for x in testPhonesLabels]\n",
        "w = set(trainPhonesLabels)\n",
        "print(w)"
      ],
      "execution_count": 67,
      "outputs": [
        {
          "output_type": "stream",
          "text": [
            "{'dcl', 'v', 'uh', 'ow', 'ux', 'pau', 'bcl', 'h#', 'z', 'zh', 'hh', 'r', 't', 'w', 'ao', 'dx', 'eng', 'ng', 'gcl', 'g', 'p', 'en', 'ae', 'epi', 'ay', 'y', 'ah', 'pcl', 'k', 'nx', 'f', 'eh', 'dh', 'er', 'ey', 'ax', 'aa', 'oy', 'sh', 'ix', 'em', 's', 'uw', 'm', 'q', 'b', 'aw', 'el', 'th', 'ch', 'hv', 'kcl', 'axr', 'tcl', 'jh', 'ih', 'n', 'd', 'l', 'iy', 'ax-h'}\n"
          ],
          "name": "stdout"
        }
      ]
    },
    {
      "cell_type": "code",
      "metadata": {
        "id": "rE5gSZdEntDW"
      },
      "source": [
        "# import librosa.display\n",
        "# #check some parameters\n",
        "# yyy, sr = librosa.load('/content/DR1FCJF0SA1.WAV')\n",
        "# sr = 16000\n",
        "# print('length of first wav file: ', len(yyy))\n",
        "# print('sample rate: ', sr)\n",
        "# print('length of wav file in second: ', len(yyy)/sr)\n",
        "# print('N is: ', len(yyy)/sr*100)\n",
        "# x = librosa.feature.mfcc(y=yyy, sr=sr)\n",
        "# print('with default parameters: ', np.shape(x))\n",
        "# #n_mfcc is the number of coeficients in MFCC-feature extracting\n",
        "# x = librosa.feature.mfcc(y=yyy, sr=sr , n_mfcc=13, hop_length=160)\n",
        "# print('after tuning parameters: ', np.shape(x))\n",
        "# y_harm, y_perc = librosa.effects.hpss(yyy)\n",
        "# librosa.display.waveplot(yyy, sr=sr);\n",
        "# plt.show()\n",
        "# fig, ax = plt.subplots(nrows=3, sharex=True, sharey=True)\n",
        "# librosa.display.waveplot(y_harm, sr=sr, alpha=0.25, ax=ax[2])\n",
        "# librosa.display.waveplot(y_perc, sr=sr, color='r', alpha=0.5, ax=ax[2])\n",
        "# ax[2].set(title='Harmonic + Percussive')\n",
        "# plt.show()\n",
        "# librosa.display.waveplot(yyy[0:100], sr=sr);\n",
        "# plt.show()"
      ],
      "execution_count": 68,
      "outputs": []
    },
    {
      "cell_type": "code",
      "metadata": {
        "colab": {
          "base_uri": "https://localhost:8080/"
        },
        "id": "kGvICC5FTcIZ",
        "outputId": "0526bcc2-9b13-4c6f-c910-d44999ebb31d"
      },
      "source": [
        "cq = 0\n",
        "for i in trainPhonesLabels:\n",
        "  if i == 'q':\n",
        "    cq += 1\n",
        "\n",
        "print(cq)\n",
        "\n",
        "\n",
        "cq = 0\n",
        "for i in testPhonesLabels:\n",
        "  if i == 'q':\n",
        "    cq += 1\n",
        "\n",
        "print(cq)"
      ],
      "execution_count": 69,
      "outputs": [
        {
          "output_type": "stream",
          "text": [
            "3590\n",
            "1244\n"
          ],
          "name": "stdout"
        }
      ]
    },
    {
      "cell_type": "markdown",
      "metadata": {
        "id": "n847q3o6nefH"
      },
      "source": [
        "##Labling the phones"
      ]
    },
    {
      "cell_type": "markdown",
      "metadata": {
        "id": "TXxV2R0qEKhs"
      },
      "source": [
        "\\begin{array}{|c|c|c|c}\\hline\n",
        "\\mathcal{\\#} & \\mathcal{Phone Class} & \\mathcal{\\# labels} & \\mathcal{TIMIT labels} \\\\ \\hline\n",
        "  l1 & Vowel/Semivowel(VS) & 25 & aa \\ ae \\ ah \\ ao \\ aw \\ ax \\ axh \\ axr \\ ay \\ eh \\ er \\ ey \\ ih \\ ix \\ iy \\ ow \\ oy \\ uh \\ uw \\ ux \\ el \\ l \\ r \\ w \\ y \\\\ \\hline\n",
        "  l2 & Nasal/Flap(NF) & 8 & em \\ en \\ eng \\ m \\ n \\ ng \\ nx \\ dx \\\\ \\hline\n",
        "  l3 & Strong Fracative(SF) & 6 & s \\ z \\ sh \\ zh \\ ch \\ jh \\\\ \\hline\n",
        "  l4 & Weak Fricative(Wf) & 6 & v \\ f \\ dh \\ th \\ hh \\ hv \\\\ \\hline\n",
        "  l5 & Stop(ST) & 6 & d \\ b \\ g \\ p\\ t\\ k \\\\ \\hline\n",
        "  l6 & Closure (CL) & 9 & bcl \\ dcl \\ gcl \\ pcl \\ tcl \\ kcl \\ epi \\ pau \\ h\\# \\\\ \\hline \\hline\n",
        "  l7 & Sonorant(SON) & 33 & Vowel/Semivowel + Nasal/Flap \\\\ \\hline\n",
        "  l8 & Obstruent (OBS) & 18 & Strong Fric + Weak Fric + Stop\\\\ \\hline\n",
        "  l9 & Silence (SIL) & 9 & Same as Closure\\\\ \\hline\n",
        "  \\end{array}"
      ]
    },
    {
      "cell_type": "code",
      "metadata": {
        "id": "GnND7e1uHEUf"
      },
      "source": [
        "phLabels1998 = {0: ['aa', 'ae', 'ah', 'ao', 'aw', 'ax', 'axh', 'axr', 'ay', 'eh', \n",
        "                'er', 'ey', 'ih', 'ix', 'iy', 'ow', 'oy', 'uh', 'uw', 'ux', 'el',\n",
        "                 'l', 'r', 'w', 'y']\n",
        "            ,1: ['em', 'en', 'eng', 'm', 'n', 'ng', 'nx', 'dx']\n",
        "            ,2: ['s', 'z', 'sh', 'zh', 'ch', 'jh']\n",
        "            ,3: ['v', 'f', 'dh', 'th', 'hh', 'hv']\n",
        "            ,4: ['d', 'b', 'g', 'p', 't', 'k']\n",
        "            ,5: ['bcl', 'dcl', 'gcl', 'pcl', 'tcl', 'kcl', 'epi', 'pau', 'h#']\n",
        "            }"
      ],
      "execution_count": 70,
      "outputs": []
    },
    {
      "cell_type": "code",
      "metadata": {
        "colab": {
          "base_uri": "https://localhost:8080/"
        },
        "id": "6uz8ZGVrU6-e",
        "outputId": "8a0c8a0b-61cc-4172-ea05-31575474f688"
      },
      "source": [
        "# assigning the labels to one of 6 classes\n",
        "# training data\n",
        "trainPhoneLabelsConverted = np.zeros((trainNumbers), dtype=np.int)\n",
        "cnt = 0\n",
        "for label in trainPhonesLabels:\n",
        "  for i in range(6):\n",
        "    if label in phLabels1998[i]:\n",
        "      trainPhoneLabelsConverted[cnt] = i\n",
        "      cnt += 1\n",
        "      break\n",
        "print(set(trainPhoneLabelsConverted))"
      ],
      "execution_count": 71,
      "outputs": [
        {
          "output_type": "stream",
          "text": [
            "{0, 1, 2, 3, 4, 5}\n"
          ],
          "name": "stdout"
        }
      ]
    },
    {
      "cell_type": "code",
      "metadata": {
        "colab": {
          "base_uri": "https://localhost:8080/"
        },
        "id": "UxX18QFWIm-j",
        "outputId": "06c7c8bd-3f17-429b-b88a-65942bdceac5"
      },
      "source": [
        "# test data\n",
        "testPhoneLabelsConverted = np.zeros((testNumbers), dtype=np.int)\n",
        "cnt = 0\n",
        "for label in testPhonesLabels:\n",
        "  for i in range(6):\n",
        "    if label in phLabels1998[i]:\n",
        "      testPhoneLabelsConverted[cnt] = i\n",
        "      cnt += 1\n",
        "      break\n",
        "print(set(testPhoneLabelsConverted))"
      ],
      "execution_count": 72,
      "outputs": [
        {
          "output_type": "stream",
          "text": [
            "{0, 1, 2, 3, 4, 5}\n"
          ],
          "name": "stdout"
        }
      ]
    },
    {
      "cell_type": "code",
      "metadata": {
        "colab": {
          "base_uri": "https://localhost:8080/",
          "height": 157
        },
        "id": "XcbOcbtBqjy4",
        "outputId": "e7bf8fba-e05c-4203-a082-c76c3a520ab1"
      },
      "source": [
        "plt.hist(trainPhoneLabelsConverted, color='darkblue', bins=np.arange(0, 12)/2);"
      ],
      "execution_count": 73,
      "outputs": [
        {
          "output_type": "display_data",
          "data": {
            "image/png": "[encoded data removed]",
            "text/plain": [
              "<Figure size 432x144 with 1 Axes>"
            ]
          },
          "metadata": {
            "tags": [],
            "needs_background": "light"
          }
        }
      ]
    },
    {
      "cell_type": "code",
      "metadata": {
        "colab": {
          "base_uri": "https://localhost:8080/"
        },
        "id": "hfIAIk19rLFD",
        "outputId": "03ecc9cb-adf6-45ac-c4ec-ad1088cbed15"
      },
      "source": [
        "# check the number of phones which have the length less than 7\n",
        "c = 0\n",
        "for i in range(len(trainPhonesFeatures)):\n",
        "  if trainPhoneLabelsConverted[i] == 5 and trainPhonesFeatures[i].shape[1]  > 20:\n",
        "    c += 1\n",
        "\n",
        "c /= np.sum(trainPhoneLabelsConverted == 5)\n",
        "print ( c)"
      ],
      "execution_count": 74,
      "outputs": [
        {
          "output_type": "stream",
          "text": [
            "0.02555955068706971\n"
          ],
          "name": "stdout"
        }
      ]
    },
    {
      "cell_type": "code",
      "metadata": {
        "colab": {
          "base_uri": "https://localhost:8080/"
        },
        "id": "8UK3zcX857Ui",
        "outputId": "30d0a477-8de2-402b-f869-4ad3ee2cb3ad"
      },
      "source": [
        "#preprocessing on mfcc_features stacking size - zero padding\n",
        "cntTrain = 0\n",
        "for ph in trainPhonesFeatures:\n",
        "  cntTrain += np.size(ph, axis=1) // 7\n",
        "  if np.size(ph, axis=1) % 7 > 3:\n",
        "    cntTrain += 1\n",
        "\n",
        "print(cntTrain)\n",
        "# for instnace for len(ph) = 15 we have 3 frames of size 13*7 = 91\n",
        "\n",
        "cntTest = 0\n",
        "for ph in testPhonesFeatures:\n",
        "  cntTest += np.size(ph, axis=1) // 7\n",
        "  if np.size(ph, axis=1) % 7 > 3:\n",
        "    cntTest += 1\n",
        "\n",
        "print(cntTest)"
      ],
      "execution_count": 75,
      "outputs": [
        {
          "output_type": "stream",
          "text": [
            "203755\n",
            "74382\n"
          ],
          "name": "stdout"
        }
      ]
    },
    {
      "cell_type": "code",
      "metadata": {
        "id": "KS8WO92p8e6X"
      },
      "source": [
        "# we should have 277249 training data with dimention 299391*91\n",
        "Xtr = np.zeros((cntTrain, 91))\n",
        "ytr = np.zeros((cntTrain))\n",
        "i = 0 # for counting train phones (transfering labels)\n",
        "j = 0 # for counting splited training phones\n",
        "\n",
        "for ph in trainPhonesFeatures:\n",
        "  while np.size(ph, axis=1) >= 7:\n",
        "    temp = ph[:, 0:7]\n",
        "    Xtr[j] = temp.flat #adding first 7 columns to Xtrain as supervector\n",
        "    ytr[j] = trainPhoneLabelsConverted[i]\n",
        "    j += 1\n",
        "    # ph = np.delete(ph, range(7), axis=1)\n",
        "    ph = ph[:, 7:]\n",
        "  if np.size(ph, axis=1) > 3:\n",
        "    temp = ph.flat\n",
        "    Xtr[j, 0:len(temp)] = temp\n",
        "    ytr[j] = trainPhoneLabelsConverted[i]\n",
        "    j += 1\n",
        "  i += 1"
      ],
      "execution_count": 76,
      "outputs": []
    },
    {
      "cell_type": "code",
      "metadata": {
        "id": "Ib565-CivqIB"
      },
      "source": [
        "ph_t = trainPhonesFeatures[6]\n",
        "# print(ph_t)\n",
        "ph_t2 = ph_t[:, 7:]\n",
        "ph_t3 = np.delete(ph_t, range(7), axis=1)\n",
        "# print(ph_t2)"
      ],
      "execution_count": 77,
      "outputs": []
    },
    {
      "cell_type": "code",
      "metadata": {
        "id": "kVGfNtBIJHqY"
      },
      "source": [
        "# we should have 101012 test data with dimention 299391*91\n",
        "Xtst = np.zeros((cntTest, 91))\n",
        "ytst = np.zeros((cntTest))\n",
        "i = 0 # for counting test phones (transfering labels)\n",
        "j = 0 # for counting splited test phones\n",
        "\n",
        "for ph in testPhonesFeatures:\n",
        "  while np.size(ph, axis=1) >= 7:\n",
        "    temp = ph[:, 0:7]\n",
        "    Xtst[j] = temp.flat #adding first 7 columns to Xtest as supervector\n",
        "    ytst[j] = testPhoneLabelsConverted[i]\n",
        "    j += 1\n",
        "    ph = np.delete(ph, range(7), axis=1)\n",
        "  if np.size(ph, axis=1) > 3:\n",
        "    temp = ph.flat\n",
        "    Xtst[j, 0:len(temp)] = temp\n",
        "    ytst[j] = testPhoneLabelsConverted[i]\n",
        "    j += 1\n",
        "  i += 1"
      ],
      "execution_count": 78,
      "outputs": []
    },
    {
      "cell_type": "code",
      "metadata": {
        "id": "kTS7mmQp9VCA"
      },
      "source": [
        "#one_hot the labels\n",
        "nClasses = 6\n",
        "ytrOneHot = tf.keras.utils.to_categorical(ytr, num_classes=nClasses, dtype='float32')"
      ],
      "execution_count": 79,
      "outputs": []
    },
    {
      "cell_type": "code",
      "metadata": {
        "id": "d7YB8fx3xHM0"
      },
      "source": [
        "#Data Normalizing\n",
        "from sklearn.preprocessing import StandardScaler\n",
        "\n",
        "scaler = StandardScaler()\n",
        "scaler.fit(Xtr)\n",
        "Xtr = scaler.transform(Xtr)\n",
        "Xtst = scaler.transform(Xtst)"
      ],
      "execution_count": 80,
      "outputs": []
    },
    {
      "cell_type": "code",
      "metadata": {
        "colab": {
          "base_uri": "https://localhost:8080/",
          "height": 168
        },
        "id": "npE0YhOePREZ",
        "outputId": "9804b43a-5e70-4186-8545-8c0abed817b3"
      },
      "source": [
        "#standardized MFCC features\n",
        "plt.hist(Xtr.reshape(-1), bins=50, color='darkblue');\n",
        "#the dist is normal and doesn't need to clip"
      ],
      "execution_count": 81,
      "outputs": [
        {
          "output_type": "display_data",
          "data": {
            "image/png": "[encoded data removed]",
            "text/plain": [
              "<Figure size 432x144 with 1 Axes>"
            ]
          },
          "metadata": {
            "tags": [],
            "needs_background": "light"
          }
        }
      ]
    },
    {
      "cell_type": "code",
      "metadata": {
        "colab": {
          "base_uri": "https://localhost:8080/",
          "height": 230
        },
        "id": "k2p69yn1ea9q",
        "outputId": "f63d591c-9fb7-4715-993d-21f19c81a527"
      },
      "source": [
        "one_hot_labels = np.array(ytrOneHot)\n",
        "count_label = tf.reduce_sum(one_hot_labels, axis=0)\n",
        "print(count_label) \n",
        "fig = plt.figure(figsize=(4, 3))\n",
        "bar_width = 0.8\n",
        "p1 = plt.bar(np.arange(6), count_label, bar_width, color='darkblue', label='John')"
      ],
      "execution_count": 82,
      "outputs": [
        {
          "output_type": "stream",
          "text": [
            "tf.Tensor([91122. 19235. 18036. 11453. 22445. 41464.], shape=(6,), dtype=float32)\n"
          ],
          "name": "stdout"
        },
        {
          "output_type": "display_data",
          "data": {
            "image/png": "[encoded data removed]",
            "text/plain": [
              "<Figure size 288x216 with 1 Axes>"
            ]
          },
          "metadata": {
            "tags": [],
            "needs_background": "light"
          }
        }
      ]
    },
    {
      "cell_type": "code",
      "metadata": {
        "id": "fhYPhaGBCH69"
      },
      "source": [
        "# #smote for umsampling (Synthetic Minority Oversampling Technique)\n",
        "# from imblearn.over_sampling import SMOTE\n",
        "# # ytr = ytr_2class\n",
        "# # ytst = ytst_2class\n",
        "# # transform the dataset\n",
        "# oversample = SMOTE()\n",
        "# XtrU, ytrU = oversample.fit_resample(Xtr, ytr)\n",
        "# # # define pipeline\n",
        "# # over = SMOTE(sampling_strategy=0.1)\n",
        "# # under = RandomUnderSampler(sampling_strategy=0.5)\n",
        "# # steps = [('o', over), ('u', under)]\n",
        "# # pipeline = Pipeline(steps=steps)\n",
        "\n",
        "# from sklearn.tree import DecisionTreeClassifier\n",
        "# # the deeper tree, the more probable to get overfitted\n",
        "# clf = DecisionTreeClassifier(random_state=0, max_depth=7)\n",
        "# clf = clf.fit(XtrU, ytrU)\n",
        "\n",
        "# ypredtree = clf.predict(Xtst)\n",
        "# print(classification_report(ytst, ypredtree))"
      ],
      "execution_count": 83,
      "outputs": []
    },
    {
      "cell_type": "code",
      "metadata": {
        "id": "zck_XjZUOy7a"
      },
      "source": [
        "# plt.hist(ytrU)"
      ],
      "execution_count": 84,
      "outputs": []
    },
    {
      "cell_type": "markdown",
      "metadata": {
        "id": "q9k6oxVobrxx"
      },
      "source": [
        "##Biulding the Network"
      ]
    },
    {
      "cell_type": "code",
      "metadata": {
        "id": "JSGzpQJhXyYV"
      },
      "source": [
        "# !pip install keras-balanced-batch-generator\n",
        "# keras-balanced-batch-generator\n",
        "# URL: https://github.com/soroushj/keras-balanced-batch-generator\n",
        "# from keras_balanced_batch_generator import make_generator\n",
        "# generator = make_generator(Xtr, ytrOneHot, batch_size=32)"
      ],
      "execution_count": 85,
      "outputs": []
    },
    {
      "cell_type": "code",
      "metadata": {
        "id": "Uj7I9gk2cwGH"
      },
      "source": [
        "#Data Balancing with keras generator\n",
        "# from imblearn.keras import balanced_batch_generator\n",
        "# from imblearn.under_sampling import NearMiss\n",
        "# training_generator, steps_per_epoch = balanced_batch_generator(\n",
        "#     Xtr, ytrOneHot, sampler=NearMiss(), batch_size=10, random_state=42)\n"
      ],
      "execution_count": 86,
      "outputs": []
    },
    {
      "cell_type": "code",
      "metadata": {
        "colab": {
          "base_uri": "https://localhost:8080/",
          "height": 286
        },
        "id": "2EOd5cSDQ5rJ",
        "outputId": "fb9f486c-d2d9-42c8-8b2d-0bce584af5b7"
      },
      "source": [
        "# Scaling by total/2 helps keep the loss to a similar magnitude.\n",
        "# The sum of the weights of all examples stays the same.\n",
        "classCounts = np.histogram(ytr, bins=len(set(ytr)))[0]\n",
        "total = len(ytr)\n",
        "weight_for_0 = np.log((1 / classCounts[0])*(total))\n",
        "weight_for_1 = np.sqrt((1 / classCounts[1])*(total))\n",
        "weight_for_2 = np.sqrt((1 / classCounts[2])*(total))\n",
        "weight_for_3 = np.sqrt((1 / classCounts[3])*(total))\n",
        "weight_for_4 = np.sqrt((1 / classCounts[4])*(total))\n",
        "weight_for_5 = np.log((1 / classCounts[5])*(total))\n",
        "\n",
        "class_weight = {0: weight_for_0, 1: weight_for_1,\n",
        "                2: weight_for_2, 3: weight_for_3,\n",
        "                4: weight_for_4, 5: weight_for_5}\n",
        "\n",
        "\n",
        "fig = plt.figure(figsize=(9, 2))\n",
        "ax1 = fig.add_subplot(121)\n",
        "p1 = plt.bar(np.arange(6), count_label, bar_width,\n",
        "             color='darkblue', label='John')\n",
        "ax2 = fig.add_subplot(122)\n",
        "array = np.array(list(class_weight.items()), dtype=np.float32)[:,1]\n",
        "plt.bar(range(0, 6), array, color='darkblue')\n",
        "ax1.title.set_text('Frequency Plot')\n",
        "ax2.title.set_text('Weight Plot')\n",
        "plt.show()\n",
        "\n",
        "for i in range(6):\n",
        "  print('class' + str(i) + ' : ' + \n",
        "        'numbers is ' + str(int(count_label.numpy()[i])) +\n",
        "        ' so its weight is ' + str(class_weight[i]))"
      ],
      "execution_count": 87,
      "outputs": [
        {
          "output_type": "display_data",
          "data": {
            "image/png": "[encoded data removed]",
            "text/plain": [
              "<Figure size 648x144 with 2 Axes>"
            ]
          },
          "metadata": {
            "tags": [],
            "needs_background": "light"
          }
        },
        {
          "output_type": "stream",
          "text": [
            "class0 : numbers is 91122 so its weight is 0.804719023720987\n",
            "class1 : numbers is 19235 so its weight is 3.254678103207411\n",
            "class2 : numbers is 18036 so its weight is 3.361120046396683\n",
            "class3 : numbers is 11453 so its weight is 4.217882790090766\n",
            "class4 : numbers is 22445 so its weight is 3.012966705278972\n",
            "class5 : numbers is 41464 so its weight is 1.5920927108097693\n"
          ],
          "name": "stdout"
        }
      ]
    },
    {
      "cell_type": "code",
      "metadata": {
        "id": "zqqrh8Wc_9l6"
      },
      "source": [
        "# from sklearn.svm import SVC\n",
        "# # ytr = ytr_2class\n",
        "# # ytst = ytst_2class\n",
        "# # classweight = {0: 1, 1: 3}\n",
        "# svm = SVC(class_weight=class_weight, kernel = 'linear')\n",
        "# svm.fit(Xtr, ytr)\n",
        "# ypredsvm = svm.predict(Xtst)\n",
        "# print(classification_report(ytst, ypredsvm))"
      ],
      "execution_count": 88,
      "outputs": []
    },
    {
      "cell_type": "code",
      "metadata": {
        "id": "IbLA5oflFobb"
      },
      "source": [
        "# early_stopping = tf.keras.callbacks.EarlyStopping(\n",
        "#     monitor='val_prc', \n",
        "#     verbose=1,\n",
        "#     patience=10,\n",
        "#     mode='max',\n",
        "#     restore_best_weights=True)"
      ],
      "execution_count": 89,
      "outputs": []
    },
    {
      "cell_type": "code",
      "metadata": {
        "id": "PgDb6dhyFVpX"
      },
      "source": [
        "METRICS = [\n",
        "      keras.metrics.TruePositives(name='tp'),\n",
        "      keras.metrics.FalsePositives(name='fp'),\n",
        "      keras.metrics.TrueNegatives(name='tn'),\n",
        "      keras.metrics.FalseNegatives(name='fn'), \n",
        "      keras.metrics.BinaryAccuracy(name='accuracy'),\n",
        "      keras.metrics.Precision(name='precision'),\n",
        "      keras.metrics.Recall(name='recall'),\n",
        "      keras.metrics.AUC(name='auc'),\n",
        "      keras.metrics.AUC(name='prc', curve='PR'), # precision-recall curve\n",
        "]"
      ],
      "execution_count": 90,
      "outputs": []
    },
    {
      "cell_type": "code",
      "metadata": {
        "id": "wx6wMA6ibqds"
      },
      "source": [
        "def build_neural_network(data_size_in, n_classes, output_bias=None):\n",
        "  #if output_bias is not None:\n",
        "   # output_bias = tf.keras.initializers.Constant(output_bias)\n",
        "  # He is more compatible with relu and Glorot is more adjustable with tanh\n",
        "  initializer = tf.keras.initializers.HeUniform()\n",
        "\n",
        "  inputs = layers.Input(shape=data_size_in)\n",
        "  x = BatchNormalization(axis=-1, momentum=0.99, epsilon=1e-3, center=True, scale=True)(inputs)\n",
        "\n",
        "  #First Conv1D layer\n",
        "  x = Conv1D(32, 3, padding='same', activation='gelu', strides=1)(inputs)\n",
        "  x = MaxPooling1D(2)(x)\n",
        "  x = Dropout(0.3)(x)\n",
        "\n",
        "\n",
        "  #Second Conv1D layer\n",
        "  x = Conv1D(64, 3, padding='same', activation='gelu', strides=1)(x)\n",
        "  x = Conv1D(64, 3, padding='same', activation='gelu', strides=1)(x)\n",
        "  x = Conv1D(128, 3, padding='same', activation='gelu', strides=1)(x)\n",
        "  x = Conv1D(128, 3, padding='same', activation='gelu', strides=1)(x)\n",
        "  x = Conv1D(256, 3, padding='same', activation='gelu', strides=1)(x)\n",
        "  x = Conv1D(256, 3, padding='same', activation='gelu', strides=1)(x)\n",
        "  x = Conv1D(512, 3, padding='same', activation='gelu', strides=1)(x)\n",
        "  x = Conv1D(512, 3, padding='same', activation='gelu', strides=1)(x)\n",
        "  x = Conv1D(1024, 3, padding='same', activation='gelu', strides=1)(x)\n",
        "  \n",
        "  x = BatchNormalization(axis=-1, momentum=0.99, epsilon=1e-3, center=True, scale=True)(x)\n",
        "  x = layers.Flatten()(x)\n",
        "  x = layers.Dense(1024, activation='gelu', kernel_initializer=initializer)(x)\n",
        "  x = layers.Dense(1024, activation='gelu')(x)\n",
        "  x = layers.Dropout(0.3)(x)\n",
        "\n",
        "  prediction = layers.Dense(n_classes, activation='softmax')(x)#, bias_initializer=output_bias)(x)\n",
        "\n",
        "  model = Model(inputs=inputs, outputs=prediction)\n",
        "  \n",
        "  \n",
        "  return model"
      ],
      "execution_count": 91,
      "outputs": []
    },
    {
      "cell_type": "code",
      "metadata": {
        "id": "ku2ODT2sxju5",
        "colab": {
          "base_uri": "https://localhost:8080/"
        },
        "outputId": "14a7b77c-db7f-4c36-857c-1c022f16c6c4"
      },
      "source": [
        "#compile the model\n",
        "data_size_in = (91, 1)   #13*7\n",
        "n_classes = 6   #we have 6 different labels\n",
        "ls = 'categorical_crossentropy'\n",
        "opt = optimizers.Adam(learning_rate=0.0001, beta_1=0.999, beta_2=0.999)\n",
        "\n",
        "network = build_neural_network(data_size_in, n_classes)\n",
        "network.compile(loss=ls, optimizer=opt, metrics=METRICS)\n",
        "network.summary()"
      ],
      "execution_count": 92,
      "outputs": [
        {
          "output_type": "stream",
          "text": [
            "WARNING:tensorflow:\n",
            "The following Variables were used a Lambda layer's call (tf.compat.v1.nn.conv1d_20), but\n",
            "are not present in its tracked objects:\n",
            "  <tf.Variable 'conv1d_20/kernel:0' shape=(3, 1, 32) dtype=float32>\n",
            "It is possible that this is intended behavior, but it is more likely\n",
            "an omission. This is a strong indication that this layer should be\n",
            "formulated as a subclassed Layer rather than a Lambda layer.\n",
            "WARNING:tensorflow:\n",
            "The following Variables were used a Lambda layer's call (tf.nn.bias_add_20), but\n",
            "are not present in its tracked objects:\n",
            "  <tf.Variable 'conv1d_20/bias:0' shape=(32,) dtype=float32>\n",
            "It is possible that this is intended behavior, but it is more likely\n",
            "an omission. This is a strong indication that this layer should be\n",
            "formulated as a subclassed Layer rather than a Lambda layer.\n",
            "WARNING:tensorflow:\n",
            "The following Variables were used a Lambda layer's call (tf.compat.v1.nn.conv1d_21), but\n",
            "are not present in its tracked objects:\n",
            "  <tf.Variable 'conv1d_21/kernel:0' shape=(3, 32, 64) dtype=float32>\n",
            "It is possible that this is intended behavior, but it is more likely\n",
            "an omission. This is a strong indication that this layer should be\n",
            "formulated as a subclassed Layer rather than a Lambda layer.\n",
            "WARNING:tensorflow:\n",
            "The following Variables were used a Lambda layer's call (tf.nn.bias_add_21), but\n",
            "are not present in its tracked objects:\n",
            "  <tf.Variable 'conv1d_21/bias:0' shape=(64,) dtype=float32>\n",
            "It is possible that this is intended behavior, but it is more likely\n",
            "an omission. This is a strong indication that this layer should be\n",
            "formulated as a subclassed Layer rather than a Lambda layer.\n",
            "WARNING:tensorflow:\n",
            "The following Variables were used a Lambda layer's call (tf.compat.v1.nn.conv1d_22), but\n",
            "are not present in its tracked objects:\n",
            "  <tf.Variable 'conv1d_22/kernel:0' shape=(3, 64, 64) dtype=float32>\n",
            "It is possible that this is intended behavior, but it is more likely\n",
            "an omission. This is a strong indication that this layer should be\n",
            "formulated as a subclassed Layer rather than a Lambda layer.\n",
            "WARNING:tensorflow:\n",
            "The following Variables were used a Lambda layer's call (tf.nn.bias_add_22), but\n",
            "are not present in its tracked objects:\n",
            "  <tf.Variable 'conv1d_22/bias:0' shape=(64,) dtype=float32>\n",
            "It is possible that this is intended behavior, but it is more likely\n",
            "an omission. This is a strong indication that this layer should be\n",
            "formulated as a subclassed Layer rather than a Lambda layer.\n",
            "WARNING:tensorflow:\n",
            "The following Variables were used a Lambda layer's call (tf.compat.v1.nn.conv1d_23), but\n",
            "are not present in its tracked objects:\n",
            "  <tf.Variable 'conv1d_23/kernel:0' shape=(3, 64, 128) dtype=float32>\n",
            "It is possible that this is intended behavior, but it is more likely\n",
            "an omission. This is a strong indication that this layer should be\n",
            "formulated as a subclassed Layer rather than a Lambda layer.\n",
            "WARNING:tensorflow:\n",
            "The following Variables were used a Lambda layer's call (tf.nn.bias_add_23), but\n",
            "are not present in its tracked objects:\n",
            "  <tf.Variable 'conv1d_23/bias:0' shape=(128,) dtype=float32>\n",
            "It is possible that this is intended behavior, but it is more likely\n",
            "an omission. This is a strong indication that this layer should be\n",
            "formulated as a subclassed Layer rather than a Lambda layer.\n",
            "WARNING:tensorflow:\n",
            "The following Variables were used a Lambda layer's call (tf.compat.v1.nn.conv1d_24), but\n",
            "are not present in its tracked objects:\n",
            "  <tf.Variable 'conv1d_24/kernel:0' shape=(3, 128, 128) dtype=float32>\n",
            "It is possible that this is intended behavior, but it is more likely\n",
            "an omission. This is a strong indication that this layer should be\n",
            "formulated as a subclassed Layer rather than a Lambda layer.\n",
            "WARNING:tensorflow:\n",
            "The following Variables were used a Lambda layer's call (tf.nn.bias_add_24), but\n",
            "are not present in its tracked objects:\n",
            "  <tf.Variable 'conv1d_24/bias:0' shape=(128,) dtype=float32>\n",
            "It is possible that this is intended behavior, but it is more likely\n",
            "an omission. This is a strong indication that this layer should be\n",
            "formulated as a subclassed Layer rather than a Lambda layer.\n",
            "WARNING:tensorflow:\n",
            "The following Variables were used a Lambda layer's call (tf.compat.v1.nn.conv1d_25), but\n",
            "are not present in its tracked objects:\n",
            "  <tf.Variable 'conv1d_25/kernel:0' shape=(3, 128, 256) dtype=float32>\n",
            "It is possible that this is intended behavior, but it is more likely\n",
            "an omission. This is a strong indication that this layer should be\n",
            "formulated as a subclassed Layer rather than a Lambda layer.\n",
            "WARNING:tensorflow:\n",
            "The following Variables were used a Lambda layer's call (tf.nn.bias_add_25), but\n",
            "are not present in its tracked objects:\n",
            "  <tf.Variable 'conv1d_25/bias:0' shape=(256,) dtype=float32>\n",
            "It is possible that this is intended behavior, but it is more likely\n",
            "an omission. This is a strong indication that this layer should be\n",
            "formulated as a subclassed Layer rather than a Lambda layer.\n",
            "WARNING:tensorflow:\n",
            "The following Variables were used a Lambda layer's call (tf.compat.v1.nn.conv1d_26), but\n",
            "are not present in its tracked objects:\n",
            "  <tf.Variable 'conv1d_26/kernel:0' shape=(3, 256, 256) dtype=float32>\n",
            "It is possible that this is intended behavior, but it is more likely\n",
            "an omission. This is a strong indication that this layer should be\n",
            "formulated as a subclassed Layer rather than a Lambda layer.\n",
            "WARNING:tensorflow:\n",
            "The following Variables were used a Lambda layer's call (tf.nn.bias_add_26), but\n",
            "are not present in its tracked objects:\n",
            "  <tf.Variable 'conv1d_26/bias:0' shape=(256,) dtype=float32>\n",
            "It is possible that this is intended behavior, but it is more likely\n",
            "an omission. This is a strong indication that this layer should be\n",
            "formulated as a subclassed Layer rather than a Lambda layer.\n",
            "WARNING:tensorflow:\n",
            "The following Variables were used a Lambda layer's call (tf.compat.v1.nn.conv1d_27), but\n",
            "are not present in its tracked objects:\n",
            "  <tf.Variable 'conv1d_27/kernel:0' shape=(3, 256, 512) dtype=float32>\n",
            "It is possible that this is intended behavior, but it is more likely\n",
            "an omission. This is a strong indication that this layer should be\n",
            "formulated as a subclassed Layer rather than a Lambda layer.\n",
            "WARNING:tensorflow:\n",
            "The following Variables were used a Lambda layer's call (tf.nn.bias_add_27), but\n",
            "are not present in its tracked objects:\n",
            "  <tf.Variable 'conv1d_27/bias:0' shape=(512,) dtype=float32>\n",
            "It is possible that this is intended behavior, but it is more likely\n",
            "an omission. This is a strong indication that this layer should be\n",
            "formulated as a subclassed Layer rather than a Lambda layer.\n",
            "WARNING:tensorflow:\n",
            "The following Variables were used a Lambda layer's call (tf.compat.v1.nn.conv1d_28), but\n",
            "are not present in its tracked objects:\n",
            "  <tf.Variable 'conv1d_28/kernel:0' shape=(3, 512, 512) dtype=float32>\n",
            "It is possible that this is intended behavior, but it is more likely\n",
            "an omission. This is a strong indication that this layer should be\n",
            "formulated as a subclassed Layer rather than a Lambda layer.\n",
            "WARNING:tensorflow:\n",
            "The following Variables were used a Lambda layer's call (tf.nn.bias_add_28), but\n",
            "are not present in its tracked objects:\n",
            "  <tf.Variable 'conv1d_28/bias:0' shape=(512,) dtype=float32>\n",
            "It is possible that this is intended behavior, but it is more likely\n",
            "an omission. This is a strong indication that this layer should be\n",
            "formulated as a subclassed Layer rather than a Lambda layer.\n",
            "WARNING:tensorflow:\n",
            "The following Variables were used a Lambda layer's call (tf.compat.v1.nn.conv1d_29), but\n",
            "are not present in its tracked objects:\n",
            "  <tf.Variable 'conv1d_29/kernel:0' shape=(3, 512, 1024) dtype=float32>\n",
            "It is possible that this is intended behavior, but it is more likely\n",
            "an omission. This is a strong indication that this layer should be\n",
            "formulated as a subclassed Layer rather than a Lambda layer.\n",
            "WARNING:tensorflow:\n",
            "The following Variables were used a Lambda layer's call (tf.nn.bias_add_29), but\n",
            "are not present in its tracked objects:\n",
            "  <tf.Variable 'conv1d_29/bias:0' shape=(1024,) dtype=float32>\n",
            "It is possible that this is intended behavior, but it is more likely\n",
            "an omission. This is a strong indication that this layer should be\n",
            "formulated as a subclassed Layer rather than a Lambda layer.\n",
            "Model: \"model_2\"\n",
            "_________________________________________________________________\n",
            "Layer (type)                 Output Shape              Param #   \n",
            "=================================================================\n",
            "Total params: 48,242,694\n",
            "Trainable params: 48,242,694\n",
            "Non-trainable params: 0\n",
            "_________________________________________________________________\n"
          ],
          "name": "stdout"
        }
      ]
    },
    {
      "cell_type": "code",
      "metadata": {
        "colab": {
          "base_uri": "https://localhost:8080/",
          "height": 1000
        },
        "id": "AD0jl3rt8Mo3",
        "outputId": "19a78392-3123-48f1-f377-550d7a4537dd"
      },
      "source": [
        "#feed the network\n",
        "# lists where we will be storing values during training, for visualization purposes\n",
        "traLosses = [] # list for training loss\n",
        "traAccs = [] # list for training accuracy\n",
        "valLosses = [] # list for validation loss\n",
        "valAccs = [] # list for validation accuracy\n",
        "batchSize = 32\n",
        "nEpochs = 64\n",
        "\n",
        "# Train your network\n",
        "results = network.fit(Xtr, ytrOneHot, \n",
        "                      batch_size=batchSize, \n",
        "                      validation_split=0.15, \n",
        "                      epochs = nEpochs, verbose = 1,\n",
        "                      # callbacks=[early_stopping],\n",
        "                      # The class weights go here\n",
        "                      class_weight=class_weight)\n",
        "\n",
        "# Get training loss and accuracy\n",
        "traLosses = results.history['loss']\n",
        "traAccs = results.history['accuracy']\n",
        "valLosses = results.history['val_loss']\n",
        "valAccs = results.history['val_accuracy']\n",
        "\n",
        "# Visualization of the learning curves\n",
        "fig = plt.figure(figsize=(10, 5))\n",
        "plt.plot(range(len(traLosses)), traLosses, 'b')\n",
        "plt.xlabel('epoch')\n",
        "plt.ylabel('loss')\n",
        "plt.show()\n",
        "plt.plot(range(len(valLosses)), valLosses, 'r')\n",
        "plt.xlabel('epoch')\n",
        "plt.ylabel('loss')\n",
        "plt.show()\n",
        "\n",
        "fig = plt.figure(figsize=(10, 5))\n",
        "plt.plot(range(len(traAccs)), traAccs, 'b')\n",
        "plt.xlabel('epoch')\n",
        "plt.ylabel('acc')\n",
        "plt.show()\n",
        "plt.plot(range(len(valAccs)), valAccs, 'r')\n",
        "plt.xlabel('epoch')\n",
        "plt.ylabel('acc')\n",
        "# plt.legend({\"train_acc\", \"val_acc\"}, \n",
        "          # loc='center left', bbox_to_anchor=(1, 0.5))\n",
        "# display.display(plt.gcf())"
      ],
      "execution_count": 93,
      "outputs": [
        {
          "output_type": "stream",
          "text": [
            "Epoch 1/64\n",
            "5413/5413 [==============================] - 124s 22ms/step - loss: 3.3669 - tp: 0.0000e+00 - fp: 0.0000e+00 - tn: 216677.2973 - fn: 43335.9970 - accuracy: 0.8333 - precision: 0.0000e+00 - recall: 0.0000e+00 - auc: 0.6596 - prc: 0.2640 - val_loss: 1.7308 - val_tp: 0.0000e+00 - val_fp: 0.0000e+00 - val_tn: 942518.3125 - val_fn: 188501.9531 - val_accuracy: 0.8333 - val_precision: 0.0000e+00 - val_recall: 0.0000e+00 - val_auc: 0.6842 - val_prc: 0.2700\n",
            "Epoch 2/64\n",
            "5413/5413 [==============================] - 120s 22ms/step - loss: 3.3625 - tp: 0.0000e+00 - fp: 0.0000e+00 - tn: 1235450.7674 - fn: 247090.3395 - accuracy: 0.8334 - precision: 0.0000e+00 - recall: 0.0000e+00 - auc: 0.6881 - prc: 0.2784 - val_loss: 1.7297 - val_tp: 0.0000e+00 - val_fp: 0.0000e+00 - val_tn: 1961284.0000 - val_fn: 392260.5938 - val_accuracy: 0.8333 - val_precision: 0.0000e+00 - val_recall: 0.0000e+00 - val_auc: 0.6887 - val_prc: 0.2851\n",
            "Epoch 3/64\n",
            "5413/5413 [==============================] - 120s 22ms/step - loss: 3.3550 - tp: 0.0000e+00 - fp: 0.0000e+00 - tn: 2254230.7653 - fn: 450844.8585 - accuracy: 0.8333 - precision: 0.0000e+00 - recall: 0.0000e+00 - auc: 0.6916 - prc: 0.2899 - val_loss: 1.7423 - val_tp: 0.0000e+00 - val_fp: 0.0000e+00 - val_tn: 2980065.5000 - val_fn: 596014.6250 - val_accuracy: 0.8332 - val_precision: 0.0000e+00 - val_recall: 0.0000e+00 - val_auc: 0.6907 - val_prc: 0.2877\n",
            "Epoch 4/64\n",
            "5413/5413 [==============================] - 120s 22ms/step - loss: 3.3641 - tp: 0.0000e+00 - fp: 0.0000e+00 - tn: 3273013.9102 - fn: 654608.8327 - accuracy: 0.8332 - precision: 0.0000e+00 - recall: 0.0000e+00 - auc: 0.6905 - prc: 0.2859 - val_loss: 1.7283 - val_tp: 0.0000e+00 - val_fp: 0.0000e+00 - val_tn: 3998845.7500 - val_fn: 799766.1875 - val_accuracy: 0.8334 - val_precision: 0.0000e+00 - val_recall: 0.0000e+00 - val_auc: 0.6916 - val_prc: 0.2896\n",
            "Epoch 5/64\n",
            "5413/5413 [==============================] - 120s 22ms/step - loss: 3.3548 - tp: 0.0000e+00 - fp: 0.0000e+00 - tn: 4291769.8384 - fn: 858357.3236 - accuracy: 0.8334 - precision: 0.0000e+00 - recall: 0.0000e+00 - auc: 0.6923 - prc: 0.2895 - val_loss: 1.7365 - val_tp: 0.0000e+00 - val_fp: 0.0000e+00 - val_tn: 5017602.0000 - val_fn: 1003524.6875 - val_accuracy: 0.8335 - val_precision: 0.0000e+00 - val_recall: 0.0000e+00 - val_auc: 0.6922 - val_prc: 0.2893\n",
            "Epoch 6/64\n",
            "5413/5413 [==============================] - 120s 22ms/step - loss: 3.3545 - tp: 0.0000e+00 - fp: 0.0000e+00 - tn: 5310552.8569 - fn: 1062106.9109 - accuracy: 0.8335 - precision: 0.0000e+00 - recall: 0.0000e+00 - auc: 0.6936 - prc: 0.2905 - val_loss: 1.7286 - val_tp: 0.0000e+00 - val_fp: 0.0000e+00 - val_tn: 6036385.0000 - val_fn: 1207271.3750 - val_accuracy: 0.8336 - val_precision: 0.0000e+00 - val_recall: 0.0000e+00 - val_auc: 0.6934 - val_prc: 0.2893\n",
            "Epoch 7/64\n",
            "5413/5413 [==============================] - 121s 22ms/step - loss: 3.3597 - tp: 0.0000e+00 - fp: 0.0000e+00 - tn: 6329335.3190 - fn: 1265875.5460 - accuracy: 0.8336 - precision: 0.0000e+00 - recall: 0.0000e+00 - auc: 0.6949 - prc: 0.2917 - val_loss: 1.7297 - val_tp: 0.0000e+00 - val_fp: 0.0000e+00 - val_tn: 7055167.5000 - val_fn: 1411036.0000 - val_accuracy: 0.8334 - val_precision: 0.0000e+00 - val_recall: 0.0000e+00 - val_auc: 0.6946 - val_prc: 0.2914\n",
            "Epoch 8/64\n",
            "5413/5413 [==============================] - 120s 22ms/step - loss: 3.3498 - tp: 0.0000e+00 - fp: 0.0000e+00 - tn: 7348119.1093 - fn: 1469622.1224 - accuracy: 0.8334 - precision: 0.0000e+00 - recall: 0.0000e+00 - auc: 0.6952 - prc: 0.2916 - val_loss: 1.7415 - val_tp: 0.0000e+00 - val_fp: 0.0000e+00 - val_tn: 8073950.5000 - val_fn: 1614787.1250 - val_accuracy: 0.8333 - val_precision: 0.0000e+00 - val_recall: 0.0000e+00 - val_auc: 0.6945 - val_prc: 0.2907\n",
            "Epoch 9/64\n",
            "5413/5413 [==============================] - 120s 22ms/step - loss: 3.3465 - tp: 0.0000e+00 - fp: 0.0000e+00 - tn: 8366872.3995 - fn: 1673371.0121 - accuracy: 0.8332 - precision: 0.0000e+00 - recall: 0.0000e+00 - auc: 0.6950 - prc: 0.2913 - val_loss: 1.7356 - val_tp: 0.0000e+00 - val_fp: 0.0000e+00 - val_tn: 9092705.0000 - val_fn: 1818532.8750 - val_accuracy: 0.8331 - val_precision: 0.0000e+00 - val_recall: 0.0000e+00 - val_auc: 0.6949 - val_prc: 0.2912\n",
            "Epoch 10/64\n",
            "5413/5413 [==============================] - 120s 22ms/step - loss: 3.3610 - tp: 0.0000e+00 - fp: 0.0000e+00 - tn: 9385656.1243 - fn: 1877140.7864 - accuracy: 0.8331 - precision: 0.0000e+00 - recall: 0.0000e+00 - auc: 0.6948 - prc: 0.2904 - val_loss: 1.7251 - val_tp: 0.0000e+00 - val_fp: 0.0000e+00 - val_tn: 10111488.0000 - val_fn: 2022301.0000 - val_accuracy: 0.8330 - val_precision: 0.0000e+00 - val_recall: 0.0000e+00 - val_auc: 0.6944 - val_prc: 0.2900\n",
            "Epoch 11/64\n",
            "5413/5413 [==============================] - 121s 22ms/step - loss: 3.3525 - tp: 0.0000e+00 - fp: 0.0000e+00 - tn: 10404439.6018 - fn: 2080886.7366 - accuracy: 0.8330 - precision: 0.0000e+00 - recall: 0.0000e+00 - auc: 0.6951 - prc: 0.2913 - val_loss: 1.7352 - val_tp: 0.0000e+00 - val_fp: 0.0000e+00 - val_tn: 11130273.0000 - val_fn: 2226050.5000 - val_accuracy: 0.8329 - val_precision: 0.0000e+00 - val_recall: 0.0000e+00 - val_auc: 0.6945 - val_prc: 0.2904\n",
            "Epoch 12/64\n",
            "5413/5413 [==============================] - 120s 22ms/step - loss: 3.3639 - tp: 0.0000e+00 - fp: 0.0000e+00 - tn: 11423192.8840 - fn: 2284634.5193 - accuracy: 0.8329 - precision: 0.0000e+00 - recall: 0.0000e+00 - auc: 0.6947 - prc: 0.2906 - val_loss: 1.7368 - val_tp: 0.0000e+00 - val_fp: 0.0000e+00 - val_tn: 12149026.0000 - val_fn: 2429796.0000 - val_accuracy: 0.8328 - val_precision: 0.0000e+00 - val_recall: 0.0000e+00 - val_auc: 0.6942 - val_prc: 0.2893\n",
            "Epoch 13/64\n",
            "5413/5413 [==============================] - 120s 22ms/step - loss: 3.3586 - tp: 0.0000e+00 - fp: 0.0000e+00 - tn: 12441977.6365 - fn: 2488405.2709 - accuracy: 0.8328 - precision: 0.0000e+00 - recall: 0.0000e+00 - auc: 0.6944 - prc: 0.2895 - val_loss: 1.7357 - val_tp: 0.0000e+00 - val_fp: 0.0000e+00 - val_tn: 13167809.0000 - val_fn: 2633566.0000 - val_accuracy: 0.8329 - val_precision: 0.0000e+00 - val_recall: 0.0000e+00 - val_auc: 0.6941 - val_prc: 0.2891\n",
            "Epoch 14/64\n",
            "5413/5413 [==============================] - 119s 22ms/step - loss: 3.3524 - tp: 0.0000e+00 - fp: 0.0000e+00 - tn: 13460759.1455 - fn: 2692150.8155 - accuracy: 0.8330 - precision: 0.0000e+00 - recall: 0.0000e+00 - auc: 0.6946 - prc: 0.2897 - val_loss: 1.7471 - val_tp: 0.0000e+00 - val_fp: 0.0000e+00 - val_tn: 14186591.0000 - val_fn: 2837313.7500 - val_accuracy: 0.8332 - val_precision: 0.0000e+00 - val_recall: 0.0000e+00 - val_auc: 0.6943 - val_prc: 0.2897\n",
            "Epoch 15/64\n",
            "5413/5413 [==============================] - 120s 22ms/step - loss: 3.3572 - tp: 0.0000e+00 - fp: 0.0000e+00 - tn: 14479543.3535 - fn: 2895897.9660 - accuracy: 0.8332 - precision: 0.0000e+00 - recall: 0.0000e+00 - auc: 0.6941 - prc: 0.2890 - val_loss: 1.7275 - val_tp: 0.0000e+00 - val_fp: 0.0000e+00 - val_tn: 15205374.0000 - val_fn: 3041085.0000 - val_accuracy: 0.8334 - val_precision: 0.0000e+00 - val_recall: 0.0000e+00 - val_auc: 0.6936 - val_prc: 0.2881\n",
            "Epoch 16/64\n",
            "5413/5413 [==============================] - 120s 22ms/step - loss: 3.3616 - tp: 0.0000e+00 - fp: 0.0000e+00 - tn: 15498296.4897 - fn: 3099670.1248 - accuracy: 0.8334 - precision: 0.0000e+00 - recall: 0.0000e+00 - auc: 0.6940 - prc: 0.2891 - val_loss: 1.7266 - val_tp: 0.0000e+00 - val_fp: 0.0000e+00 - val_tn: 16224129.0000 - val_fn: 3244830.5000 - val_accuracy: 0.8335 - val_precision: 0.0000e+00 - val_recall: 0.0000e+00 - val_auc: 0.6937 - val_prc: 0.2887\n",
            "Epoch 17/64\n",
            "5413/5413 [==============================] - 120s 22ms/step - loss: 3.3622 - tp: 0.0000e+00 - fp: 0.0000e+00 - tn: 16517081.7619 - fn: 3303415.6720 - accuracy: 0.8335 - precision: 0.0000e+00 - recall: 0.0000e+00 - auc: 0.6938 - prc: 0.2887 - val_loss: 1.7377 - val_tp: 0.0000e+00 - val_fp: 0.0000e+00 - val_tn: 17242912.0000 - val_fn: 3448577.5000 - val_accuracy: 0.8337 - val_precision: 0.0000e+00 - val_recall: 0.0000e+00 - val_auc: 0.6935 - val_prc: 0.2880\n",
            "Epoch 18/64\n",
            "5413/5413 [==============================] - 120s 22ms/step - loss: 3.3587 - tp: 0.0000e+00 - fp: 0.0000e+00 - tn: 17535863.1965 - fn: 3507161.5916 - accuracy: 0.8337 - precision: 0.0000e+00 - recall: 0.0000e+00 - auc: 0.6933 - prc: 0.2876 - val_loss: 1.7370 - val_tp: 0.0000e+00 - val_fp: 0.0000e+00 - val_tn: 18261694.0000 - val_fn: 3652349.5000 - val_accuracy: 0.8338 - val_precision: 0.0000e+00 - val_recall: 0.0000e+00 - val_auc: 0.6928 - val_prc: 0.2871\n",
            "Epoch 19/64\n",
            "5413/5413 [==============================] - 120s 22ms/step - loss: 3.3542 - tp: 0.0000e+00 - fp: 0.0000e+00 - tn: 18554620.9819 - fn: 3710934.4807 - accuracy: 0.8338 - precision: 0.0000e+00 - recall: 0.0000e+00 - auc: 0.6928 - prc: 0.2869 - val_loss: 1.7333 - val_tp: 0.0000e+00 - val_fp: 0.0000e+00 - val_tn: 19280480.0000 - val_fn: 3856094.2500 - val_accuracy: 0.8339 - val_precision: 0.0000e+00 - val_recall: 0.0000e+00 - val_auc: 0.6927 - val_prc: 0.2864\n",
            "Epoch 20/64\n",
            "5413/5413 [==============================] - 120s 22ms/step - loss: 3.3566 - tp: 0.0000e+00 - fp: 0.0000e+00 - tn: 19573400.4854 - fn: 3914681.1081 - accuracy: 0.8339 - precision: 0.0000e+00 - recall: 0.0000e+00 - auc: 0.6928 - prc: 0.2865 - val_loss: 1.7310 - val_tp: 0.0000e+00 - val_fp: 0.0000e+00 - val_tn: 20299234.0000 - val_fn: 4059841.7500 - val_accuracy: 0.8340 - val_precision: 0.0000e+00 - val_recall: 0.0000e+00 - val_auc: 0.6923 - val_prc: 0.2858\n",
            "Epoch 21/64\n",
            "5413/5413 [==============================] - 121s 22ms/step - loss: 3.3510 - tp: 0.0000e+00 - fp: 0.0000e+00 - tn: 20592182.0547 - fn: 4118425.6888 - accuracy: 0.8340 - precision: 0.0000e+00 - recall: 0.0000e+00 - auc: 0.6925 - prc: 0.2859 - val_loss: 1.7464 - val_tp: 0.0000e+00 - val_fp: 0.0000e+00 - val_tn: 21318014.0000 - val_fn: 4263614.0000 - val_accuracy: 0.8341 - val_precision: 0.0000e+00 - val_recall: 0.0000e+00 - val_auc: 0.6921 - val_prc: 0.2855\n",
            "Epoch 22/64\n",
            "5413/5413 [==============================] - 124s 23ms/step - loss: 3.3576 - tp: 0.0000e+00 - fp: 0.0000e+00 - tn: 21610969.3432 - fn: 4322198.1700 - accuracy: 0.8341 - precision: 0.0000e+00 - recall: 0.0000e+00 - auc: 0.6919 - prc: 0.2850 - val_loss: 1.7342 - val_tp: 0.0000e+00 - val_fp: 0.0000e+00 - val_tn: 22336802.0000 - val_fn: 4467359.0000 - val_accuracy: 0.8342 - val_precision: 0.0000e+00 - val_recall: 0.0000e+00 - val_auc: 0.6915 - val_prc: 0.2839\n",
            "Epoch 23/64\n",
            "5413/5413 [==============================] - 124s 23ms/step - loss: 3.3528 - tp: 0.0000e+00 - fp: 0.0000e+00 - tn: 22629722.3362 - fn: 4525944.2023 - accuracy: 0.8342 - precision: 0.0000e+00 - recall: 0.0000e+00 - auc: 0.6917 - prc: 0.2842 - val_loss: 1.7306 - val_tp: 0.0000e+00 - val_fp: 0.0000e+00 - val_tn: 23355582.0000 - val_fn: 4671105.5000 - val_accuracy: 0.8342 - val_precision: 0.0000e+00 - val_recall: 0.0000e+00 - val_auc: 0.6915 - val_prc: 0.2838\n",
            "Epoch 24/64\n",
            "5413/5413 [==============================] - 124s 23ms/step - loss: 3.3720 - tp: 0.0000e+00 - fp: 0.0000e+00 - tn: 23648503.9586 - fn: 4729689.6704 - accuracy: 0.8343 - precision: 0.0000e+00 - recall: 0.0000e+00 - auc: 0.6914 - prc: 0.2835 - val_loss: 1.7244 - val_tp: 0.0000e+00 - val_fp: 0.0000e+00 - val_tn: 24374336.0000 - val_fn: 4874879.0000 - val_accuracy: 0.8343 - val_precision: 0.0000e+00 - val_recall: 0.0000e+00 - val_auc: 0.6913 - val_prc: 0.2836\n",
            "Epoch 25/64\n",
            "5413/5413 [==============================] - 125s 23ms/step - loss: 3.3537 - tp: 0.0000e+00 - fp: 0.0000e+00 - tn: 24667286.3461 - fn: 4933462.0904 - accuracy: 0.8344 - precision: 0.0000e+00 - recall: 0.0000e+00 - auc: 0.6916 - prc: 0.2840 - val_loss: 1.7387 - val_tp: 0.0000e+00 - val_fp: 0.0000e+00 - val_tn: 25393122.0000 - val_fn: 5078623.5000 - val_accuracy: 0.8343 - val_precision: 0.0000e+00 - val_recall: 0.0000e+00 - val_auc: 0.6911 - val_prc: 0.2831\n",
            "Epoch 26/64\n",
            "5413/5413 [==============================] - 125s 23ms/step - loss: 3.3541 - tp: 0.0000e+00 - fp: 0.0000e+00 - tn: 25686072.8685 - fn: 5137209.3219 - accuracy: 0.8342 - precision: 0.0000e+00 - recall: 0.0000e+00 - auc: 0.6911 - prc: 0.2828 - val_loss: 1.7341 - val_tp: 0.0000e+00 - val_fp: 0.0000e+00 - val_tn: 26411904.0000 - val_fn: 5282370.0000 - val_accuracy: 0.8341 - val_precision: 0.0000e+00 - val_recall: 0.0000e+00 - val_auc: 0.6909 - val_prc: 0.2825\n",
            "Epoch 27/64\n",
            "5413/5413 [==============================] - 125s 23ms/step - loss: 3.3573 - tp: 0.0000e+00 - fp: 0.0000e+00 - tn: 26704824.7761 - fn: 5340953.0834 - accuracy: 0.8340 - precision: 0.0000e+00 - recall: 0.0000e+00 - auc: 0.6910 - prc: 0.2827 - val_loss: 1.7289 - val_tp: 0.0000e+00 - val_fp: 0.0000e+00 - val_tn: 27430692.0000 - val_fn: 5486142.5000 - val_accuracy: 0.8339 - val_precision: 0.0000e+00 - val_recall: 0.0000e+00 - val_auc: 0.6906 - val_prc: 0.2820\n",
            "Epoch 28/64\n",
            "5413/5413 [==============================] - 126s 23ms/step - loss: 3.3621 - tp: 0.0000e+00 - fp: 0.0000e+00 - tn: 27723603.8245 - fn: 5544728.0263 - accuracy: 0.8338 - precision: 0.0000e+00 - recall: 0.0000e+00 - auc: 0.6906 - prc: 0.2817 - val_loss: 1.7300 - val_tp: 0.0000e+00 - val_fp: 0.0000e+00 - val_tn: 28449440.0000 - val_fn: 5689888.5000 - val_accuracy: 0.8336 - val_precision: 0.0000e+00 - val_recall: 0.0000e+00 - val_auc: 0.6905 - val_prc: 0.2814\n",
            "Epoch 29/64\n",
            "5413/5413 [==============================] - 124s 23ms/step - loss: 3.3472 - tp: 0.0000e+00 - fp: 0.0000e+00 - tn: 28742393.5368 - fn: 5748472.7858 - accuracy: 0.8336 - precision: 0.0000e+00 - recall: 0.0000e+00 - auc: 0.6906 - prc: 0.2817 - val_loss: 1.7357 - val_tp: 0.0000e+00 - val_fp: 0.0000e+00 - val_tn: 29468226.0000 - val_fn: 5893633.5000 - val_accuracy: 0.8335 - val_precision: 0.0000e+00 - val_recall: 0.0000e+00 - val_auc: 0.6902 - val_prc: 0.2809\n",
            "Epoch 30/64\n",
            "5413/5413 [==============================] - 125s 23ms/step - loss: 3.3535 - tp: 0.0000e+00 - fp: 0.0000e+00 - tn: 29761175.2530 - fn: 5952217.0393 - accuracy: 0.8334 - precision: 0.0000e+00 - recall: 0.0000e+00 - auc: 0.6903 - prc: 0.2808 - val_loss: 1.7320 - val_tp: 0.0000e+00 - val_fp: 0.0000e+00 - val_tn: 30487004.0000 - val_fn: 6097407.0000 - val_accuracy: 0.8333 - val_precision: 0.0000e+00 - val_recall: 0.0000e+00 - val_auc: 0.6900 - val_prc: 0.2803\n",
            "Epoch 31/64\n",
            "5413/5413 [==============================] - 122s 23ms/step - loss: 3.3551 - tp: 0.0000e+00 - fp: 0.0000e+00 - tn: 30779936.4791 - fn: 6155991.0652 - accuracy: 0.8333 - precision: 0.0000e+00 - recall: 0.0000e+00 - auc: 0.6900 - prc: 0.2803 - val_loss: 1.7357 - val_tp: 0.0000e+00 - val_fp: 0.0000e+00 - val_tn: 31505794.0000 - val_fn: 6301152.5000 - val_accuracy: 0.8331 - val_precision: 0.0000e+00 - val_recall: 0.0000e+00 - val_auc: 0.6898 - val_prc: 0.2798\n",
            "Epoch 32/64\n",
            "5413/5413 [==============================] - 121s 22ms/step - loss: 3.3521 - tp: 0.0000e+00 - fp: 0.0000e+00 - tn: 31798719.3347 - fn: 6359737.0621 - accuracy: 0.8330 - precision: 0.0000e+00 - recall: 0.0000e+00 - auc: 0.6897 - prc: 0.2795 - val_loss: 1.7348 - val_tp: 0.0000e+00 - val_fp: 0.0000e+00 - val_tn: 32524540.0000 - val_fn: 6504897.5000 - val_accuracy: 0.8330 - val_precision: 0.0000e+00 - val_recall: 0.0000e+00 - val_auc: 0.6894 - val_prc: 0.2790\n",
            "Epoch 33/64\n",
            "5413/5413 [==============================] - 121s 22ms/step - loss: 3.3550 - tp: 0.0000e+00 - fp: 0.0000e+00 - tn: 32817506.1234 - fn: 6563483.1855 - accuracy: 0.8329 - precision: 0.0000e+00 - recall: 0.0000e+00 - auc: 0.6895 - prc: 0.2790 - val_loss: 1.7339 - val_tp: 0.0000e+00 - val_fp: 0.0000e+00 - val_tn: 33543328.0000 - val_fn: 6708670.5000 - val_accuracy: 0.8328 - val_precision: 0.0000e+00 - val_recall: 0.0000e+00 - val_auc: 0.6893 - val_prc: 0.2787\n",
            "Epoch 34/64\n",
            "5413/5413 [==============================] - 120s 22ms/step - loss: 3.3468 - tp: 0.0000e+00 - fp: 0.0000e+00 - tn: 33836285.0661 - fn: 6767254.5798 - accuracy: 0.8328 - precision: 0.0000e+00 - recall: 0.0000e+00 - auc: 0.6894 - prc: 0.2787 - val_loss: 1.7411 - val_tp: 0.0000e+00 - val_fp: 0.0000e+00 - val_tn: 34562112.0000 - val_fn: 6912416.0000 - val_accuracy: 0.8327 - val_precision: 0.0000e+00 - val_recall: 0.0000e+00 - val_auc: 0.6890 - val_prc: 0.2781\n",
            "Epoch 35/64\n",
            "5413/5413 [==============================] - 117s 22ms/step - loss: 3.3536 - tp: 0.0000e+00 - fp: 0.0000e+00 - tn: 34855039.0831 - fn: 6971000.0163 - accuracy: 0.8326 - precision: 0.0000e+00 - recall: 0.0000e+00 - auc: 0.6890 - prc: 0.2781 - val_loss: 1.7411 - val_tp: 0.0000e+00 - val_fp: 0.0000e+00 - val_tn: 35580896.0000 - val_fn: 7116161.0000 - val_accuracy: 0.8325 - val_precision: 0.0000e+00 - val_recall: 0.0000e+00 - val_auc: 0.6889 - val_prc: 0.2779\n",
            "Epoch 36/64\n",
            "5413/5413 [==============================] - 118s 22ms/step - loss: 3.3542 - tp: 0.0000e+00 - fp: 0.0000e+00 - tn: 35873813.8552 - fn: 7174775.1866 - accuracy: 0.8325 - precision: 0.0000e+00 - recall: 0.0000e+00 - auc: 0.6888 - prc: 0.2777 - val_loss: 1.7330 - val_tp: 0.0000e+00 - val_fp: 0.0000e+00 - val_tn: 36599660.0000 - val_fn: 7319935.5000 - val_accuracy: 0.8324 - val_precision: 0.0000e+00 - val_recall: 0.0000e+00 - val_auc: 0.6884 - val_prc: 0.2770\n",
            "Epoch 37/64\n",
            "5413/5413 [==============================] - 119s 22ms/step - loss: 3.3534 - tp: 0.0000e+00 - fp: 0.0000e+00 - tn: 36892605.1939 - fn: 7378518.0829 - accuracy: 0.8324 - precision: 0.0000e+00 - recall: 0.0000e+00 - auc: 0.6885 - prc: 0.2772 - val_loss: 1.7341 - val_tp: 0.0000e+00 - val_fp: 0.0000e+00 - val_tn: 37618432.0000 - val_fn: 7523680.5000 - val_accuracy: 0.8323 - val_precision: 0.0000e+00 - val_recall: 0.0000e+00 - val_auc: 0.6883 - val_prc: 0.2769\n",
            "Epoch 38/64\n",
            "5413/5413 [==============================] - 121s 22ms/step - loss: 3.3545 - tp: 0.0000e+00 - fp: 0.0000e+00 - tn: 37911377.1526 - fn: 7582265.1502 - accuracy: 0.8323 - precision: 0.0000e+00 - recall: 0.0000e+00 - auc: 0.6884 - prc: 0.2770 - val_loss: 1.7305 - val_tp: 0.0000e+00 - val_fp: 0.0000e+00 - val_tn: 38637204.0000 - val_fn: 7727425.0000 - val_accuracy: 0.8322 - val_precision: 0.0000e+00 - val_recall: 0.0000e+00 - val_auc: 0.6882 - val_prc: 0.2767\n",
            "Epoch 39/64\n",
            "5413/5413 [==============================] - 121s 22ms/step - loss: 3.3524 - tp: 0.0000e+00 - fp: 0.0000e+00 - tn: 38930137.2745 - fn: 7786038.0692 - accuracy: 0.8321 - precision: 0.0000e+00 - recall: 0.0000e+00 - auc: 0.6882 - prc: 0.2765 - val_loss: 1.7334 - val_tp: 0.0000e+00 - val_fp: 0.0000e+00 - val_tn: 39655992.0000 - val_fn: 7931199.0000 - val_accuracy: 0.8321 - val_precision: 0.0000e+00 - val_recall: 0.0000e+00 - val_auc: 0.6879 - val_prc: 0.2761\n",
            "Epoch 40/64\n",
            "5413/5413 [==============================] - 122s 23ms/step - loss: 3.3505 - tp: 0.0000e+00 - fp: 0.0000e+00 - tn: 39948921.0868 - fn: 7989784.2772 - accuracy: 0.8321 - precision: 0.0000e+00 - recall: 0.0000e+00 - auc: 0.6879 - prc: 0.2761 - val_loss: 1.7276 - val_tp: 0.0000e+00 - val_fp: 0.0000e+00 - val_tn: 40674760.0000 - val_fn: 8134944.0000 - val_accuracy: 0.8320 - val_precision: 0.0000e+00 - val_recall: 0.0000e+00 - val_auc: 0.6877 - val_prc: 0.2758\n",
            "Epoch 41/64\n",
            "5413/5413 [==============================] - 122s 22ms/step - loss: 3.3507 - tp: 0.0000e+00 - fp: 0.0000e+00 - tn: 40967694.7410 - fn: 8193531.5065 - accuracy: 0.8320 - precision: 0.0000e+00 - recall: 0.0000e+00 - auc: 0.6878 - prc: 0.2757 - val_loss: 1.7327 - val_tp: 0.0000e+00 - val_fp: 0.0000e+00 - val_tn: 41693540.0000 - val_fn: 8338688.5000 - val_accuracy: 0.8319 - val_precision: 0.0000e+00 - val_recall: 0.0000e+00 - val_auc: 0.6876 - val_prc: 0.2754\n",
            "Epoch 42/64\n",
            "5413/5413 [==============================] - 122s 23ms/step - loss: 3.3459 - tp: 0.0000e+00 - fp: 0.0000e+00 - tn: 41986487.5072 - fn: 8397304.1063 - accuracy: 0.8319 - precision: 0.0000e+00 - recall: 0.0000e+00 - auc: 0.6876 - prc: 0.2754 - val_loss: 1.7367 - val_tp: 0.0000e+00 - val_fp: 0.0000e+00 - val_tn: 42712316.0000 - val_fn: 8542463.0000 - val_accuracy: 0.8318 - val_precision: 0.0000e+00 - val_recall: 0.0000e+00 - val_auc: 0.6873 - val_prc: 0.2750\n",
            "Epoch 43/64\n",
            "5413/5413 [==============================] - 122s 22ms/step - loss: 3.3470 - tp: 0.0000e+00 - fp: 0.0000e+00 - tn: 43005245.6188 - fn: 8601049.3018 - accuracy: 0.8318 - precision: 0.0000e+00 - recall: 0.0000e+00 - auc: 0.6874 - prc: 0.2750 - val_loss: 1.7316 - val_tp: 0.0000e+00 - val_fp: 0.0000e+00 - val_tn: 43731116.0000 - val_fn: 8746208.0000 - val_accuracy: 0.8317 - val_precision: 0.0000e+00 - val_recall: 0.0000e+00 - val_auc: 0.6871 - val_prc: 0.2746\n",
            "Epoch 44/64\n",
            "5413/5413 [==============================] - 121s 22ms/step - loss: 3.3463 - tp: 0.0000e+00 - fp: 0.0000e+00 - tn: 44024014.6354 - fn: 8804796.1045 - accuracy: 0.8317 - precision: 0.0000e+00 - recall: 0.0000e+00 - auc: 0.6872 - prc: 0.2748 - val_loss: 1.7405 - val_tp: 0.0000e+00 - val_fp: 0.0000e+00 - val_tn: 44749868.0000 - val_fn: 8949954.0000 - val_accuracy: 0.8316 - val_precision: 0.0000e+00 - val_recall: 0.0000e+00 - val_auc: 0.6870 - val_prc: 0.2744\n",
            "Epoch 45/64\n",
            "5413/5413 [==============================] - 121s 22ms/step - loss: 3.3532 - tp: 0.0000e+00 - fp: 0.0000e+00 - tn: 45042797.9416 - fn: 9008570.5864 - accuracy: 0.8316 - precision: 0.0000e+00 - recall: 0.0000e+00 - auc: 0.6869 - prc: 0.2743 - val_loss: 1.7352 - val_tp: 0.0000e+00 - val_fp: 0.0000e+00 - val_tn: 45768644.0000 - val_fn: 9153730.0000 - val_accuracy: 0.8315 - val_precision: 0.0000e+00 - val_recall: 0.0000e+00 - val_auc: 0.6867 - val_prc: 0.2740\n",
            "Epoch 46/64\n",
            "5413/5413 [==============================] - 122s 23ms/step - loss: 3.3506 - tp: 0.0000e+00 - fp: 0.0000e+00 - tn: 46061594.6029 - fn: 9212312.7039 - accuracy: 0.8315 - precision: 0.0000e+00 - recall: 0.0000e+00 - auc: 0.6867 - prc: 0.2738 - val_loss: 1.7232 - val_tp: 0.0000e+00 - val_fp: 0.0000e+00 - val_tn: 46787416.0000 - val_fn: 9357473.0000 - val_accuracy: 0.8315 - val_precision: 0.0000e+00 - val_recall: 0.0000e+00 - val_auc: 0.6864 - val_prc: 0.2734\n",
            "Epoch 47/64\n",
            "5413/5413 [==============================] - 122s 23ms/step - loss: 3.3492 - tp: 0.0000e+00 - fp: 0.0000e+00 - tn: 47080337.9461 - fn: 9416055.0515 - accuracy: 0.8315 - precision: 0.0000e+00 - recall: 0.0000e+00 - auc: 0.6866 - prc: 0.2737 - val_loss: 1.7376 - val_tp: 0.0000e+00 - val_fp: 0.0000e+00 - val_tn: 47806208.0000 - val_fn: 9561249.0000 - val_accuracy: 0.8314 - val_precision: 0.0000e+00 - val_recall: 0.0000e+00 - val_auc: 0.6863 - val_prc: 0.2733\n",
            "Epoch 48/64\n",
            "5413/5413 [==============================] - 122s 23ms/step - loss: 3.3514 - tp: 0.0000e+00 - fp: 0.0000e+00 - tn: 48099133.7828 - fn: 9619828.9839 - accuracy: 0.8314 - precision: 0.0000e+00 - recall: 0.0000e+00 - auc: 0.6863 - prc: 0.2730 - val_loss: 1.7290 - val_tp: 0.0000e+00 - val_fp: 0.0000e+00 - val_tn: 48824964.0000 - val_fn: 9764993.0000 - val_accuracy: 0.8313 - val_precision: 0.0000e+00 - val_recall: 0.0000e+00 - val_auc: 0.6861 - val_prc: 0.2727\n",
            "Epoch 49/64\n",
            "5413/5413 [==============================] - 122s 23ms/step - loss: 3.3434 - tp: 0.0000e+00 - fp: 0.0000e+00 - tn: 49117900.6465 - fn: 9823574.6472 - accuracy: 0.8313 - precision: 0.0000e+00 - recall: 0.0000e+00 - auc: 0.6862 - prc: 0.2728 - val_loss: 1.7492 - val_tp: 0.0000e+00 - val_fp: 0.0000e+00 - val_tn: 49843736.0000 - val_fn: 9968737.0000 - val_accuracy: 0.8313 - val_precision: 0.0000e+00 - val_recall: 0.0000e+00 - val_auc: 0.6860 - val_prc: 0.2725\n",
            "Epoch 50/64\n",
            "5413/5413 [==============================] - 122s 23ms/step - loss: 3.3473 - tp: 0.0000e+00 - fp: 0.0000e+00 - tn: 50136707.4688 - fn: 10027317.6829 - accuracy: 0.8313 - precision: 0.0000e+00 - recall: 0.0000e+00 - auc: 0.6859 - prc: 0.2724 - val_loss: 1.7512 - val_tp: 0.0000e+00 - val_fp: 0.0000e+00 - val_tn: 50862524.0000 - val_fn: 10172515.0000 - val_accuracy: 0.8313 - val_precision: 0.0000e+00 - val_recall: 0.0000e+00 - val_auc: 0.6856 - val_prc: 0.2720\n",
            "Epoch 51/64\n",
            "5413/5413 [==============================] - 122s 23ms/step - loss: 3.3518 - tp: 0.0000e+00 - fp: 0.0000e+00 - tn: 51155457.5737 - fn: 10231097.6178 - accuracy: 0.8314 - precision: 0.0000e+00 - recall: 0.0000e+00 - auc: 0.6855 - prc: 0.2718 - val_loss: 1.7237 - val_tp: 0.0000e+00 - val_fp: 0.0000e+00 - val_tn: 51881324.0000 - val_fn: 10376256.0000 - val_accuracy: 0.8316 - val_precision: 0.0000e+00 - val_recall: 0.0000e+00 - val_auc: 0.6853 - val_prc: 0.2716\n",
            "Epoch 52/64\n",
            "5413/5413 [==============================] - 123s 23ms/step - loss: 3.3525 - tp: 0.0000e+00 - fp: 0.0000e+00 - tn: 52174216.5615 - fn: 10434838.9396 - accuracy: 0.8317 - precision: 0.0000e+00 - recall: 0.0000e+00 - auc: 0.6853 - prc: 0.2715 - val_loss: 1.7294 - val_tp: 0.0000e+00 - val_fp: 0.0000e+00 - val_tn: 52900060.0000 - val_fn: 10580005.0000 - val_accuracy: 0.8318 - val_precision: 0.0000e+00 - val_recall: 0.0000e+00 - val_auc: 0.6851 - val_prc: 0.2712\n",
            "Epoch 53/64\n",
            "5413/5413 [==============================] - 122s 23ms/step - loss: 3.3649 - tp: 0.0000e+00 - fp: 0.0000e+00 - tn: 53193014.0687 - fn: 10638582.1649 - accuracy: 0.8319 - precision: 0.0000e+00 - recall: 0.0000e+00 - auc: 0.6851 - prc: 0.2712 - val_loss: 1.7304 - val_tp: 0.0000e+00 - val_fp: 0.0000e+00 - val_tn: 53918836.0000 - val_fn: 10783775.0000 - val_accuracy: 0.8320 - val_precision: 0.0000e+00 - val_recall: 0.0000e+00 - val_auc: 0.6849 - val_prc: 0.2709\n",
            "Epoch 54/64\n",
            "5413/5413 [==============================] - 124s 23ms/step - loss: 3.3539 - tp: 0.0000e+00 - fp: 0.0000e+00 - tn: 54211807.8648 - fn: 10842356.0949 - accuracy: 0.8321 - precision: 0.0000e+00 - recall: 0.0000e+00 - auc: 0.6849 - prc: 0.2708 - val_loss: 1.7359 - val_tp: 0.0000e+00 - val_fp: 0.0000e+00 - val_tn: 54937636.0000 - val_fn: 10987524.0000 - val_accuracy: 0.8323 - val_precision: 0.0000e+00 - val_recall: 0.0000e+00 - val_auc: 0.6847 - val_prc: 0.2705\n",
            "Epoch 55/64\n",
            "5413/5413 [==============================] - 124s 23ms/step - loss: 3.3487 - tp: 0.0000e+00 - fp: 0.0000e+00 - tn: 55230544.6827 - fn: 11046107.8025 - accuracy: 0.8323 - precision: 0.0000e+00 - recall: 0.0000e+00 - auc: 0.6848 - prc: 0.2706 - val_loss: 1.7365 - val_tp: 0.0000e+00 - val_fp: 0.0000e+00 - val_tn: 55956428.0000 - val_fn: 11191265.0000 - val_accuracy: 0.8325 - val_precision: 0.0000e+00 - val_recall: 0.0000e+00 - val_auc: 0.6846 - val_prc: 0.2703\n",
            "Epoch 56/64\n",
            "5413/5413 [==============================] - 124s 23ms/step - loss: 3.3637 - tp: 0.0000e+00 - fp: 0.0000e+00 - tn: 56249318.2298 - fn: 11249845.3918 - accuracy: 0.8325 - precision: 0.0000e+00 - recall: 0.0000e+00 - auc: 0.6846 - prc: 0.2702 - val_loss: 1.7321 - val_tp: 0.0000e+00 - val_fp: 0.0000e+00 - val_tn: 56975160.0000 - val_fn: 11395042.0000 - val_accuracy: 0.8327 - val_precision: 0.0000e+00 - val_recall: 0.0000e+00 - val_auc: 0.6845 - val_prc: 0.2701\n",
            "Epoch 57/64\n",
            "5413/5413 [==============================] - 121s 22ms/step - loss: 3.3623 - tp: 0.0000e+00 - fp: 0.0000e+00 - tn: 57268136.9752 - fn: 11453621.3731 - accuracy: 0.8327 - precision: 0.0000e+00 - recall: 0.0000e+00 - auc: 0.6845 - prc: 0.2701 - val_loss: 1.7249 - val_tp: 0.0000e+00 - val_fp: 0.0000e+00 - val_tn: 57993948.0000 - val_fn: 11598784.0000 - val_accuracy: 0.8329 - val_precision: 0.0000e+00 - val_recall: 0.0000e+00 - val_auc: 0.6844 - val_prc: 0.2700\n",
            "Epoch 58/64\n",
            "5413/5413 [==============================] - 124s 23ms/step - loss: 3.3528 - tp: 0.0000e+00 - fp: 0.0000e+00 - tn: 58286904.4433 - fn: 11657371.6703 - accuracy: 0.8329 - precision: 0.0000e+00 - recall: 0.0000e+00 - auc: 0.6845 - prc: 0.2701 - val_loss: 1.7103 - val_tp: 0.0000e+00 - val_fp: 0.0000e+00 - val_tn: 59012748.0000 - val_fn: 11802529.0000 - val_accuracy: 0.8331 - val_precision: 0.0000e+00 - val_recall: 0.0000e+00 - val_auc: 0.6843 - val_prc: 0.2698\n",
            "Epoch 59/64\n",
            "5413/5413 [==============================] - 125s 23ms/step - loss: 3.3472 - tp: 0.0000e+00 - fp: 0.0000e+00 - tn: 59305643.8397 - fn: 11861110.5772 - accuracy: 0.8331 - precision: 0.0000e+00 - recall: 0.0000e+00 - auc: 0.6844 - prc: 0.2701 - val_loss: 1.7414 - val_tp: 0.0000e+00 - val_fp: 0.0000e+00 - val_tn: 60031516.0000 - val_fn: 12006305.0000 - val_accuracy: 0.8332 - val_precision: 0.0000e+00 - val_recall: 0.0000e+00 - val_auc: 0.6842 - val_prc: 0.2699\n",
            "Epoch 60/64\n",
            "5413/5413 [==============================] - 124s 23ms/step - loss: 3.3566 - tp: 0.0000e+00 - fp: 0.0000e+00 - tn: 60324441.6018 - fn: 12064884.2870 - accuracy: 0.8333 - precision: 0.0000e+00 - recall: 0.0000e+00 - auc: 0.6842 - prc: 0.2698 - val_loss: 1.7374 - val_tp: 0.0000e+00 - val_fp: 0.0000e+00 - val_tn: 61050264.0000 - val_fn: 12210047.0000 - val_accuracy: 0.8334 - val_precision: 0.0000e+00 - val_recall: 0.0000e+00 - val_auc: 0.6841 - val_prc: 0.2696\n",
            "Epoch 61/64\n",
            "5413/5413 [==============================] - 124s 23ms/step - loss: 3.3524 - tp: 0.0000e+00 - fp: 0.0000e+00 - tn: 61343212.7314 - fn: 12268636.2309 - accuracy: 0.8335 - precision: 0.0000e+00 - recall: 0.0000e+00 - auc: 0.6841 - prc: 0.2696 - val_loss: 1.7321 - val_tp: 0.0000e+00 - val_fp: 0.0000e+00 - val_tn: 62069072.0000 - val_fn: 12413797.0000 - val_accuracy: 0.8336 - val_precision: 0.0000e+00 - val_recall: 0.0000e+00 - val_auc: 0.6839 - val_prc: 0.2694\n",
            "Epoch 62/64\n",
            "5413/5413 [==============================] - 124s 23ms/step - loss: 3.3570 - tp: 0.0000e+00 - fp: 0.0000e+00 - tn: 62362015.6793 - fn: 12472376.4544 - accuracy: 0.8336 - precision: 0.0000e+00 - recall: 0.0000e+00 - auc: 0.6839 - prc: 0.2693 - val_loss: 1.7280 - val_tp: 0.0000e+00 - val_fp: 0.0000e+00 - val_tn: 63087840.0000 - val_fn: 12617567.0000 - val_accuracy: 0.8337 - val_precision: 0.0000e+00 - val_recall: 0.0000e+00 - val_auc: 0.6838 - val_prc: 0.2692\n",
            "Epoch 63/64\n",
            "5413/5413 [==============================] - 124s 23ms/step - loss: 3.3583 - tp: 0.0000e+00 - fp: 0.0000e+00 - tn: 63380769.1001 - fn: 12676154.8753 - accuracy: 0.8338 - precision: 0.0000e+00 - recall: 0.0000e+00 - auc: 0.6839 - prc: 0.2692 - val_loss: 1.7325 - val_tp: 0.0000e+00 - val_fp: 0.0000e+00 - val_tn: 64106624.0000 - val_fn: 12821311.0000 - val_accuracy: 0.8339 - val_precision: 0.0000e+00 - val_recall: 0.0000e+00 - val_auc: 0.6837 - val_prc: 0.2690\n",
            "Epoch 64/64\n",
            "5413/5413 [==============================] - 124s 23ms/step - loss: 3.3559 - tp: 0.0000e+00 - fp: 0.0000e+00 - tn: 64399566.5940 - fn: 12879893.5940 - accuracy: 0.8339 - precision: 0.0000e+00 - recall: 0.0000e+00 - auc: 0.6837 - prc: 0.2690 - val_loss: 1.7317 - val_tp: 0.0000e+00 - val_fp: 0.0000e+00 - val_tn: 65125372.0000 - val_fn: 13025059.0000 - val_accuracy: 0.8340 - val_precision: 0.0000e+00 - val_recall: 0.0000e+00 - val_auc: 0.6836 - val_prc: 0.2688\n"
          ],
          "name": "stdout"
        },
        {
          "output_type": "display_data",
          "data": {
            "image/png": "[encoded data removed]",
            "text/plain": [
              "<Figure size 720x360 with 1 Axes>"
            ]
          },
          "metadata": {
            "tags": [],
            "needs_background": "light"
          }
        },
        {
          "output_type": "display_data",
          "data": {
            "image/png": "[encoded data removed]",
            "text/plain": [
              "<Figure size 432x144 with 1 Axes>"
            ]
          },
          "metadata": {
            "tags": [],
            "needs_background": "light"
          }
        },
        {
          "output_type": "display_data",
          "data": {
            "image/png": "[encoded data removed]",
            "text/plain": [
              "<Figure size 720x360 with 1 Axes>"
            ]
          },
          "metadata": {
            "tags": [],
            "needs_background": "light"
          }
        },
        {
          "output_type": "execute_result",
          "data": {
            "text/plain": [
              "Text(0, 0.5, 'acc')"
            ]
          },
          "metadata": {
            "tags": []
          },
          "execution_count": 93
        },
        {
          "output_type": "display_data",
          "data": {
            "image/png": "[encoded data removed]",
            "text/plain": [
              "<Figure size 432x144 with 1 Axes>"
            ]
          },
          "metadata": {
            "tags": [],
            "needs_background": "light"
          }
        }
      ]
    },
    {
      "cell_type": "code",
      "metadata": {
        "id": "TOZnUf5jR_OB"
      },
      "source": [
        "#prediction phase\n",
        "yPred = network.predict(Xtr)\n",
        "yPred = np.argmax(yPred, axis=1)"
      ],
      "execution_count": 94,
      "outputs": []
    },
    {
      "cell_type": "code",
      "metadata": {
        "id": "RxIO1diNTqXT",
        "colab": {
          "base_uri": "https://localhost:8080/"
        },
        "outputId": "b283aba9-0556-4843-e888-32a418e2c074"
      },
      "source": [
        "print(classification_report(ytr, yPred))"
      ],
      "execution_count": 95,
      "outputs": [
        {
          "output_type": "stream",
          "text": [
            "              precision    recall  f1-score   support\n",
            "\n",
            "         0.0       0.45      0.44      0.45     91122\n",
            "         1.0       0.11      0.04      0.06     19235\n",
            "         2.0       0.11      0.01      0.02     18036\n",
            "         3.0       0.12      0.00      0.00     11453\n",
            "         4.0       0.12      0.41      0.18     22445\n",
            "         5.0       0.22      0.14      0.17     41464\n",
            "\n",
            "    accuracy                           0.28    203755\n",
            "   macro avg       0.19      0.17      0.15    203755\n",
            "weighted avg       0.29      0.28      0.26    203755\n",
            "\n"
          ],
          "name": "stdout"
        }
      ]
    },
    {
      "cell_type": "code",
      "metadata": {
        "id": "oWOUSY5MUOx0",
        "colab": {
          "base_uri": "https://localhost:8080/"
        },
        "outputId": "65fa7253-4395-49ae-c9dc-a081d5b179ed"
      },
      "source": [
        "print(confusion_matrix(ytr, yPred))\n",
        "yPred[13]"
      ],
      "execution_count": 96,
      "outputs": [
        {
          "output_type": "stream",
          "text": [
            "[[40485  3221   676    43 34711 11986]\n",
            " [ 8420   827   144     6  7307  2531]\n",
            " [ 7814   646   172     9  6975  2420]\n",
            " [ 5030   383   100     9  4453  1478]\n",
            " [ 9540   708   137     6  9165  2889]\n",
            " [17926  1424   311     5 15899  5899]]\n"
          ],
          "name": "stdout"
        },
        {
          "output_type": "execute_result",
          "data": {
            "text/plain": [
              "5"
            ]
          },
          "metadata": {
            "tags": []
          },
          "execution_count": 96
        }
      ]
    },
    {
      "cell_type": "code",
      "metadata": {
        "id": "YmfwSnnntSpe"
      },
      "source": [
        "#merging train and test data (for gender generalizing)\n",
        "#providing gender train-test data\n",
        "trainPhonesFeatures_genderMale = []\n",
        "for i in range(len(trainGenderID)):\n",
        "  if trainGenderID[i] == 0:\n",
        "    trainPhonesFeatures_genderMale.append(trainPhonesFeatures[i])\n",
        "\n",
        "for i in range(len(testGenderID)):\n",
        "  if testGenderID[i] == 0:\n",
        "    trainPhonesFeatures_genderMale.append(testPhonesFeatures[i])\n",
        "\n",
        "testPhonesFeatures_genderFemale = []\n",
        "for i in range(len(trainGenderID)):\n",
        "  if trainGenderID[i] == 1:\n",
        "    testPhonesFeatures_genderFemale.append(trainPhonesFeatures[i])\n",
        "\n",
        "for i in range(len(testGenderID)):\n",
        "  if testGenderID[i] == 1:\n",
        "    testPhonesFeatures_genderFemale.append(testPhonesFeatures[i])\n",
        "\n",
        "#trainPhonesFeatures_genderMale = trainPhonesFeatures[trainGenderID == 0]\n",
        "#trainPhonesFeatures_genderMale = np.concatenate((trainPhonesFeatures_genderMale, testPhonesFeatures[testGenderID == 0]), axis =0)\n",
        "# testPhonesFeatures_genderFemale = trainPhonesFeatures[trainGenderID == 1]\n",
        "# testPhonesFeatures_genderFemale = np.concatenate((testPhonesFeatures_genderFemale, testPhonesFeatures[testGenderID == 1]), axis =0)\n",
        "\n",
        "#providing train-test labels\n",
        "trainPhonesLabels_genderMale = trainPhoneLabelsConverted[np.array(trainGenderID) == 0]\n",
        "trainPhonesLabels_genderMale = np.concatenate((trainPhonesLabels_genderMale, testPhoneLabelsConverted[np.array(testGenderID) == 0]), axis =0)\n",
        "\n",
        "testPhonesLabels_genderFemale = trainPhoneLabelsConverted[np.array(trainGenderID) == 1]\n",
        "testPhonesLabels_genderFemale = np.concatenate((testPhonesLabels_genderFemale, testPhoneLabelsConverted[np.array(testGenderID) == 1]), axis =0)\n"
      ],
      "execution_count": 97,
      "outputs": []
    },
    {
      "cell_type": "code",
      "metadata": {
        "id": "nPWkW9EpvuYR",
        "colab": {
          "base_uri": "https://localhost:8080/"
        },
        "outputId": "2b97d34a-0471-4ccd-f40a-295b7bd4eba7"
      },
      "source": [
        "#preprocessing on mfcc_features stacking size - zero padding\n",
        "cntTrainG = 0\n",
        "for ph in trainPhonesFeatures_genderMale:\n",
        "  cntTrainG += np.size(ph, axis=1) // 7\n",
        "  if np.size(ph, axis=1) % 7 != 0:\n",
        "    cntTrainG += 1\n",
        "\n",
        "print(cntTrainG)\n",
        "# for instnace for len(ph) = 15 we have 3 frames of size 13*7 = 91\n",
        "\n",
        "cntTestG = 0\n",
        "for ph in testPhonesFeatures_genderFemale:\n",
        "  cntTestG += np.size(ph, axis=1) // 7\n",
        "  if np.size(ph, axis=1) % 7 != 0:\n",
        "    cntTestG += 1\n",
        "\n",
        "print(cntTestG)"
      ],
      "execution_count": 98,
      "outputs": [
        {
          "output_type": "stream",
          "text": [
            "260233\n",
            "118028\n"
          ],
          "name": "stdout"
        }
      ]
    },
    {
      "cell_type": "code",
      "metadata": {
        "id": "nwyFK-VCvcmB"
      },
      "source": [
        "# we should have 277249 training data with dimention 299391*91\n",
        "XtrG = np.zeros((cntTrainG, 91))\n",
        "ytrG = np.zeros((cntTrainG))\n",
        "i = 0 # for counting train phones (transfering labels)\n",
        "j = 0 # for counting splited training phones\n",
        "\n",
        "for ph in trainPhonesFeatures_genderMale:\n",
        "  while np.size(ph, axis=1) >= 7:\n",
        "    temp = ph[:, 0:7]\n",
        "    XtrG[j] = temp.flat #adding first 7 columns to Xtrain as supervector\n",
        "    ytrG[j] = trainPhonesLabels_genderMale[i]\n",
        "    j += 1\n",
        "    ph = np.delete(ph, range(7), axis=1)\n",
        "  if np.size(ph, axis=1) > 3:\n",
        "    temp = ph.flat\n",
        "    XtrG[j, 0:len(temp)] = temp  \n",
        "    j += 1\n",
        "  i += 1"
      ],
      "execution_count": 99,
      "outputs": []
    },
    {
      "cell_type": "code",
      "metadata": {
        "id": "QYe1xFNJvcmD"
      },
      "source": [
        "# we should have 101012 test data with dimention 299391*91\n",
        "XtstG = np.zeros((cntTestG, 91))\n",
        "ytstG = np.zeros((cntTestG))\n",
        "i = 0 # for counting test phones (transfering labels)\n",
        "j = 0 # for counting splited test phones\n",
        "\n",
        "for ph in testPhonesFeatures_genderFemale:\n",
        "  while np.size(ph, axis=1) >= 7:\n",
        "    temp = ph[:, 0:7]\n",
        "    XtstG[j] = temp.flat #adding first 7 columns to Xtest as supervector\n",
        "    ytstG[j] = testPhonesLabels_genderFemale[i]\n",
        "    j += 1\n",
        "    ph = np.delete(ph, range(7), axis=1)\n",
        "  if np.size(ph, axis=1) > 3:\n",
        "    temp = ph.flat\n",
        "    XtstG[j, 0:len(temp)] = temp\n",
        "    j += 1\n",
        "  i += 1"
      ],
      "execution_count": 100,
      "outputs": []
    },
    {
      "cell_type": "code",
      "metadata": {
        "id": "3EbGXYSXvcGH"
      },
      "source": [
        "#one_hot the labels\n",
        "nClasses = 6\n",
        "ytrOneHotG = tf.keras.utils.to_categorical(ytrG, num_classes=nClasses, dtype='float32')"
      ],
      "execution_count": 101,
      "outputs": []
    },
    {
      "cell_type": "code",
      "metadata": {
        "id": "We8zfyFmvM6Z"
      },
      "source": [
        "#Data Normalizing\n",
        "scaler = StandardScaler()\n",
        "scaler.fit(XtrG)\n",
        "XtrG = scaler.transform(XtrG)\n",
        "XtstG = scaler.transform(XtstG)"
      ],
      "execution_count": 102,
      "outputs": []
    },
    {
      "cell_type": "code",
      "metadata": {
        "id": "Le3Xv3N_vmWN",
        "colab": {
          "base_uri": "https://localhost:8080/"
        },
        "outputId": "4d97a506-6b5f-45fa-b493-aa915cf8d04f"
      },
      "source": [
        "networkG = build_neural_network(data_size_in, n_classes)\n",
        "networkG.compile(loss=ls, optimizer=opt, metrics=METRICS)"
      ],
      "execution_count": 103,
      "outputs": [
        {
          "output_type": "stream",
          "text": [
            "WARNING:tensorflow:\n",
            "The following Variables were used a Lambda layer's call (tf.compat.v1.nn.conv1d_30), but\n",
            "are not present in its tracked objects:\n",
            "  <tf.Variable 'conv1d_30/kernel:0' shape=(3, 1, 32) dtype=float32>\n",
            "It is possible that this is intended behavior, but it is more likely\n",
            "an omission. This is a strong indication that this layer should be\n",
            "formulated as a subclassed Layer rather than a Lambda layer.\n",
            "WARNING:tensorflow:\n",
            "The following Variables were used a Lambda layer's call (tf.nn.bias_add_30), but\n",
            "are not present in its tracked objects:\n",
            "  <tf.Variable 'conv1d_30/bias:0' shape=(32,) dtype=float32>\n",
            "It is possible that this is intended behavior, but it is more likely\n",
            "an omission. This is a strong indication that this layer should be\n",
            "formulated as a subclassed Layer rather than a Lambda layer.\n",
            "WARNING:tensorflow:\n",
            "The following Variables were used a Lambda layer's call (tf.compat.v1.nn.conv1d_31), but\n",
            "are not present in its tracked objects:\n",
            "  <tf.Variable 'conv1d_31/kernel:0' shape=(3, 32, 64) dtype=float32>\n",
            "It is possible that this is intended behavior, but it is more likely\n",
            "an omission. This is a strong indication that this layer should be\n",
            "formulated as a subclassed Layer rather than a Lambda layer.\n",
            "WARNING:tensorflow:\n",
            "The following Variables were used a Lambda layer's call (tf.nn.bias_add_31), but\n",
            "are not present in its tracked objects:\n",
            "  <tf.Variable 'conv1d_31/bias:0' shape=(64,) dtype=float32>\n",
            "It is possible that this is intended behavior, but it is more likely\n",
            "an omission. This is a strong indication that this layer should be\n",
            "formulated as a subclassed Layer rather than a Lambda layer.\n",
            "WARNING:tensorflow:\n",
            "The following Variables were used a Lambda layer's call (tf.compat.v1.nn.conv1d_32), but\n",
            "are not present in its tracked objects:\n",
            "  <tf.Variable 'conv1d_32/kernel:0' shape=(3, 64, 64) dtype=float32>\n",
            "It is possible that this is intended behavior, but it is more likely\n",
            "an omission. This is a strong indication that this layer should be\n",
            "formulated as a subclassed Layer rather than a Lambda layer.\n",
            "WARNING:tensorflow:\n",
            "The following Variables were used a Lambda layer's call (tf.nn.bias_add_32), but\n",
            "are not present in its tracked objects:\n",
            "  <tf.Variable 'conv1d_32/bias:0' shape=(64,) dtype=float32>\n",
            "It is possible that this is intended behavior, but it is more likely\n",
            "an omission. This is a strong indication that this layer should be\n",
            "formulated as a subclassed Layer rather than a Lambda layer.\n",
            "WARNING:tensorflow:\n",
            "The following Variables were used a Lambda layer's call (tf.compat.v1.nn.conv1d_33), but\n",
            "are not present in its tracked objects:\n",
            "  <tf.Variable 'conv1d_33/kernel:0' shape=(3, 64, 128) dtype=float32>\n",
            "It is possible that this is intended behavior, but it is more likely\n",
            "an omission. This is a strong indication that this layer should be\n",
            "formulated as a subclassed Layer rather than a Lambda layer.\n",
            "WARNING:tensorflow:\n",
            "The following Variables were used a Lambda layer's call (tf.nn.bias_add_33), but\n",
            "are not present in its tracked objects:\n",
            "  <tf.Variable 'conv1d_33/bias:0' shape=(128,) dtype=float32>\n",
            "It is possible that this is intended behavior, but it is more likely\n",
            "an omission. This is a strong indication that this layer should be\n",
            "formulated as a subclassed Layer rather than a Lambda layer.\n",
            "WARNING:tensorflow:\n",
            "The following Variables were used a Lambda layer's call (tf.compat.v1.nn.conv1d_34), but\n",
            "are not present in its tracked objects:\n",
            "  <tf.Variable 'conv1d_34/kernel:0' shape=(3, 128, 128) dtype=float32>\n",
            "It is possible that this is intended behavior, but it is more likely\n",
            "an omission. This is a strong indication that this layer should be\n",
            "formulated as a subclassed Layer rather than a Lambda layer.\n",
            "WARNING:tensorflow:\n",
            "The following Variables were used a Lambda layer's call (tf.nn.bias_add_34), but\n",
            "are not present in its tracked objects:\n",
            "  <tf.Variable 'conv1d_34/bias:0' shape=(128,) dtype=float32>\n",
            "It is possible that this is intended behavior, but it is more likely\n",
            "an omission. This is a strong indication that this layer should be\n",
            "formulated as a subclassed Layer rather than a Lambda layer.\n",
            "WARNING:tensorflow:\n",
            "The following Variables were used a Lambda layer's call (tf.compat.v1.nn.conv1d_35), but\n",
            "are not present in its tracked objects:\n",
            "  <tf.Variable 'conv1d_35/kernel:0' shape=(3, 128, 256) dtype=float32>\n",
            "It is possible that this is intended behavior, but it is more likely\n",
            "an omission. This is a strong indication that this layer should be\n",
            "formulated as a subclassed Layer rather than a Lambda layer.\n",
            "WARNING:tensorflow:\n",
            "The following Variables were used a Lambda layer's call (tf.nn.bias_add_35), but\n",
            "are not present in its tracked objects:\n",
            "  <tf.Variable 'conv1d_35/bias:0' shape=(256,) dtype=float32>\n",
            "It is possible that this is intended behavior, but it is more likely\n",
            "an omission. This is a strong indication that this layer should be\n",
            "formulated as a subclassed Layer rather than a Lambda layer.\n",
            "WARNING:tensorflow:\n",
            "The following Variables were used a Lambda layer's call (tf.compat.v1.nn.conv1d_36), but\n",
            "are not present in its tracked objects:\n",
            "  <tf.Variable 'conv1d_36/kernel:0' shape=(3, 256, 256) dtype=float32>\n",
            "It is possible that this is intended behavior, but it is more likely\n",
            "an omission. This is a strong indication that this layer should be\n",
            "formulated as a subclassed Layer rather than a Lambda layer.\n",
            "WARNING:tensorflow:\n",
            "The following Variables were used a Lambda layer's call (tf.nn.bias_add_36), but\n",
            "are not present in its tracked objects:\n",
            "  <tf.Variable 'conv1d_36/bias:0' shape=(256,) dtype=float32>\n",
            "It is possible that this is intended behavior, but it is more likely\n",
            "an omission. This is a strong indication that this layer should be\n",
            "formulated as a subclassed Layer rather than a Lambda layer.\n",
            "WARNING:tensorflow:\n",
            "The following Variables were used a Lambda layer's call (tf.compat.v1.nn.conv1d_37), but\n",
            "are not present in its tracked objects:\n",
            "  <tf.Variable 'conv1d_37/kernel:0' shape=(3, 256, 512) dtype=float32>\n",
            "It is possible that this is intended behavior, but it is more likely\n",
            "an omission. This is a strong indication that this layer should be\n",
            "formulated as a subclassed Layer rather than a Lambda layer.\n",
            "WARNING:tensorflow:\n",
            "The following Variables were used a Lambda layer's call (tf.nn.bias_add_37), but\n",
            "are not present in its tracked objects:\n",
            "  <tf.Variable 'conv1d_37/bias:0' shape=(512,) dtype=float32>\n",
            "It is possible that this is intended behavior, but it is more likely\n",
            "an omission. This is a strong indication that this layer should be\n",
            "formulated as a subclassed Layer rather than a Lambda layer.\n",
            "WARNING:tensorflow:\n",
            "The following Variables were used a Lambda layer's call (tf.compat.v1.nn.conv1d_38), but\n",
            "are not present in its tracked objects:\n",
            "  <tf.Variable 'conv1d_38/kernel:0' shape=(3, 512, 512) dtype=float32>\n",
            "It is possible that this is intended behavior, but it is more likely\n",
            "an omission. This is a strong indication that this layer should be\n",
            "formulated as a subclassed Layer rather than a Lambda layer.\n",
            "WARNING:tensorflow:\n",
            "The following Variables were used a Lambda layer's call (tf.nn.bias_add_38), but\n",
            "are not present in its tracked objects:\n",
            "  <tf.Variable 'conv1d_38/bias:0' shape=(512,) dtype=float32>\n",
            "It is possible that this is intended behavior, but it is more likely\n",
            "an omission. This is a strong indication that this layer should be\n",
            "formulated as a subclassed Layer rather than a Lambda layer.\n",
            "WARNING:tensorflow:\n",
            "The following Variables were used a Lambda layer's call (tf.compat.v1.nn.conv1d_39), but\n",
            "are not present in its tracked objects:\n",
            "  <tf.Variable 'conv1d_39/kernel:0' shape=(3, 512, 1024) dtype=float32>\n",
            "It is possible that this is intended behavior, but it is more likely\n",
            "an omission. This is a strong indication that this layer should be\n",
            "formulated as a subclassed Layer rather than a Lambda layer.\n",
            "WARNING:tensorflow:\n",
            "The following Variables were used a Lambda layer's call (tf.nn.bias_add_39), but\n",
            "are not present in its tracked objects:\n",
            "  <tf.Variable 'conv1d_39/bias:0' shape=(1024,) dtype=float32>\n",
            "It is possible that this is intended behavior, but it is more likely\n",
            "an omission. This is a strong indication that this layer should be\n",
            "formulated as a subclassed Layer rather than a Lambda layer.\n"
          ],
          "name": "stdout"
        }
      ]
    },
    {
      "cell_type": "code",
      "metadata": {
        "id": "vYeWja-pvxWZ",
        "colab": {
          "base_uri": "https://localhost:8080/"
        },
        "outputId": "d755a4db-1af1-45b1-ee7d-b1f07de127cf"
      },
      "source": [
        "#feed the network\n",
        "# lists where we will be storing values during training, for visualization purposes\n",
        "traLosses = [] # list for training loss\n",
        "traAccs = [] # list for training accuracy\n",
        "valLosses = [] # list for validation loss\n",
        "valAccs = [] # list for validation accuracy\n",
        "batchSize = 32\n",
        "nEpochs = 32\n",
        "\n",
        "# Train your network\n",
        "results = networkG.fit(XtrG, ytrOneHotG, \n",
        "                      batch_size=batchSize, \n",
        "                      validation_split=0.2, \n",
        "                      epochs = nEpochs, verbose = 1,\n",
        "                      # callbacks=[early_stopping],\n",
        "                      # The class weights go here\n",
        "                      class_weight=class_weight)\n",
        "\n",
        "# Get training loss and accuracy\n",
        "traLosses = results.history['loss']\n",
        "traAccs = results.history['accuracy']\n",
        "valLosses = results.history['val_loss']\n",
        "valAccs = results.history['val_accuracy']\n",
        "\n",
        "# Visualization of the learning curves\n",
        "fig = plt.figure(figsize=(10, 5))\n",
        "plt.plot(range(len(traLosses)), traLosses, 'b')\n",
        "plt.xlabel('epoch')\n",
        "plt.ylabel('loss')\n",
        "\n",
        "plt.show()\n",
        "plt.plot(range(len(valLosses)), valLosses, 'r')\n",
        "plt.xlabel('epoch')\n",
        "plt.ylabel('loss')\n",
        "# plt.legend({\"train_loss\", \"val_loss\"}, \n",
        "#           loc='center left', bbox_to_anchor=(1, 0.5))\n",
        "plt.show()\n",
        "\n",
        "fig = plt.figure(figsize=(10, 5))\n",
        "plt.plot(range(len(traAccs)), traAccs, 'b')\n",
        "plt.xlabel('epoch')\n",
        "plt.ylabel('acc')\n",
        "\n",
        "plt.show()\n",
        "plt.plot(range(len(valAccs)), valAccs, 'r')\n",
        "plt.xlabel('epoch')\n",
        "plt.ylabel('acc')\n",
        "# plt.legend({\"train_acc\", \"val_acc\"}, \n",
        "          # loc='center left', bbox_to_anchor=(1, 0.5))\n",
        "# display.display(plt.gcf())"
      ],
      "execution_count": null,
      "outputs": [
        {
          "output_type": "stream",
          "text": [
            "Epoch 1/32\n",
            "6506/6506 [==============================] - 154s 23ms/step - loss: 2.0045 - tp: 20193.2820 - fp: 975.0824 - tn: 65461347.4886 - fn: 13072213.5462 - accuracy: 0.8343 - precision: 0.7752 - recall: 0.0015 - auc: 0.6844 - prc: 0.2725 - val_loss: 5.3048e-05 - val_tp: 116491.5078 - val_fp: 1526.0000 - val_tn: 66371856.0000 - val_fn: 13158235.0000 - val_accuracy: 0.8355 - val_precision: 0.9869 - val_recall: 0.0088 - val_auc: 0.6885 - val_prc: 0.2864\n",
            "Epoch 2/32\n",
            "6506/6506 [==============================] - 153s 24ms/step - loss: 1.8184 - tp: 165982.7390 - fp: 1526.0000 - tn: 66762255.4504 - fn: 13186659.7616 - accuracy: 0.8361 - precision: 0.9908 - recall: 0.0124 - auc: 0.6908 - prc: 0.2928 - val_loss: 1.2994e-05 - val_tp: 262399.3438 - val_fp: 1526.0000 - val_tn: 67673000.0000 - val_fn: 13272436.0000 - val_accuracy: 0.8373 - val_precision: 0.9942 - val_recall: 0.0194 - val_auc: 0.6953 - val_prc: 0.3046\n",
            "Epoch 3/32\n",
            "6506/6506 [==============================] - 153s 24ms/step - loss: 1.8121 - tp: 311911.5203 - fp: 1526.0000 - tn: 68063376.5828 - fn: 13300956.0378 - accuracy: 0.8378 - precision: 0.9951 - recall: 0.0229 - auc: 0.6976 - prc: 0.3104 - val_loss: 3.5763e-06 - val_tp: 408297.6250 - val_fp: 1526.0000 - val_tn: 68974144.0000 - val_fn: 13386534.0000 - val_accuracy: 0.8390 - val_precision: 0.9963 - val_recall: 0.0296 - val_auc: 0.7018 - val_prc: 0.3211\n",
            "Epoch 4/32\n",
            "6506/6506 [==============================] - 149s 23ms/step - loss: 1.8174 - tp: 457830.9528 - fp: 1526.0000 - tn: 69364525.7378 - fn: 13415263.4859 - accuracy: 0.8395 - precision: 0.9967 - recall: 0.0330 - auc: 0.7039 - prc: 0.3262 - val_loss: 1.9550e-05 - val_tp: 554214.3125 - val_fp: 1526.0000 - val_tn: 70275304.0000 - val_fn: 13501029.0000 - val_accuracy: 0.8406 - val_precision: 0.9972 - val_recall: 0.0394 - val_auc: 0.7080 - val_prc: 0.3360\n",
            "Epoch 5/32\n",
            "6506/6506 [==============================] - 149s 23ms/step - loss: 1.8115 - tp: 603757.1194 - fp: 1526.0000 - tn: 70665751.0841 - fn: 13529567.0297 - accuracy: 0.8411 - precision: 0.9975 - recall: 0.0427 - auc: 0.7100 - prc: 0.3408 - val_loss: 1.4544e-05 - val_tp: 700116.1250 - val_fp: 1526.0000 - val_tn: 71576496.0000 - val_fn: 13615254.0000 - val_accuracy: 0.8421 - val_precision: 0.9978 - val_recall: 0.0489 - val_auc: 0.7139 - val_prc: 0.3499\n",
            "Epoch 6/32\n",
            "6506/6506 [==============================] - 147s 23ms/step - loss: 1.8204 - tp: 749591.7406 - fp: 1526.0000 - tn: 71966853.6100 - fn: 13643960.4506 - accuracy: 0.8427 - precision: 0.9980 - recall: 0.0521 - auc: 0.7158 - prc: 0.3544 - val_loss: 1.2279e-05 - val_tp: 846026.2500 - val_fp: 1526.0000 - val_tn: 72877648.0000 - val_fn: 13729782.0000 - val_accuracy: 0.8437 - val_precision: 0.9982 - val_recall: 0.0580 - val_auc: 0.7195 - val_prc: 0.3630\n",
            "Epoch 7/32\n",
            "6506/6506 [==============================] - 143s 22ms/step - loss: 1.8148 - tp: 895494.8524 - fp: 1526.0000 - tn: 73268053.5509 - fn: 13758304.4935 - accuracy: 0.8442 - precision: 0.9983 - recall: 0.0611 - auc: 0.7214 - prc: 0.3673 - val_loss: 2.6226e-06 - val_tp: 991923.3750 - val_fp: 1526.0000 - val_tn: 74178808.0000 - val_fn: 13844287.0000 - val_accuracy: 0.8451 - val_precision: 0.9985 - val_recall: 0.0669 - val_auc: 0.7249 - val_prc: 0.3753\n",
            "Epoch 8/32\n",
            "6506/6506 [==============================] - 143s 22ms/step - loss: 1.8103 - tp: 1041421.6917 - fp: 1526.0000 - tn: 74569200.6295 - fn: 13872636.0129 - accuracy: 0.8456 - precision: 0.9985 - recall: 0.0698 - auc: 0.7267 - prc: 0.3793 - val_loss: 1.7285e-05 - val_tp: 1137837.0000 - val_fp: 1526.0000 - val_tn: 75479952.0000 - val_fn: 13958439.0000 - val_accuracy: 0.8465 - val_precision: 0.9987 - val_recall: 0.0754 - val_auc: 0.7301 - val_prc: 0.3869\n",
            "Epoch 9/32\n",
            " 703/6506 [==>...........................] - ETA: 1:53 - loss: 1.8009 - tp: 1166364.5153 - fp: 1526.0000 - tn: 75638204.0171 - fn: 13961465.8108 - accuracy: 0.8468 - precision: 0.9987 - recall: 0.0771 - auc: 0.7311 - prc: 0.3891"
          ],
          "name": "stdout"
        }
      ]
    },
    {
      "cell_type": "code",
      "metadata": {
        "id": "nXd6dzniv5u9"
      },
      "source": [
        "yPredG = networkG.predict(XtstG)\n",
        "yPredG = np.argmax(yPredG, axis=1)\n",
        "print(classification_report(ytstG, yPredG))"
      ],
      "execution_count": null,
      "outputs": []
    },
    {
      "cell_type": "markdown",
      "metadata": {
        "id": "PyUeosM0oWzp"
      },
      "source": [
        "![Criteria.JPG](data:image/jpeg;base64,/9j/4AAQSkZJRgABAQEAYABgAAD/4RD0RXhpZgAATU0AKgAAAAgABAE7AAIAAAAOAAAISodpAAQAAAABAAAIWJydAAEAAAAcAAAQ0OocAAcAAAgMAAAAPgAAAAAc6gAAAAgAAAAAAAAAAAAAAAAAAAAAAAAAAAAAAAAAAAAAAAAAAAAAAAAAAAAAAAAAAAAAAAAAAAAAAAAAAAAAAAAAAAAAAAAAAAAAAAAAAAAAAAAAAAAAAAAAAAAAAAAAAAAAAAAAAAAAAAAAAAAAAAAAAAAAAAAAAAAAAAAAAAAAAAAAAAAAAAAAAAAAAAAAAAAAAAAAAAAAAAAAAAAAAAAAAAAAAAAAAAAAAAAAAAAAAAAAAAAAAAAAAAAAAAAAAAAAAAAAAAAAAAAAAAAAAAAAAAAAAAAAAAAAAAAAAAAAAAAAAAAAAAAAAAAAAAAAAAAAAAAAAAAAAAAAAAAAAAAAAAAAAAAAAAAAAAAAAAAAAAAAAAAAAAAAAAAAAAAAAAAAAAAAAAAAAAAAAAAAAAAAAAAAAAAAAAAAAAAAAAAAAAAAAAAAAAAAAAAAAAAAAAAAAAAAAAAAAAAAAAAAAAAAAAAAAAAAAAAAAAAAAAAAAAAAAAAAAAAAAAAAAAAAAAAAAAAAAAAAAAAAAAAAAAAAAAAAAAAAAAAAAAAAAAAAAAAAAAAAAAAAAAAAAAAAAAAAAAAAAAAAAAAAAAAAAAAAAAAAAAAAAAAAAAAAAAAAAAAAAAAAAAAAAAAAAAAAAAAAAAAAAAAAAAAAAAAAAAAAAAAAAAAAAAAAAAAAAAAAAAAAAAAAAAAAAAAAAAAAAAAAAAAAAAAAAAAAAAAAAAAAAAAAAAAAAAAAAAAAAAAAAAAAAAAAAAAAAAAAAAAAAAAAAAAAAAAAAAAAAAAAAAAAAAAAAAAAAAAAAAAAAAAAAAAAAAAAAAAAAAAAAAAAAAAAAAAAAAAAAAAAAAAAAAAAAAAAAAAAAAAAAAAAAAAAAAAAAAAAAAAAAAAAAAAAAAAAAAAAAAAAAAAAAAAAAAAAAAAAAAAAAAAAAAAAAAAAAAAAAAAAAAAAAAAAAAAAAAAAAAAAAAAAAAAAAAAAAAAAAAAAAAAAAAAAAAAAAAAAAAAAAAAAAAAAAAAAAAAAAAAAAAAAAAAAAAAAAAAAAAAAAAAAAAAAAAAAAAAAAAAAAAAAAAAAAAAAAAAAAAAAAAAAAAAAAAAAAAAAAAAAAAAAAAAAAAAAAAAAAAAAAAAAAAAAAAAAAAAAAAAAAAAAAAAAAAAAAAAAAAAAAAAAAAAAAAAAAAAAAAAAAAAAAAAAAAAAAAAAAAAAAAAAAAAAAAAAAAAAAAAAAAAAAAAAAAAAAAAAAAAAAAAAAAAAAAAAAAAAAAAAAAAAAAAAAAAAAAAAAAAAAAAAAAAAAAAAAAAAAAAAAAAAAAAAAAAAAAAAAAAAAAAAAAAAAAAAAAAAAAAAAAAAAAAAAAAAAAAAAAAAAAAAAAAAAAAAAAAAAAAAAAAAAAAAAAAAAAAAAAAAAAAAAAAAAAAAAAAAAAAAAAAAAAAAAAAAAAAAAAAAAAAAAAAAAAAAAAAAAAAAAAAAAAAAAAAAAAAAAAAAAAAAAAAAAAAAAAAAAAAAAAAAAAAAAAAAAAAAAAAAAAAAAAAAAAAAAAAAAAAAAAAAAAAAAAAAAAAAAAAAAAAAAAAAAAAAAAAAAAAAAAAAAAAAAAAAAAAAAAAAAAAAAAAAAAAAAAAAAAAAAAAAAAAAAAAAAAAAAAAAAAAAAAAAAAAAAAAAAAAAAAAAAAAAAAAAAAAAAAAAAAAAAAAAAAAAAAAAAAAAAAAAAAAAAAAAAAAAAAAAAAAAAAAAAAAAAAAAAAAAAAAAAAAAAAAAAAAAAAAAAAAAAAAAAAAAAAAAAAAAAAAAAAAAAAAAAAAAAAAAAAAAAAAAAAAAAAAAAAAAAAAAAAAAAAAAAAAAAAAAAAAAAAAAAAAAAAAAAAAAAAAAAAAAAAAAAAAAAAAAAAAAAAAAAAAAAAAAAAAAAAAAAAAAAAAAAAAAAAAAAAAAAAAAAAAAAAAAAAAAAAAAAAAAAAAAAAAAAAAAAAAAAAAAAAAAAAAAAAAAAAAAAAAAAAAAAAAAAAAAAAAAAAAAAAAAAAAAAAAAAAAAAAAAAAAAAAAAAAAAAAAAAAAAAAAAAAAAAAAAAAAAAAAAAAAAAAAAAAAAAAAAAAAAAAAAAAAAAAAAAAAAAAAAAAAAAAAAAAAAAAAAAAAAAAAAAAAAAAAAAAAAAAAAAAAAAAAAAAAAAAAAAAAAAAAAAAAAAAAAAAAAAAAAAAAAAAAAAAAAAAAAAAAAAAAAAAAAAAAAAAAAAAAAAAAAAAAAAAAAAAAAAAAAAAAAAAAAAAAAAAAAAAAAAAAAAAAAAAAAAAAAAAAAAAAAAAAAAAAAAAAAAAAAAAAAAAAAAAAAAAAAAAAAAAAAAAAAAAAAAAAAAAAAAAAAAAAAAAAAAAAAAAAAAAAAAAAAAAAAAAAAAAAAAAAAAAAAAAAAAAAAAAAAAAAAAAAAAAAAAAAAAAAAAAAAAAAAAAAAAAAAAAAAAAAAAAAAAAAAAAAAAAAAAAAAAAAAAAAAAAAAAAAAAAAAAAAAAAAAAAAAAAAAAAAAAAAAAAAAAAAAAAAAAAAAAAAAAAAAAAAAAAAAAAAAAAAAAAAAAAAAAAAAAAAAAAAAAAAAAAAAAAAAAAAAAAAAAAAAAAAAAAAAAAAAAAAAAAAAAAAAAAAAAAAAAAAAAAAAAAAAAAAAAAAAAAAAAAAAAAAAAAAAAAAAAAAAAAAAAAAAAAAAAAAAAAAAAAAAAAAAAAAAAAAAAAAAAAAAAAAAAAAAAAAAAAAAAHJlemEgc2hva3J6YWQAAAWQAwACAAAAFAAAEKaQBAACAAAAFAAAELqSkQACAAAAAzI2AACSkgACAAAAAzI2AADqHAAHAAAIDAAACJoAAAAAHOoAAAAIAAAAAAAAAAAAAAAAAAAAAAAAAAAAAAAAAAAAAAAAAAAAAAAAAAAAAAAAAAAAAAAAAAAAAAAAAAAAAAAAAAAAAAAAAAAAAAAAAAAAAAAAAAAAAAAAAAAAAAAAAAAAAAAAAAAAAAAAAAAAAAAAAAAAAAAAAAAAAAAAAAAAAAAAAAAAAAAAAAAAAAAAAAAAAAAAAAAAAAAAAAAAAAAAAAAAAAAAAAAAAAAAAAAAAAAAAAAAAAAAAAAAAAAAAAAAAAAAAAAAAAAAAAAAAAAAAAAAAAAAAAAAAAAAAAAAAAAAAAAAAAAAAAAAAAAAAAAAAAAAAAAAAAAAAAAAAAAAAAAAAAAAAAAAAAAAAAAAAAAAAAAAAAAAAAAAAAAAAAAAAAAAAAAAAAAAAAAAAAAAAAAAAAAAAAAAAAAAAAAAAAAAAAAAAAAAAAAAAAAAAAAAAAAAAAAAAAAAAAAAAAAAAAAAAAAAAAAAAAAAAAAAAAAAAAAAAAAAAAAAAAAAAAAAAAAAAAAAAAAAAAAAAAAAAAAAAAAAAAAAAAAAAAAAAAAAAAAAAAAAAAAAAAAAAAAAAAAAAAAAAAAAAAAAAAAAAAAAAAAAAAAAAAAAAAAAAAAAAAAAAAAAAAAAAAAAAAAAAAAAAAAAAAAAAAAAAAAAAAAAAAAAAAAAAAAAAAAAAAAAAAAAAAAAAAAAAAAAAAAAAAAAAAAAAAAAAAAAAAAAAAAAAAAAAAAAAAAAAAAAAAAAAAAAAAAAAAAAAAAAAAAAAAAAAAAAAAAAAAAAAAAAAAAAAAAAAAAAAAAAAAAAAAAAAAAAAAAAAAAAAAAAAAAAAAAAAAAAAAAAAAAAAAAAAAAAAAAAAAAAAAAAAAAAAAAAAAAAAAAAAAAAAAAAAAAAAAAAAAAAAAAAAAAAAAAAAAAAAAAAAAAAAAAAAAAAAAAAAAAAAAAAAAAAAAAAAAAAAAAAAAAAAAAAAAAAAAAAAAAAAAAAAAAAAAAAAAAAAAAAAAAAAAAAAAAAAAAAAAAAAAAAAAAAAAAAAAAAAAAAAAAAAAAAAAAAAAAAAAAAAAAAAAAAAAAAAAAAAAAAAAAAAAAAAAAAAAAAAAAAAAAAAAAAAAAAAAAAAAAAAAAAAAAAAAAAAAAAAAAAAAAAAAAAAAAAAAAAAAAAAAAAAAAAAAAAAAAAAAAAAAAAAAAAAAAAAAAAAAAAAAAAAAAAAAAAAAAAAAAAAAAAAAAAAAAAAAAAAAAAAAAAAAAAAAAAAAAAAAAAAAAAAAAAAAAAAAAAAAAAAAAAAAAAAAAAAAAAAAAAAAAAAAAAAAAAAAAAAAAAAAAAAAAAAAAAAAAAAAAAAAAAAAAAAAAAAAAAAAAAAAAAAAAAAAAAAAAAAAAAAAAAAAAAAAAAAAAAAAAAAAAAAAAAAAAAAAAAAAAAAAAAAAAAAAAAAAAAAAAAAAAAAAAAAAAAAAAAAAAAAAAAAAAAAAAAAAAAAAAAAAAAAAAAAAAAAAAAAAAAAAAAAAAAAAAAAAAAAAAAAAAAAAAAAAAAAAAAAAAAAAAAAAAAAAAAAAAAAAAAAAAAAAAAAAAAAAAAAAAAAAAAAAAAAAAAAAAAAAAAAAAAAAAAAAAAAAAAAAAAAAAAAAAAAAAAAAAAAAAAAAAAAAAAAAAAAAAAAAAAAAAAAAAAAAAAAAAAAAAAAAAAAAAAAAAAAAAAAAAAAAAAAAAAAAAAAAAAAAAAAAAAAAAAAAAAAAAAAAAAAAAAAAAAAAAAAAAAAAAAAAAAAAAAAAAAAAAAAAAAAAAAAAAAAAAAAAAAAAAAAAAAAAAAAAAAAAAAAAAAAAAAAAAAAAAAAAAAAAAAAAAAAAAAAAAAAAAAAAAAAAAAAAAAAAAAAAAAAAAAAAAAAAAAAAAAAAAAAAAAAAAAAAAAAAAAAAAAAAAAAAAAAAAAAAAAAAAAAAAAAAAAAAAAAAAAAAAAAAAAAAAAAAAAAAAAAAAAAAAAAAAAAAAAAAAAAAAAAAAAAAAAAAAAAAAAAAAAAAAAAAAAAAAAAAAAAAAAAAAAAAAAAAAAAAAAAAAAAAAAAAAAAAAAAAAAAAAAAAAAAAAAAAAAAAAAAAAAAAAAAAAAAAAAAAAAAAAAAAAAAAAAAAAAAAAAAAAAAAAAAAAAAAAAAAAAAAAAAAAAAAAAAAAAAAAAAAAAAAAAAAAAAAAAAAAAAAAAAAAAAAAAAAAAAAAAAAAAAAAAAAAAAAAAAAAAAAAAAAAAAAAAAAAAAAAAAAAAAAAAAAAAAAAAAAAAAAAAAAAAAAAAAAAAAAAAAAAAAAAAAAAAAAAAAAAAAAAAAAAAAAAAAAAAAAAAAAAAAAAAAAAAAAAAAAAAAAAAAAAAAAAAAAAAAAAAAAAAAAAAAAAAAAAAAAAAAAAAAAAAAAAAAAAAAAAAAAAAAAAAAAAAAAAAAAAAAAAAAAAAAAAAAAAAAAAAAAAAAAAAAAAAAAAAAAAAAAAAAAAAAAAAAAAAAAAAAAAAAAAAAAAAAAAAAAAAAAAAAAAAAAAAAAAAAAAAAAAAAAAAAAAAAAAAAAAAAAAAAAAAAAAAAAAAAAAAAAAAAAAAAAAAAAAAAAAAAAAAAAAAAAAAAAAAAAAAAAAAAAAAAAAAAAAAAAAAAAAAAAAAAAAAAAAAAAAAAAAAAAAAAAAAAAAAAAAAAAAAAAAAAAAAAAAAAAAAAAAAAAAAAAAAAAAAAAAAAAAAAAAAAAAAAAAAAAAAAAAAAAAyMDIxOjA0OjE5IDEyOjE1OjUwADIwMjE6MDQ6MTkgMTI6MTU6NTAAAAByAGUAegBhACAAcwBoAG8AawByAHoAYQBkAAAA/+ELIGh0dHA6Ly9ucy5hZG9iZS5jb20veGFwLzEuMC8APD94cGFja2V0IGJlZ2luPSfvu78nIGlkPSdXNU0wTXBDZWhpSHpyZVN6TlRjemtjOWQnPz4NCjx4OnhtcG1ldGEgeG1sbnM6eD0iYWRvYmU6bnM6bWV0YS8iPjxyZGY6UkRGIHhtbG5zOnJkZj0iaHR0cDovL3d3dy53My5vcmcvMTk5OS8wMi8yMi1yZGYtc3ludGF4LW5zIyI+PHJkZjpEZXNjcmlwdGlvbiByZGY6YWJvdXQ9InV1aWQ6ZmFmNWJkZDUtYmEzZC0xMWRhLWFkMzEtZDMzZDc1MTgyZjFiIiB4bWxuczpkYz0iaHR0cDovL3B1cmwub3JnL2RjL2VsZW1lbnRzLzEuMS8iLz48cmRmOkRlc2NyaXB0aW9uIHJkZjphYm91dD0idXVpZDpmYWY1YmRkNS1iYTNkLTExZGEtYWQzMS1kMzNkNzUxODJmMWIiIHhtbG5zOnhtcD0iaHR0cDovL25zLmFkb2JlLmNvbS94YXAvMS4wLyI+PHhtcDpDcmVhdGVEYXRlPjIwMjEtMDQtMTlUMTI6MTU6NTAuMjYwPC94bXA6Q3JlYXRlRGF0ZT48L3JkZjpEZXNjcmlwdGlvbj48cmRmOkRlc2NyaXB0aW9uIHJkZjphYm91dD0idXVpZDpmYWY1YmRkNS1iYTNkLTExZGEtYWQzMS1kMzNkNzUxODJmMWIiIHhtbG5zOmRjPSJodHRwOi8vcHVybC5vcmcvZGMvZWxlbWVudHMvMS4xLyI+PGRjOmNyZWF0b3I+PHJkZjpTZXEgeG1sbnM6cmRmPSJodHRwOi8vd3d3LnczLm9yZy8xOTk5LzAyLzIyLXJkZi1zeW50YXgtbnMjIj48cmRmOmxpPnJlemEgc2hva3J6YWQ8L3JkZjpsaT48L3JkZjpTZXE+DQoJCQk8L2RjOmNyZWF0b3I+PC9yZGY6RGVzY3JpcHRpb24+PC9yZGY6UkRGPjwveDp4bXBtZXRhPg0KICAgICAgICAgICAgICAgICAgICAgICAgICAgICAgICAgICAgICAgICAgICAgICAgICAgICAgICAgICAgICAgICAgICAgICAgICAgICAgICAgICAgICAgICAgICAgICAgICAgIAogICAgICAgICAgICAgICAgICAgICAgICAgICAgICAgICAgICAgICAgICAgICAgICAgICAgICAgICAgICAgICAgICAgICAgICAgICAgICAgICAgICAgICAgICAgICAgICAgICAgCiAgICAgICAgICAgICAgICAgICAgICAgICAgICAgICAgICAgICAgICAgICAgICAgICAgICAgICAgICAgICAgICAgICAgICAgICAgICAgICAgICAgICAgICAgICAgICAgICAgICAKICAgICAgICAgICAgICAgICAgICAgICAgICAgICAgICAgICAgICAgICAgICAgICAgICAgICAgICAgICAgICAgICAgICAgICAgICAgICAgICAgICAgICAgICAgICAgICAgICAgIAogICAgICAgICAgICAgICAgICAgICAgICAgICAgICAgICAgICAgICAgICAgICAgICAgICAgICAgICAgICAgICAgICAgICAgICAgICAgICAgICAgICAgICAgICAgICAgICAgICAgCiAgICAgICAgICAgICAgICAgICAgICAgICAgICAgICAgICAgICAgICAgICAgICAgICAgICAgICAgICAgICAgICAgICAgICAgICAgICAgICAgICAgICAgICAgICAgICAgICAgICAKICAgICAgICAgICAgICAgICAgICAgICAgICAgICAgICAgICAgICAgICAgICAgICAgICAgICAgICAgICAgICAgICAgICAgICAgICAgICAgICAgICAgICAgICAgICAgICAgICAgIAogICAgICAgICAgICAgICAgICAgICAgICAgICAgICAgICAgICAgICAgICAgICAgICAgICAgICAgICAgICAgICAgICAgICAgICAgICAgICAgICAgICAgICAgICAgICAgICAgICAgCiAgICAgICAgICAgICAgICAgICAgICAgICAgICAgICAgICAgICAgICAgICAgICAgICAgICAgICAgICAgICAgICAgICAgICAgICAgICAgICAgICAgICAgICAgICAgICAgICAgICAKICAgICAgICAgICAgICAgICAgICAgICAgICAgICAgICAgICAgICAgICAgICAgICAgICAgICAgICAgICAgICAgICAgICAgICAgICAgICAgICAgICAgICAgICAgICAgICAgICAgIAogICAgICAgICAgICAgICAgICAgICAgICAgICAgICAgICAgICAgICAgICAgICAgICAgICAgICAgICAgICAgICAgICAgICAgICAgICAgICAgICAgICAgICAgICAgICAgICAgICAgCiAgICAgICAgICAgICAgICAgICAgICAgICAgICAgICAgICAgICAgICAgICAgICAgICAgICAgICAgICAgICAgICAgICAgICAgICAgICAgICAgICAgICAgICAgICAgICAgICAgICAKICAgICAgICAgICAgICAgICAgICAgICAgICAgICAgICAgICAgICAgICAgICAgICAgICAgICAgICAgICAgICAgICAgICAgICAgICAgICAgICAgICAgICAgICAgICAgICAgICAgIAogICAgICAgICAgICAgICAgICAgICAgICAgICAgICAgICAgICAgICAgICAgICAgICAgICAgICAgICAgICAgICAgICAgICAgICAgICAgICAgICAgICAgICAgICAgICAgICAgICAgCiAgICAgICAgICAgICAgICAgICAgICAgICAgICAgICAgICAgICAgICAgICAgICAgICAgICAgICAgICAgICAgICAgICAgICAgICAgICAgICAgICAgICAgICAgICAgICAgICAgICAKICAgICAgICAgICAgICAgICAgICAgICAgICAgICAgICAgICAgICAgICAgICAgICAgICAgICAgICAgICAgICAgICAgICAgICAgICAgICAgICAgICAgICAgICAgICAgICAgICAgIAogICAgICAgICAgICAgICAgICAgICAgICAgICAgICAgICAgICAgICAgICAgICAgICAgICAgICAgICAgICAgICAgICAgICAgICAgICAgICAgICAgICAgICAgICAgICAgICAgICAgCiAgICAgICAgICAgICAgICAgICAgICAgICAgICAgICAgICAgICAgICAgICAgICAgICAgICAgICAgICAgICAgICAgICAgICAgICAgICAgICAgICAgICAgICAgICAgICAgICAgICAKICAgICAgICAgICAgICAgICAgICAgICAgICAgICAgICAgICAgICAgICAgICAgICAgICAgICAgICAgICAgICAgICAgICAgICAgICAgICAgICAgICAgICAgICAgICAgICAgICAgIAogICAgICAgICAgICAgICAgICAgICAgICAgICAgICAgICAgICAgICAgICAgICAgICAgICAgICAgICAgICAgICAgICAgICAgICAgICAgICAgICAgICAgICAgICAgICAgICAgICAgCiAgICAgICAgICAgICAgICAgICAgICAgICAgICA8P3hwYWNrZXQgZW5kPSd3Jz8+/9sAQwAHBQUGBQQHBgUGCAcHCAoRCwoJCQoVDxAMERgVGhkYFRgXGx4nIRsdJR0XGCIuIiUoKSssKxogLzMvKjInKisq/9sAQwEHCAgKCQoUCwsUKhwYHCoqKioqKioqKioqKioqKioqKioqKioqKioqKioqKioqKioqKioqKioqKioqKioqKioq/8AAEQgCOQOyAwEiAAIRAQMRAf/EAB8AAAEFAQEBAQEBAAAAAAAAAAABAgMEBQYHCAkKC//EALUQAAIBAwMCBAMFBQQEAAABfQECAwAEEQUSITFBBhNRYQcicRQygZGhCCNCscEVUtHwJDNicoIJChYXGBkaJSYnKCkqNDU2Nzg5OkNERUZHSElKU1RVVldYWVpjZGVmZ2hpanN0dXZ3eHl6g4SFhoeIiYqSk5SVlpeYmZqio6Slpqeoqaqys7S1tre4ubrCw8TFxsfIycrS09TV1tfY2drh4uPk5ebn6Onq8fLz9PX29/j5+v/EAB8BAAMBAQEBAQEBAQEAAAAAAAABAgMEBQYHCAkKC//EALURAAIBAgQEAwQHBQQEAAECdwABAgMRBAUhMQYSQVEHYXETIjKBCBRCkaGxwQkjM1LwFWJy0QoWJDThJfEXGBkaJicoKSo1Njc4OTpDREVGR0hJSlNUVVZXWFlaY2RlZmdoaWpzdHV2d3h5eoKDhIWGh4iJipKTlJWWl5iZmqKjpKWmp6ipqrKztLW2t7i5usLDxMXGx8jJytLT1NXW19jZ2uLj5OXm5+jp6vLz9PX29/j5+v/aAAwDAQACEQMRAD8A9huPGWsN4m1bStG8KTakmlyRRyXC30UQYvEsn3XweA2Pwp//AAkvi3/oQrj/AMGlt/8AFUeF/wDkfvG//X7a/wDpJFXW0Acl/wAJL4t/6EK4/wDBpbf/ABVH/CS+Lf8AoQrj/wAGlt/8VXW0UAcl/wAJL4t/6EK4/wDBpbf/ABVH/CS+Lf8AoQrj/wAGlt/8VXW0UAcl/wAJL4t/6EK4/wDBpbf/ABVH/CS+Lf8AoQrj/wAGlt/8VXW0UAcl/wAJL4t/6EK4/wDBpbf/ABVH/CS+Lf8AoQrj/wAGlt/8VXW0UAcl/wAJL4t/6EK4/wDBpbf/ABVH/CS+Lf8AoQrj/wAGlt/8VXW0UAcl/wAJL4t/6EK4/wDBpbf/ABVH/CS+Lf8AoQrj/wAGlt/8VXW0UAcl/wAJL4t/6EK4/wDBpbf/ABVH/CS+Lf8AoQrj/wAGlt/8VXW0UAcl/wAJL4t/6EK4/wDBpbf/ABVH/CS+Lf8AoQrj/wAGlt/8VXW0UAcl/wAJL4t/6EK4/wDBpbf/ABVH/CS+Lf8AoQrj/wAGlt/8VXW0UAcl/wAJL4t/6EK4/wDBpbf/ABVH/CS+Lf8AoQrj/wAGlt/8VXW0UAcl/wAJL4t/6EK4/wDBpbf/ABVH/CS+Lf8AoQrj/wAGlt/8VXW0UAcl/wAJL4t/6EK4/wDBpbf/ABVH/CS+Lf8AoQrj/wAGlt/8VXW0UAcl/wAJL4t/6EK4/wDBpbf/ABVH/CS+Lf8AoQrj/wAGlt/8VXW0UAcl/wAJL4t/6EK4/wDBpbf/ABVH/CS+Lf8AoQrj/wAGlt/8VXW0UAcl/wAJL4t/6EK4/wDBpbf/ABVH/CS+Lf8AoQrj/wAGlt/8VXW0UAcl/wAJL4t/6EK4/wDBpbf/ABVH/CS+Lf8AoQrj/wAGlt/8VXW0UAcl/wAJL4t/6EK4/wDBpbf/ABVH/CS+Lf8AoQrj/wAGlt/8VXW0UAcl/wAJL4t/6EK4/wDBpbf/ABVH/CS+Lf8AoQrj/wAGlt/8VXW0UAcl/wAJL4t/6EK4/wDBpbf/ABVH/CS+Lf8AoQrj/wAGlt/8VXW0UAcl/wAJL4t/6EK4/wDBpbf/ABVH/CS+Lf8AoQrj/wAGlt/8VXW0UAcl/wAJL4t/6EK4/wDBpbf/ABVH/CS+Lf8AoQrj/wAGlt/8VXW0UAcl/wAJL4t/6EK4/wDBpbf/ABVH/CS+Lf8AoQrj/wAGlt/8VXW0UAcl/wAJL4t/6EK4/wDBpbf/ABVH/CS+Lf8AoQrj/wAGlt/8VXW0UAcl/wAJL4t/6EK4/wDBpbf/ABVH/CS+Lf8AoQrj/wAGlt/8VXW0UAcl/wAJL4t/6EK4/wDBpbf/ABVH/CS+Lf8AoQrj/wAGlt/8VXW0UAcl/wAJL4t/6EK4/wDBpbf/ABVH/CS+Lf8AoQrj/wAGlt/8VXW0UAcl/wAJL4t/6EK4/wDBpbf/ABVH/CS+Lf8AoQrj/wAGlt/8VXW0UAcl/wAJL4t/6EK4/wDBpbf/ABVH/CS+Lf8AoQrj/wAGlt/8VXW0UAcl/wAJL4t/6EK4/wDBpbf/ABVH/CS+Lf8AoQrj/wAGlt/8VXW0UAcl/wAJL4t/6EK4/wDBpbf/ABVH/CS+Lf8AoQrj/wAGlt/8VXW0UAcl/wAJL4t/6EK4/wDBpbf/ABVH/CS+Lf8AoQrj/wAGlt/8VXW0UAcl/wAJL4t/6EK4/wDBpbf/ABVH/CS+Lf8AoQrj/wAGlt/8VXW0UAcHqXjzxJpc1hHdeBbhWv7oWsP/ABM4DlyrNjgnsh64FX/+El8W/wDQhXH/AINLb/4qjx1/yEfB/wD2MEf/AKTz11tAHJf8JL4t/wChCuP/AAaW3/xVH/CS+Lf+hCuP/Bpbf/FV1tFAHJf8JL4t/wChCuP/AAaW3/xVH/CS+Lf+hCuP/Bpbf/FV1tFAHJf8JL4t/wChCuP/AAaW3/xVH/CS+Lf+hCuP/Bpbf/FV1tFAHJf8JL4t/wChCuP/AAaW3/xVH/CS+Lf+hCuP/Bpbf/FV1tFAHJf8JL4t/wChCuP/AAaW3/xVH/CS+Lf+hCuP/Bpbf/FVva5rmm+G9GuNW1u6W0sbdd0srKW2jOOgBJ5PYU7R9XsNf0i21TSLhbmyuk3wyqCAw+hAI/GgDn/+El8W/wDQhXH/AINLb/4qj/hJfFv/AEIVx/4NLb/4qutooA5L/hJfFv8A0IVx/wCDS2/+Ko/4SXxb/wBCFcf+DS2/+KrraKAOS/4SXxb/ANCFcf8Ag0tv/iqP+El8W/8AQhXH/g0tv/iq62igDkv+El8W/wDQhXH/AINLb/4qj/hJfFv/AEIVx/4NLb/4qutooA5L/hJfFv8A0IVx/wCDS2/+Ko/4SXxb/wBCFcf+DS2/+Kro9T1K00fS7nUdSmEFpaxNLNKQSEQDJOBzUGga/pnifRYNW0K5+1WNwCYpdjJuwcHhgCOR3FAGH/wkvi3/AKEK4/8ABpbf/FUf8JL4t/6EK4/8Glt/8VXW0UAcg/ifxYiMzeArjCjJ/wCJpb/41U0fxz4l1zQ7LVbHwJcNbXsCTxN/aluMqwBHUg9D3Fdtc/8AHrL/ALh/lXNfDH/kk/hX/sE23/opaAI/+El8W/8AQhXH/g0tv/iqP+El8W/9CFcf+DS2/wDiq62igDkv+El8W/8AQhXH/g0tv/iqP+El8W/9CFcf+DS2/wDiq0rHxjoOp+Kb7w5Y34l1bT1D3NsInHlg4/iI2nqOhNbdAHJf8JL4t/6EK4/8Glt/8VR/wkvi3/oQrj/waW3/AMVXW0UAcl/wkvi3/oQrj/waW3/xVH/CS+Lf+hCuP/Bpbf8AxVdbRQByX/CS+Lf+hCuP/Bpbf/FUf8JL4t/6EK4/8Glt/wDFV1tFAHJf8JL4t/6EK4/8Glt/8VR/wkvi3/oQrj/waW3/AMVXW1meIfEWleFdFm1bxBeLZ2MJAeVlZsEnAGFBJOfQUAYv/CS+Lf8AoQrj/wAGlt/8VR/wkvi3/oQrj/waW3/xVdHpmpWes6Xbajpk63FpdRiWGVQQHU9DzzVqgDkv+El8W/8AQhXH/g0tv/iqP+El8W/9CFcf+DS2/wDiq62svxH4l0nwlosureIbwWdjEyq8pjZ8EnAGFBJ59qAMb/hJfFv/AEIVx/4NLb/4qj/hJfFv/QhXH/g0tv8A4qumsryDUbCC9s5PNt7iNZYnAI3KRkHB56VPQByX/CS+Lf8AoQrj/wAGlt/8VR/wkvi3/oQrj/waW3/xVdbRQByX/CS+Lf8AoQrj/wAGlt/8VR/wkvi3/oQrj/waW3/xVdbRQByX/CS+Lf8AoQrj/wAGlt/8VR/wkvi3/oQrj/waW3/xVdbRQByX/CS+Lf8AoQrj/wAGlt/8VTLfxlrC+JtJ0rWfCk2mpqkkscdw19FKFKRNJ91MnkLj8a7CuS8Uf8j94I/6/br/ANJJaAOtooooA5Lwv/yP3jf/AK/bX/0kirra5Lwv/wAj943/AOv21/8ASSKutoAKKKKACiiigAooooAKKKKACiiigAooooAKKKKACiiigAooooAKKKKACiiigAooooAKKKKACiiigAooooAKKKKACiiigAooooAKKKKACiiigAooooAKKKKACiiigAooooAKKKKACiiigAooooAKKKKACiiigAooooAKKKKACiiigDkvHX/IR8H/APYwR/8ApPPXW1yXjr/kI+D/APsYI/8A0nnrraAMLxl4w0rwN4an1vXHcW8RCqkYy8rnoqj1Nea6b+0MDqdknifwXq+gaZqEix2upXAYxvnoTlFGP90txzR+03pd9e/DyxvbJZGh06/Wa58tNxRNpG/HcAkdeOa8v1zWdI8XaHb6brXxlvdTieSMrpy+GCrh+gAbcFyM4+9igD3fX/ikvhn4maX4Y1nSPI0/VVH2XV/tOUZzxtKbeOcDO7uDU2hfEseI/G2vaPpOledpuhoRPqn2j5XmH/LNU289Dzu7dK4D43RL4s1Pwx8NtESO41dmWeS7kBzaRhcbjjpkZJ+g9RS/AXU4tI0XxJ4E1K2S11vS5ZpZT3uVIxu98cfgRQBYsv2kV1bQftOheCdW1TUI2Y3FpaFpEt4weGeURnGRzjbj3rt/B/xY0DxZ4FvPE2X0+DTw326KcgtAQM9R1BHT19K8W+A/xV8L+BfBN/YeJpZ7SWS5aeFxbO63HygbQVB+YY74HPWoPBnh/Vte+CXxD1HTbOWOLVbkTWkAXmRUYuwUd+Dj8KAO6/4aQ/5iI8Ca2fDe/b/bGDt64zjZt/DfXWeNvjBpXg7SvD2rC3+36ZrcgxcpKV8qPaG37QpLHnpx9a8B0vxHY3nw6h0TVvi9c6bbG18ibRT4baXywP4BIpw31yD9K6T4h6fbWHw6+FVpazy3dr9qQpJcQ+UzqxU8pk7evTJoA7vVviRb+Kfhd4n1HxJ4Ev00e0WMw299I8H9oRswwwYKNuDg5Ut9asXXxP0nwB8IfCes2Hh/ydN1ExQx2aXR/wBERlLE7ipL4APbJrY+OgA+CuvgDAEKYH/bRa8g+IwDfs2/DgMMg3EAIPf909AHbz/tIWVlq1s2peEdYsdAu2xb6vcIVEo/vKm3DDvwxOO1P/4aKtYteso77wjq9lod/KI7bV7lSglycbghXBXvwxOO1UP2lkQfD/wwgVdo1OIBccY8puKP2lFVfAHhcKAAuqRAADoPKagDufiF8V9O8B3Flp8Wn3WtazfjdbafZjLMPUnBxnsACT6VT8B/GGHxb4hk8O61oF/4a1tYvNSzvQf3i98Eqpz3wVHFeXfFpb7w98bNH1+bW5/D1ldackMOrRWP2oQsqkMuzPv2556Vc8CHSfE3xo0XUv8AhZV34r1KzhlKINDa0UIFbIZyw4+bP3Tz6UAdO/7Q8b6nq+k6d4Q1PU9WsLyS3hs7EmUzIhIMrEJ8gyOgDVr+G/jOnizwVreqaT4cvZNZ0cATaKHLSOScAKwUk9D/AA54PFcz8AUX/hYPxFfaN/8AabDdjnHmycU74PDHxw+JSoMDzxwP+uj0AYfwQ+J3i698QXWl6houta3bXuo4kv5riWRNLBB+Q5QgAehZfpXdeJ/jRqWk6/e6b4e+H2ua+thKYri6hR1jDDrgqj5/HFcV8BPF+jeHfEXiLw3rNy9rq2oawRbW7QOd5G4EZAIX8SKydT+IEmq+N/Elr4/8ea74Si0+5aKx0/SYnQuoJxl0UnJAB+brnrigD0jUPiFp3xG+AfizUtOt5rSSCxuILi2nxuicR5xkdRz14+laPwB/5Iron0l/9GNXkXww/wCSE/FDDSsCspDTffYeUeW9/WvXfgD/AMkV0T6S/wDoxqAPSKKKKAI7n/j1l/3D/Kua+GP/ACSfwr/2Cbb/ANFLXS3P/HrL/uH+Vc18Mf8Akk/hX/sE23/opaANrXdQuNJ8P32oWVhLqVxbQNLHZwk752AyEGAeT06GvnX4U/FXxlN451a1u9A1zW4L/UVWRHuJXXR1LsCpBQhQoOMHZ92vpmvnH4T+LdH8H/FjxrpPiO4eyvNT1cpaRmF28xjK+BlQcfeXrgc0AVYPGcfgv9pLxrcjS77Vru5QQ2tlYxF5JnxGccdBgE5wfpXqfw3+Ltt491K/0m90a60LV7Bd8tnctuO3ODyVUgjjIIHWuQ8BIrftVeOWKgssA2kjkf6uq+lQvL+1p4pggOxptHcAjj5isQBNAGzq/wC0Cq6zeWnhHwdq3iW109yl3e2oYRx46kYRuODydua7HRfil4c1n4dy+Mlne3063VvtCSr+8icdUwOp5GMdcivmvwNrFx4RtNR0PVviRdeCrq3u3EtkdCN2JGwAW3jnt0IHbHWukXwnDdfs3+Jm8I6tda/HLqq3csr2JtvMCbd+1NzEjv26dOKAOxb9o+dYxqbfD3XB4dJ41U52kZxnGzZ/4/XWeMPjHpXhnwXoniiytTqWn6vcJErCXyzEpBJYjaxJG0/LjrXn978bfBFz8DW0OGWRtVk0sWQ00Wr8SbNv3tuzGeev4Vy3jXQr3Qf2b/A9hq8bJO2rea0UgwUVxIwUg+xHFAHtfhf4tQ+ILfWdTv8AQNQ0XQdOgFxBql6jKt3Hk/Mo2gdugJ6iuT/4aQ/5iI8Ca2fDe/b/AGxg7euM42bfw312PxY0i81f4KatY6TEzz/ZEZYo15ZVKsVAHsDxXz5pfiOxvPh1DomrfF65022Nr5E2inw20vlgfwCRThvrkH6UAd/8ffiVrEHh/SP+ERXUbXTr1Y7yPXbOd40fIbEJKjGcYOC34VT8V/GLUtS8HPa+N/g7qr6Owj86a7upoIycja2/yBgk4xg96i+Kulx2P7L/AIXi0+ae8tIZIXE80PlMVZWILJk7fvAYya3Pil400Lxp+znqlz4bvTdxWstpBMTC8ex96Hb8wGevUcUAdff/ABI8O+APhboOpf2dJDFeW0a6fpVs29+VBCBj2GeWP5ZNHgX4rX/ivXzpOt+CtW8OTPA9xBJdqxSVVIzyyLz8w6A/WvLviAJdI0P4T+Krq2e40jTYYRdBVyEP7tgT9Qpx7ivW9G+MfhTxXfyab4Ru5tT1AWctysYtpI1GwD5SXA5JIHGaAOV1L4/6jbyTXOm/DfXrzR4GbzNRdWjQKpwW4jZcfVhVf4xeKrDxp+za+vaTvFtdTwEJIAGRhLgqccZBBrzI+O18UeGdVufGfxD8RWeuuZY4dB06J4oW4wEbau0gnggkH61o/wDNln/cS/8Aa9AH0f4H/wCRA0H/ALB0H/osVu1heB/+RA0H/sHQf+ixW7QAUUUUAFFFFABRRRQAVyXij/kfvBH/AF+3X/pJLXW1yXij/kfvBH/X7df+kktAHW0UUUAcPoOq6fYfEHxsl9f2ts7XlqQs0yoSPskXqa6b/hJND/6DOn/+BSf41yej6Bo+rfEPxrLquk2N9Il5aqr3NskhUfZIuAWBro/+EK8Lf9C1o/8A4ARf/E0AWf8AhJND/wCgzp//AIFJ/jR/wkmh/wDQZ0//AMCk/wAarf8ACFeFv+ha0f8A8AIv/iaP+EK8Lf8AQtaP/wCAEX/xNAFn/hJND/6DOn/+BSf40f8ACSaH/wBBnT//AAKT/Gq3/CFeFv8AoWtH/wDACL/4mj/hCvC3/QtaP/4ARf8AxNAFn/hJND/6DOn/APgUn+NH/CSaH/0GdP8A/ApP8arf8IV4W/6FrR//AAAi/wDiaP8AhCvC3/QtaP8A+AEX/wATQBZ/4STQ/wDoM6f/AOBSf40f8JJof/QZ0/8A8Ck/xqt/whXhb/oWtH/8AIv/AImj/hCvC3/QtaP/AOAEX/xNAFn/AISTQ/8AoM6f/wCBSf40f8JJof8A0GdP/wDApP8AGq3/AAhXhb/oWtH/APACL/4mj/hCvC3/AELWj/8AgBF/8TQBZ/4STQ/+gzp//gUn+NH/AAkmh/8AQZ0//wACk/xqt/whXhb/AKFrR/8AwAi/+Jo/4Qrwt/0LWj/+AEX/AMTQBZ/4STQ/+gzp/wD4FJ/jR/wkmh/9BnT/APwKT/Gq3/CFeFv+ha0f/wAAIv8A4mj/AIQrwt/0LWj/APgBF/8AE0AWf+Ek0P8A6DOn/wDgUn+NH/CSaH/0GdP/APApP8arf8IV4W/6FrR//ACL/wCJo/4Qrwt/0LWj/wDgBF/8TQBZ/wCEk0P/AKDOn/8AgUn+NH/CSaH/ANBnT/8AwKT/ABqt/wAIV4W/6FrR/wDwAi/+Jo/4Qrwt/wBC1o//AIARf/E0AWf+Ek0P/oM6f/4FJ/jR/wAJJof/AEGdP/8AApP8arf8IV4W/wCha0f/AMAIv/iaP+EK8Lf9C1o//gBF/wDE0AWf+Ek0P/oM6f8A+BSf40f8JJof/QZ0/wD8Ck/xqt/whXhb/oWtH/8AACL/AOJo/wCEK8Lf9C1o/wD4ARf/ABNAFn/hJND/AOgzp/8A4FJ/jR/wkmh/9BnT/wDwKT/Gq3/CFeFv+ha0f/wAi/8AiaP+EK8Lf9C1o/8A4ARf/E0AWf8AhJND/wCgzp//AIFJ/jR/wkmh/wDQZ0//AMCk/wAarf8ACFeFv+ha0f8A8AIv/iaP+EK8Lf8AQtaP/wCAEX/xNAFn/hJND/6DOn/+BSf40f8ACSaH/wBBnT//AAKT/Gq3/CFeFv8AoWtH/wDACL/4mj/hCvC3/QtaP/4ARf8AxNAFn/hJND/6DOn/APgUn+NH/CSaH/0GdP8A/ApP8arf8IV4W/6FrR//AAAi/wDiaP8AhCvC3/QtaP8A+AEX/wATQBZ/4STQ/wDoM6f/AOBSf40f8JJof/QZ0/8A8Ck/xqt/whXhb/oWtH/8AIv/AImj/hCvC3/QtaP/AOAEX/xNAFn/AISTQ/8AoM6f/wCBSf40f8JJof8A0GdP/wDApP8AGq3/AAhXhb/oWtH/APACL/4mj/hCvC3/AELWj/8AgBF/8TQBZ/4STQ/+gzp//gUn+NH/AAkmh/8AQZ0//wACk/xqt/whXhb/AKFrR/8AwAi/+Jo/4Qrwt/0LWj/+AEX/AMTQBZ/4STQ/+gzp/wD4FJ/jR/wkmh/9BnT/APwKT/Gq3/CFeFv+ha0f/wAAIv8A4mj/AIQrwt/0LWj/APgBF/8AE0AWf+Ek0P8A6DOn/wDgUn+NH/CSaH/0GdP/APApP8arf8IV4W/6FrR//ACL/wCJo/4Qrwt/0LWj/wDgBF/8TQBZ/wCEk0P/AKDOn/8AgUn+NH/CSaH/ANBnT/8AwKT/ABqt/wAIV4W/6FrR/wDwAi/+Jo/4Qrwt/wBC1o//AIARf/E0AWf+Ek0P/oM6f/4FJ/jR/wAJJof/AEGdP/8AApP8arf8IV4W/wCha0f/AMAIv/iaP+EK8Lf9C1o//gBF/wDE0AWf+Ek0P/oM6f8A+BSf40f8JJof/QZ0/wD8Ck/xqt/whXhb/oWtH/8AACL/AOJo/wCEK8Lf9C1o/wD4ARf/ABNAFn/hJND/AOgzp/8A4FJ/jR/wkmh/9BnT/wDwKT/Gq3/CFeFv+ha0f/wAi/8AiaP+EK8Lf9C1o/8A4ARf/E0AWf8AhJND/wCgzp//AIFJ/jR/wkmh/wDQZ0//AMCk/wAarf8ACFeFv+ha0f8A8AIv/iaP+EK8Lf8AQtaP/wCAEX/xNAFn/hJND/6DOn/+BSf40f8ACSaH/wBBnT//AAKT/Gq3/CFeFv8AoWtH/wDACL/4mj/hCvC3/QtaP/4ARf8AxNAFn/hJND/6DOn/APgUn+NH/CSaH/0GdP8A/ApP8arf8IV4W/6FrR//AAAi/wDiaP8AhCvC3/QtaP8A+AEX/wATQBZ/4STQ/wDoM6f/AOBSf40f8JJof/QZ0/8A8Ck/xqt/whXhb/oWtH/8AIv/AImj/hCvC3/QtaP/AOAEX/xNAFn/AISTQ/8AoM6f/wCBSf40f8JJof8A0GdP/wDApP8AGq3/AAhXhb/oWtH/APACL/4mj/hCvC3/AELWj/8AgBF/8TQBZ/4STQ/+gzp//gUn+NH/AAkmh/8AQZ0//wACk/xqt/whXhb/AKFrR/8AwAi/+Jo/4Qrwt/0LWj/+AEX/AMTQBZ/4STQ/+gzp/wD4FJ/jR/wkmh/9BnT/APwKT/Gq3/CFeFv+ha0f/wAAIv8A4mj/AIQrwt/0LWj/APgBF/8AE0AWf+Ek0P8A6DOn/wDgUn+NH/CSaH/0GdP/APApP8arf8IV4W/6FrR//ACL/wCJo/4Qrwt/0LWj/wDgBF/8TQBzvjbXtIl1DwkYtVsXEevRu5W5Q7V8icZPPA5H511f/CSaH/0GdP8A/ApP8a43xp4S8OQah4UEHh/S4hNrsccgSyjG9fImO04HIyAcewrqf+EK8Lf9C1o//gBF/wDE0AWG8Q6E6lX1jTmVhgg3SEEfnWTaWvgCwvzfWMHhu2uycm4hS3SQn13Dmr3/AAhXhb/oWtH/APACL/4mj/hCvC3/AELWj/8AgBF/8TQBFHc+DodXk1WKbQ01GVdkl4rwiZ19C/3iOBxmq90fBr3lzqcL6CNWlhaP7aGhEzArjBk+9jt1q7/whXhb/oWtH/8AACL/AOJo/wCEK8Lf9C1o/wD4ARf/ABNAHlfwZ8L6Xofw/uNH8fRaFLIb9p44Lq4t7lcbVAYfMwHT616zBrvh62gSG21TTIooxtSOO4jVVHoADxUX/CFeFv8AoWtH/wDACL/4mj/hCvC3/QtaP/4ARf8AxNAFCW0+H8+o/wBoT2/hqS9zn7S6W5kz67jzVrULnwdq3kf2rNod99mfzIPtLwyeU395d2cH3FS/8IV4W/6FrR//AAAi/wDiaP8AhCvC3/QtaP8A+AEX/wATQAt9qvhjU7KSz1K/0m7tZRiSC4mikRx6FScGqtx/whF3ptvp11/wj89lbEGC2k8ho4iOm1TwuParP/CFeFv+ha0f/wAAIv8A4mj/AIQrwt/0LWj/APgBF/8AE0AR6jdeD9Yt47fV59Dv4Y2DpHdPDKqMOhAbIB96NRuvB+sW8dvq8+h38MbB0junhlVGHQgNkA+9Sf8ACFeFv+ha0f8A8AIv/iaP+EK8Lf8AQtaP/wCAEX/xNABean4W1GzNrqF7o91bN1hnlidD/wABJxVfSpPBWhIyaI+g6crfeWzMMQP124qx/wAIV4W/6FrR/wDwAi/+Jo/4Qrwt/wBC1o//AIARf/E0AR2N14P0y4ubjTZ9DtJrtt9xJbvDG0zerkcseeppLO58H6ffXN5YT6Ha3V2d1xPA8KPMfV2HLfjUv/CFeFv+ha0f/wAAIv8A4mj/AIQrwt/0LWj/APgBF/8AE0AVy3gk6wNWLaAdSHAvcw+cP+B/e/WkvP8AhB9Q1CO/v/8AhH7q8i/1dxN5DyJ9GPIqz/whXhb/AKFrR/8AwAi/+Jo/4Qrwt/0LWj/+AEX/AMTQBDFN4MghvIoZNCjjv2LXaI0IFwSMEyD+IkeuamsNT8LaVZR2el3uj2VrH9yC3lijRfoqkAUf8IV4W/6FrR//AAAi/wDiaP8AhCvC3/QtaP8A+AEX/wATQBZ/4STQ/wDoM6f/AOBSf40f8JJof/QZ0/8A8Ck/xqt/whXhb/oWtH/8AIv/AImj/hCvC3/QtaP/AOAEX/xNAEtx4j0Q2soGs6f9w/8AL0np9a5z4ba/o8Hwt8MRTarYxyJpVsrI9ygKkRrkEZ4rauPBfhYWspHhrRwQhwfsEXp/u1z3w48JeG7r4X+Gbi68P6XNNLpdu8kkllGzOxjXJJIyTQB13/CSaH/0GdP/APApP8azpn8FXOrR6pcNoEuoRf6u7kMLSp9HPI/OrH/CFeFv+ha0f/wAi/8AiaP+EK8Lf9C1o/8A4ARf/E0ARwXXg+21SfU7afQ4b+4AWa7jeFZZR6M45PQdTRHdeD4dXk1WKfQ01GVdkl4rwiZ19C/UjgcZqT/hCvC3/QtaP/4ARf8AxNH/AAhXhb/oWtH/APACL/4mgCpqcfgXWp0m1lfDuoSp9yS6EErL9C2cVft9b8O2tukFrqelwwoMLHHcRqqj0ABwKj/4Qrwt/wBC1o//AIARf/E0f8IV4W/6FrR//ACL/wCJoAox2/gGHU/7Sih8NpfZz9qVYBLn139f1q1qd34Q1qBIdYuNE1CKNxIkd08Mqqw6MA2cH3qT/hCvC3/QtaP/AOAEX/xNH/CFeFv+ha0f/wAAIv8A4mgCwPEWhKoC6xp4A4AF0nH61kS2nw/n1H+0J7fw1Je5z9pdLcyZ9dx5q/8A8IV4W/6FrR//AAAi/wDiaP8AhCvC3/QtaP8A+AEX/wATQA+51nw3eWr213qOlT28i7XilnjZWHoQTgiqCReA49HfSY08Oppsh3PZKIBCx9Sn3T09Kuf8IV4W/wCha0f/AMAIv/iaP+EK8Lf9C1o//gBF/wDE0AH9p+Fjp4sDe6P9jCCMW3mxeWF/u7c4x7VX0t/BWhhxojaBpwf7/wBkMMW767cZqx/whXhb/oWtH/8AACL/AOJo/wCEK8Lf9C1o/wD4ARf/ABNAFTb4F/tRtT2+Hvt7feu8Qeafq/X9aNngX+xTo+3w9/ZhbcbHEHk5znPl/dznnp1q3/whXhb/AKFrR/8AwAi/+Jo/4Qrwt/0LWj/+AEX/AMTQBNDrvh62gSC31TTIoo1CpHHcRqqgdAADwKf/AMJJof8A0GdP/wDApP8AGq3/AAhXhb/oWtH/APACL/4mj/hCvC3/AELWj/8AgBF/8TQBZ/4STQ/+gzp//gUn+NH/AAkmh/8AQZ0//wACk/xqt/whXhb/AKFrR/8AwAi/+Jo/4Qrwt/0LWj/+AEX/AMTQBZ/4STQ/+gzp/wD4FJ/jR/wkmh/9BnT/APwKT/Gq3/CFeFv+ha0f/wAAIv8A4mj/AIQrwt/0LWj/APgBF/8AE0AWf+Ek0P8A6DOn/wDgUn+NH/CSaH/0GdP/APApP8arf8IV4W/6FrR//ACL/wCJo/4Qrwt/0LWj/wDgBF/8TQBZ/wCEk0P/AKDOn/8AgUn+Nczr2q6ff/EHwSljf2ty63l0SsMyuQPskvoa3f8AhCvC3/QtaP8A+AEX/wATXOaxoGj6T8Q/BUulaTY2Mj3l0rPbWyRlh9kl4JUCgDvqKKKAOS8L/wDI/eN/+v21/wDSSKutrkvC/wDyP3jf/r9tf/SSKutoA4j4ueMbnwT8PLvUNMcLqczpbWXyhj5rnAO08HAyce1cz8GPHHibVtc1/wAL+PrpbjWtMZJFYRJHlCORhFUHGQc471yPx48caXa/FbwxpmsLPPpejSLf3sNuoZ2c8oAGIB4A6no1c4vxY0G//aK0jxXoEN9aWt4iWV+t5GiE7vl3DazcfcPP92gD6h1TWtL0S3FxrWpWenwk4El3OsSk+mWIFI2t6UmkHVX1OzXTlXcbw3CCED13524/GvE/jP4G1e/8f2fiibw5J4v0CG08mXTIbp4pISCSWXYdxzkHgHpz2qjcX3hO7/Zj8UL4It7uxtkmBnsbxyz20hdMrkkkrxkZJ7/SgD3S58TaDZSWyXmt6dbvdgNbrLdxqZgehTJ+bPtWk8iRxtJI6oijLMxwAPXNfNa/Cfwtefs7t4svzcz642l/axfz3cjbGUfLGFzt2jAXGCawfEninWL79n3wNp1zJeNDf3clvciDJluIon2og9SQeB3IFAH1FpviTQ9Znkg0fWdPv5Yv9ZHa3SSsn1Ck4qxqOqafpFobrVr62sbdes1zMsaD/gTECvlbUNDWy1nQb/4a/DbxnoOpWd4hnnu7Wdklj6HOS2D69Bgmuv8AEOlW3xH/AGnX8OeKzLJpOm6f5kNmJWjV22qTyCDzuJJHOFoA9c8SfEDQtB8F3fiKHUtPvoIY2aBY71AtzIFJEaNyCxx0GT7VW+HnxI0n4gaDbXdvNaW2oyIzy6Yt4ks0IDYyQMHHTkqOtcZ45+EHgzw98J/E503TZFjjge/gie5kZYJ0jYKy5bJ4J4YkUfs7+DNAs/AmneKLbTwms3cUkU115rksvmHjaW2j7o6AdKAPZKKKKACiiigAooooAKKKKACiiigAooooAKKKKACiiigAooooAKKKKACiiigAooooAKKKKACiiigAooooAKKKKACiiigAooooAKKKKACiiigAooooAKKKKACiiigAooooAKKKKACiiigAooooA5Lx1/yEfB//AGMEf/pPPXW1yXjr/kI+D/8AsYI//SeeutoA5T4m+Jz4P+HGsaxE4S4igKW5J/5aN8q/qc/hWZ8MriXQvhFpepeMtckaWeL7VcXmq3ednmHKqXc8AAgAZrm/2nZJE+EYVPuvfxB/p8x/mBS/G1Ej/ZtdIvuLFZBcem9KAPT5vEmh297BZ3Gs6fFc3KhoIHukV5QehVScsD7U668QaNY6lFp97q9jb3s3+qtprlEkk+ik5P4V80+M/hf4e0n9nq28WotzPr8kdtNJfTXLszeYygrtztwAeOM8DmneNvhloGm/s+2/jA/arnxFMltcS6hPcuzOZGUEEE4wAeOM8daAPp28vrTTrZrjULqG1gX70s8gRR+J4qrpXiHRtdV20PV7DUlT7xs7lJgv12k4rxbxxqPhnU/BfgO28W6XqfiPV7u0R7PTLKYx+exRQWdhz+XPWuO8MWM3hn9ojwxDaeEZ/BqXaMj2T6ibvzkKvltx5HQceooA+nNP17SNWuLiDStVsr2a1bbPHbXCSNCc4wwUkqeD1p1hrOl6pNcQ6ZqVpeS2r7LhLedZGhb+6wBO08dDXzd8YNRuPhj8XptZ8E3CC81fTnbULQKWEWePNIHTONw91PrXrnwQ0PTdH+FunT6bcLdy6kv2u6uh1llbqDnn5fu8+lAHoVVbvVdP0+4toL++traa7fy7eOaZUaZv7qAnLH2FWq8G/aSiafVvBEC3MtqZtQaPz4X2vGGKAsD2IBoA9oh8Q6Nc6q+l2+r2EuoR/ftI7lGlX6oDkflVm+1Cz0y1a61K7gs7dfvS3EojQfUk4r5r+NPw78PfDHTPD+veDI5rLU479ULG5kkechS27knByOcYHNa/iWxi+JP7R1l4Z8VSTHR7LTRcJZrIY1lcoGPIwec9RzhaAPd9L1zSdchabRdUstRiU4Z7S4SVR+Kk1w3h2w1uP41a/dXXjS0v9NaH91oUd4Xltc7cFoeiY55HXdXnOt+FtM+Fvx/8Gp4IWayg1YmK6tBM8ild20/eJODnPJ6rWz4D/wCTpfHn/XuP/adAHrx8VeHl0+W+bXtMFnDIYpbg3kflxuOqls4BHoeafd+ItIs9AfWpNTshp6puW6a5QRN6YfOOTxXzp8G/hr4f8e3Hie48VJcXsNnqLxW9qLh444yxJL4Ug7uAPTitH4NaBp+s+F/H3hHWInvdIs9QPlQPKy4KlsEFSCOUU8GgD0v4ZfF/SPiJp5aT7JpOomdo49Oe/SSaRQAd4XCkjr27da66bxNoNvqg0yfW9Oiv2OBaPdxiU/8AACc/pXg/7NfgnQtS8MT+JJrIHW7W7lhtrzzX/dAxgcLnafvHkjNcn/wiWneAbueH4ueDdQulmuy0XiiwvJGAJPBKA7M5yfm59jQB618X9c1bwZ418IeJLTUrtNKkuvsV/ZLM3kyBujFM7c43c47CvXVYMoZTkEZB9a8Z/aRa3ufgtBcW7CWI3cDwyZ6qQcH8Qa9X0B2k8NaY7nczWkRYnudgoA0KKKKAI7n/AI9Zf9w/yrmvhj/ySfwr/wBgm2/9FLXS3P8Ax6y/7h/lXNfDH/kk/hX/ALBNt/6KWgDqa8f+Hmvar40+NXizUzqd3/YekYsbWzWZhAz5wXKZwT8rHOP4hXrlwxW2lZfvBCR9cV4p+zF8/hvxNM/+uk1ht/r9xT/MmgD1o+KNAW0ubptc00W9pIYrmY3ceyFx1V2zhT7HmpX8QaNFpA1WXV7FNOIyLxrlBCf+B52/rXzl8Kfh1oXj3xd4zbxQlxd2tlqcgitFuHjjDu75c7SDuwoFQ/Bz4Y6B4u1nxRYeIvtd5puj3zw2lkbp0jUlmG/5SPmwoH880AfTlnfWmoWaXdhdQ3VtIMpNBIHRh6hhwazo/F3huXUhp0XiHSnvScC2W9jMmfTbuzXgXwouNM0bwP8AEvS9curqLQLG5eI+S/7xUO9DsP8AeOFH1rifGGiaQfh6db8NfDLUNHsCY2g1661ZmZlLAAmEkj5s9R65oA+vLvXdI0/UbfT7/VbK1vbr/UW01wiSTdvlUnLfhTrnWdLstRttPvNStLe9uv8Aj3tpZ1WSb/dUnLfhXiXxU0+11b9n3QPE1/eLbaxptvbT2lyT80jkLlB7nGfqM1V+B19N8QPiLq3ivxbOja3p1tHbW1kUK+ShGGkAPr/Nj6igD6EqO4uYLO2kuLuaOCCJS8ksrBVRR1JJ4AqSuS+Kv/JJPFP/AGC5/wD0A0Aa8/irw9a2ltdXWvaZDb3YzbTSXkapN/uEnDfhWqrq6B0YMrDIYHII9a+bPAfwl8K+J/gc3iDXjc3OpG0mMVzJduFtBHu2qqg7cDGcEHrWDH4v1q0/ZMSKC5mTfqbWHnAncIMbiufTt9OKAPpyHxZ4dudT/s631/S5b4HH2VLyNpc+mwHP6VyHxYsdavX0D+xPGVp4YC3v70XN6bf7UOMIuPvnr8p4Oa898cfBPwVoHwYn1vS4ZotUs7OO4S/F05MzfL1Unbg57AVjeOtUvNZ+G3wov9TkaW6lu08yR+r4KjcfcgUAfSkmradb6jDp1xqFrHfTRl47Z5lWWRR1YITkgeoqPTvEGjavcTQaTq9jfTQcSx21ykjR/wC8FJx+NeFfGDRYvEf7Q3hLRrqeeC2vrQxTtbvsZk3OWXPoQMH61W1rwfo/w2/aG8EJ4PhlsYNQys8Pnu4bkqeWJPIPTOOKAPQ5/jdoFv8AFE+FJp9PSxWAyPrDanGIkkA5jIxgHIx97Oe1d3fa/o+l2Ed7qWrWNnaSgGO4uLlI43B5GGJwa+dr74ceFLr9qRvDs+lbtKuLI3ctv9olG6UqWLbg24c9gce1bPxb+HWoL4y03XIfC8nirwxY2C2p0iC7kie3C55Xadx7HjOcc0AereNVk8RfDXVW8Mas8c7WrS2t5p9yQdy/MNroehxjg96zvgz4sm8Y/C7TdQvZWmvYgba5dzlndDjcfcjB/Gs/4M3nhG+8CXieCra7srVbl/tFheOWe2kKjK5JJK8ZGSe/0rm/2YmI8NeJIQT5certsXsvyDp+VAHt9FFFABRRRQAVyXij/kfvBH/X7df+kktdbXJeKP8AkfvBH/X7df8ApJLQB1tFFFAHJeF/+R+8b/8AX7a/+kkVdbXm9lpOt6h8RvGb6R4kl0mNbu1DRpZxTbj9ki5y4JFbf/CNeLf+h9uP/BXbf/E0AVPDHw3GgfETX/F95qp1C71fCxxm38sWyZ+6DuO7gKM8dKf8UPhxB8SvDcOmyXx06e3uBPDdCHzShwQRt3L1B9asf8I14t/6H24/8Fdt/wDE0f8ACNeLf+h9uP8AwV23/wATQBzPib4P6xreoW9/pfxA1fRbv7LFb3ZtAypceWuN+1ZFwT7lqxfGfw+034d/s8eJbDTp57ua52z3V3cHLzOXXn2Ht+pr0D/hGvFv/Q+3H/grtv8A4mq974M8RanZSWepeMzd2soxJBPo9rIjj0KlcGgDynwp8Cv+Eq+HWgzw+MdX0/S761jnvNKVjJDJIeSygsFX8VavU9f+E3hzXvANl4UZJbW108KbOeFh5kLj+LJ6k5OfXNS2vg/xLY2kVrY+NXtreFQkcMOkWqIijoAAuAKm/wCEa8W/9D7cf+Cu2/8AiaAOM0n4G6tb6pbTa78SvEGrWNrMk0dk0jqpKMCobdIwI4HQD8K2PiF8HbTxrrlvr+ma1eeHtcgQRi9tBncB0yAVOR0yGHFbf/CNeLf+h9uP/BXbf/E0f8I14t/6H24/8Fdt/wDE0AUPC/wvTRvDOsaVr3iDUfEUmsx+Xd3V65LbdpXC5LEdT1Jqj8NfhJc/DvU5pF8XajqeneWyW+myqUhh3EEtjeVLcdQB1Nbv/CNeLf8Aofbj/wAFdt/8TR/wjXi3/ofbj/wV23/xNAHW0VyX/CNeLf8Aofbj/wAFdt/8TR/wjXi3/ofbj/wV23/xNAHW0VyX/CNeLf8Aofbj/wAFdt/8TR/wjXi3/ofbj/wV23/xNAHW0VyX/CNeLf8Aofbj/wAFdt/8TR/wjXi3/ofbj/wV23/xNAHW0VyX/CNeLf8Aofbj/wAFdt/8TR/wjXi3/ofbj/wV23/xNAHW0VyX/CNeLf8Aofbj/wAFdt/8TR/wjXi3/ofbj/wV23/xNAHW0VyX/CNeLf8Aofbj/wAFdt/8TR/wjXi3/ofbj/wV23/xNAHW0VyX/CNeLf8Aofbj/wAFdt/8TR/wjXi3/ofbj/wV23/xNAHW0VyX/CNeLf8Aofbj/wAFdt/8TR/wjXi3/ofbj/wV23/xNAHW0VyX/CNeLf8Aofbj/wAFdt/8TR/wjXi3/ofbj/wV23/xNAHW0VyX/CNeLf8Aofbj/wAFdt/8TR/wjXi3/ofbj/wV23/xNAHW0VyX/CNeLf8Aofbj/wAFdt/8TR/wjXi3/ofbj/wV23/xNAHW0VyX/CNeLf8Aofbj/wAFdt/8TR/wjXi3/ofbj/wV23/xNAHW0VyX/CNeLf8Aofbj/wAFdt/8TR/wjXi3/ofbj/wV23/xNAHW0VyX/CNeLf8Aofbj/wAFdt/8TR/wjXi3/ofbj/wV23/xNAHW0VyX/CNeLf8Aofbj/wAFdt/8TR/wjXi3/ofbj/wV23/xNAHW0VyX/CNeLf8Aofbj/wAFdt/8TR/wjXi3/ofbj/wV23/xNAHW0VyX/CNeLf8Aofbj/wAFdt/8TR/wjXi3/ofbj/wV23/xNAHW0VyX/CNeLf8Aofbj/wAFdt/8TR/wjXi3/ofbj/wV23/xNAHW0VyX/CNeLf8Aofbj/wAFdt/8TR/wjXi3/ofbj/wV23/xNAHW0VyX/CNeLf8Aofbj/wAFdt/8TR/wjXi3/ofbj/wV23/xNAHW0VyX/CNeLf8Aofbj/wAFdt/8TR/wjXi3/ofbj/wV23/xNAHW0VyX/CNeLf8Aofbj/wAFdt/8TR/wjXi3/ofbj/wV23/xNAHW0VyX/CNeLf8Aofbj/wAFdt/8TR/wjXi3/ofbj/wV23/xNAHW0VyX/CNeLf8Aofbj/wAFdt/8TR/wjXi3/ofbj/wV23/xNAHW0VyX/CNeLf8Aofbj/wAFdt/8TR/wjXi3/ofbj/wV23/xNAHW0VyX/CNeLf8Aofbj/wAFdt/8TR/wjXi3/ofbj/wV23/xNAHW0VyX/CNeLf8Aofbj/wAFdt/8TR/wjXi3/ofbj/wV23/xNAB46/5CPg//ALGCP/0nnrra8r8Y6B4mivvC4uPGc85k1uNIidOgXym8iY7+BzwCMHjmun/4Rrxb/wBD7cf+Cu2/+JoAzPjf4ek8SfCPV7a3Rnnt0F1Gq9SYzuI/LNZGm6XF8Y/2d9O03+0fsT3FvDHLOsfm+XJCwyNuRnlfUda6lvDHit1Kv47nZWGCDpVsQR/3zVTTfAmuaNa/ZdI8XLYW+4v5VrotpEm49ThVAyfWgA8R/DZfEPwli8EHVDbiKGCIXot92TEVOdm4ddvTNHiP4bL4h+EsXgg6obcRQwRC9FvuyYipzs3Drt6Zq5/wjXi3/ofbj/wV23/xNH/CNeLf+h9uP/BXbf8AxNAHPeKfgra+JPD/AIftodcutN1bQIFgtdTtkwSAByVDAjkZGGBHrVDQ/gO2leNNF8T33jDUdX1HT3Zp5L5DIbjK4UAlyUAyf72c9q7D/hGvFv8A0Ptx/wCCu2/+Jo/4Rrxb/wBD7cf+Cu2/+JoAy9C+FFvZ+KPEeveI9R/ty71xGgIe28pbeA8GNRubPGBnjp0rP8P/AAcuNB8Aa94RXxRNLp+qFjbMLXY9nnqM7zvBwM/d7+tdJ/wjXi3/AKH24/8ABXbf/E0f8I14t/6H24/8Fdt/8TQBd8C+Ff8AhCvBlhoH2+TUPsikfaJE2lsknhcnA56ZNeS/tKWcWoap4HsrjJhuNRMUm04O1mQHB+hr03/hGvFv/Q+3H/grtv8A4mqWoeAdZ1WS3fVPFcd69q/mQNc6HaSGJv7yllO0+4oA5az/AGerc+JrS/8AEPi3Vtd0/T3DWen3jFhEAchS5Y5XgcBVzit/4hfCCw8b6tba3ZareaDrlqmyO/s+u0dMgEHIycEEda1/+Ea8W/8AQ+3H/grtv/iaP+Ea8W/9D7cf+Cu2/wDiaAOe8FfBa28N+Jk8SeIfEGoeJ9aiXbDdXxOIhjGQCzHOCRy3GelauhfDZdE+KWu+Mhqhm/tiIJ9j+z7fK+7zv3Hd930HWrn/AAjXi3/ofbj/AMFdt/8AE0f8I14t/wCh9uP/AAV23/xNAFX4bfDgfDyPWVXVDqH9qXhuubfyvK6/L95s9evH0pngD4Zp4HvvEU7amdQXXLozsht/L8oEsdudx3fe68Vd/wCEa8W/9D7cf+Cu2/8AiaP+Ea8W/wDQ+3H/AIK7b/4mgDk/CvwL/wCER8TTXemeLtTXRZWkY6OoKRkupXLENtbAPHyZ4FZh/Z2uLt47LWfiFr2o6DGyldLlZsYB4GS5X8kHtiu//wCEa8W/9D7cf+Cu2/8AiaP+Ea8W/wDQ+3H/AIK7b/4mgDzr49xJqcng34f6WoDX16hMS/wQoNo/Qk/8Br2+CFbe3jhjGEjQIo9gMVxEngLWpdWj1SXxYj6hEhSO7bRLQyop/hD7cgc9M1d/4Rrxb/0Ptx/4K7b/AOJoA62iuS/4Rrxb/wBD7cf+Cu2/+Jo/4Rrxb/0Ptx/4K7b/AOJoA6m5/wCPWX/cP8q5r4Y/8kn8K/8AYJtv/RS1Xn8N+LBbSk+PLgjYcj+y7fnj/drA+Hvh/wATz/DXw5La+NJ7WB9Mt2jgGmwOI1MYwu4jJx0yaAPUCMjB6V4f8GFbwp8UfG/gy6+Qm5+3Wu7jehPUf8BZK9D/AOEa8W/9D7cf+Cu2/wDiapHwFrR1gasfFiHUhH5QvP7EtPOCf3d+3dj2zQA74e/DdfAep+ILtdUN8NZuzc7Db+X5PLHbncd33uvHTpR8PfhuvgPU/EF2uqG+Gs3Zudht/L8nljtzuO773Xjp0q3/AMI14t/6H24/8Fdt/wDE0f8ACNeLf+h9uP8AwV23/wATQBgaF8FrDTdO8W6fqWpvf2niacyuqweU1v8AMzDB3NuILdcDp0rlz+zbNPo02lX/AI/1i6sETFjaOjeTbN2JjMhDY54G2vR/+Ea8W/8AQ+3H/grtv/iaP+Ea8W/9D7cf+Cu2/wDiaAMLWPhD/bq+E7PUddaTSPDqJvsRa4F5IoADM2/5Rx0weCeeasz/AAsEXxch8c6Hq/8AZrtGI72xFrvS6GMH5tw2kgDseVBrU/4Rrxb/AND7cf8Agrtv/iaP+Ea8W/8AQ+3H/grtv/iaAKfhr4bf8I78SNd8Wf21cXf9rjH2R48CLkH7247sYwOBirnxV/5JJ4p/7Bc//oBo/wCEa8W/9D7cf+Cu2/8AiaiuPCXia7tpLe78byTwSqUkil0i2ZXU9QQVwRQB4x8Pfgu/jD4W6beWHi7VdGt78P8A2hYxMzwXOHIzs3KAcAddw9q9kPwo8NN8Mx4HaGX+zQM+YGAl8zOfMzjG7PtjtSWHgrxBpVlHZ6X4x+xWsYwkFvo1rGifRQoAqz/wjXi3/ofbj/wV23/xNAHnsX7OU03lWGt/EDW9R0GFgY9LJZVAHQZLso/BRXX+N/hTaeLbPw3aWN+NJttAuFliiS38wOq4wn3hj7vXmtP/AIRrxb/0Ptx/4K7b/wCJo/4Rrxb/AND7cf8Agrtv/iaAKmv/AA3XXPiloXjL+1DAdIjKfZPs+7zvvc79w2/e9DR4q+G48T/EPw54pOqG2/sMk/Zvs+/zuc/e3Db+Rq3/AMI14t/6H24/8Fdt/wDE0f8ACNeLf+h9uP8AwV23/wATQBz/AI/+DY8YeLbfxLo/iW+8O6rFEIXntVJLoM9CGUqcEjOfwqLxP8HtU1nUoL7RfiBreiTi1it7kwuxFx5YxuO11O49ySa6X/hGvFv/AEPtx/4K7b/4mj/hGvFv/Q+3H/grtv8A4mgDDtPDWkfBf4U65Pa3M1zKIpLm4urlhvnmK4X6c4AHv1NVf2d9Al0X4TW1zcrtn1SZ7xs9SpwFJ+oUH8a3NR8D69q9i9nq3i8X1rIQXgudFtZEbByMqykHmp4fCnim3hSGDxzLFFGoVETSbYKoHQABeBQB2FFcl/wjXi3/AKH24/8ABXbf/E0f8I14t/6H24/8Fdt/8TQB1tFcl/wjXi3/AKH24/8ABXbf/E0f8I14t/6H24/8Fdt/8TQB1tcl4o/5H7wR/wBft1/6SS0f8I14t/6H24/8Fdt/8TWJe6Tren/EbwY+r+JJdWja7ugsb2cUO0/ZJecoATQB6RRRRQByXhf/AJH7xv8A9ftr/wCkkVdbXJeF/wDkfvG//X7a/wDpJFXW0AcD4q+IOu6T42i8NeGPCB8Q3bWX2xz/AGnHa7F3bf41IP59+lWvCvxBl1rxDL4d8RaDc+Hddjg+0C0mmSZJY84LJIvDYPXiuR8Varr2k/tARz+GfDn/AAkF02ghXtvtyWu1fNPzbnBB7DHvVnwBcXfjb4l3/ibxFDHpOp6LAdOTQwS8luHO4yO5ADbscbRjFAHrNFfP3iD4j6HrXjDWrPxV8QdY8K2mm3ZtrOy0aORJJNv3pZJFifOWyAvoK6X4c+ONS1/wz4rttF1VvEsmkZ/svUJoDHJchoyUV1YLlgwIzgZoA9corxz4ZPBrWoWmoL8RtduddQZ1TQ9RmQKGwd6C3KgoAejLnpWT4x+Iuj6h4+1nRPE/jrVfCenaU6wQQ6RHIs1y+3LSNKsb4UE4C8UAe80V5L8J/Gp8Q33iLQtO8TT69Y2EUctjrF3blZUDggrIGVd5UjOSBmuJ8WeKtB8PW93eaZ8Zdf1DxNbIWitw5ksp5B/B5aReWAen3uKAPpCivMPiJr2ut4F8K32gXYstS1DULMZ3MIyZFOQwBG5cnp3xT9dj1P4XeA9Z1lfEOq6/qd15UcQ1OUPFFO7BAY0AGxcsDt56UAemVy+ieJrzUviB4j0KeKBbbSkt2hdFIdvMUltxJwenGAKxdI+HOt2d1Z6rc/EHxFcagGSS6hmmRrSTnLIIdoCg8gEHjrWAmh6v4g+NHjGzsddn0XTzDaG6lsQBdSHyztVHIIQdcnGelAHsNMnnitreSe4dY4olLu7HAUAZJNed/D241fR/HHiLwZqur3es22nRQXVld3zh5wkgOUd/4sFetWfjfdT2nwZ8QPbEhmgEbEHGFZwD+hoAqJ8UNd1xTdeBPAN9rulhyq3899FZJMB1aNXyXHvxXQeDfHdl4va8tDaXOl6tp7Bb3TbxQJYc9DxwynsRW1oVtBZeHtPtrRFSCK2jSNV6BQoxXBX6LbftMaS9rhXvNBmF0FH3grjYT+NAHplFef8Awv1O+1HVPGqX95cXS2uvywwCaUuIowiEIueg5PA4qhpPiq60i9+J+pX9zcXVvo10JIIZJGZY1FuG2qD90E9hQB6fRXzNH8QdAv8ASl1jUPjFrtp4kaIyC0trWUWMMhGRH5PkkMB0yTz1rt9d8a65q3wf8L68k15plrqEkf8AbV9pse6a1hwQzoMEgFgOQDgGgD2Ks7Rde03xDZy3Wj3P2iGGeS3dtjJiRDtZcMAeD36Vx/hHQrPU/CuoW2i/EPWtc02+QJHeG/WS6tG7lZguVJ44YZGPeuF+GHwy/trw3f3H/CbeMdP8vVruHy7DVvKRtkhG8jYcsepPc0Aev+Hddv8AWrrVor/Q7nSksLxreB5ycXaAA+avyjg57Z+tbleM+DPEd94R8E/EG7v9S1HWx4f1KaO2fUrlppCqxptUse2T2x1NaNj8PvFGsaDBreofEPxBba7cQCdYrWZEsomYbgnkbfmA4HJ5oA9VorxbWfHOvax+z1Frlvcmy1yO/htJZYHaNWkS5WNj8pztbHIHYkVP4w0XxV4M0JfGi+NtVv8AUrWaJryxkdVsJI2cKyJCB8uAeDknigD2KuX8ReJ7qw8WeH/D+kxwS3epyvJcGYEiG2jGXYAEckkAdua6aJ/NhSQDG5Q2PrXnWlsb/wDaM1x5eRpui28MIP8AD5jlmI+uB+VAFnxV8Qdd0nxtF4a8MeED4hu2svtjn+047XYu7b/GpB/Pv0q14V+IMuteIZfDviLQbnw7rscH2gWk0yTJLHnBZJF4bB68VyPirVde0n9oCOfwz4c/4SC6bQQr2325LXavmn5tzgg9hj3qz4AuLvxt8S7/AMTeIoY9J1PRYDpyaGCXktw53GR3IAbdjjaMYoA6fxN8Qk0fXk8P6Fo954h11ovOaytGVFhTs0kjfKgPas2y+KF/Y6vZaf4/8JXXhY38nlW10buO6t2kPRGkTG0ntkVW+E5+1+KPH9/cL/pba60DMTkiNEXYPpyavfHCCCb4N668+A0ESzRMRysiuCpHoc0Aa/ijxNd+G/EHh9ZIoW0jUrk2dxKVO+GVhmI5zjaSCCMdxzXUV5l8VRJcfAWW+l/4+bWC1vVJ4xIjI2fzzXo1hObrTrac9ZYlc/iAaAJ6KKKACiiigAooooAKKKKACiiigAooooAKKKKACiiigAooooAKKKKACiiigAooooAKKKKACiiigAooooA5Lx1/yEfB/wD2MEf/AKTz11tcl46/5CPg/wD7GCP/ANJ5662gDM1/VptF0prq10q81abeEjtbNQXYnuSxAVR3JPFcbafE7VbLxFYaX448G3XhtNUm8iyuvt0V1G8nZXKfcJ/GvRa8v8XTJ48+I+jeF9LHnW+gXialq1yBlIWUfu4Qf75JyR2AoA6fxh44j8MXNlptjptxrOt6ju+yadbMqs4X7zs7cIo9TWf4b+It3f8AidfDfi3w3ceGtYmhM9tFJcpcxXCD722ROMj0rOtj9o/aYvhPz9l8PR+QCOm6U7iD+Ao+JKhPiN8OZ04m/tWWPI67DEcigD0qiiigAooooAKKKKACiiigAooooAKKKKACiiigAooooAKKKKAI7n/j1l/3D/Kua+GP/JJ/Cv8A2Cbb/wBFLXS3P/HrL/uH+Vc18Mf+ST+Ff+wTbf8AopaAOprzvVfiL4qsvOvLP4a6pcaRb7jLdS3sMM21erLByxHfsa9ErlfiF4sh8LeGpNkZutTv82un2ScvcTMMAAegzknsKALVt430O58Br4vFyU0g2xuDI64ZVHUEf3s8Y9a4+b4ua1Y2aa3q3w/1Kz8MPtb+0zdxPKkbHh2tx8yjkHrWD4x8NS+Dv2ddH8OzyBmW8s4rxlzg75gzj6Z4r1DxjbQzfD/WreVQYTp0ykEcY8s0AbVvcRXdrFcW0iyQzIHjdTwykZBqSuQ+FEkkvwj8MPKxZzp0WS3U/LXX0AFFFFABRRRQAUUUUAFFFFABRRRQAUUUUAFFFFABRRRQAUUUUAFcl4o/5H7wR/1+3X/pJLXW1yXij/kfvBH/AF+3X/pJLQB1tFFFAHJeF/8AkfvG/wD1+2v/AKSRV1teb2XiR9G+I3jOJNB1jUg93at5lhAsir/okXBJYc1t/wDCeTf9Cb4o/wDAKP8A+OUAQf8ACP6n/wALt/4SD7P/AMSz+xvsvn+Yv+t8zdt253dO+MVX1Lw1qtj8ZNM8T6HbebZX1o1lrAEirtC8xSYJG7B44yav/wDCeTf9Cb4o/wDAKP8A+OUf8J5N/wBCb4o/8Ao//jlAHPHTfGvgLxBrM/hPQbbxNpGrXRvBbG/W0mtZWADjLgqynGfWum06+8a3XhzULrUNH0uw1TrYWP2tpl6dJZAAMk5+6OKi/wCE8m/6E3xR/wCAUf8A8co/4Tyb/oTfFH/gFH/8coA5G50Txj438YaFfa54PsfDA0a8Fw+pLqKXM06gEeWmxQQpzzurRvdI8X+DPGOsaz4O0a28RafrbpPcWD3q2ssM6rtLK7AqVIA461u/8J5N/wBCb4o/8Ao//jlH/CeTf9Cb4o/8Ao//AI5QBHbxeLPFXhfWbPxLpln4fa9tmgtYoLs3MkZZSCzuAF7jAX3rg20X4lS/DK48C23g/SdPiSxa1bUV1FWS5G3B8uIAFWb1cgDOTXoH/CeTf9Cb4o/8Ao//AI5R/wAJ5N/0Jvij/wAAo/8A45QBl+IvDGr3/hLwdZWtpvuNNvrKa7TzUHlpGuHOScHHtnPat7x94VPjPwTf6LHOLeeZVeCZhkJKjBkJHpkCqv8Awnk3/Qm+KP8AwCj/APjlH/CeTf8AQm+KP/AKP/45QBkaTqXxRvJbPTdS8OaZpSQvGLvV/wC0FnWdFI3eXCFyCwGPmPGa1PD+hajY/E3xVq11b7LLUEtRbS71PmFEIbgHIwfUCn/8J5N/0Jvij/wCj/8AjlH/AAnk3/Qm+KP/AACj/wDjlAEWlaDqVt8YfEGuT223TrzTrWGCbzFO90LbhtzkYyOSK6DxFoVr4m8N3+i6hn7PfQNC5HVcjqPcHmsT/hPJv+hN8Uf+AUf/AMco/wCE8m/6E3xR/wCAUf8A8coA5rSrv4p+EdOg0N/Ctj4pitVEUGpw6qlqTGOF8xHUnIHXFZWk32t+E/iRfeI/ifpMofU4Y7a0v9MDXFpZR5z5TADepJIyxGCa7r/hPJv+hN8Uf+AUf/xyj/hPJv8AoTfFH/gFH/8AHKAOYh0vxz4J8X68/hjw/Za9pevXf21JZL9bZrOQqA28EEsvA+7zU3hPwLrj2/jqz8amFz4hmBFxbABHVoQp2rkkBT8vzYJxnvXQ/wDCeTf9Cb4o/wDAKP8A+OUf8J5N/wBCb4o/8Ao//jlAHN6Pe/FDwxplr4fPg+w1xLSMQRasmrpbo6KMKzxspbOMZxXT6xqPjbT9D0640zQdO1m/2f8AEwso70243YH+qdwRjOfvCmf8J5N/0Jvij/wCj/8AjlH/AAnk3/Qm+KP/AACj/wDjlAGL8PvC+t2/jLWvFWt6PZ+HP7TgihXSbSdZsMpJMrsoCljnHFR+BdM8Y+ENevdBn0G2utCudSuLxNYW/VTGkhLBTDjcWzgdhW9/wnk3/Qm+KP8AwCj/APjlH/CeTf8AQm+KP/AKP/45QBgaJ8P7260X4gaRr0X2WDxBqc8ttIrq5MbIoV8AnHI6HB4qvYXvxZ0rRofDq+FNMu5oIRbxa7/aipDgDCu0O3fnGMgV0/8Awnk3/Qm+KP8AwCj/APjlH/CeTf8AQm+KP/AKP/45QBzOs/DfULH4K23hbRh/aOoJeQXM77lj81/tCySv8xAHc49q6b4maJqHiH4c6jpekQfaLyYR+XFvVN2JFJ5YgdAe9H/CeTf9Cb4o/wDAKP8A+OUf8J5N/wBCb4o/8Ao//jlAHU26GO1iRhhlQAj3xXnaIdG/aNkeTiHXtFAjPYyQPyPrtbNbf/CeTf8AQm+KP/AKP/45WPrerQa7faVe3PhHxfDc6Vc/abaWC1iU5wVZTlzlWBwRQBo/8I/qf/C7f+Eg+z/8Sz+xvsvn+Yv+t8zdt253dO+MVX1Lw1qtj8ZNM8T6HbebZX1o1lrAEirtC8xSYJG7B44yav8A/CeTf9Cb4o/8Ao//AI5R/wAJ5N/0Jvij/wAAo/8A45QBhal4b8V+EvG2peJPAlpaavZ6vte/0i4uPs7+cowJI5CCoyOoNc/41T4keLtJtf7W8GxWOiW11HPf6VaamlxeXaKc4UhQmOOV6mu9/wCE8m/6E3xR/wCAUf8A8co/4Tyb/oTfFH/gFH/8coA5L4ieJ7Hxf8IxaaHHcpJq9/BpYtriBoZYnLrvUqRkYUH2r1a2hFvaxQL92NAg/AYrz3U9Wg1bxDpWr3vhHxc8mkmR7eD7JD5W9xjeRvyWAyByByeK2f8AhPJv+hN8Uf8AgFH/APHKAOtorkv+E8m/6E3xR/4BR/8Axyj/AITyb/oTfFH/AIBR/wDxygDraK5L/hPJv+hN8Uf+AUf/AMco/wCE8m/6E3xR/wCAUf8A8coA62iuS/4Tyb/oTfFH/gFH/wDHKP8AhPJv+hN8Uf8AgFH/APHKAOtorkv+E8m/6E3xR/4BR/8Axyj/AITyb/oTfFH/AIBR/wDxygDraK5L/hPJv+hN8Uf+AUf/AMco/wCE8m/6E3xR/wCAUf8A8coA62iuS/4Tyb/oTfFH/gFH/wDHKP8AhPJv+hN8Uf8AgFH/APHKAOtorkv+E8m/6E3xR/4BR/8Axyj/AITyb/oTfFH/AIBR/wDxygDraK5L/hPJv+hN8Uf+AUf/AMco/wCE8m/6E3xR/wCAUf8A8coA62iuS/4Tyb/oTfFH/gFH/wDHKP8AhPJv+hN8Uf8AgFH/APHKAOtorkv+E8m/6E3xR/4BR/8Axyj/AITyb/oTfFH/AIBR/wDxygDraK5L/hPJv+hN8Uf+AUf/AMco/wCE8m/6E3xR/wCAUf8A8coA62iuS/4Tyb/oTfFH/gFH/wDHKP8AhPJv+hN8Uf8AgFH/APHKAOtorkv+E8m/6E3xR/4BR/8Axyj/AITyb/oTfFH/AIBR/wDxygDraK5L/hPJv+hN8Uf+AUf/AMco/wCE8m/6E3xR/wCAUf8A8coA62iuS/4Tyb/oTfFH/gFH/wDHKP8AhPJv+hN8Uf8AgFH/APHKADx1/wAhHwf/ANjBH/6Tz11teV+MfGctxfeF2PhXxFD5OtxyAS2iAyfuJhtX5+W5zj0Brp/+E8m/6E3xR/4BR/8AxygCT4jS+K4/BlyngKzW61iYiNCZUjMSn7zguQMjt9a4fwddeO/COjQaVYfCMpHv3XF0/iS2aSZz9+V/lySev6V2n/CeTf8AQm+KP/AKP/45R/wnk3/Qm+KP/AKP/wCOUAZfjHw54it/GmneNfBtrb319b2rWd7ps8/k/aYidw2vjAYHueKh0jQ/FPivxzp3ibxrpdvodto8bix0uO7Fy5lcYaR3UBeBwAK2v+E8m/6E3xR/4BR//HKP+E8m/wChN8Uf+AUf/wAcoA62iuS/4Tyb/oTfFH/gFH/8co/4Tyb/AKE3xR/4BR//ABygDraK5L/hPJv+hN8Uf+AUf/xyj/hPJv8AoTfFH/gFH/8AHKAOtorkv+E8m/6E3xR/4BR//HKP+E8m/wChN8Uf+AUf/wAcoA62iuS/4Tyb/oTfFH/gFH/8co/4Tyb/AKE3xR/4BR//ABygDraK5L/hPJv+hN8Uf+AUf/xyj/hPJv8AoTfFH/gFH/8AHKAOtorkv+E8m/6E3xR/4BR//HKP+E8m/wChN8Uf+AUf/wAcoA62iuS/4Tyb/oTfFH/gFH/8co/4Tyb/AKE3xR/4BR//ABygDraK5L/hPJv+hN8Uf+AUf/xyj/hPJv8AoTfFH/gFH/8AHKAOtorkv+E8m/6E3xR/4BR//HKP+E8m/wChN8Uf+AUf/wAcoA6m5/49Zf8AcP8AKua+GP8AySfwr/2Cbb/0UtV5/HcxtpR/wh3icZQ8mzj44/66VgfD3xpLZ/DXw5bDwp4iuBFplugmgtEZJMRgblJkGQe3FAHp7EhSVGTjgeteHaanxMtPHF/4m1r4bf21fuTFYOddtoY7KD+5Gh3cnqWJya9F/wCE8m/6E3xR/wCAUf8A8co/4Tyb/oTfFH/gFH/8coAparo+sfEj4Z3+meJNGHhnUZm/cRG7S6EboQ0cm9BjqOnWufvl+Kfibw6/hTUPDun6Us8QtrvXl1JZVePo7RwgbgxGcZ9a63/hPJv+hN8Uf+AUf/xyj/hPJv8AoTfFH/gFH/8AHKAOh0jTINF0Wz0yzGILOFIY8+ijA/lVyuS/4Tyb/oTfFH/gFH/8co/4Tyb/AKE3xR/4BR//ABygDraK5L/hPJv+hN8Uf+AUf/xyj/hPJv8AoTfFH/gFH/8AHKAOtorkv+E8m/6E3xR/4BR//HKP+E8m/wChN8Uf+AUf/wAcoA62iuS/4Tyb/oTfFH/gFH/8co/4Tyb/AKE3xR/4BR//ABygDraK5L/hPJv+hN8Uf+AUf/xyj/hPJv8AoTfFH/gFH/8AHKAOtorkv+E8m/6E3xR/4BR//HKP+E8m/wChN8Uf+AUf/wAcoA62iuS/4Tyb/oTfFH/gFH/8co/4Tyb/AKE3xR/4BR//ABygDraK5L/hPJv+hN8Uf+AUf/xyj/hPJv8AoTfFH/gFH/8AHKAOtorkv+E8m/6E3xR/4BR//HKP+E8m/wChN8Uf+AUf/wAcoA62iuS/4Tyb/oTfFH/gFH/8co/4Tyb/AKE3xR/4BR//ABygDra5LxR/yP3gj/r9uv8A0klo/wCE8m/6E3xR/wCAUf8A8crEvfEj6z8RvBkT6DrGmhLu6bzL+BY1b/RJeAQx5oA9IooooA5Lwv8A8j943/6/bX/0kirra5Lwv/yP3jf/AK/bX/0kirraAK/9oWX9pf2f9rg+2+X5v2bzV8zZnG7bnOM8Z6Ut7fWmm2cl3qN1DaW0QzJNPIERB7seBXAf83Jf9y7/AO1q2PilcaZafDPWLnXNKGr2MMQeWzMzQ+bhhgb15XnnIoA61HWRFdGDKwyGByCPWlryL4p+JPE+hw+GYPC+gzGwa7tds8GqLB5rc4tSp52kY+Y/L6iuuPja70fwVJrvjbQZNDuVl8pNOhuku5JWJARVZMAsxOAKAOvorzpPidrOm3ls3jLwPe6BpV3OkEOoG9iuArOcL5qJzHknHer3jH4kJ4R8UaZon9j3GpXGqW8slsts/wA7yqVCxhcYwckliQAB3oA7eiuQPi3xHB4XhvbzwNfjV5pzCul213FNtGMh3myEVTjr68VS0H4h6pceKbbw/wCMfCVx4bvr6N5LNjex3UU2zlhvTGGxzigDvKK8Sfxt8Q4fjNqltZ+C571Y9OQR6WdeiSMR+awW5GRtBbptxuGOTXow8YsvxFtPCcunbJLjS21Bp/Pz5ZDhTHt289fvZ7dKAOnornr7xX9i+IOk+GPse/8AtG0nuftPm48vyyvy7cc53dcjGK5m9+Kt6fFuteGPD3hO61rV9LlRRFFdLFG8TIrGR5HAVOW2heScUAej0Vxuv+PbnS7iy0rSvDt1rHiG7thctpkMyItunQmSVvlUZ4Hrin+FPHU+tazNoXiHQbnw9rkMIuPsk0yTJLGTjdHInDYPB9KAOvoqC+vbfTdPnvb6VYba3jaWWRuiqBkmvOn+Kuuiz/tqP4eaq/hkJ5v9om6iExj/AL4ts78Y565xQB6ZRXH+KviNp3hnwvpXiBYmvtO1G4hjWSInKpICQ4UKSx4+7xnPWsG8+MNxoOoWzeMfB2paHpF8StnfPMk7yNjIV4UyyE9gSTmgD06s9Ne02TxHLoKXOdTht1ung2NxEzFQ27G3qDxnNcZbfE/UIvEmnWPiTwdf6HYavL5On309xHJvcjIWSNTmMkdiSaxNY8RNoH7Ql+LXS7vVr660CCO2s7RRmRhK5JZzhUUd2J/OgD16iuJ8K/EG41fxJL4c8TeHrjw5raQfaY7aW4SdJ4s4LJInBI7jtVfUfiNq0+rXll4I8HXfiRNPm8i7uheRWsSOPvKhf75HfHfvQB31RXd1DY2c13dP5cEEbSSPgnaoGScDnpXO6H490vWPCl7rk6TacmmmRNQt7pcSWrxjLKwHtyCOuRXFat8T9X1DwdqV/c+BNUtfDt1ZyC31Pz45HIZSFd4B86KeOeetAHqGk6tZa7pFrqmlT/aLO7jEsMu0rvU9DggEfiKh1zxBpnhuxS81q5+zW8kyQK/ls+Xc4UYUE8nv0rgfCni6y8GfAPwvqF7DNcyS2kEFta24zJcStwqL/jXMfE3xjrWpeGNO0/xR4PvfD08+r2j27m4juoZAJQSC6fcbHO0igD26XUbKC/hsZry3ju7hWaG3eVRJIF6lVzkgd8VZritdn0hPi94Xt7vRluNTmtLprbUDOym2VQu5dg4bdu6np+NVNU+KE9r4y1Twto/hm81jVrNYnhit5lRZFZclndgFjA4HJJOelAHoFFcj4L8d/wDCUS6lYarpM2h6zpTKL2wmlWXYGGVZXXhlODz7VzV/8XNffTbvWfC3w+u9Y0K2MmdQfUI7cyBCQzJFtZ2Xg84oA9Torn/BHiK+8V+E7XWdS0ldJa7HmRQLdrchozyr71AHI7YyKqeLvHSeG7+y0nTtLudb1y/DNbafasqHYvV3duEXtk0AdXXOeKfiB4W8FNbp4n1iGwe4/wBUhVnZh0ztUEge54rH0L4jXs3iS20Dxn4XufDGpXqs1mHuo7mG428lVkTjdjnGK4KHxD4xP7QOpTp4CFzdJpscAtm1eEeTb+acThiMfN/cHPrQB7rBNHc28c8Dh4pVDow6MCMg0+q93LPb6bNLZWv2m4jiLRWwkCeYwHCbjwMnjNeQfDfxl49v/FOu2194SnuLRtZKXMs2txuNKGxcxKpHzgfe+XA+agD1e01zTr7Wr7SbW433unhDcxbGHlhxleSMHI9Ca0K8eTxPcaH8aPGNrpOiXeuapdQ2jQWluVjXCxnLPK3yoOQOeeeBXZ+C/Hf/AAlEupWGq6TNoWs6Uyi9sJ5Vk2BhlWV14ZTg8+1AHXUV5w/xP1vUGkvPCXgPUNb0SJ2VtRF5FAZdpwWiib5pBkHB4zXZ+G/ENj4q8P2usaWzm3uVJCyLtdCDhlYdiCCCPagCTVtf0fQIo5dd1ax0yOVtsb3lykIc+gLEZNGleING11GbQ9XsdSVPvGzuUmC/XaTXnHxh/sj/AITDwF/wkn2L+y/7Qm+0fb9nkbfKP39/y4zjrWRf23hK4+KXhJ/hTHphvoblm1KTQ1TyVtCvzeaY/k5OMZ5oA9rlljgiaWeRY40GWd2wFHqSazdO8U+H9YumttJ13Tb6dfvRW15HIw+oUk1wPiKyj+IHxkXwtqzNJoWiWCX1zZhyFupnbCB8dVUDOK0fGHwo8LXnhm6fRNFstG1O1iaezvdOt1glilUZU5QDPI6GgD0KiuX+G3iGfxV8N9F1i9INzc2w84gYy4O0n8SM11FABRRRQAUUUUAFFFFABRRRQAUUUUAFFFFABRRRQAUUUUAFFFFAHJeOv+Qj4P8A+xgj/wDSeeutrkvHX/IR8H/9jBH/AOk89dbQA2SVIYmkmdY41GWZjgAepNZ+meJND1qaSHR9Z0/UJYv9YlrdJKyfUKTina3oOmeI9P8AsGuWcd7ab1kMMudrFTkZHcex4ry3x/4W0PQPF3giTwdpdnpOtS6sqAWECw+ZbgEy7wgGVx3PrQB65d3ltYWr3N9cRW1vGMvLM4RVHuTwKr6Xrela5bmfRdTs9RhU4MlpcLKoPplSRXnniGytvGnxytPD2sxC60jR9L+3vZyDMU0zvtUuOjYAPB45qtruhad4F+Lvg/UPC9jBpcGsyy6dfW1nGIopRs3IxRcDII64oA9aooooAKKKKACiiigAooooAKKKKACiiigAooooAKKKKACiiigCO5/49Zf9w/yrmvhj/wAkn8K/9gm2/wDRS10tz/x6y/7h/lXNfDH/AJJP4V/7BNt/6KWgDqarahqdjpFk95qt7b2NqmN89zKsaLnplmIAqzXjfxJH/CeDxBDy2heF7OZ367bm+8s4HuIwc/7x9qAPYLe4hu7eO4tZY5oZVDxyRsGV1PQgjgis+PxPoM2rHS4db02TUAcG0W7jMoP+5nP6V5t4g1i70f8AZs0n+zZWgur60s7GOVDhk83apI98E1c8V/CXwpafDG9h0vRrS01CxszNb6jFEFuRKi7g5l+8SSOcmgD1Giue8A6xP4g+Huhard8z3djFJKT3bbyfzroaACiiigAooooAKKKKACiiigAooooAKKKKACiiigAooooAKKKKACuS8Uf8j94I/wCv26/9JJa62uS8Uf8AI/eCP+v26/8ASSWgDraKKKAOS8L/API/eN/+v21/9JIq62uS8L/8j943/wCv21/9JIq62gDyvVdb0rQv2iVuNb1Oz02BvD+xZby4WJS3ndAWIGfarHxV8Q6Lr/wW8UNoWr2GprDbASGzuUmCEsMZ2k4rttV8K+HteuEn1zQdM1KZF2LJeWcczKvoCwJAptr4Q8NWVhc2Vn4e0q3tLrH2i3iso1jmx03qFw340AcT8VrqLT/CHha/u28u1tdYspJ5T0jTpuPoOaqfGC6sfE3gCw1XRdVkutM0/VYZry80a4DyQxjIZ0dcjK7ge+K9TuLO1u7NrS6toZ7Z12tDJGGRh6FTxiorDStP0qxFlpdhbWVqM4gtoVjjGevyqAKAPE5vD3w71CC3jvPjJ4h1SGeWPZZS+Io7jzW3Dapi2E9cduPauy1xQP2gPCQxnbpN7jP1Suvs/Cnh3Tr9r7T9B0y1u2OWuILONJD/AMCAzV6TT7OXUIr+W0ge8hRkiuGiBkjVvvKrYyAcDIHWgDgvi14iv9GXQLK31c6DYapfGC+1ZVBNtGFJADMMKWPG49K4XTYdCg+NfhSPQvHOseLWBuDM97qIvIYMxHARlUKCecgE8AV7xe2NpqNo9rqFrDd28gw8M8YdG+qng1VtPD2i2CWyWOkWFstqxa3WG2RBCSMEpgfKSODigDz2913S/Df7Q15ceINQttMt7vw/EkM93KsUbsszEqGYgZ56UzxJq+neHvj5oOt6zeRWemX2iTWsV5MwWHzPMVwC54GR616Rqeh6TrQiGsaXZagIW3Ri6t0l2H1G4HBp2oaRpurWX2PVdPtb614/cXMKyJx0+VgRQB5gPFOk+J/2hPD7aDdC9t7XTLyNrqIZhdjsJCP0fHGcZxkVr+AQP+FofEU45+323P8A27rXbwaNpdtJbSW2m2cL2iNHbtHAqmFG+8qED5QcDIHXFSwafZ2t1cXNraQQz3TBriWOIK0xAwCxAyxA45oA8V8c6TYxfHCa58S+KdZ8K2GpaZElpf6df/ZI5JI2O6OSQgjvkA4re8C6B4Ni8eC/0bx/qvizVoLJ0C3eqpfJFEzLn5lX5eccbvwr0u/02x1W0a11Syt723b70NzEsiH8GBFR6Zoul6JAYdG02z0+I9Y7S3WJT+CgUAYfxN0u71r4YeINP01DJdT2TrGi9XPXA+uMV5Jo+neBdQ8KW8198ZfFFlutwtxYXHiNImiO3DRmJlzgcjGDX0JWTN4U8O3Gpf2jcaBpct9nP2p7ONpc/wC+RmgDzzxXp+naV4D8A2OiTS3GnQ6vYrbSzffePkqTwOSPYVsfFoA23hYkdPENp/M13N1p9nfLEt7aQXIhkEsQmiD+W46MuRwR2Iou7CzvxEL60guRDIJYhNGH2OOjDPQj1HNAHDfFoA23hYkDI8Q2mD6cmsXUfE+leGP2i7yXXbj7HbXOhW8QupFxDG3muQHfomexPFep3dhZ34iF9aQXIhkEsQmjD7HHRhnoR6jmo59H0y6nmmudOtJpbiIQzPJArNJGDkIxI5UEk4PHNAHmy6vp/jL4+aPc+GbuLULTRNMuPtl5auJIt0pASPeMgngniuG8M6Fodpfa5pniv4j+IfCOp2+pzu1nFra2UEkbuWSRA64bcDyQa+gtN0jTdFtfsuj6fa2FvnPlWsKxJn1woAqHVPDmia4yNrej6fqJj+4bu1SXb9NwOKAPKZvCujP8FfGsHgTXr/xLLfF5J7u6uRcPNKqqSocKN3ygc8/WtW5+J/hC5+E/l2WrW897caYbePTLZhJdeYY9uzyR8wwe+MYGa9OtrWCzt0gs4I4IUGFjiQKqj2A4FUoPDmiWt9Pe22jafDdXAImnjtUWSUHqGYDJ/GgDxSSQaZ8KvhR4gu1Y6bpNxBJesFyIkZCocj0BP61q/F/xz4c1zw5pum6Dqtvq07araTObBxOkKCUDMjLkJkkAA8kmvX4tOsoNNXT4LO3jslTy1tkiURhP7oXGMe1U4PC3h+1sWsrbQtNhtHkErW8dnGsbODkMVAxkEZB9aAOQ8S/8l68F/wDXhf8A8o6k8Kf8ln8cf9c7L/0Wa7iTT7Oa+hvZrSCS7t1ZYbhogZIw33grYyAcDOOtEVhZwXk95BaQR3NwFE06RgPLt4Xcw5OO2elAHn+k/J8efGJSPef7Hszs/vn5+K8l0DxHo50EaHqXxSvPDNtMZRqGgHSSxtizndElwykqOcdTX0hf6NBPFqE1jFDaaleWxgN8kQEvQhcsOSFJyBnivNPDrfEnwp4btfC8fgDTdRS2jMX9prrEaQyn/no8bLvJPU+tAHpPhlNJi8L6dF4cmin0uK3SO1khcOrIowMEdelef69q1n4Q+Pltq/iOZbPTNU0f7Hb3sxxFFMkhYqzdFyD39K6r4ceE5/BfgyDSryeKa5aWS4m8gERo8jFiqA/wjOBXRXthZ6naNa6laQXdu/3oZ4xIjfUHg0AeX+Jtd0rxx8R/BuneE7+31WTTL5tQvLizkEsdvEEIwzrkZYkADNaGmf8AJyWuf9gC3/8ARjV3el6LpeiW5t9F02z0+EnJjtIFiUn1woAqVdOsk1F9QSzt1vZIxE9yIlEjIDkKWxkgelAFivKvh74g0jSfHHjfSNU1K1s9QudfLwW08ypJMHjQLsUnLZx2r1WqE+g6Rc6rFqdzpVjNfwjEd3JbI0qfRyMj86AOO8Kf8ln8cf8AXOy/9FmqFvavdfGjxzbW+Fln0G1RT0+YiQCvR4rCzgvJ7yC0gjubgKJp0jAeXbwu5hycds9KI9Ps4tQlv4rSBLyZFSW4WICSRV+6rNjJAycA9KAPnfwNpHhgeE7a0134q+JfDWp2QMF3pTeIEtFt3UkEJGy/d7jGetezfDbStC0jwTbQeFdSuNU015ZZUvLl97yszncS21c/NnnHPvWrqHhfw/q14t3quh6be3KfdmubOOR1+jMCa0440ijWOJFRFGFVRgAewoA8x+Kdjaan4++HtnqVrDd2s2ozCSC4jEiOPJJwVPBqtrunWfwu+Imha3oNtFp2g6zL/Z2p2lsmyFZG/wBVLsHAOeMgCvUbjTrK7ube4u7O3nntWL28ssSs0LEYJUkZU44yKS/02x1W1+zapZ297BuD+VcRLIu4HIOGBGQaAPMdf1CH4f8Axt/4SPWsw6Fr2npZyXu0lLeeNsqHI6Bh3q/45+MHhDSPCN6+neINO1K+nhaK2t7O6SVmdhgZ2k7QM5JOK9EntoLq3eC5hjmhcbWjkQMrD0IPBrKtvB3hmyhuIrLw7pVtHcqVnWGyjQSg9Q2F5/GgCh8NdCPhv4baHpbSpK8Nqpd42DKWb5jgjqMnrXUVz3hfwVpXg6S7XQWu4bS5IYWT3DPBARnJjVs7c55AOOBXQ0AFFFFABRRRQAUUUUAFFFFABRRRQAUUUUAFFFFABRRRQAUUUUAcl46/5CPg/wD7GCP/ANJ5662uS8df8hHwf/2MEf8A6Tz11tAGF4y8Xab4H8L3Ot6w5EMIwka/elc/dQe5rz7wNrXhqbWJPGHjDxh4fk8RX6eXBapqkJTT4T0hQbvvH+I9zXqWqaPput2f2TWtOtNQttwbybuBZUyOh2sCM1kL8O/BKOGTwfoCspyCNMhBB/75oA43X9StPBnx6tNd1qdbTSda0n7F9slbEUc0b7gGboMg9TxTdY1rT/Hvxa8KWXhi9g1O20OSTUb67tJBJFHlNqJvXgknsK9PvNPs9Rs2tNQtILq2cYaGeIOjfVSMVHpukabo1r9m0fT7WwgznyrWBYlz9FAFAFyiiigAooooAKKKKACiiigAooooAKKKKACiiigAooooAKKKKAI7n/j1l/3D/Kua+GP/ACSfwr/2Cbb/ANFLXS3P/HrL/uH+Vc18Mf8Akk/hX/sE23/opaAN/VI7ybSLuPS5EivXhdbeST7qSEHaTweM47V4jfeHfip4V+Fep6U//CFtpkVnM11JGbs3Eu4EyPkgKXOSckYzXvFR3FvDd20lvdQxzwSqUkikUMrqeoIPBFAHhd1pfi3U/wBnCF9Ui02ZrBLO+06PTRKXaCLaxEm7+PGfu8V1Pij4seFb/wCGt0+i6xaX+o6laGC106CUPcNLIu0KYx8wwTzkV6Xb28NpbR29pDHBBEoSOKNQqoo6AAcAe1ULbwzoNnqb6jaaJp0F85y11FaRrK31cDJ/OgCp4G0aXw74C0TSLj/XWdlHFJ7MF5/Wt6iigAooooAKKKKACiiigAooooAKKKKACiiigAooooAKKKKACiiigArkvFH/ACP3gj/r9uv/AEklrra5LxR/yP3gj/r9uv8A0kloA62iiigDzey8GeG/EnxG8Z3Gv6HY6jNHd2qI9zArlR9ki4BNbf8AwqnwF/0KGj/+Aif4UeF/+R+8b/8AX7a/+kkVdbQByX/CqfAX/QoaP/4CJ/hR/wAKp8Bf9Cho/wD4CJ/hXEfEzxz4s8OfEJE0O9RdJ03Tk1C/s2t0czxebtkIYjcCFOeD2r160uob2yhu7Zw8M8ayRuOhUjIP5UAcx/wqnwF/0KGj/wDgIn+FH/CqfAX/AEKGj/8AgIn+FcPpnxA8S6v8YbBLe+RfC19d3Vnb2v2dMy+QnzS7yN3L5AAOOK9Y1TWtL0S3FxrWpWenwk4El3OsSk+mWIFAHP8A/CqfAX/QoaP/AOAif4Uf8Kp8Bf8AQoaP/wCAif4V0LaxpiaS2qPqNounqm9rszqIgvrvzjHvmuW8E/FHQfGUbxpf6da332ua3hshqEcksyoxAkVeCQwG7gHjuaALH/CqfAX/AEKGj/8AgIn+FH/CqfAX/QoaP/4CJ/hWP4J8SpbX3jefxJrSw2dnrzwwyX91tjhTy0IRS5woyTwK9Atbq3vbWO5sp4riCQbklicOrj1BHBoA5f8A4VT4C/6FDR//AAET/Cj/AIVT4C/6FDR//ARP8K2L3xRoGm6gljqOuabaXj/dt57uNJG+ik5NagYFdwIxjOaAOT/4VT4C/wChQ0f/AMBE/wAKP+FU+Av+hQ0f/wABE/wrN+JHiyxk+GHid/DWv276hZWjEtYXimWBsjn5DlT+VdhoMrzeG9NlmdpJHtImd2OSxKDJJ9aAMH/hVPgL/oUNH/8AARP8KP8AhVPgL/oUNH/8BE/wrraKAOS/4VT4C/6FDR//AAET/Cj/AIVT4C/6FDR//ARP8K62igDkv+FU+Av+hQ0f/wABE/wo/wCFU+Av+hQ0f/wET/CutooA5L/hVPgL/oUNH/8AARP8KP8AhVPgL/oUNH/8BE/wrraKAOS/4VT4C/6FDR//AAET/Cj/AIVT4C/6FDR//ARP8K62igDkv+FU+Av+hQ0f/wABE/wo/wCFU+Av+hQ0f/wET/CutooA5L/hVPgL/oUNH/8AARP8KP8AhVPgL/oUNH/8BE/wrraKAOS/4VT4C/6FDR//AAET/Cj/AIVT4C/6FDR//ARP8K62igDkv+FU+Av+hQ0f/wABE/wo/wCFU+Av+hQ0f/wET/CutooA5L/hVPgL/oUNH/8AARP8KP8AhVPgL/oUNH/8BE/wrraKAOS/4VT4C/6FDR//AAET/Cj/AIVT4C/6FDR//ARP8K62igDkv+FU+Av+hQ0f/wABE/wo/wCFU+Av+hQ0f/wET/CutooA5L/hVPgL/oUNH/8AARP8KP8AhVPgL/oUNH/8BE/wrraKAOS/4VT4C/6FDR//AAET/Cj/AIVT4C/6FDR//ARP8K62igDkv+FU+Av+hQ0f/wABE/wo/wCFU+Av+hQ0f/wET/CutooA5L/hVPgL/oUNH/8AARP8KP8AhVPgL/oUNH/8BE/wrraKAOS/4VT4C/6FDR//AAET/Cj/AIVT4C/6FDR//ARP8K62igDkv+FU+Av+hQ0f/wABE/wo/wCFU+Av+hQ0f/wET/CutooA5L/hVPgL/oUNH/8AARP8KP8AhVPgL/oUNH/8BE/wrraKAOS/4VT4C/6FDR//AAET/Cj/AIVT4C/6FDR//ARP8K62igDkv+FU+Av+hQ0f/wABE/wo/wCFU+Av+hQ0f/wET/CutooA5L/hVPgL/oUNH/8AARP8KP8AhVPgL/oUNH/8BE/wrraKAOS/4VT4C/6FDR//AAET/Cj/AIVT4C/6FDR//ARP8K62igDkv+FU+Av+hQ0f/wABE/wo/wCFU+Av+hQ0f/wET/CutooA5L/hVPgL/oUNH/8AARP8KP8AhVPgL/oUNH/8BE/wrraKAOS/4VT4C/6FDR//AAET/Cj/AIVT4C/6FDR//ARP8K62igDyvxj8N/BdnfeF1tfC+lwrc63HDMEtlHmIYJiVPHIyoOPYV0//AAqnwF/0KGj/APgIn+FHjr/kI+D/APsYI/8A0nnrraAOS/4VT4C/6FDR/wDwET/Cj/hVPgL/AKFDR/8AwET/AAra1+PWptKaPw1cWdtfM4AmvI2kSNf4iFUjLegJArzq/wBV8dfDzxBokniPxHbeJtI1e/SxlQaalrJas/3WTYTuGfX/AOvQB1f/AAqnwF/0KGj/APgIn+FH/CqfAX/QoaP/AOAif4VR8Y+JNdm8Xaf4N8HTW9nqF3bvd3WoXEXmraQqcAhMgMxPQHis7S9b8W+EPH2l+G/Gmr2/iCy1pJBZ6klmtrJHMg3GNkUlSCOhoA3/APhVPgL/AKFDR/8AwET/AAo/4VT4C/6FDR//AAET/CutooA5L/hVPgL/AKFDR/8AwET/AAo/4VT4C/6FDR//AAET/CutooA5L/hVPgL/AKFDR/8AwET/AAo/4VT4C/6FDR//AAET/CutooA5L/hVPgL/AKFDR/8AwET/AAo/4VT4C/6FDR//AAET/CutooA5L/hVPgL/AKFDR/8AwET/AAo/4VT4C/6FDR//AAET/CutooA5L/hVPgL/AKFDR/8AwET/AAo/4VT4C/6FDR//AAET/CutooA5L/hVPgL/AKFDR/8AwET/AAo/4VT4C/6FDR//AAET/CutooA5L/hVPgL/AKFDR/8AwET/AAo/4VT4C/6FDR//AAET/CutooA5L/hVPgL/AKFDR/8AwET/AAo/4VT4C/6FDR//AAET/CutooA46f4V+A1tpSvhHRwQhIP2RPT6VgfD34a+CtQ+Gvhy8vvC+l3FzcaZbySyyWqlnYxgkk45JNemXP8Ax6y/7h/lXNfDH/kk/hX/ALBNt/6KWgCP/hVPgL/oUNH/APARP8KP+FU+Av8AoUNH/wDARP8ACutooA5L/hVPgL/oUNH/APARP8KP+FU+Av8AoUNH/wDARP8ACutooA5L/hVPgL/oUNH/APARP8KP+FU+Av8AoUNH/wDARP8ACutooA5L/hVPgL/oUNH/APARP8KP+FU+Av8AoUNH/wDARP8ACutooA5L/hVPgL/oUNH/APARP8KP+FU+Av8AoUNH/wDARP8ACutooA5L/hVPgL/oUNH/APARP8KP+FU+Av8AoUNH/wDARP8ACutooA5L/hVPgL/oUNH/APARP8KP+FU+Av8AoUNH/wDARP8ACutooA5L/hVPgL/oUNH/APARP8KP+FU+Av8AoUNH/wDARP8ACutooA5L/hVPgL/oUNH/APARP8KP+FU+Av8AoUNH/wDARP8ACutooA5L/hVPgL/oUNH/APARP8KP+FU+Av8AoUNH/wDARP8ACutooA5L/hVPgL/oUNH/APARP8KP+FU+Av8AoUNH/wDARP8ACutooA5L/hVPgL/oUNH/APARP8KP+FU+Av8AoUNH/wDARP8ACutooA5L/hVPgL/oUNH/APARP8KxL3wZ4b8N/EbwZcaBodjp00l3dI720CoWH2SXgkV6RXJeKP8AkfvBH/X7df8ApJLQB1tFFFAHJeF/+R+8b/8AX7a/+kkVdbXJeF/+R+8b/wDX7a/+kkVdbQB5jfWcOo/tBXFldIHguPDLRSKe6tLg/wA653S/Ft94Z+FeseFN5fxDpN7/AGJYqclpPNOIH9wEOc/7Nem/8IkP+Fkf8JZ9t5/s77D9l8r/AG92/fn8MY/Gsm/+F2m3/wAWbPxxJcES20IVrTy/lklAISQtnqASMY9OaAOcu9Ch8M+Pvhho1t9yzguoy395vKG5vxOT+Nc9dyavr3xV8V3DfDm18bpp9wllB9s1GCKOzQIDtWKUEEsTksBXrWs+Ehq/jPQNf+2+T/Y/nfuPK3ed5i7fvZG3H0NZPiD4eXt14in1/wAH+Jrnwzql2ipdtHbR3MNwF4UtG/G4DjOaAMH4a+FtXh1bxJD4g8F2/h/w7qSRPFo73cN5B5vIkIVeACNp27QKPgp4Z0JNDvdSTRNOW+t9avY4boWiCWNBIVCq+MgAcYB6V2/hbw/quiR3Emu+JrzX7u425kniSGOMDP3I0GFznnrnisXw/wDDzUfDPim4u9J8V3MehXN1JeS6K1pGwMj53YmPzBcnOB6UAcx4F8F6D4h8a+OdQ1/TodTaHXJIooLxRLDH+7QlhG2V3HON2M4ApPCcj+ENJ+J9log8u20e7klsIBysBaAPhR2GecV6D4X8Kf8ACNX+vXIvPtP9sai19t8rZ5OVVdmcnd93rx16VHong2LStX8TXdxci8i8QXKzPA0W0RKIwhTOTuzjrgdaAOW8CfDTwfqPw60651XRbHV7zU7Vbm6v7qFZJpZJBuZhIRuHJ4wRiuH/ALW1C1+Aep6TFeTiCHxC2ixXJcl1tTOFxu/3TtzXc2/wq1/SITpfhn4ialpmgZbbYGyimkiUnlY5m+ZRzxxxXRH4caB/wrx/BqxSrproQX35lL53eZu/v7vmz60AcT8Vfhp4R0r4Q6tcaTolrYXWn2m6K5tIxFI+MAh2HLg9w2a9P8Of8itpX/XlD/6AK8/vvhDrOu+HrnRvE/j/AFHVLMwmO0i+yRwrE2MK8hQhpivXBYAnrXpOnWn9n6Xa2e/zPs8KRb8Y3bVAzjt0oAs0UUUAFFFFABRRRQAUUUUAFFFFABRRRQAUUUUAFFFFABRRRQAUUUUAFFFFABRRRQAUUUUAFFFFABRRRQAUUUUAFFFFABRRRQAUUUUAFFFFABRRRQAUUUUAFFFFABRRRQAUUUUAFFFFAHJeOv8AkI+D/wDsYI//AEnnrra5Lx1/yEfB/wD2MEf/AKTz11tADXdYo2kkYIiglmY4AHqa8xspJfip45s9WhRl8JeH52ktJWGP7RuhxvA/55pzg9zXUfELwld+N/CE+h2WtPo/2hl82dIPN3oOqEbl4PHeua074ffEPS7e2tbX4ppHZ2wVEt4/DVsqhB/CMNxxQA61Pk/tNX4m4Nx4diMBJ6hZTuA/OnfEjE3xG+HVvGN0w1SWXA6hFiOT9K2/GHgMeJr3T9W07V7nRdd00MttqNvGr/K33ldG4dT6VB4Z+H9xpviH/hIvFPiG48Sa0kJt4biW3SCO3Q9QkScAnuc0AdrRRRQAUUUUAFFFFABRRRQAUUUUAFFFFABRRRQAUUUUAFFFFAEdz/x6y/7h/lXNfDH/AJJP4V/7BNt/6KWuluf+PWX/AHD/ACrmvhj/AMkn8K/9gm2/9FLQB1NFFFABRRRQAUUUUAFFFFABRRRQAUUUUAFFFFABRRRQAUUUUAFFFFABRRRQAUUUUAFcl4o/5H7wR/1+3X/pJLXW1yXij/kfvBH/AF+3X/pJLQB1tFFFAHm9lD4pk+I3jM+HL/R7aD7Xa71v7KWZi32SLoUlQAfga2/snxF/6DPhf/wUXH/yTR4X/wCR+8b/APX7a/8ApJFXW0Acl9k+Iv8A0GfC/wD4KLj/AOSaPsnxF/6DPhf/AMFFx/8AJNaXiLxVYeGbjSYb+Od21a9Wxg8lQcSMCQWyRgcHpn6Vt0Acl9k+Iv8A0GfC/wD4KLj/AOSaPsnxF/6DPhf/AMFFx/8AJNdbRQByX2T4i/8AQZ8L/wDgouP/AJJo+yfEX/oM+F//AAUXH/yTXS3moWenRxvqF3BapLIsUbTyhA7scKoyeST0HU1m+LPFNl4O8PyaxqcVzLbxyJGVtow75dgo4JAxk+tAGZ9k+Iv/AEGfC/8A4KLj/wCSaPsnxF/6DPhf/wAFFx/8k1P4z8Zx+EtHtLiLT5tSvdQuEtrKxiYI00rDIBY8KMAkmq0fjySxXw/beKdBu9J1TXLh7aO0jlS5WFl5y0ikDBHPAJ9qAHfZPiL/ANBnwv8A+Ci4/wDkmj7J8Rf+gz4X/wDBRcf/ACTXW0UAcl9k+Iv/AEGfC/8A4KLj/wCSaPsnxF/6DPhf/wAFFx/8k11tV5r+ztru3tbi7giuLkkQQvIFeXAydoPLYHJxQBzX2T4i/wDQZ8L/APgouP8A5Jo+yfEX/oM+F/8AwUXH/wAk1o+IPFdj4bvtHtb6G5kk1e7FpAYIwwVyM5YkjA49z7VuUAcl9k+Iv/QZ8L/+Ci4/+SaPsnxF/wCgz4X/APBRcf8AyTXW0UAcl9k+Iv8A0GfC/wD4KLj/AOSaPsnxF/6DPhf/AMFFx/8AJNdbRQByX2T4i/8AQZ8L/wDgouP/AJJo+yfEX/oM+F//AAUXH/yTXW0UAcl9k+Iv/QZ8L/8AgouP/kmj7J8Rf+gz4X/8FFx/8k11tFAHJfZPiL/0GfC//gouP/kmj7J8Rf8AoM+F/wDwUXH/AMk11tFAHJfZPiL/ANBnwv8A+Ci4/wDkmj7J8Rf+gz4X/wDBRcf/ACTXW1heKPF1h4Sj059ShupRqF7HZRfZot+136FuRheOv6UAZ/2T4i/9Bnwv/wCCi4/+SaPsnxF/6DPhf/wUXH/yTXW0UAcl9k+Iv/QZ8L/+Ci4/+SaPsnxF/wCgz4X/APBRcf8AyTXW0UAcl9k+Iv8A0GfC/wD4KLj/AOSaPsnxF/6DPhf/AMFFx/8AJNdbRQByX2T4i/8AQZ8L/wDgouP/AJJo+yfEX/oM+F//AAUXH/yTXTXt9aabaPdajdQ2lvHjfNPIERcnAyx4HNSl1Ee8sNmM7s8Y9aAOU+yfEX/oM+F//BRcf/JNH2T4i/8AQZ8L/wDgouP/AJJq/wCD/E3/AAlujyapFZm2tGuZIrVmk3GeNG2iTGBtBIOBzx3reoA5L7J8Rf8AoM+F/wDwUXH/AMk0fZPiL/0GfC//AIKLj/5Jq9onildV8Sa3odxafZLzSZU+Xzd/nwuuUlHAwDyMdiOprfoA5L7J8Rf+gz4X/wDBRcf/ACTR9k+Iv/QZ8L/+Ci4/+Sa62igDkvsnxF/6DPhf/wAFFx/8k0fZPiL/ANBnwv8A+Ci4/wDkmutooA5L7J8Rf+gz4X/8FFx/8k0fZPiL/wBBnwv/AOCi4/8AkmutooA5L7J8Rf8AoM+F/wDwUXH/AMk0fZPiL/0GfC//AIKLj/5JrraKAOS+yfEX/oM+F/8AwUXH/wAk0fZPiL/0GfC//gouP/kmutooA5L7J8Rf+gz4X/8ABRcf/JNH2T4i/wDQZ8L/APgouP8A5JrraKAOS+yfEX/oM+F//BRcf/JNH2T4i/8AQZ8L/wDgouP/AJJrraKAOS+yfEX/AKDPhf8A8FFx/wDJNH2T4i/9Bnwv/wCCi4/+Sa62igDkvsnxF/6DPhf/AMFFx/8AJNH2T4i/9Bnwv/4KLj/5JrraKAOS+yfEX/oM+F//AAUXH/yTR9k+Iv8A0GfC/wD4KLj/AOSa62igDkvsnxF/6DPhf/wUXH/yTR9k+Iv/AEGfC/8A4KLj/wCSa62igDkvsnxF/wCgz4X/APBRcf8AyTR9k+Iv/QZ8L/8AgouP/kmutooA5L7J8Rf+gz4X/wDBRcf/ACTR9k+Iv/QZ8L/+Ci4/+Sa62igDyvxjbeOxfeF/tmq+HXY63GIDFpk6hZPImwWzOcrjdwMHJHPGD0/2T4i/9Bnwv/4KLj/5Jo8df8hHwf8A9jBH/wCk89dbQByX2T4i/wDQZ8L/APgouP8A5Jo+yfEX/oM+F/8AwUXH/wAk11U00VtA81xIkUUalnkdgqqB1JJ6CuU8J/Ezw74217U9L8OTTXR01VaW52AQybiR8hzk8jrgD0zQAv2T4i/9Bnwv/wCCi4/+SaPsnxF/6DPhf/wUXH/yTV7xX400nwdbQPqhnmuLp/LtbKzhM09w3cIg6/yrP8K/EnSPFOqyaSLPVNH1WOPzf7P1e0NvMyf3lGSCPoaAHfZPiL/0GfC//gouP/kmj7J8Rf8AoM+F/wDwUXH/AMk11tFAHJfZPiL/ANBnwv8A+Ci4/wDkmj7J8Rf+gz4X/wDBRcf/ACTXW0UAcl9k+Iv/AEGfC/8A4KLj/wCSaPsnxF/6DPhf/wAFFx/8k11tFAHJfZPiL/0GfC//AIKLj/5Jo+yfEX/oM+F//BRcf/JNdbRQByX2T4i/9Bnwv/4KLj/5Jo+yfEX/AKDPhf8A8FFx/wDJNdbRQByX2T4i/wDQZ8L/APgouP8A5Jo+yfEX/oM+F/8AwUXH/wAk11tFAHJfZPiL/wBBnwv/AOCi4/8Akmj7J8Rf+gz4X/8ABRcf/JNdbRQByX2T4i/9Bnwv/wCCi4/+SaPsnxF/6DPhf/wUXH/yTXW0UAcl9k+Iv/QZ8L/+Ci4/+SaPsnxF/wCgz4X/APBRcf8AyTXW0UAcdPa/ET7NLu1nwxjYc40m49P+vmsD4e23jxvhr4cOn6r4djtTpluYUn0yd3VPLGAzC4AJx1IA+lemXP8Ax6y/7h/lXNfDH/kk/hX/ALBNt/6KWgCP7J8Rf+gz4X/8FFx/8k0fZPiL/wBBnwv/AOCi4/8AkmutooA5L7J8Rf8AoM+F/wDwUXH/AMk0fZPiL/0GfC//AIKLj/5JrraKAOS+yfEX/oM+F/8AwUXH/wAk0fZPiL/0GfC//gouP/kmutooA5L7J8Rf+gz4X/8ABRcf/JNH2T4i/wDQZ8L/APgouP8A5JrraKAOS+yfEX/oM+F//BRcf/JNH2T4i/8AQZ8L/wDgouP/AJJrraKAOS+yfEX/AKDPhf8A8FFx/wDJNH2T4i/9Bnwv/wCCi4/+Sa62igDkvsnxF/6DPhf/AMFFx/8AJNH2T4i/9Bnwv/4KLj/5JrraKAOS+yfEX/oM+F//AAUXH/yTR9k+Iv8A0GfC/wD4KLj/AOSa62igDkvsnxF/6DPhf/wUXH/yTR9k+Iv/AEGfC/8A4KLj/wCSa62igDkvsnxF/wCgz4X/APBRcf8AyTR9k+Iv/QZ8L/8AgouP/kmutooA5L7J8Rf+gz4X/wDBRcf/ACTR9k+Iv/QZ8L/+Ci4/+Sa62igDkvsnxF/6DPhf/wAFFx/8k0fZPiL/ANBnwv8A+Ci4/wDkmutooA5L7J8Rf+gz4X/8FFx/8k1iXsPimP4jeDD4jv8AR7mD7XdbFsLKWFg32SXqXlcEfgK9IrkvFH/I/eCP+v26/wDSSWgDraKKKAOS8L/8j943/wCv21/9JIq62uS8L/8AI/eN/wDr9tf/AEkirraAPNfi5/yF/AX/AGMkP/oD1qap4h1O2+NWg6DDc7dNu9MuJ5oPLU73VgFO7G4Y9AcVzviW41rxr468OaVF4V1bTk0TWPtt1f3Ua/ZXjQMF8uQH5y2QcYBFX/iBb6tovj/w9400zRbvWrWxt57O9tbBd86pJgh0TPzYI6CgDZ8Qa7qNj8TfCuk2txsstQS6NzFsU+YUQFeSMjB9CK5e417xZ4n+ImtaHo3i2x8LtpMqpBYz6elxLfqUDeYS7A7cnHyUJeeI/FPxX8K61P4XvtJ0a3jukQ3ifvwWj+9Kq5WMHgAE5JzUHxDvbfxA95o+rfC7XdR1OMvHp+pWtsjRg/wSC5DAxjOCQenvQBD8adK8T3GkeGpz4jisx/aNlDLaw2KSJ9qMnE6ux3YU/wAB4OOai8bwfEzwN4abXJfiZ/aSRXEEbW39g20W8PIqH5ucdfStTxV4e8UH4N+HoriCTV9c0i5s7u7hibdJN5TAsAf4mx+eKPiDe6j47+DtxJp3hrW7O4a+tttjeWhW4ZVmQlvLUk4xn8qAMv4w6T4ju/Gfg2aw8UfYoLnUo4rSD+z45Psk3lsTNuJy+RxtPFW7xvH/AIO8b+E7fWPHv9u2Wr6gbaa3/saC2woQtncuT+WK3viJpl/fa94EksrK4uEtNZWW4aKIsIU8thuYj7oz3NO+IWm3194z8BT2VncXEVpqzSXEkURZYU8sjcxH3RnuaAK2ra14q8WeOtT8M+DNWt9BttGjjN7qUlot1I0rjcI0RiFAA5JNbtpZeN7Pwpd211rWlX2rrJi21CW1aKPy+MtJGpxuHzYAOOnvXLXsutfDz4k65rUXh3U9e0TX1hlY6TEJp7edF2EGMkZUgDmneM18WeOPhdqHl+H7jT2e8iePTHmC3FzaKyl1fBwrNz8uenFAGLN4113wn4j0sXXxI0PxfFe6hFZXOlwW0EM1uJDtDp5bljgkZ3VN8R9D8U3fxe8LnTfGH2Bbp5xYr/ZkUv2ErEN5yT+83f7XTtWFrGmwa2mhHwj8JLzQUs9XtHur250yO3nVVlGQoXLuvcscDA5rv/iXHqmn+JPCvibTdGvdYttJuJhd21hH5k4SSPaGVMjdyKAMPUj8QfBvizwrHqvj/wDtyz1bUxaTW39jW9t8u0t95cnt2x9a3Nc13xR4k8dXvhTwXqFtosWmQJLf6rNai4cPJykccZIU8ckmq/jAaj4mu/h9qlrompQLHrInuIJ7c+ZapsYZlC5Cdup71Hqra54B+JWreIbbw/qGv6JrcEXnJpaCW4tpoxt/1ZILAjuOlAFrQNe8UeHfiBa+EPGmo22tJqVq9xYanDbC3dmjxvR41JUcEEEVmabqnxB8YeIPFGl6Prlno1jpepvBHqMlmlxMPlUiJY/lXAzks2Sc+1XdFg1jxv8AEvT/ABbqGhXug6Vo9pLDZw6ioS5uJJcbmZATtUAd+taPw4069sNa8bSX1pPbpda880DSxlRKnloNy56jIPI9KAJPht4k1nV4ta0nxQ0M2q6FfG0muYE2LcKVDK+3sSDyBxVv4j+Mj4K8LreQfZvtd1cR2ls13JshR3P35GyMKoyT9KoeA9OvbPxv48nu7SeCG61OJ7eSWIqsyiFQWUnhhnjIp/xX8K3fijwrANMs7e/u9OvI71LG5AMd0EPzRndxyCevFAHD3HxA1fwtLb6ncfEzw14utpLmOO50q1SCKWNHYKWhKOWbbnOGHSuu8S+LtQ8D+OrS8169D+ENUi8oSNEo/s+4UZGWAyVcepODXPadc+Hr6/gtbL4F3dveiRA8l3odrbwRcjLCY9cdeBk4ra8X6BdfEfxcvhnUbS7tvCumxie7lKtEL6cj5ERuMqn3iR3wKALOga/4i1Xwbr/iu8ma1tbiGWbRrNoUBghRDtkbIyWcjdg5AGOKw9El+Kfi7wPp3iGz8Rado7vaLNFZfYFuDefLndLIcbN3XCLxmrmgS65p/wAP/EvhfxLbXTTaLaSw2uoyRN5d7b+W3lsHxgsBwRnNYfgnx34j0b4W6Jpo8C6vqN0+nRjT7rTkWS2lUp8hlckGI9Mgj6UAbc3xbkX4Qad4mEFrb6pfzrYiO5k2QQ3G8o7OxPCLtJ69O9YFx8QNX8LS2+p3HxM8NeLraS5jjudKtUgiljR2CloSjlm25zhh0q7efC/VYvgvpOlra2uo6zp94NUnsptpiuZC5eSI54OQxHPHFGnXPh6+v4LWy+Bd3b3okQPJd6Ha28EXIywmPXHXgZOKANrxx4i8WW/xH0Dw/wCEZrdV1SxuGkNzGpSEqVxMeNzbQThQQCTzT9evvFXhDw/4fhvvES6pfXWuQW094tjHD5kLk5TYMgdOo5q3rOnXknxx8M38VnO9lBpd5HLcLETHGzFNqlsYBOOAetP+J2n3moW/hwWFpPcmHXbWWUQxl9iAnLHHQD16UAUPFniDxanxT0/wz4VmtI473S5J5Hu4wyW5WQAy4A3OQDgLuAycmsaLWfiXpHjk+CJtU03Wri+tftltrM9oIPssYba+YUOHIJAAz35NdLeadet8fNM1FbSc2UegzwvciM+WrmVCFLdMkAnFF5p163x80zUVtJzZR6DPC9yIz5auZUIUt0yQCcUAVPCus+KtH+I83g/xfq0GuLPYG/s7+OzFs+A4VkZFJXjIx3rnbj4g3/inVtRbTviP4e8F2NjdvbQQXSQTXFzsOGdxK67FJzjAzjvXW3mnXrfHzTNRW0nNlHoM8L3IjPlq5lQhS3TJAJxXC22gWPgTUdTsPE3wvl8V29xfS3Nlqmn6TDeyMkjbtkm7DKVJI54oA6rw38QL/Xfhx4mu3urKbVdCE8JvdPIkt52WPckqdRggjjkZBrIgvPirq/gG38Ww69pummKyF0mlfYVm+1qEyTJLkbC2CcIABkCujtbNLj4Xa+uk+Cz4ZN1bziHT47eNJZ/3eAzRxcBj0xyeK0dDsrqH4N2llLbTJdrooiMDRkSB/Kxt29c54xQBwvxOvtW8Y/Aqz8R6Zq39l2lxaxT3dj9lSXzy7JgbycptbnjrWxrieJvB/wAG/Et5r/in+37g2J+yyf2fHa+RuXbjCE7uTnJ9KrN4a1m+/ZgtNEtrCVdWTTIsWcyGN96MG2ENjB46GrGvaleePfgv4ktD4c1jRriKxKCLVLfyjK6ruOwZJK5XGeM0Aalzez+APgXDdaParNNpulxGONlLKDtGWYDkgZJP0o8CL4qupINVvPHGm+J9IuoyzJBYJCYWIyAjox3YPBDc1d0zxJM3wo0rXNM0qfWjJZQM1pbFRI6kAPgNwSOTt74xXEeGNOfU/ipYa34R8Gat4P0+OOUaub+3Fol5kfIqwhiCd3O7FAHQas/9l/tEaDJF8q6xo9xbzAfxGJg6n8Nx/OvR6831Zf7U/aJ0GKL5ho+j3FxMQfumVgij8dp/KvSKACiiigAooooAKKKKACiiigAooooAKKKKACiiigAooooAKKKKACiiigAooooAKKKKACiiigDkvHX/ACEfB/8A2MEf/pPPXW1yXjr/AJCPg/8A7GCP/wBJ5662gCjrGi6f4g0uTTtYtlurOUqZIXJ2vgggHHUZA46GuA8J2sFl8e/FttZwR28EWl2KxxRIFVB83AA4Arvdd1b+w9FuNR/s++1HyAD9l0+HzZ5OcYVMjJ59a8b0TxtfWvxY1zxDN4A8bCz1S1traFf7GbejJnJf5sAc9QTQB1KY1D9peZbgKw0vQFNuCfutJIdxA+gAo+I0Ytvif8O9Qhwtw2oS2rMBy0bRklT7UeL7LWfDvxHsPHOi6PdazaPYmw1KzswDcKm7cjopI3EHIxUNkusfEX4haLrl34f1HQdD0FZJoU1WMRXFzcONv+rBO1VHc9aAPUaKKKACiiigAooooAKKKKACiiigAooooAKKKKACiiigAooooAjuf+PWX/cP8q5r4Y/8kn8K/wDYJtv/AEUtdLc/8esv+4f5VzXwx/5JP4V/7BNt/wCiloA6miiigAooooAKKKKACiiigAooooAKKKKACiiigAooooAKKKKACiiigAooooAKKKKACuS8Uf8AI/eCP+v26/8ASSWutrkvFH/I/eCP+v26/wDSSWgDraKKKAPN7LxTa6F8RvGcNzp+sXTSXdqwaw0ue5Uf6JF1aNSAfY1t/wDCxtO/6Avij/wnbz/43R4X/wCR+8b/APX7a/8ApJFXW0Acl/wsbTv+gL4o/wDCdvP/AI3R/wALG07/AKAvij/wnbz/AON11tFAHJf8LG07/oC+KP8Awnbz/wCN0f8ACxtO/wCgL4o/8J28/wDjddbRQByX/CxtO/6Avij/AMJ28/8AjdH/AAsbTv8AoC+KP/CdvP8A43XW0UAcl/wsbTv+gL4o/wDCdvP/AI3R/wALG07/AKAvij/wnbz/AON11tFAHJf8LG07/oC+KP8Awnbz/wCN0f8ACxtO/wCgL4o/8J28/wDjddbRQByX/CxtO/6Avij/AMJ28/8AjdH/AAsbTv8AoC+KP/CdvP8A43XW0UAcl/wsbTv+gL4o/wDCdvP/AI3R/wALG07/AKAvij/wnbz/AON11tFAHJf8LG07/oC+KP8Awnbz/wCN0f8ACxtO/wCgL4o/8J28/wDjddbRQByX/CxtO/6Avij/AMJ28/8AjdH/AAsbTv8AoC+KP/CdvP8A43XW0UAcl/wsbTv+gL4o/wDCdvP/AI3R/wALG07/AKAvij/wnbz/AON11tFAHDat4307VNGvbD+yfFEX2qB4fM/4Ry8bbuUjOPL561U8K+KtN8M+EtL0Qab4ouf7PtUt/O/4Rq8TzNoxnbsOPpk16JRQByX/AAsbTv8AoC+KP/CdvP8A43R/wsbTv+gL4o/8J28/+N11tFAHJf8ACxtO/wCgL4o/8J28/wDjdH/CxtO/6Avij/wnbz/43XW0UAcl/wALG07/AKAvij/wnbz/AON0f8LG07/oC+KP/CdvP/jddNc39pZvAl5dQ273EnlQrLIFMr4ztXPU8HgVPQByX/CxtO/6Avij/wAJ28/+N0f8LG07/oC+KP8Awnbz/wCN101zfWlm8CXl1DbtcSCKFZZAplc87Vz1PB4FT0Acl/wsbTv+gL4o/wDCdvP/AI3R/wALG07/AKAvij/wnbz/AON11tFAHJf8LG07/oC+KP8Awnbz/wCN01viJpjoVfQ/E5Vhgg+Hbzkf9+66+igDzLwdr2neENFk0qKx8U3VotzLLaq3hm8UwRu24R52HcAScHjjtXQf8LG07/oC+KP/AAnbz/43XW0UAeZaHrumaV4l1vXLnT/FF3eatImG/wCEZvE8iFFwkQ+Q5xyc9yegroP+Fjad/wBAXxR/4Tt5/wDG662igDkv+Fjad/0BfFH/AITt5/8AG6P+Fjad/wBAXxR/4Tt5/wDG662igDkv+Fjad/0BfFH/AITt5/8AG6P+Fjad/wBAXxR/4Tt5/wDG662igDkv+Fjad/0BfFH/AITt5/8AG6P+Fjad/wBAXxR/4Tt5/wDG662igDkv+Fjad/0BfFH/AITt5/8AG6P+Fjad/wBAXxR/4Tt5/wDG662igDkv+Fjad/0BfFH/AITt5/8AG6P+Fjad/wBAXxR/4Tt5/wDG662igDkv+Fjad/0BfFH/AITt5/8AG6P+Fjad/wBAXxR/4Tt5/wDG662igDkv+Fjad/0BfFH/AITt5/8AG6P+Fjad/wBAXxR/4Tt5/wDG662igDkv+Fjad/0BfFH/AITt5/8AG6P+Fjad/wBAXxR/4Tt5/wDG662igDkv+Fjad/0BfFH/AITt5/8AG6P+Fjad/wBAXxR/4Tt5/wDG662igDkv+Fjad/0BfFH/AITt5/8AG6P+Fjad/wBAXxR/4Tt5/wDG662igDkv+Fjad/0BfFH/AITt5/8AG6P+Fjad/wBAXxR/4Tt5/wDG662igDkv+Fjad/0BfFH/AITt5/8AG6P+Fjad/wBAXxR/4Tt5/wDG662igDkv+Fjad/0BfFH/AITt5/8AG6P+Fjad/wBAXxR/4Tt5/wDG662igDyvxj47sbq+8Lsmk+Ik8jW45WEuh3SFh5EwwuU+ZufujJwCexrp/wDhY2nf9AXxR/4Tt5/8bo8df8hHwf8A9jBH/wCk89dbQByX/CxtO/6Avij/AMJ28/8AjdH/AAsbTv8AoC+KP/CdvP8A43XW0UAcl/wsbTv+gL4o/wDCdvP/AI3R/wALG07/AKAvij/wnbz/AON11tFAHJf8LG07/oC+KP8Awnbz/wCN0f8ACxtO/wCgL4o/8J28/wDjddbRQByX/CxtO/6Avij/AMJ28/8AjdH/AAsbTv8AoC+KP/CdvP8A43XW0UAcl/wsbTv+gL4o/wDCdvP/AI3R/wALG07/AKAvij/wnbz/AON11tFAHJf8LG07/oC+KP8Awnbz/wCN0f8ACxtO/wCgL4o/8J28/wDjddbRQByX/CxtO/6Avij/AMJ28/8AjdH/AAsbTv8AoC+KP/CdvP8A43XW0UAcl/wsbTv+gL4o/wDCdvP/AI3R/wALG07/AKAvij/wnbz/AON11tFAHJf8LG07/oC+KP8Awnbz/wCN0f8ACxtO/wCgL4o/8J28/wDjddbRQByX/CxtO/6Avij/AMJ28/8AjdH/AAsbTv8AoC+KP/CdvP8A43XW0UAcl/wsbTv+gL4o/wDCdvP/AI3R/wALG07/AKAvij/wnbz/AON11tFAHHT/ABF05raUf2L4n5Q9fD156f8AXOsD4e+PLCy+Gvhy1k0jxFI8OmW6M8GhXUiMRGBlXWMhh6EHBr0y5/49Zf8AcP8AKua+GP8AySfwr/2Cbb/0UtAEf/CxtO/6Avij/wAJ28/+N0f8LG07/oC+KP8Awnbz/wCN11tFAHJf8LG07/oC+KP/AAnbz/43R/wsbTv+gL4o/wDCdvP/AI3XW0UAcl/wsbTv+gL4o/8ACdvP/jdH/CxtO/6Avij/AMJ28/8AjddbRQByX/CxtO/6Avij/wAJ28/+N0f8LG07/oC+KP8Awnbz/wCN11tFAHJf8LG07/oC+KP/AAnbz/43R/wsbTv+gL4o/wDCdvP/AI3XW0UAcl/wsbTv+gL4o/8ACdvP/jdH/CxtO/6Avij/AMJ28/8AjddbRQByX/CxtO/6Avij/wAJ28/+N0f8LG07/oC+KP8Awnbz/wCN11tFAHJf8LG07/oC+KP/AAnbz/43R/wsbTv+gL4o/wDCdvP/AI3XW0UAcl/wsbTv+gL4o/8ACdvP/jdH/CxtO/6Avij/AMJ28/8AjddbRQByX/CxtO/6Avij/wAJ28/+N0f8LG07/oC+KP8Awnbz/wCN11tFAHJf8LG07/oC+KP/AAnbz/43R/wsbTv+gL4o/wDCdvP/AI3XW0UAcl/wsbTv+gL4o/8ACdvP/jdH/CxtO/6Avij/AMJ28/8AjddbRQByX/CxtO/6Avij/wAJ28/+N1iXvim1134jeDIbbT9YtWju7pi1/pc9sp/0SXo0igE+wr0iuS8Uf8j94I/6/br/ANJJaAOtooooA5Lwv/yP3jf/AK/bX/0kirra5Lwv/wAj943/AOv21/8ASSKutoA8W8TW+jeJ/jdeeHfiPdzJpK2MLaRYyXT28Fy5z5jZUrucHgDNel+GPCml+CtNuLTSJbpbFpDMsVzdNKsA2gEIXJIXjOM9c0mv+H/DHjezm0zXLay1NbdtroWBkgbHqDuQ4x6V5Toi6nbeHfiZ4U0DU7jVtL0u1KaXPJJ5jQu8TFoA/fbxQB2M/wAavD0Uryw6Z4gu9KjJEmtW2lu9kmDgnzOpA9QCKp/Ff4l3Xhvw5ptx4ZttSuPt8sEseo2Vms9v5RkXMZZuA7qcKMZOeorB8HeGvGOt/DzT5tI+LMEWkyWap9nHh62ZYF24MbEtnI5BzzVnxpo0Hhf4A6LpkWppqVtY3tiBfKAqSJ56ncMEgDn1NAHpPhTxP/wlWnS3f9h6zo3ly+X5OsWn2eR+AdwXJyvOM+xq14i1218M+HL7Wr9JXtrGFppVhUFyo9ASBn8RVbxLYazrOkCDwv4iGhXfmK5uxZpdZTH3djnHORzXG+KdB8TWHwZ8XW3iPxKfEtzLZSNDINPjtTGoTldqE7umc0Ad1Jr1rF4VbX2Sb7Itn9sKBRv2bN2MZxnHv+NZWo/EHRdK8JaX4jv/ADoNP1J4VR3CgxeYMgvlsADvgn8awdS8RaPbfs/fbbjUbeO2m0UQxSGQYeQxbQg9TnjFct4xmtbf4DeCJtRKC0jvNMecyDKiMEFsjuMZoA7CH4x+HX1i2tLiy1qzs7yQRWurXenvFZ3DHoFkPPPYkAV39eZ/GvUNNu/g/cR288M8movDHpvlOG82UuuwpjrjrkV6NZJJHYW6THMixKHPqcc0Acp4i+Jmk6Bqz6Vb6drGu6hCqtPbaNYtctAD0LkYC/TOfaprf4i6PfeDL7xJpkN9ewafuF1ZxQbbmFl+8rRuVwQOcZ6dM15p4V0bxZqPjPxlbaH4/Xw7dJq8kk9i2kQ3MjqwGyTc5BKlcAdhiu38FeGz4Ql8S6n4h8W2+vT3bJLfzC0jthDsQj50RiMlcdh0oA2NQ8f6JYeFdP1+N5r231Jo0sobVQ0tw7nhVUkDPrk8YNR+IfiNoXhbWodL1lriK5ntTcwqke8y/Nt8tVUlmck9AD9a8f8AAiJo/wAQdI1jV7Sa38J6pcXI8MpNLlbKV26suPl8wA7eeAa7rxBf6bYftH+H31WeCDzdFnit2nIA80yrgAnoSA38u9AHQ+F/iXpHifWpdH+w6ro+qJGZVs9XszbySxg/fUEnI/X2pPEXxM0nQNWfSrfTtY13UIVVp7bRrFrloAehcjAX6Zz7Vh+MpYbz44eBrWwdX1C0FzPdbDkx25jx82OgLYxmuW8K6N4s1Hxn4yttD8fr4duk1eSSexbSIbmR1YDZJucglSuAOwxQB6xoPjPSPEugXGraVJK0VqXW4gkjMc0LqMlGRsENWDoHxd0PxPeadDoem6zeJehfMuYrLdBZswyEmkBKq3qATiqvhbwlc+HLXxdd6n4qi8RahqCb7p47SO28pliIG5EYjJGOw6Vc+CtvDb/Brw55ESR+Za+Y+1cbmLHJPuaAGeC5fD+i2fjC+0j+1HSDVLia/F26uTKqgt5WD93HTPNU5fjn4XWxhv7ey1q809lVrm+tbAyQWWQDtlkB2gjPIUtiqPhj/kVviX/2E77/ANFir3ha2gH7NdnEIUEb+HizKFADExEkn3J5oAs6n8aPC+nsZbeLVNT0+MgXGqadYtNaW2cffl6dxkDOK6jV/FejaH4bGu6jeqmnsqtHIoLGXd90Ko5YnPAFcd4WtYB+zXZxCFFjk8PlnVVwGJhJJPuTzXDa6t8/wo+FE9vq39kRpLb+ZqMkCzpbuYcI7I3ynnjn1oA9K0b4raPqutW+l3ula7oU925SzbWNPa3S6OM4RiSCcdjg1c8R/EnQfCuurpGrG5F3JbC4hSGHzDPltojRQdzPnsBjHeuR1L4eeKtSk0w+KvirDeWUN9BcxQtotvB5sisCoV1cHJ6cZ69DWtcQRS/tGWjyRI7xeH2aNmUEofOxkenFAGr4Y+JOleKLq+sobDVtN1Oyi86TTdSszBcMnZlXJyD9a4rwp8Y9S1HxrrdlfeF/Fc9q15BFaQrpChtPVkGROQQVyTu5J+Xmt/U0VP2jdBkUYaTQbkMR/EBImKb4DmjT4q/EWJ3VZPttq+0nB2+Qoz9MjFAEksn/AAkHx8jtJPmtvDWmfaAh6faJztDfUID+daPiP4maX4f1ttJh0rW9bvoVV7iLR7Brj7MrdC5BAGeuOTWR4RIi+O3jqKUfvZLeylQnumwj+f8AOpde8OanZeItU8V+A/EVnbXjRhdS0++US20zRrxuYENEwHegCx4/8rxZ8IbvVNI8wSRQLqVi0iNG6SRHeuVPIPykEfWup8N6umv+F9N1aLG29tY5uP8AaUE1zmneLF8W/BmfxDcWwtftGnTtLFu3KpCsDg9xkcGpPhDHJF8H/DKy5DfYEPPoeR+hFAHZUUUUAFFFFABRRRQAUUUUAFFFFABRRRQAUUUUAFFFFABRRRQAUUUUAFFFFABRRRQAUUUUAFFFFABRRRQAUUUUAFFFFAHJeOv+Qj4P/wCxgj/9J5662uS8df8AIR8H/wDYwR/+k89dbQBm69okPiHSX066uby3hkYGQ2c7QuwB+7uXkA9DjFeS674P0T4f+PPCn/CvnuLHVL/UQl5YJeSzC5t8He7q7HAHr0r13WU02502Sw1qSJbW+Bt2SWXy/N3A5UHIOSM9Oa8f8Z+DtB+E8Gn658PXm0jVpb2G3WwW6eVNQR3AZCjsxOAc5HSgDofF0b+NfiraeCbi7uIdFtdOOoajBbzNE10WbakbMuDt6kgGs4aBa/Cn4neGbbwq1xbaFr7yWdzpzzvLGkoXcki7ySD2PNX5rhNE/aRil1BxBFrmhrBbs5AVpY5MlM+uD0qTxxPHrHxe8D6NYustzp9xLqN0qnPkxBNoLemScCgD0yiiigAooooAKKKKACiiigAooooAKKKKACiiigAooooAKKKKAI7n/j1l/wBw/wAq5r4Y/wDJJ/Cv/YJtv/RS10tz/wAesv8AuH+Vc18Mf+ST+Ff+wTbf+iloA6miiigAooooAKKKKACiiigAooooAKKKKACiiigAooooAKKKKACiiigAooooAKKKKACuS8Uf8j94I/6/br/0klrra5LxR/yP3gj/AK/br/0kloA62iiigDkvC/8AyP3jf/r9tf8A0kirra83svCOk+IfiN4zn1P7dvju7VV+zalcWwx9ki6iKRQfqa2/+FY+GvTWP/B9ff8Ax6gCPxD8JfA3inVG1HXPD0FxeOQzzJJJEzkDGW2MN345rodF0HSvDmlpp2hWEFhaJyIoE2jPcn1Pueawv+FY+GvTWP8AwfX3/wAeo/4Vj4a9NY/8H19/8eoAqX/wZ+H2p6u2p3nhi1a6Zi7FHkRGJ6korBT+Irprrw9pF74eOhXOnW76UYhD9k2ARhB0AA6Y7Y6Vif8ACsfDXprH/g+vv/j1H/CsfDXprH/g+vv/AI9QBp+F/B+g+C9NksPDOnrYW0khldFd33NgDJLEnoB3rZdFkjZJFDowIZWGQR6GuT/4Vj4a9NY/8H19/wDHqP8AhWPhr01j/wAH19/8eoAhsfhF4D03ULi9svDVpFcXCsjsC5Chhg7AThOCeVArN+JPhxv+EQ8O6ToWmzT21nrNjiCFGl8uFHGSep2gdSfxrY/4Vj4a9NY/8H19/wDHqP8AhWPhr01j/wAH19/8eoANN+FfgjR/EB1vTfDlpBqG7eso3EI3qqE7VPuAK62uS/4Vj4a9NY/8H19/8eo/4Vj4a9NY/wDB9ff/AB6gCXxT8NvCHjSdJ/EuhwXk6LtEwZ4pMehZCCR7E0+D4d+FLXwvceHbTRYbfSrkhp7eF3j84jH3mUhm6DqeRxVf/hWPhr01j/wfX3/x6j/hWPhr01j/AMH19/8AHqANjWfDGjeINCGjatYpPYLs2whmTYU+6VZSCpGOCCK4vXvCkeufGSwTVNIe+0T/AIR+a3leaJni3+ahClz/ABYGRznjNbn/AArHw16ax/4Pr7/49R/wrHw16ax/4Pr7/wCPUAW/C3gHwv4K87/hGNHgsHm4kkUs7sPTcxJx7ZxUPin4beEPGk6T+JdDgvJ0XaJgzxSY9CyEEj2JqL/hWPhr01j/AMH19/8AHqP+FY+GvTWP/B9ff/HqANTQ/CGgeG9Hl0vQtLgsbObPmxwggyZGCWbqTjjJOauaNo9j4f0a20rSIPs9laJ5cMW9m2L6ZYkn8TXP/wDCsfDXprH/AIPr7/49R/wrHw16ax/4Pr7/AOPUAbFr4Y0iztdTtra02RarLJNeL5jnzXcYY5J4yPTFS2ug6bZ+HI9BtrbZpkdv9lWDexxFt27dxO7p3zmsL/hWPhr01j/wfX3/AMeo/wCFY+GvTWP/AAfX3/x6gDdtdB02z8OR6DbW2zTI7f7KsG9jiLbt27id3TvnNRJ4Z0ZfDEfh06fDJpEcAt1tJgZF2AYA+bJOPU81j/8ACsfDXprH/g+vv/j1H/CsfDXprH/g+vv/AI9QBBonwh8B+HdVXUtJ8OW0N2jb0kd5JfLb1UOxCn6YrpDoenHxEuum3/4mS2/2UT72/wBVu3bdudvXvjNYX/CsfDXprH/g+vv/AI9R/wAKx8Nemsf+D6+/+PUAbkug6bP4it9dltt2pW0D28U+9htjYgsu3O05IHJGaytY+HPhPX/EVvruraLBcanbMrR3G51OVOVyFIDY9wag/wCFY+GvTWP/AAfX3/x6j/hWPhr01j/wfX3/AMeoAo6vpd5pXxh0jxFYWk09rqVq+m6gYYy/lEfPFI2Oi5yue2RVrXPhN4G8Sa0dW1rw9b3N8xDPL5jp5hAxlgrAN07g1J/wrHw16ax/4Pr7/wCPUf8ACsfDXprH/g+vv/j1AFX4j6dct8PT4a8M6e6nUnj09FtYSEtYWOHc7RhVCA9cDoK67TrGLTNLtbG2G2G2iWJB7KMD+Vc3/wAKx8Nemsf+D6+/+PUf8Kx8Nemsf+D6+/8Aj1AHW0VyX/CsfDXprH/g+vv/AI9R/wAKx8Nemsf+D6+/+PUAdbRXJf8ACsfDXprH/g+vv/j1H/CsfDXprH/g+vv/AI9QB1tFcl/wrHw16ax/4Pr7/wCPUf8ACsfDXprH/g+vv/j1AHW0VyX/AArHw16ax/4Pr7/49R/wrHw16ax/4Pr7/wCPUAdbRXJf8Kx8Nemsf+D6+/8Aj1H/AArHw16ax/4Pr7/49QB1tFcl/wAKx8Nemsf+D6+/+PUf8Kx8Nemsf+D6+/8Aj1AHW0VyX/CsfDXprH/g+vv/AI9R/wAKx8Nemsf+D6+/+PUAdbRXJf8ACsfDXprH/g+vv/j1H/CsfDXprH/g+vv/AI9QB1tFcl/wrHw16ax/4Pr7/wCPUf8ACsfDXprH/g+vv/j1AHW0VyX/AArHw16ax/4Pr7/49R/wrHw16ax/4Pr7/wCPUAdbRXJf8Kx8Nemsf+D6+/8Aj1H/AArHw16ax/4Pr7/49QB1tFcl/wAKx8Nemsf+D6+/+PUf8Kx8Nemsf+D6+/8Aj1AHW0VyX/CsfDXprH/g+vv/AI9R/wAKx8Nemsf+D6+/+PUAdbRXJf8ACsfDXprH/g+vv/j1H/CsfDXprH/g+vv/AI9QB1tFcl/wrHw16ax/4Pr7/wCPUf8ACsfDXprH/g+vv/j1AHW0VyX/AArHw16ax/4Pr7/49R/wrHw16ax/4Pr7/wCPUAdbRXJf8Kx8Nemsf+D6+/8Aj1H/AArHw16ax/4Pr7/49QAeOv8AkI+D/wDsYI//AEnnrra8r8Y/D3QLS+8LrCNUxca3HDJv1q8f5TBMeN0p2nKjkYPUZ5NdP/wrHw16ax/4Pr7/AOPUAbmuaBpPiXTG0/XrCC/tGOTFOmQD2I9D7jmsDw78KPA/hTURf6F4et7e7U5WZ3eZkP8Asl2bb+GKf/wrHw16ax/4Pr7/AOPUf8Kx8Nemsf8Ag+vv/j1AGt4j8KaH4u04WPiTTINQtwdyrKDlD6qwwVPuCKr+FvAvhrwVDJH4Y0iCwEuPMdSzu4HQF2JYj2zVH/hWPhr01j/wfX3/AMeo/wCFY+GvTWP/AAfX3/x6gDraK5L/AIVj4a9NY/8AB9ff/HqP+FY+GvTWP/B9ff8Ax6gDraK5L/hWPhr01j/wfX3/AMeo/wCFY+GvTWP/AAfX3/x6gDraK5L/AIVj4a9NY/8AB9ff/HqP+FY+GvTWP/B9ff8Ax6gDraK5L/hWPhr01j/wfX3/AMeo/wCFY+GvTWP/AAfX3/x6gDraK5L/AIVj4a9NY/8AB9ff/HqP+FY+GvTWP/B9ff8Ax6gDraK5L/hWPhr01j/wfX3/AMeo/wCFY+GvTWP/AAfX3/x6gDraK5L/AIVj4a9NY/8AB9ff/HqP+FY+GvTWP/B9ff8Ax6gDraK5L/hWPhr01j/wfX3/AMeo/wCFY+GvTWP/AAfX3/x6gDraK5L/AIVj4a9NY/8AB9ff/HqP+FY+GvTWP/B9ff8Ax6gDqbn/AI9Zf9w/yrmvhj/ySfwr/wBgm2/9FLVef4ZeG1tpSBrGQhP/ACHr70/67VgfD34eeH7/AOGvhy7uRqnmz6ZbyP5etXka5MYJwqyhVHsAAKAPUKK5L/hWPhr01j/wfX3/AMeo/wCFY+GvTWP/AAfX3/x6gDraK5L/AIVj4a9NY/8AB9ff/HqP+FY+GvTWP/B9ff8Ax6gDraK5L/hWPhr01j/wfX3/AMeo/wCFY+GvTWP/AAfX3/x6gDraK5L/AIVj4a9NY/8AB9ff/HqP+FY+GvTWP/B9ff8Ax6gDraK5L/hWPhr01j/wfX3/AMeo/wCFY+GvTWP/AAfX3/x6gDraK5L/AIVj4a9NY/8AB9ff/HqP+FY+GvTWP/B9ff8Ax6gDraK5L/hWPhr01j/wfX3/AMeo/wCFY+GvTWP/AAfX3/x6gDraK5L/AIVj4a9NY/8AB9ff/HqP+FY+GvTWP/B9ff8Ax6gDraK5L/hWPhr01j/wfX3/AMeo/wCFY+GvTWP/AAfX3/x6gDraK5L/AIVj4a9NY/8AB9ff/HqP+FY+GvTWP/B9ff8Ax6gDraK5L/hWPhr01j/wfX3/AMeo/wCFY+GvTWP/AAfX3/x6gDraK5L/AIVj4a9NY/8AB9ff/HqP+FY+GvTWP/B9ff8Ax6gDra5LxR/yP3gj/r9uv/SSWj/hWPhr01j/AMH19/8AHqxL3wjpPh74jeDJ9M+3b5Lu6VvtOpXFyMfZJeglkYD6igD0iiiigDkvC/8AyP3jf/r9tf8A0kirra5Lwv8A8j943/6/bX/0kirraAPOPFXirxt/wsiLwt4Ih0DP9nfbZJNXE39/bgGM/Tt+NMj8e+KPC2sWFj8TNG0+G11CUQQ6vpEztbpKeiOsg3Ln16VJ/wA3Jf8Acu/+1qd8d/KPwd1gS/6zMXkevm+Yu3HvmgDqL+78SR+MdLt9O0+1m0GWKQ3928mJYXH3Ao3cg/Q/hW5XmeqeaPjL4AE5Pmf2Veb8/wB7bHmuW8V6Vo0PxC1e8+Len6tNpskyNo+rW8s/2Wyj2gbT5RHlvuyckHNAHutFeXeNGfVbrwX4O0vV7kaTq25rm9huf3tzBFGCFEg/vcZI610fhj4Y+GvBurG/8Mw3diXjaOWAXsskUuSDuZXZvmGOCMdTQB11Feb/AAN/5EW+/wCw1e/+jTWZ4ZttYvPh/wCP7fw1L5OqyaxfLavu2kPx0PY+h9aAPW6K8a+Gdl4Gs/EtrHbWuseHvFyxE3dlqU84a8O3DMd5KSDPzArzxnpWXr+laDb+O9Xufi9ZauqS3e7SNbinnFrbQkAKgMRAjYH+8PegD13X7rxHb6noyeHtPtbu0mutupSTybWghx95BuGTn2P071uV5r488oa98NRbzm5iGsKEmL7zIvkNhi3fPXNVL/R4/iV8Utc0bxHPcPoGhQQommw3DxLcSyKWLybCCcDgDNAHqtFeTaXpMXw2+L+jeH/Dk1ymha7ZTs2nzTvKlvLFghkLkkZBwRms7wz4GsPG/ijxuniW5vLrS4NckjTTI7h4YS5RCZGKEMx5AAJwMe9AHtVFecfCVZ9Lu/Ffhk3U1zZaJqYhsjPIXaOJ4w4TceSBnitv4jzaDD4SY+KtRvbKwaZFK2MrpLcsekQ2fM270FAHWUV86aNNougfE3wuPA/hfxZ4Xiv75re9/tWGVLa9RkJ48yRssCM9q6zWvDY8U/tA3+n3eoXltp39g273VtaymI3Q82TCM64YLnkgEZoA9foryvwjocPgT4w3fhnQJJotCvNJF6llJM8iwSiTaSpYk8j3rN8J+ENN+KcmreKPGD3l1Oupz22nxx3ksK2McTbRsCMPmPUk5oA7DwN4h1PWfFnjSz1G58630vU1gtE8tV8tDGDjIAJ57nJrpte1ux8N6Dd6vq0vk2lnGZJGxk4HYDuT0Arzr4N2EmmeJPHtlPez37wauiG5uCDJIPLGCxHU4796t/HY48A2glz9lbV7MXOOnl+aM59s4oAS08Q/FXXLaLV9I8O+H7HTZV8yKx1O6l+1yJ1Byg2ISOx6Zru9C1C61XRbe71DTptMupARLaTEFomBIIyOCOOCOowavpt2Lsxtxxj0rzr4jzXeseL/AAz4Lhvriws9WM899LbSeXJJFEoPlBhyNxbnHagD0aivF/GHgvSvhRaaf4n8CfatMli1CCG7tvtcssV5HI4Vg6ux55yCK0PFGgt4m+Otrp0uo3dnZPoJa6jtH8trhBN/qy45VSTzjk4xQB6xRXk/h7QLb4ffGqDQPDTTwaJq2ky3T2Mk7ypHNG4G9d5JBIbnmqugeE9N+LGq+IdZ8bfab+C11WWxsLFbuSKK2SI7dwCMMsTzk0Adh8S9f1Lw9pOkT6RcfZ5LnWbS1lPlq26J5MMvzA4yO45rsq8p+Iuh2/hzwP4a0uymuZreDxFZeWbmYyuoM2Qu48kDOBnsKu3RP/DTOnjPH/CNzf8Ao5aAPSaK8813/k4Lwp/2Cb3+aVxOv6VoNv471e5+L1lq6pLd7tI1uKecWttCQAqAxECNgf7w96APXdfuvEdvqejJ4e0+1u7Sa626lJPJtaCHH3kG4ZOfY/TvW5Xmvjzyhr3w1FvObmIawoSYvvMi+Q2GLd89c1Uv9Hj+JXxS1zRvEc9w+gaFBCiabDcPEtxLIpYvJsIJwOAM0Aeq0V5NpekxfDb4v6N4f8OTXKaFrtlOzafNO8qW8sWCGQuSRkHBGazvDPgaw8b+KPG6eJbm8utLg1ySNNMjuHhhLlEJkYoQzHkAAnAx70Ae1UV5x8JVn0u78V+GTdTXNlompiGyM8hdo4njDhNx5IGeK9HoAKKKKACiiigAooooAKKKKACiiigAooooAKKKKACiiigAooooAKKKKACiiigAooooAKKKKAOS8df8hHwf/wBjBH/6Tz11tcl46/5CPg//ALGCP/0nnrraAM3XrnVrXSXfw9p8OoX5YLHFPceTGMnlmbBOB1wBk1wZ8Z+O/C3iHSbbx7pehy6dq92LSK60aWYtbyMPlDiQc5x1GK9G1D7b/Ztx/ZX2f7b5bfZ/tO7y9+ON23nGeuOa8Z8RTeMNM8RaFrPxZttNutCsrxDEdAlcRW87HakkySrvcAnscD0NAHeeMfGWo6Zrmn+GvCmnwahr+oxvMgupCkFtEvBkkI5IzwAOTWdoXjTxPp/jS08L/ETT9MhutRieSwvtJkkMEpTloyJPmDY5qvZtu/aY1DzST/xTsXkZ6Y807sU74lBT8Q/hzs/139rSYx12+Uc/hQB6TRRRQAUUUUAFFFFABRRRQAUUUUAFFFFABRRRQAUUUUAFFFFAEdz/AMesv+4f5VzXwx/5JP4V/wCwTbf+ilrpbn/j1l/3D/Kua+GP/JJ/Cv8A2Cbb/wBFLQB1D7vLby8b8fLu6Z9683mf41x73z4AWJcnL/beF969Jrgfi9rdzZeFItD0hyNW8RXC6da7eqh/9Y/4Ln86AKPhH4majN8LNS8YeM4LJIrSaVYDpqOEuUQ7QVDkk7myAePpVS+8a/EzRdGPinV/Dmh/2CiCeawt7iU30ER6sSR5ZIHJApvxZ0e28PfBnTdIskCWVnfWMLAADKCVck/U813vjDyv+EC1rzceV/Z82c9MeWaANTTr+DVNMtr+zffb3MSyxt6qwyP51YrkPhMHX4ReGBICG/s6Lg+mOK6+gAooooAKKKKACiiigAooooAKKKKACiiigAooooAKKKKACiiigArkvFH/ACP3gj/r9uv/AEklrra5LxR/yP3gj/r9uv8A0kloA62iiigDkvC//I/eN/8Ar9tf/SSKutrzeybxSPiN4z/4RyLR3g+12u838kqtu+yRdNikYrb8z4i/8+/hf/v/AHH/AMRQBi+KvCvjb/hZEXinwRNoGf7O+xSR6uZv7+7IEY+nf8KWHwL4o8T6tYXvxK1jTp7XT5RPDpGkQulu0o+67u53NjsOlbPmfEX/AJ9/C/8A3/uP/iKPM+Iv/Pv4X/7/ANx/8RQA/V/C95f/ABM8PeIoZYFtNMtrmGaNmPmMZQu3aMYx8pzkisfxBo3xOv5r/TtP1Xw0+jXvmIJru1l+0wRvxtCqdjEA4BOPetXzPiL/AM+/hf8A7/3H/wARR5nxF/59/C//AH/uP/iKAMfU/hdLH4T8NWfhrVjZ6v4YwbG8nj3rJ8uHWRR/C3t0rW8M6b45fV11Dxtq+liOKJo49P0aKRYnYkfvHaQ7iQBwOgyad5nxF/59/C//AH/uP/iKPM+Iv/Pv4X/7/wBx/wDEUAc5ZeCPHfhjVNSs/B+uaNFoOo3cl3m+tpHubNpDlhGAQrc5I3H8K0fC3gjxD4V8Iazp1hrcLandahJd219cJ524MVP71cLycEHHTPBrS8z4i/8APv4X/wC/9x/8RR5nxF/59/C//f8AuP8A4igDDs/B3jTXvF2j6x4/v9CSLRJXmtYNFhlBldl25dpDkDHYUeIPD3xO1iPUNGXWPDTaJfeZGbma0l+1xRMT8oUHy2IBxk+lbnmfEX/n38L/APf+4/8AiKPM+Iv/AD7+F/8Av/cf/EUAUtQ8ATiPwPa6VcRm18M3SSStcu2+SNYiny4By2SOuPrUXiLwZ4ktvGU3iv4f6np9tf3lusF7ZapE7W9wF+4+U+ZWHTitLzPiL/z7+F/+/wDcf/EUeZ8Rf+ffwv8A9/7j/wCIoAp+GvBuut4sHivx3qNlearFbm2tLbTomS2tEY5YrvO5mOByav8AgzwveeHdT8TXF7LBImr6q17AImJKoUVcNkDByp6ZHvTPM+Iv/Pv4X/7/ANx/8RR5nxF/59/C/wD3/uP/AIigB/hTwxe6F4n8V6ldywPDrN8lxbrExLIqxhSGyAAcjtmmfEHwheeK9N099HvYrLVNKvUvrOSePfEXUEbXA5wQT06UeZ8Rf+ffwv8A9/7j/wCIo8z4i/8APv4X/wC/9x/8RQBzj+DPH+veJPDms+LNX0MDSL4Tmw02GVYiu1gWDvlmfkDHAxmumt/C95D8WL3xQ0sBsrjSorJYwx8wOsjMSRjGMN659qZ5nxF/59/C/wD3/uP/AIijzPiL/wA+/hf/AL/3H/xFAEr+GbxvipH4mEsH2NdKNkY9x8zeZN2cYxjHvn2rm4fBXjfwvrWor4E1bRU0bVLprqSHVIJXks5H++YthAbJ5wxFb/mfEX/n38L/APf+4/8AiKPM+Iv/AD7+F/8Av/cf/EUAVvh74I1HwfqHiKbU9TGpnVbxLlLhv9Yx8sBi4CgL82cAZwMc10fiTw/Y+KvDt5ourIXtbyMxvtOCvoQexBwaxfM+Iv8Az7+F/wDv/cf/ABFHmfEX/n38L/8Af+4/+IoAwbLQfizo1vFpOn+IfDl9p8S+XHf39pN9rRBwPlU7GIHcnmrmvfDzVdQ0nRLix8SSf8JNokrTQ6ndQhlnL53o6DohzgAdABWl5nxF/wCffwv/AN/7j/4ijzPiL/z7+F/+/wDcf/EUAYQ8G+NvFeoWB+I2paIumafcrdLYaLFLi5kXlDI0hyADzgDmuifwzeN8VI/Ewlg+xrpRsjHuPmbzJuzjGMY98+1ReZ8Rf+ffwv8A9/7j/wCIo8z4i/8APv4X/wC/9x/8RQA+98MXtz8VdL8TJLALKz02e0kjLHzC7upBAxjGAe/4Vz8ngvxp4Z8Rapd/D3VNGGn6vcG5uLLWIpSLeU/eaMxnnPXBxW75nxF/59/C/wD3/uP/AIijzPiL/wA+/hf/AL/3H/xFAGdrngfXdX8I6Np11rEV/qNpq8GoXV1cKY1cJLvZUVQcADhR7dak8a+D9fvfFGm+KvBWoWNrrNjA9q0OoozW9xE5BIYp8wIIzxV3zPiL/wA+/hf/AL/3H/xFHmfEX/n38L/9/wC4/wDiKAMbSfA/io/EfS/FvibWrO9kgtJ4Jra2Ro4oN+3aIVIJI4O5mbJ44pniDw98TtYj1DRl1jw02iX3mRm5mtJftcUTE/KFB8tiAcZPpW55nxF/59/C/wD3/uP/AIijzPiL/wA+/hf/AL/3H/xFAFLUPAE4j8D2ulXEZtfDN0kkrXLtvkjWIp8uActkjrj61F4i8GeJLbxlN4r+H+p6fbX95brBe2WqRO1vcBfuPlPmVh04rS8z4i/8+/hf/v8A3H/xFHmfEX/n38L/APf+4/8AiKAKfhrwbrreLB4r8d6jZXmqxW5trS206JktrRGOWK7zuZjgcmr/AIM8L3nh3U/E1xeywSJq+qtewCJiSqFFXDZAwcqemR70zzPiL/z7+F/+/wDcf/EUeZ8Rf+ffwv8A9/7j/wCIoAf4U8MXuheJ/FepXcsDw6zfJcW6xMSyKsYUhsgAHI7Zrqq5LzPiL/z7+F/+/wDcf/EUeZ8Rf+ffwv8A9/7j/wCIoA62iuS8z4i/8+/hf/v/AHH/AMRR5nxF/wCffwv/AN/7j/4igDraK5LzPiL/AM+/hf8A7/3H/wARR5nxF/59/C//AH/uP/iKAOtorkvM+Iv/AD7+F/8Av/cf/EUeZ8Rf+ffwv/3/ALj/AOIoA62iuS8z4i/8+/hf/v8A3H/xFHmfEX/n38L/APf+4/8AiKAOtorkvM+Iv/Pv4X/7/wBx/wDEUeZ8Rf8An38L/wDf+4/+IoA62iuS8z4i/wDPv4X/AO/9x/8AEUeZ8Rf+ffwv/wB/7j/4igDraK5LzPiL/wA+/hf/AL/3H/xFHmfEX/n38L/9/wC4/wDiKAOtorkvM+Iv/Pv4X/7/ANx/8RR5nxF/59/C/wD3/uP/AIigDraK5LzPiL/z7+F/+/8Acf8AxFHmfEX/AJ9/C/8A3/uP/iKAOtorkvM+Iv8Az7+F/wDv/cf/ABFHmfEX/n38L/8Af+4/+IoA62iuS8z4i/8APv4X/wC/9x/8RR5nxF/59/C//f8AuP8A4igDraK5LzPiL/z7+F/+/wDcf/EUeZ8Rf+ffwv8A9/7j/wCIoA62iuS8z4i/8+/hf/v/AHH/AMRR5nxF/wCffwv/AN/7j/4igA8df8hHwf8A9jBH/wCk89dbXlfjF/Hf27wv9sg8Ohv7bj8jyppyDJ5E2N2V+7jd05ziun8z4i/8+/hf/v8A3H/xFAGt4ktddutMUeFtRtrC+jkDhru382KVcHKMAQQDxyOeK4e78GePfGjW1l8QdU0G30aC5SeS10SGbfdbDuVXaU/KMgHiui8z4i/8+/hf/v8A3H/xFHmfEX/n38L/APf+4/8AiKAKvjLwVquoeItO8UeDtQtrDXdPia323kbPBcwtyY32/MOecioNA8G+I7zxfb+KPiDqGnXN9YwtDY2WlxutvblvvPlzuZiOOelaPmfEX/n38L/9/wC4/wDiKPM+Iv8Az7+F/wDv/cf/ABFAHW0VyXmfEX/n38L/APf+4/8AiKPM+Iv/AD7+F/8Av/cf/EUAdbRXJeZ8Rf8An38L/wDf+4/+Io8z4i/8+/hf/v8A3H/xFAHW0VyXmfEX/n38L/8Af+4/+Io8z4i/8+/hf/v/AHH/AMRQB1tFcl5nxF/59/C//f8AuP8A4ijzPiL/AM+/hf8A7/3H/wARQB1tFcl5nxF/59/C/wD3/uP/AIijzPiL/wA+/hf/AL/3H/xFAHW0VyXmfEX/AJ9/C/8A3/uP/iKPM+Iv/Pv4X/7/ANx/8RQB1tFcl5nxF/59/C//AH/uP/iKPM+Iv/Pv4X/7/wBx/wDEUAdbRXJeZ8Rf+ffwv/3/ALj/AOIo8z4i/wDPv4X/AO/9x/8AEUAdbRXJeZ8Rf+ffwv8A9/7j/wCIo8z4i/8APv4X/wC/9x/8RQB1Nz/x6y/7h/lXNfDH/kk/hX/sE23/AKKWq87/ABE+zS7rfwxjYc4nuPT/AHKwPh6/jwfDXw5/Z8Hh02v9mW/kmeacOU8sY3ALjOOuKAPUK46Twhfah8Wo/E+qzW76dp1kYNNt0Zi6Suf3kjAjAOOBgmpPM+Iv/Pv4X/7/ANx/8RR5nxF/59/C/wD3/uP/AIigDU8W+GrXxf4VvtDv2aOK7j2iRPvRsDlWHuCAa4OfwX8Stc0ceGPEfiLQxoRVYZ7yzt5Re3MQ6qwY7FLAYJFdR5nxF/59/C//AH/uP/iKPM+Iv/Pv4X/7/wBx/wDEUAdNZWcGnWEFlaII4LeNYo0H8KqMAfpU9cl5nxF/59/C/wD3/uP/AIijzPiL/wA+/hf/AL/3H/xFAHW0VyXmfEX/AJ9/C/8A3/uP/iKPM+Iv/Pv4X/7/ANx/8RQB1tFcl5nxF/59/C//AH/uP/iKPM+Iv/Pv4X/7/wBx/wDEUAdbRXJeZ8Rf+ffwv/3/ALj/AOIo8z4i/wDPv4X/AO/9x/8AEUAdbRXJeZ8Rf+ffwv8A9/7j/wCIo8z4i/8APv4X/wC/9x/8RQB1tFcl5nxF/wCffwv/AN/7j/4ijzPiL/z7+F/+/wDcf/EUAdbRXJeZ8Rf+ffwv/wB/7j/4ijzPiL/z7+F/+/8Acf8AxFAHW0VyXmfEX/n38L/9/wC4/wDiKPM+Iv8Az7+F/wDv/cf/ABFAHW0VyXmfEX/n38L/APf+4/8AiKPM+Iv/AD7+F/8Av/cf/EUAdbRXJeZ8Rf8An38L/wDf+4/+Io8z4i/8+/hf/v8A3H/xFAHW1yXij/kfvBH/AF+3X/pJLR5nxF/59/C//f8AuP8A4isS9bxSfiN4M/4SOLR0g+13Ww2EkrNu+yS9d6gYoA9IooooA5Lwv/yP3jf/AK/bX/0kirra5Lwv/wAj943/AOv21/8ASSKutoAKKKKACiiigAooooAKKKKACiiigAooooAKKKKACiiigAooooAKKKKACiiigAooooAKKKKACiiigAooooAKKKKACiiigAooooAKKKKACiiigAooooAKKKKACiiigAooooAKKKKACiiigAooooAKKKKACiiigAooooAKKKKACiiigDkvHX/IR8H/APYwR/8ApPPXW1yXjr/kI+D/APsYI/8A0nnrraACiiigAooooAKKKKACiiigAooooAKKKKACiiigAooooAKKKKACiiigAooooAjuf+PWX/cP8q5r4Y/8kn8K/wDYJtv/AEUtdLc/8esv+4f5VzXwx/5JP4V/7BNt/wCiloA6miiigAooooAKKKKACiiigAooooAKKKKACiiigAooooAKKKKACiiigAooooAKKKKACuS8Uf8AI/eCP+v26/8ASSWutrkvFH/I/eCP+v26/wDSSWgDraKKKAOS8L/8j943/wCv21/9JIq62vN7LxjoHhz4jeM4Nb1OK0lku7VkV1Y5H2SLngGtv/hafgr/AKD9v/3w/wD8TQB1tFcl/wALT8Ff9B+3/wC+H/8AiaP+Fp+Cv+g/b/8AfD//ABNAHW0VyX/C0/BX/Qft/wDvh/8A4mj/AIWn4K/6D9v/AN8P/wDE0AdbRXJf8LT8Ff8AQft/++H/APiaP+Fp+Cv+g/b/APfD/wDxNAHW0VyX/C0/BX/Qft/++H/+Jo/4Wn4K/wCg/b/98P8A/E0AdbRXJf8AC0/BX/Qft/8Avh//AImj/hafgr/oP2//AHw//wATQB1tFcl/wtPwV/0H7f8A74f/AOJo/wCFp+Cv+g/b/wDfD/8AxNAHW0VyX/C0/BX/AEH7f/vh/wD4mj/hafgr/oP2/wD3w/8A8TQB1tFcl/wtPwV/0H7f/vh//iaP+Fp+Cv8AoP2//fD/APxNAHW0VyX/AAtPwV/0H7f/AL4f/wCJo/4Wn4K/6D9v/wB8P/8AE0AdbRXJf8LT8Ff9B+3/AO+H/wDiaP8Ahafgr/oP2/8A3w//AMTQB1tFcl/wtPwV/wBB+3/74f8A+Jo/4Wn4K/6D9v8A98P/APE0AdbRXJf8LT8Ff9B+3/74f/4mj/hafgr/AKD9v/3w/wD8TQB1tFcl/wALT8Ff9B+3/wC+H/8AiaP+Fp+Cv+g/b/8AfD//ABNAHW0VyX/C0/BX/Qft/wDvh/8A4mj/AIWn4K/6D9v/AN8P/wDE0AdbRXJf8LT8Ff8AQft/++H/APiaP+Fp+Cv+g/b/APfD/wDxNAHW0VyX/C0/BX/Qft/++H/+Jo/4Wn4K/wCg/b/98P8A/E0AdbRXJf8AC0/BX/Qft/8Avh//AImj/hafgr/oP2//AHw//wATQB1tFcl/wtPwV/0H7f8A74f/AOJo/wCFp+Cv+g/b/wDfD/8AxNAHW0VyX/C0/BX/AEH7f/vh/wD4mj/hafgr/oP2/wD3w/8A8TQB1tFcl/wtPwV/0H7f/vh//iaP+Fp+Cv8AoP2//fD/APxNAHW0VyX/AAtPwV/0H7f/AL4f/wCJo/4Wn4K/6D9v/wB8P/8AE0AdbRXJf8LT8Ff9B+3/AO+H/wDiaP8Ahafgr/oP2/8A3w//AMTQB1tFcl/wtPwV/wBB+3/74f8A+Jo/4Wn4K/6D9v8A98P/APE0AdbRXJf8LT8Ff9B+3/74f/4mj/hafgr/AKD9v/3w/wD8TQB1tFcl/wALT8Ff9B+3/wC+H/8AiaP+Fp+Cv+g/b/8AfD//ABNAHW0VyX/C0/BX/Qft/wDvh/8A4mj/AIWn4K/6D9v/AN8P/wDE0AdbRXJf8LT8Ff8AQft/++H/APiaP+Fp+Cv+g/b/APfD/wDxNAHW0VyX/C0/BX/Qft/++H/+Jo/4Wn4K/wCg/b/98P8A/E0AdbRXJf8AC0/BX/Qft/8Avh//AImj/hafgr/oP2//AHw//wATQB1tFcl/wtPwV/0H7f8A74f/AOJo/wCFp+Cv+g/b/wDfD/8AxNAHW0VyX/C0/BX/AEH7f/vh/wD4mj/hafgr/oP2/wD3w/8A8TQB1tFcl/wtPwV/0H7f/vh//iaP+Fp+Cv8AoP2//fD/APxNAB46/wCQj4P/AOxgj/8ASeeutryvxj8RvCV5feF2ttbgkW31uOaUhX+RBBMM9PVh+ddP/wALT8Ff9B+3/wC+H/8AiaAOtorkv+Fp+Cv+g/b/APfD/wDxNH/C0/BX/Qft/wDvh/8A4mgDraK5L/hafgr/AKD9v/3w/wD8TR/wtPwV/wBB+3/74f8A+JoA62iuS/4Wn4K/6D9v/wB8P/8AE0f8LT8Ff9B+3/74f/4mgDraK5L/AIWn4K/6D9v/AN8P/wDE0f8AC0/BX/Qft/8Avh//AImgDraK5L/hafgr/oP2/wD3w/8A8TR/wtPwV/0H7f8A74f/AOJoA62iuS/4Wn4K/wCg/b/98P8A/E0f8LT8Ff8AQft/++H/APiaAOtorkv+Fp+Cv+g/b/8AfD//ABNH/C0/BX/Qft/++H/+JoA62iuS/wCFp+Cv+g/b/wDfD/8AxNH/AAtPwV/0H7f/AL4f/wCJoA62iuS/4Wn4K/6D9v8A98P/APE0f8LT8Ff9B+3/AO+H/wDiaAOtorkv+Fp+Cv8AoP2//fD/APxNH/C0/BX/AEH7f/vh/wD4mgDraK5L/hafgr/oP2//AHw//wATR/wtPwV/0H7f/vh//iaAOpuf+PWX/cP8q5r4Y/8AJJ/Cv/YJtv8A0UtV5/il4La2lA1+3JKED5H9P92sD4e/Efwjp/w18OWd5rcEVxBplvHLGVfKsIwCOnrQB6hRXJf8LT8Ff9B+3/74f/4mj/hafgr/AKD9v/3w/wD8TQB1tFcl/wALT8Ff9B+3/wC+H/8AiaP+Fp+Cv+g/b/8AfD//ABNAHW0VyX/C0/BX/Qft/wDvh/8A4mj/AIWn4K/6D9v/AN8P/wDE0AdbRXJf8LT8Ff8AQft/++H/APiaP+Fp+Cv+g/b/APfD/wDxNAHW0VyX/C0/BX/Qft/++H/+Jo/4Wn4K/wCg/b/98P8A/E0AdbRXJf8AC0/BX/Qft/8Avh//AImj/hafgr/oP2//AHw//wATQB1tFcl/wtPwV/0H7f8A74f/AOJo/wCFp+Cv+g/b/wDfD/8AxNAHW0VyX/C0/BX/AEH7f/vh/wD4mj/hafgr/oP2/wD3w/8A8TQB1tFcl/wtPwV/0H7f/vh//iaP+Fp+Cv8AoP2//fD/APxNAHW0VyX/AAtPwV/0H7f/AL4f/wCJo/4Wn4K/6D9v/wB8P/8AE0AdbRXJf8LT8Ff9B+3/AO+H/wDiaP8Ahafgr/oP2/8A3w//AMTQB1tFcl/wtPwV/wBB+3/74f8A+Jo/4Wn4K/6D9v8A98P/APE0AdbXJeKP+R+8Ef8AX7df+kktH/C0/BX/AEH7f/vh/wD4msS98Y6B4j+I3gyDRNTiu5Y7u6Z1RWGB9kl55AoA9IooooA5Lwv/AMj943/6/bX/ANJIq62uS8L/API/eN/+v21/9JIq62gAorgv7Svv+GgP7O+2T/Yf7B837N5p8vf5uN23pnHGetS/GLULzS/hhqN3pl3PZ3KPCFmt5CjrmVQcEc9KAO4orD1vxZonhLQodR8TanFYwMqqHlJLO2M4CgEsfoDT/DPi7QfGOmNqHhrUor+2VtjugKlDjOGVgCpx6igDZori3+MHgCPXf7IfxRZC83bCPmMYbOMeZjZnP+1XZghlBUggjII70ALRWL4l8YeH/B9it34l1WDT4nJCeYSWcjrtUAs34CoPDPj3wv4yt5pfDWsQXwgG6VFDI6D1KMAwHvigDoaK+c7rxh8PPHvxjvV8V6tPdadCltb6JEn2qNPtBYhyAgBDbtoy3Fe/atq1h4d0S41PVp/s9jZx75pSrPtUd8AEn8BQBeor5s8F/EH4aN4jv/FvjLW7j/hIv7RnNnKy3bLFbH5YwFRSmNvYjP0r1z4b6ppx8Bzamni6XxBYfaZ5Tqd6jw+Wu7JQiTkBemTx6YFAHb0V51N8ffhnBM8T+J0LIcEpZ3Dr+BEZB/CuvTxTo76xYaUt5m91G1N3axeU/wC8iGMtnGB1HBIPtQBrUVn3euadY61Y6TdXGy91AObaLYx8wIMtyBgYHqRWTrfxG8J+HGvl1vWYrN7BkWdXjcsC43KFAUlyQM/LnHegDpqKwdT8ceGtG8O2+u6pq9va6ddIHgmkyDKCMjauNxOOcAZpPC3jnw140gkl8MavBfiLHmIoZHTPQlGAYD3xQBv0VyGp/FbwPo3iD+xNS8RWsOobtjRYdgjejOAVU+xIrrgQygqcgjII70ALRXJ+Jfij4L8IX32PxDr9va3WATAqPK656ZVFJH41r2HibRtU8PNrum6hDdaYsbSNcQksAFGW4HOR6YzQBq0Vxd78YPAOnTWkV74ltYpLxFkiUq5wrDIL4X93kH+LFdXc6lZWemPqN1dww2UcfmtcO4CBMZ3bumKALNFeL/Ev4k+EfF/wy1i08N67b3lzFJCWhAaNyBKuSoYAsPcZFex2n/HnD/1zX+VAEtFeUap8evDGj/EabRb/AFSCLS7a3ZZ5/sc7SJdB8eXwpyMc5AI9667XviX4P8MWlrca7rsFol3EJoEKu0joejeWoLY/CgDqaKx/DfizQvF+mm/8N6lDf26ttZo8gofRlIBU/UV5l8P/AB94Y8F+Dr4+J9ZgsGm12/8ALjYM7sPOPIRQWx74xQB7LRXK+INY07XvhbrGpaNeQ3tnNps5jmhbKn5D+R9uopvg3UbPSfhNod9ql1FaWsOmQtJNM4VUGwdSaAOsork/DvxR8F+LNTbTtA1+3urwZxCVeNnx127wN34Zqx4p+IXhXwU8KeJ9ZhsZJhmOIq0jkdM7UBIHvjFAHSUVU0rVbHW9Lg1HSbqO7s7hd0U0RyrCrdABRRRQAUUUUAFFFFABRRRQAUUUUAFFFFABRRRQAUUUUAFFFFABRRRQAUUUUAFFFFABRRRQAUUUUAcl46/5CPg//sYI/wD0nnrra5Lx1/yEfB//AGMEf/pPPXW0AFFZ2v3Gq2uizyeH7GK+1HAWCGaXy0yTjczeg6nHJxxXnPw4m8VQfFfxRpni/Xjqk0VlbTiOIMlvAzlsrGhPAHTOAT3oA9XorzrxhqOr+IPiFY+B9D1WfR4DZNf6le2mPPEe7aiISDtJOfmx2rOtRrHw3+I+haNP4i1PXtC18SQL/a8wmnt7hRuBEmASpHGKAPVqKKKACiiigAooooAKKKKACiiigAooooAKKKKACiiigAooooAjuf8Aj1l/3D/Kua+GP/JJ/Cv/AGCbb/0UtdLc/wDHrL/uH+Vc18Mf+ST+Ff8AsE23/opaAOpoorxX4iX/AI/g1nRtSudQj0PR/wC37azh0+ylJmukaTG+WQYABA+4MjB55oA9qorl/iN4ol8H+Bb/AFazjWS8XbDao4yGldgqZ9snP4VxGueDPFvh7wpceKbTx7rt3r1nb/aprW4lU2MpUbnQQ7QFGMgHNAHr9FZfhjW4/EnhXTNZhXal9bJOFH8O5ckfnWpQAUUUUAFFFFABRRRQAUUUUAFFFFABRRRQAUUUUAFFFFABRRRQAVyXij/kfvBH/X7df+kktdbXJeKP+R+8Ef8AX7df+kktAHW0UUUAcl4X/wCR+8b/APX7a/8ApJFXW1yXhf8A5H7xv/1+2v8A6SRV1tAHm1xKlp+0nafaGEf2zQGSAt/y0ZZckD3xzUvxymRfhhcWpb9/e3dvbwRjrI5lXAA/A10vivwVo3jK1gj1iKVZrZ/Mtru2lMU1u3qjjkfyrG0T4U6NpWr2+p6hqet+Iby1Ytaya3ftc/Zz6ouAAffGaAF8Z+EdY1S40HWvDdzZx6vohZo4L9C0E4ZQrKSOVPHDCuZ1vxpd6p8NfHcDaMdD8SaXalL2OJ1kD7k4kWRQNw2568iu38WeBrTxZNb3D6rrOkXduhjS50i+a3k2kglTjIIyO4p/hnwLo3hfTry1tFnvHv2LXtzfzGea6OMfOx68cY6UAea6d4d+Jup/Dq20aytfh22iXViqRptu+UZeG4GN3Oc+tep+DtKvtD8F6TpWrXCXN7Z2qQzSxsSrsoxkEgEj6iuUX4LaNBKU0/xB4o0/TiT/AMSq01d47UA9QF6gewNd9Y2cGnafBZWibILeNYo1LE4VRgDJ5PFAHnWnxQX/AO0drR1RVlnsNItzpyyDPlqzN5jKD3zgZFJ4st4bb47+CrnTI0S/uY7qO9MYAZ7cJkFvUBsYJrpPFvw+0fxfc297dS32n6laqVg1HTLkwXEanqAw6j2INJ4V+HmkeFL2XUIp9Q1TVJkEcmpardG4uCn93ceAPoBQBz/hP/kvvjv/AK9LD/0F69KrE0/wpY6b4u1bxFBJcNearHDHOjsDGojBC7RjI685JrboA83+CP8AyK2tf9h++/8ARlcJZiJ/2b/EUU0pjM2t3EUXy5V5GuQFVv8AZJwD7V7T4X8K2PhKwurTTZLiSO5u5bxzOwYh5GywGAOM9P51wPjzwnH4V+EV7pGiWd3qdjd6iJ78NEs80cMku6VkUKOQOnGR196AG3Gk+OPGV7oNhq/hXT/Dljo97DdNqEOopO0gj/hhRVBQN0Oe1aWukJ+0X4VLEAPo92q57ncDivMLyD4YyaW9v8HYtZ/4SwMotBYm9UxSZHzSeZ8gUDOc17Z4k8B2PjPS9NGuzXVrqdiA8WoadOYZoJCuGKMM8H3BoAx/FU0Z+N3giESIZRDesU3DcAYxzj04qr4b0ixuPj74w1Oe2SS8tbe0jglYZMYaM7sehOBzWzo/wr0HRddsNahn1C61Sz8zde3lz501zvXb+8dhkgDoBgD0rc0/w1Z6b4m1XXYJJ2utUWJZ0dgUXyxgbQBkdeck0AeY+MF8UXPx+tIPC8egNPaaL5touuCXy1zIRI0Yj53cLz6Vr6B4S8ey/E+z8U+LW8MQJBaS20o0Uzh5w2Cu8SDBwRxzxXWeLPA2keMBbSagbq1vbMk21/YTmC4gz12uOx9DkVW8MfDyx8NaidQbWNd1m98poluNX1F7gohIJAHCjOB2zQBx13a658J7TWrqTTbLxH4QubqW9uhuCXdsJGy+5WG2VRnpwcV6tY3UN7p9vdWvME8SyR8Y+UjI4+lcHN8GNDubphc614jm0xn3No0mqubM85xs64z2zivQYokhhSKFAkaKFVVGAoHQCgDzW58R+KNY8Xa7p/w30TQIW02ZIb/UdYZ18+XaDtCxDccDAyTWB8O0vofBHxJg1UWS3UeoXQlTT932dWMClvLDcgZPeu01v4U6NrHiGfWYNT1vR7m7x9sXSdQa3S7wMDzABzxxxirmgfDnQvDOi6xpWji4hs9Xkd5kMgbyy0YQ7CRnoM/Nk5zQBz3gLw7pKfs92dsmnwLFf6P51yAg/eu0eSzepz+VcdeSG6/Z7+HtvqDsbC6vrKG9LHhot5wre2QBXtGk+HrTRvCVt4etXmaztrQWiPIwMhQLtySABnHtWbF8P9CHw9h8GXcUt7pMMIhHnuPMIByG3KBhgecgCgDlfjzpekt8LJJbi1tlmtJ4BZsVCtGfMUYT8M8CvTLT/jyg/wCua/yrz4/BLw7cafLa6tqeu6vkbbeXUr8ztZjIP7oMNqnjGcE4716JGgjjVF6KABn2oA4CVgP2ircEjJ8OtgZ6/vqb4i8Sa1N8QJ/D/gTRdIm1m2sknu9S1VmSOKNidifIN7dz1wM1r+Lfh3pfi7UrPUpr7VNK1GzRo47zSrs28pjJyUJwcg1W174XaRrt7a36anrWlajb262xv9MvjDNNGvRZGwd3160Acv8AC+PW4Pi541j8TDSk1BrezkmXSPMFuSQ/OH53YAzVv4Iabpa6Rr99Bb251CbW7yO5lABkKiU7VPcDHauo8KfDvQ/BmrX+oaKbvztQijjuPtE5l3lCx3kn5ixLHJJPbgViN8FPD8ayvpmqa7pN1cTyTT3em3/kSz73LlH2rhlBJAyMgd6AOb8ORRWug/Fq004BdLhu7j7OqfcRjBmQL2A3elUPFn9pzfDn4XWWliwb7TPbgpqYY2ruIcxiXbzjPYd8V6vp/gjRdJ8Gz+GdNhktrC4ikjkZXzIxcEM5Zs5Y56mi68D6Jf8Agq38LajA93p9vEkUZkfEi7BhXDLjDDHUYoA4HVvCPxT8TX2jtrh8E28em30V0lxp/wBqWeMK3zKhYEYIyMd63vEXhrxLpXjqfxl4OjsdSluLNLW70y9cxM6oSVMUgB2k55DDFTaV8KNO03UoLu68ReJ9XW2lWWC21LVnlhjZTlSEAGce+aseIfhnY+INZl1JNe8RaRLcbftEelam0Ec+BgblwR0AHGKANDwJ4ksPFXhWLUtMsTp6ebJHNaFQDDMrEOvHB+bJz3zmujrN8P8Ah/TfC+hwaTotv9ntIAdq7ixJJyWJPJJJySa0qACiiigAooooAKKKKACiiigAooooAKKKKACiiigAooooAKKKKACiiigAooooAKKKKACiiigAooooA5Lx1/yEfB//AGMEf/pPPXW1yXjr/kI+D/8AsYI//SeeutoAK838Of8AJwnjH/sGWX/s1dxruk/25otxp39oX2neeAPtWnzeVPHznKvg4PHpXAW3wNsbTVn1OHxx42F5KFE0/wDay75lXort5eWA9CaAHxMLH9pq4+0YX+0fD6C3JH3jHKdwB+hzTviGwvPih8PdOg+e4jv5rx1HVYljILH2ycV03izwJpHjGG0/tI3Vvd2TFrS/spzDcQEjBKuPX3zUHhX4d6R4Uv5tRjutR1XVJoxE+o6tdG4n2D+EMcAD6AUAdXRRRQAUUUUAFFFFABRRRQAUUUUAFFFFABRRRQAUUUUAFFFFAEdz/wAesv8AuH+Vc18Mf+ST+Ff+wTbf+ilrpbn/AI9Zf9w/yrmvhj/ySfwr/wBgm2/9FLQB1Nea/Gr/AJBHhj/sZLH/ANDr0qvN9f8AgtY+JNRkutR8Y+L9rXP2mO2TVF8m3cHKmNSh247dxQAfHaNv+FZm5C7o7PULW4l4zhFlGSfbmuk8a6raWnw11nUZZVFt/Z0jBweGDIcY+uRT9I8HWuneF59B1HUNS1+1uN4lfWbn7RI6sMFS2Bx6elc3afBPw7bzQpcalr1/plu6vBo95qTyWcRU5XEeOQPQk0AbfwwsptP+Ffhu1ul2Sx6fFuU9iVz/AFrqqQAKoVQAAMADtS0AFFFFABRRRQAUUUUAFFFFABRRRQAUUUUAFFFFABRRRQAUUUUAFcl4o/5H7wR/1+3X/pJLXW1yXij/AJH7wR/1+3X/AKSS0AdbRRRQB5vZeGU1v4jeM5n1fWLEpd2q7LC+aFW/0SLkgdTW3/wr6H/oZvFH/g3ko8L/API/eN/+v21/9JIq62gDkv8AhX0P/QzeKP8AwbyUf8K+h/6GbxR/4N5K62igDkv+FfQ/9DN4o/8ABvJR/wAK+h/6GbxR/wCDeSutooA5L/hX0P8A0M3ij/wbyUf8K+h/6GbxR/4N5K62igDkv+FfQ/8AQzeKP/BvJR/wr6H/AKGbxR/4N5K62igDkv8AhX0P/QzeKP8AwbyUf8K+h/6GbxR/4N5K62igDkv+FfQ/9DN4o/8ABvJR/wAK+h/6GbxR/wCDeSutooA5L/hX0P8A0M3ij/wbyUf8K+h/6GbxR/4N5K62igDkv+FfQ/8AQzeKP/BvJR/wr6H/AKGbxR/4N5K62igDkv8AhX0P/QzeKP8AwbyUf8K+h/6GbxR/4N5K62igDkv+FfQ/9DN4o/8ABvJR/wAK+h/6GbxR/wCDeSutooA5L/hX0P8A0M3ij/wbyUf8K+h/6GbxR/4N5K62igDkv+FfQ/8AQzeKP/BvJR/wr6H/AKGbxR/4N5K62igDkv8AhX0P/QzeKP8AwbyUf8K+h/6GbxR/4N5K62igDkv+FfQ/9DN4o/8ABvJR/wAK+h/6GbxR/wCDeSutooA5L/hX0P8A0M3ij/wbyUf8K+h/6GbxR/4N5K62igDkv+FfQ/8AQzeKP/BvJR/wr6H/AKGbxR/4N5K62igDkv8AhX0P/QzeKP8AwbyUf8K+h/6GbxR/4N5K62igDkv+FfQ/9DN4o/8ABvJR/wAK+h/6GbxR/wCDeSutooA5L/hX0P8A0M3ij/wbyUf8K+h/6GbxR/4N5K62igDkv+FfQ/8AQzeKP/BvJR/wr6H/AKGbxR/4N5K62igDkv8AhX0P/QzeKP8AwbyUf8K+h/6GbxR/4N5K62igDkv+FfQ/9DN4o/8ABvJR/wAK+h/6GbxR/wCDeSutooA5L/hX0P8A0M3ij/wbyUf8K+h/6GbxR/4N5K62igDkv+FfQ/8AQzeKP/BvJR/wr6H/AKGbxR/4N5K62igDkv8AhX0P/QzeKP8AwbyUf8K+h/6GbxR/4N5K62igDkv+FfQ/9DN4o/8ABvJR/wAK+h/6GbxR/wCDeSutooA5L/hX0P8A0M3ij/wbyUf8K+h/6GbxR/4N5K62igDkv+FfQ/8AQzeKP/BvJR/wr6H/AKGbxR/4N5K62igDkv8AhX0P/QzeKP8AwbyUf8K+h/6GbxR/4N5K62igDkv+FfQ/9DN4o/8ABvJR/wAK+h/6GbxR/wCDeSutooA5L/hX0P8A0M3ij/wbyUf8K+h/6GbxR/4N5K62igDkv+FfQ/8AQzeKP/BvJR/wr6H/AKGbxR/4N5K62igDyvxj4Iitr7wuo8QeIpfP1uOImXU3Yp+4mO5fRuMZ9CfWun/4V9D/ANDN4o/8G8lHjr/kI+D/APsYI/8A0nnrraAOS/4V9D/0M3ij/wAG8lH/AAr6H/oZvFH/AIN5K62igDkv+FfQ/wDQzeKP/BvJR/wr6H/oZvFH/g3krraKAOS/4V9D/wBDN4o/8G8lH/Cvof8AoZvFH/g3krraKAOS/wCFfQ/9DN4o/wDBvJR/wr6H/oZvFH/g3krraKAOS/4V9D/0M3ij/wAG8lH/AAr6H/oZvFH/AIN5K62igDkv+FfQ/wDQzeKP/BvJR/wr6H/oZvFH/g3krraKAOS/4V9D/wBDN4o/8G8lH/Cvof8AoZvFH/g3krraKAOS/wCFfQ/9DN4o/wDBvJR/wr6H/oZvFH/g3krraKAOS/4V9D/0M3ij/wAG8lH/AAr6H/oZvFH/AIN5K62igDkv+FfQ/wDQzeKP/BvJR/wr6H/oZvFH/g3krraKAOS/4V9D/wBDN4o/8G8lH/Cvof8AoZvFH/g3krraKAOOn+H8ItpT/wAJN4nOEPB1eT0rA+HvgeK8+Gvhy5PiHxFCZtMt3McGqOiJmMHCqOg9BXplz/x6y/7h/lXNfDH/AJJP4V/7BNt/6KWgCP8A4V9D/wBDN4o/8G8lH/Cvof8AoZvFH/g3krraKAOS/wCFfQ/9DN4o/wDBvJR/wr6H/oZvFH/g3krraKAOS/4V9D/0M3ij/wAG8lH/AAr6H/oZvFH/AIN5K62igDkv+FfQ/wDQzeKP/BvJR/wr6H/oZvFH/g3krraKAOS/4V9D/wBDN4o/8G8lH/Cvof8AoZvFH/g3krraKAOS/wCFfQ/9DN4o/wDBvJR/wr6H/oZvFH/g3krraKAOS/4V9D/0M3ij/wAG8lH/AAr6H/oZvFH/AIN5K62igDkv+FfQ/wDQzeKP/BvJR/wr6H/oZvFH/g3krraKAOS/4V9D/wBDN4o/8G8lH/Cvof8AoZvFH/g3krraKAOS/wCFfQ/9DN4o/wDBvJR/wr6H/oZvFH/g3krraKAOS/4V9D/0M3ij/wAG8lH/AAr6H/oZvFH/AIN5K62igDkv+FfQ/wDQzeKP/BvJR/wr6H/oZvFH/g3krraKAOS/4V9D/wBDN4o/8G8lYl74ZTRPiN4MmTV9Yvi93dLsv75plX/RJeQD0NekVyXij/kfvBH/AF+3X/pJLQB1tFFFAHJeF/8AkfvG/wD1+2v/AKSRV1tcl4X/AOR+8b/9ftr/AOkkVdbQAUUUUAFFFFABRRRQAUUUUAFFFFABRRRQAUUUUAFFFFABRRRQAUUUUAFFFFABRRRQAUUUUAFFFFABRRRQAUUUUAFFFFABRRRQAUUUUAFFFFABRRRQAUUUUAFFFFABRRRQAUUUUAFFFFABRRRQAUUUUAFFFFABRRRQAUUUUAFFFFAHJeOv+Qj4P/7GCP8A9J5662uS8df8hHwf/wBjBH/6Tz11tABRRRQAUUUUAFFFFABRRRQAUUUUAFFFFABRRRQAUUUUAFFFFABRRRQAUUUUAR3P/HrL/uH+Vc18Mf8Akk/hX/sE23/opa6W5/49Zf8AcP8AKua+GP8AySfwr/2Cbb/0UtAHU0UUUAFFFFABRRRQAUUUUAFFFFABRRRQAUUUUAFFFFABRRRQAUUUUAFFFFABRRRQAVyXij/kfvBH/X7df+kktdbXJeKP+R+8Ef8AX7df+kktAHW0UUUAeb2Wpa/ZfEbxmmieH4tUia7tS8j36wbT9ki4wVOfrW3/AG/41/6Ei3/8HSf/ABujwv8A8j943/6/bX/0kirraAOS/t/xr/0JFv8A+DpP/jdH9v8AjX/oSLf/AMHSf/G63db1/SfDenNf69qFvYWqnHmzuFBPoPU+w5rnNB+LngTxLqS6fo/iO2lumbakUiPCXPou9V3H6ZoAm/t/xr/0JFv/AODpP/jdH9v+Nf8AoSLf/wAHSf8AxuutooA5L+3/ABr/ANCRb/8Ag6T/AON0f2/41/6Ei3/8HSf/ABuutooA5L+3/Gv/AEJFv/4Ok/8AjdH9v+Nf+hIt/wDwdJ/8brraKAOS/t/xr/0JFv8A+DpP/jdH9v8AjX/oSLf/AMHSf/G61/E/iK08KeHbnWdRjmkt7bbvWBQXOWCjAJA6n1qLU/FdjpWs6HptxHcNNrcjx2zIoKqVQud+SCOB2B5oAzf7f8a/9CRb/wDg6T/43R/b/jX/AKEi3/8AB0n/AMbrraKAOS/t/wAa/wDQkW//AIOk/wDjdH9v+Nf+hIt//B0n/wAbrraKAOS/t/xr/wBCRb/+DpP/AI3R/b/jX/oSLf8A8HSf/G662igDkv7f8a/9CRb/APg6T/43R/b/AI1/6Ei3/wDB0n/xuutooA5L+3/Gv/QkW/8A4Ok/+N0f2/41/wChIt//AAdJ/wDG66LVdRi0jSLvUblXaG0heaRYwCxVRk4yRzxTdG1WDXNEs9UtFkSC8hWaNZQAwVhkZAJGfxoA5/8At/xr/wBCRb/+DpP/AI3R/b/jX/oSLf8A8HSf/G662igDkv7f8a/9CRb/APg6T/43R/b/AI1/6Ei3/wDB0n/xuutooA5L+3/Gv/QkW/8A4Ok/+N0f2/41/wChIt//AAdJ/wDG662igDkv7f8AGv8A0JFv/wCDpP8A43R/b/jX/oSLf/wdJ/8AG662igDkv7f8a/8AQkW//g6T/wCN0f2/41/6Ei3/APB0n/xuutooA5L+3/Gv/QkW/wD4Ok/+N0f2/wCNf+hIt/8AwdJ/8brraKAOS/t/xr/0JFv/AODpP/jdH9v+Nf8AoSLf/wAHSf8AxuutooA5L+3/ABr/ANCRb/8Ag6T/AON0f2/41/6Ei3/8HSf/ABuutooA5L+3/Gv/AEJFv/4Ok/8AjdH9v+Nf+hIt/wDwdJ/8brraKAOS/t/xr/0JFv8A+DpP/jdH9v8AjX/oSLf/AMHSf/G662igDkv7f8a/9CRb/wDg6T/43R/b/jX/AKEi3/8AB0n/AMbrraKAOS/t/wAa/wDQkW//AIOk/wDjdH9v+Nf+hIt//B0n/wAbrraKAOS/t/xr/wBCRb/+DpP/AI3R/b/jX/oSLf8A8HSf/G662igDkv7f8a/9CRb/APg6T/43R/b/AI1/6Ei3/wDB0n/xuutooA5L+3/Gv/QkW/8A4Ok/+N0f2/41/wChIt//AAdJ/wDG662igDkv7f8AGv8A0JFv/wCDpP8A43R/b/jX/oSLf/wdJ/8AG662igDkv7f8a/8AQkW//g6T/wCN0f2/41/6Ei3/APB0n/xuutooA5L+3/Gv/QkW/wD4Ok/+N0f2/wCNf+hIt/8AwdJ/8brraKAOS/t/xr/0JFv/AODpP/jdH9v+Nf8AoSLf/wAHSf8AxuutooA5L+3/ABr/ANCRb/8Ag6T/AON0f2/41/6Ei3/8HSf/ABuutooA5L+3/Gv/AEJFv/4Ok/8AjdH9v+Nf+hIt/wDwdJ/8brraKAOS/t/xr/0JFv8A+DpP/jdH9v8AjX/oSLf/AMHSf/G662igDyvxjrXi2S+8Lm58IwQMmtxtEBqyN5r+RMNv3Pl4JOfb3rp/7f8AGv8A0JFv/wCDpP8A43R46/5CPg//ALGCP/0nnrraAOS/t/xr/wBCRb/+DpP/AI3R/b/jX/oSLf8A8HSf/G66DVtY07QtNk1DWb2CxtIvvzTuEUegye/tXP8Ahz4p+CvFmqHTtA1+3urwZxCUeNnx1271G78M0AH9v+Nf+hIt/wDwdJ/8bo/t/wAa/wDQkW//AIOk/wDjdbPiDxLo3hXTDqHiHUYLC1B2h5W+8fQAcsfYA1Q8K+P/AAt42WX/AIRjWIb5oRmSMK0bqPUo4DY98YoAq/2/41/6Ei3/APB0n/xuj+3/ABr/ANCRb/8Ag6T/AON11tFAHJf2/wCNf+hIt/8AwdJ/8bo/t/xr/wBCRb/+DpP/AI3XW0UAcl/b/jX/AKEi3/8AB0n/AMbo/t/xr/0JFv8A+DpP/jddbRQByX9v+Nf+hIt//B0n/wAbo/t/xr/0JFv/AODpP/jddbRQByX9v+Nf+hIt/wDwdJ/8bo/t/wAa/wDQkW//AIOk/wDjddbRQByX9v8AjX/oSLf/AMHSf/G6P7f8a/8AQkW//g6T/wCN11tFAHJf2/41/wChIt//AAdJ/wDG6P7f8a/9CRb/APg6T/43XW0UAcl/b/jX/oSLf/wdJ/8AG6P7f8a/9CRb/wDg6T/43XW0UAcl/b/jX/oSLf8A8HSf/G6P7f8AGv8A0JFv/wCDpP8A43XW0UAcdPr3jQ20ufBNuBsOT/bSccf9c6wPh7rXi6H4a+HI7PwhBc26aZbrFMdWRDIvljDbdhxkdq9Muf8Aj1l/3D/Kua+GP/JJ/Cv/AGCbb/0UtAEf9v8AjX/oSLf/AMHSf/G6P7f8a/8AQkW//g6T/wCN11tcTqPxj+H+lat/Zt74ntFugxRgivIikdQzqpVfxIoAs/2/41/6Ei3/APB0n/xuj+3/ABr/ANCRb/8Ag6T/AON11Ed1bzWa3UU8b27J5izK4KFcZ3Z6Yx3rj7f4w+ALvXRo9v4ns3vGfYow4jZs4wJCuw/gaALH9v8AjX/oSLf/AMHSf/G6P7f8a/8AQkW//g6T/wCN11tFAHJf2/41/wChIt//AAdJ/wDG6P7f8a/9CRb/APg6T/43XW0UAcl/b/jX/oSLf/wdJ/8AG6P7f8a/9CRb/wDg6T/43XW0UAcl/b/jX/oSLf8A8HSf/G6P7f8AGv8A0JFv/wCDpP8A43XW0UAcl/b/AI1/6Ei3/wDB0n/xuj+3/Gv/AEJFv/4Ok/8AjddbRQByX9v+Nf8AoSLf/wAHSf8Axuj+3/Gv/QkW/wD4Ok/+N11tFAHJf2/41/6Ei3/8HSf/ABuj+3/Gv/QkW/8A4Ok/+N11tFAHJf2/41/6Ei3/APB0n/xuj+3/ABr/ANCRb/8Ag6T/AON11tFAHJf2/wCNf+hIt/8AwdJ/8bo/t/xr/wBCRb/+DpP/AI3XW0UAcl/b/jX/AKEi3/8AB0n/AMbo/t/xr/0JFv8A+DpP/jddbRQByX9v+Nf+hIt//B0n/wAbrEvdS1+9+I3gxNb8PxaXEt3dFJEv1n3H7JLxgKMfWvSK5LxR/wAj94I/6/br/wBJJaAOtooooA5Lwv8A8j943/6/bX/0kirra5Lwv/yP3jf/AK/bX/0kirraAPLYLa28X/tA6qurxrc23hixgFnbyDKLNLlmkweCQBgGuk+Jnhew8T+AtTt7yBDNb27zWs4ADwSIu5WVu3Irmdfluvh58V7rxbNp91eeH9as44L6W0iMrWcsedrso52kHqKh8Q/FXTvGnh+60H4aR3euapqMbWwkSzlihtAwwzyO6qAACemaAJdB+IerRaP8PLnUI7eTTtfg+zXdwyt5kdzt+Q7s42sQeozmup8S+Kb3TvGfhvw9o8ME0+qSySXRmVj5NtGuWYYI5JIAJyPasbxT4CKfBFPD2mHdeaPaxzWcg6+fDhgfxIP51nfCrUZPHniTU/HlzDJHELeLTLJJBjG0BpmH1c4/4DQBp3fi3xl4h1rUbT4d6bo32TS7j7NPf6zNKFmlABZI1jGeM43E9at6H47vdS8M+IX1HTorDXfD/mR3dqHMkRcR70ZTwSrDB9a8lufC3w48M+Ktfi+Lmi3MclzqMt1Y6p/pRhuIpDuCjyTgMpJGCK9A8Mad4Ns/ht4nm+H+kXmn2M1vKGkuUnUXJERwyecS23nGcDnNAFzwN4s8c+MotJ1ltI0mw8P3EQM5neQXUp2/6yJRlQm7oGJJHNO1TVfiwjXF9p2ieGILCAuwtLq7mkuZUXphkAQEgZxz1rW+F+8fB/wzsHz/ANlQ7QfXYK8VgXwTq9rewfEmw17WvHfnTZ09lu9wO47BEEIjCYxyT0oA9E8c+I4vF37Os2vW8LQJfQQyeUxyUPmqCM9+Qeat+M/+ShfDT/r7n/8ASZq5QI0f7IVsjqVZbaMEHsfPFdX4zB/4WF8NOP8Al7n/APSZqAPSGYIpZjhVGST2FeY2XjLx/wCMBNqfgTSdBj0OOd4oZNXmmE14EJBZAgwoJHG6vS7mLz7WWEHHmIVz6ZGK8a8B/EHS/h34Wh8G+Lre/s9a0x5IYbaOxllN6u4lWiKKQcgjqRQB2HiLxvrGmf2Jo2maLFceKtXiMgs5bj9zahQN7u4HKgnHHWs+38Z+M/DXiDS7D4jaZo/2PVp/s1vqGiyylIpT91JFk559RxVDxPqN5onjfwx8QNR0e8j0xtNks9QijiMstgZCrqzKozgEYOOlVtb8T6d8XNW8PaX4KF1f2VnqcWoX2pG2kihgWI5C5dRlieMCgDb1rxz4pT4l3vhHw1otpfSLYQ3MNxcO0cUBYsGaZgSSvCgKq5JzzWdp/wAQ/Hcuu3vg+58M6dL4otgsouoJ3XT1hYcSMTmQc8BQCT7YrU0r/k4jxD/2ArX/ANGPRpX/ACcR4h/7AVr/AOjHoAt+B/F+ual4g1bwz4xsLK11rTEjmMmnuzQTxPnDKG+YcjGDWBonjr4heMLO+HhfQtHhksb6e2e91OSVIJQkhCrGiFmZtoGWJAz0Famlf8nEeIf+wFa/+jHrj/h38StH8G6Lq9r4phvLC2bWr1ra+W2eaG4JlOUBQEqwPY4zmgDqrfxjP4t+F3itNUsRp+r6XBc2d/aq+5UkEZOVPdSDkU6w8Vt4W+EvhT7HZHUNT1G3t7Sws/MCCWUpnlj0UAEk+1Yvh+0vbnwJ8QvE97ZzWKeIDPcWtvOhSQQrCVVmXsTjNZ3izwyuufCHwHfXelTavp2lLBNf2NuWEkkDRbWK7SGJHBwDQB1P/CX+OfC+pWDfEDTNDbStQuktFudHmlLWrvwnmLIPmBPGVrm/F/8AwsD/AIX1pH9j/wDCNeb9huv7N+1faNvkfJv87b/HnGNvHrWf4d0v4EX/AIgsY/C2h317qaXMZRIY7/8A0dwwIZ95CgKeTknp3rq/iFrFt4R+K3hbxNrazRaNFZ3VrNdxwvIsLvtKhgoJ5x6UAbmu+Lde0eHRNDtbCx1HxbqkRJiSVo7SLYB5kpJy2wEgAdTVTSfF3i3SPFWnaF8Q9P0lDq29bK+0eWQxGRRuMbLINwO3nPTiuV+KWk6J4i1jwv4w1zSLvWfCn2WSK5WFJkkgD4aOYom18dcjtnkUeAdM+DNz4wsZ/h/o95c6hAzOt2iXvlWxCnlzKQvPQcHk0Abr+OvGmqeNvEfhnwtomnTS6XPGsd/fO8dvEjRK2H2ks7licBQMDrWz4G8aajrD61pniuytrDWNCkC3f2Vy0EiMu5ZE3c4x2NUfAQ/4uf8AEX/r/tv/AEnWoNHtDffFD4h2inabi0tYg3puhYZ/WgBlr4u+Inii0GueDdE0FNCYsbdNTuZRc3iAkBl2Dam7HG7NW734qxR/CyHxXZ6fm5nnWzFnPKFWG4MnllXfsqtnJ9K8i0Lw/wDCHQNLh0j4m6Deaf4ktyYpw4vmF0QeJIzESpBGOmK9Yik8DeHPhNBHJ4evrbwrdOyvaXFpLK0asSfMkQlnCkjIPUZHSgDc8LXXjr7ZLH42stD+zGIyQ3OjzSkKcj5GWQZJwc5HHFc3oPjPx74rb+2vD2k+H38Pi5eD7NNdyC9YI+0tkDy1PBO01jfDfU7Q+PJIvh1e6tqPgpbB3uEu1laG3nBGxIDKA3IzlelYXiHxB4UudTa++Fsms6d44muEZ9MtrSeJZ2LfMLiNl8vGMkkfXmgD6FopsRcwoZQBJtG4DoD3p1ABRRRQAUUUUAFFFFABRRRQAUUUUAFFFFABRRRQAUUUUAFFFFABRRRQAUUUUAFFFFABRRRQAUUUUAFFFFABRRRQByXjr/kI+D/+xgj/APSeeutrkvHX/IR8H/8AYwR/+k89dbQBDc2dtexql5bxXCI4dVlQMFYdCM9x615p8UoINV8a+CNK05VOtx6mt2HjA3wWyD94Seynge5rqPiN44tvh94MudcuYWuHUiKCEcB5G+6Cew7k+1eY+AfiX8OdJnm1bXfFg1HxTqxX7Xc/YLnbH/dhj/d4VF6e/U0AdVdRR69+0bDbX0Ymt9C0UXNuj4KrNLJjfj1AGAaTx5bJpfxe8B61ZIsV1eXUun3LKMGWJo8gN64IzUPi67Pgj4t2fja8triXQr7TTYX1zbwtJ9lZW3I7BQTtOcZxUMes2/xU+JPh298NR3E3h/w+0l5NqMtu8Uc0zLtSNN4BOOp4oA9aooooAKKKKACiiigAooooAKKKKACiiigAooooAKKKKACiiigCO5/49Zf9w/yrmvhj/wAkn8K/9gm2/wDRS10tz/x6y/7h/lXNfDH/AJJP4V/7BNt/6KWgDqa53xUdB0DwHqr6lbWsGlx20nmQiJQjZB4CjqST+ddCzBVLNwAMmvni6+LHgvxh44kn8a6z9h0HRrj/AEDSmtZpPtcq/wDLeXYhGB/Cmfc0AaN/Bqvh79lfSdKvGkhu7829o4Jw0cc0vK+3yHH416L408J6VN8JNS0NLOGO1ttPfyECACJkTKsPQgjrWJ4zurL4rfCK9uvAtx/aTW86T2+IXjMksLhigDqDkjjp3rM1r4v6Z4k8H3OheG7XULjxVfW32b+y2sZUe2kcbWMjFQoVckk57UAdz8NtRn1b4Y+Hb68bfPNp8TSMT947cZ/SunrH8I6J/wAI34O0nRtwY2NpHCxHchRn9c1sUAFFFFABRRRQAUUUUAFFFFABRRRQAUUUUAFFFFABRRRQAUUUUAFcl4o/5H7wR/1+3X/pJLXW1yXij/kfvBH/AF+3X/pJLQB1tFFFAHnmmeKvD2g/ETxpDrmu6Zpssl3askd5eRwsw+yRcgMRkVv/APCx/BH/AEOXh/8A8GkH/wAVVDw5a28/j/xs08EUpF5agF0Bx/okXrXVf2bY/wDPnb/9+l/woAxP+Fj+CP8AocvD/wD4NIP/AIqj/hY/gj/ocvD/AP4NIP8A4qtv+zbH/nzt/wDv0v8AhR/Ztj/z52//AH6X/CgDE/4WP4I/6HLw/wD+DSD/AOKo/wCFj+CP+hy8P/8Ag0g/+Krb/s2x/wCfO3/79L/hR/Ztj/z52/8A36X/AAoAxP8AhY/gj/ocvD//AINIP/iqP+Fj+CP+hy8P/wDg0g/+Krb/ALNsf+fO3/79L/hR/Ztj/wA+dv8A9+l/woAxP+Fj+CP+hy8P/wDg0g/+Ko/4WP4I/wChy8P/APg0g/8Aiq2/7Nsf+fO3/wC/S/4Uf2bY/wDPnb/9+l/woAxP+Fj+CP8AocvD/wD4NIP/AIqj/hY/gj/ocvD/AP4NIP8A4qtv+zbH/nzt/wDv0v8AhR/Ztj/z52//AH6X/CgDE/4WP4I/6HLw/wD+DSD/AOKo/wCFj+CP+hy8P/8Ag0g/+Krb/s2x/wCfO3/79L/hR/Ztj/z52/8A36X/AAoAxP8AhY/gj/ocvD//AINIP/iqP+Fj+CP+hy8P/wDg0g/+Krb/ALNsf+fO3/79L/hR/Ztj/wA+dv8A9+l/woAxP+Fj+CP+hy8P/wDg0g/+Ko/4WP4I/wChy8P/APg0g/8Aiq2/7Nsf+fO3/wC/S/4Uf2bY/wDPnb/9+l/woAxP+Fj+CP8AocvD/wD4NIP/AIquV+H2v+FPCeg3llqPjfwxLJPqVzdqYNWiICSSFlByRzg8/wA69F/s2x/587f/AL9L/hR/Ztj/AM+dv/36X/CgDE/4WP4I/wChy8P/APg0g/8AiqP+Fj+CP+hy8P8A/g0g/wDiq2/7Nsf+fO3/AO/S/wCFH9m2P/Pnb/8Afpf8KAMT/hY/gj/ocvD/AP4NIP8A4qj/AIWP4I/6HLw//wCDSD/4qtv+zbH/AJ87f/v0v+FH9m2P/Pnb/wDfpf8ACgDE/wCFj+CP+hy8P/8Ag0g/+Ko/4WP4I/6HLw//AODSD/4qtv8As2x/587f/v0v+FH9m2P/AD52/wD36X/CgDE/4WP4I/6HLw//AODSD/4qj/hY/gj/AKHLw/8A+DSD/wCKrb/s2x/587f/AL9L/hR/Ztj/AM+dv/36X/CgDE/4WP4I/wChy8P/APg0g/8AiqP+Fj+CP+hy8P8A/g0g/wDiq2/7Nsf+fO3/AO/S/wCFH9m2P/Pnb/8Afpf8KAMT/hY/gj/ocvD/AP4NIP8A4qj/AIWP4I/6HLw//wCDSD/4qtv+zbH/AJ87f/v0v+FH9m2P/Pnb/wDfpf8ACgDE/wCFj+CP+hy8P/8Ag0g/+Ko/4WP4I/6HLw//AODSD/4qtv8As2x/587f/v0v+FH9m2P/AD52/wD36X/CgDE/4WP4I/6HLw//AODSD/4qj/hY/gj/AKHLw/8A+DSD/wCKrb/s2x/587f/AL9L/hR/Ztj/AM+dv/36X/CgDE/4WP4I/wChy8P/APg0g/8AiqP+Fj+CP+hy8P8A/g0g/wDiq2/7Nsf+fO3/AO/S/wCFH9m2P/Pnb/8Afpf8KAMT/hY/gj/ocvD/AP4NIP8A4qj/AIWP4I/6HLw//wCDSD/4qtv+zbH/AJ87f/v0v+FH9m2P/Pnb/wDfpf8ACgDE/wCFj+CP+hy8P/8Ag0g/+Ko/4WP4I/6HLw//AODSD/4qtv8As2x/587f/v0v+FH9m2P/AD52/wD36X/CgDE/4WP4I/6HLw//AODSD/4qj/hY/gj/AKHLw/8A+DSD/wCKrb/s2x/587f/AL9L/hR/Ztj/AM+dv/36X/CgDE/4WP4I/wChy8P/APg0g/8AiqP+Fj+CP+hy8P8A/g0g/wDiq2/7Nsf+fO3/AO/S/wCFH9m2P/Pnb/8Afpf8KAMT/hY/gj/ocvD/AP4NIP8A4qj/AIWP4I/6HLw//wCDSD/4qtv+zbH/AJ87f/v0v+FH9m2P/Pnb/wDfpf8ACgDE/wCFj+CP+hy8P/8Ag0g/+Ko/4WP4I/6HLw//AODSD/4qtv8As2x/587f/v0v+FH9m2P/AD52/wD36X/CgDE/4WP4I/6HLw//AODSD/4qj/hY/gj/AKHLw/8A+DSD/wCKrb/s2x/587f/AL9L/hR/Ztj/AM+dv/36X/CgDE/4WP4I/wChy8P/APg0g/8AiqP+Fj+CP+hy8P8A/g0g/wDiq2/7Nsf+fO3/AO/S/wCFH9m2P/Pnb/8Afpf8KAMT/hY/gj/ocvD/AP4NIP8A4qj/AIWP4I/6HLw//wCDSD/4qtv+zbH/AJ87f/v0v+FH9m2P/Pnb/wDfpf8ACgDE/wCFj+CP+hy8P/8Ag0g/+Ko/4WP4I/6HLw//AODSD/4qtv8As2x/587f/v0v+FH9m2P/AD52/wD36X/CgDE/4WP4I/6HLw//AODSD/4qj/hY/gj/AKHLw/8A+DSD/wCKrb/s2x/587f/AL9L/hR/Ztj/AM+dv/36X/CgDE/4WP4I/wChy8P/APg0g/8AiqP+Fj+CP+hy8P8A/g0g/wDiq2/7Nsf+fO3/AO/S/wCFH9m2P/Pnb/8Afpf8KAMT/hY/gj/ocvD/AP4NIP8A4qj/AIWP4I/6HLw//wCDSD/4qtv+zbH/AJ87f/v0v+FH9m2P/Pnb/wDfpf8ACgDE/wCFj+CP+hy8P/8Ag0g/+Ko/4WP4I/6HLw//AODSD/4qtv8As2x/587f/v0v+FH9m2P/AD52/wD36X/CgDzzxl488IXV/wCFWtvFWiTLBrkcsxj1GFhGnkTDc2G4GSBk8ciuo/4WP4I/6HLw/wD+DSD/AOKrO8cWFmmo+EdtpAu7X4wcRjkfZ5+K6z+zbH/nzt/+/S/4UAYn/Cx/BH/Q5eH/APwaQf8AxVH/AAsfwR/0OXh//wAGkH/xVbf9m2P/AD52/wD36X/Cj+zbH/nzt/8Av0v+FAGJ/wALH8Ef9Dl4f/8ABpB/8VR/wsfwR/0OXh//AMGkH/xVbf8AZtj/AM+dv/36X/Cj+zbH/nzt/wDv0v8AhQBif8LH8Ef9Dl4f/wDBpB/8VR/wsfwR/wBDl4f/APBpB/8AFVt/2bY/8+dv/wB+l/wo/s2x/wCfO3/79L/hQBif8LH8Ef8AQ5eH/wDwaQf/ABVH/Cx/BH/Q5eH/APwaQf8AxVbf9m2P/Pnb/wDfpf8ACj+zbH/nzt/+/S/4UAYn/Cx/BH/Q5eH/APwaQf8AxVH/AAsfwR/0OXh//wAGkH/xVbf9m2P/AD52/wD36X/Cj+zbH/nzt/8Av0v+FAGJ/wALH8Ef9Dl4f/8ABpB/8VR/wsfwR/0OXh//AMGkH/xVbf8AZtj/AM+dv/36X/Cj+zbH/nzt/wDv0v8AhQBif8LH8Ef9Dl4f/wDBpB/8VR/wsfwR/wBDl4f/APBpB/8AFVt/2bY/8+dv/wB+l/wo/s2x/wCfO3/79L/hQBif8LH8Ef8AQ5eH/wDwaQf/ABVH/Cx/BH/Q5eH/APwaQf8AxVbf9m2P/Pnb/wDfpf8ACj+zbH/nzt/+/S/4UAYn/Cx/BH/Q5eH/APwaQf8AxVH/AAsfwR/0OXh//wAGkH/xVbf9m2P/AD52/wD36X/Cj+zbH/nzt/8Av0v+FAGJ/wALH8Ef9Dl4f/8ABpB/8VR/wsfwR/0OXh//AMGkH/xVbf8AZtj/AM+dv/36X/Cj+zbH/nzt/wDv0v8AhQBif8LH8Ef9Dl4f/wDBpB/8VR/wsfwR/wBDl4f/APBpB/8AFVt/2bY/8+dv/wB+l/wo/s2x/wCfO3/79L/hQBgXHxG8ENbSgeMdAJKEADVIeeP96uf+Hfj3wfY/DLw3a3vivRLe4h0u3jlhl1GFHjYRqCpBbIIPY13dzp1j9ll/0O3+4f8Alkvp9K5v4Z2Fm/wq8Ls9pAzNpNsSTGCSfLWgC7/wsfwR/wBDl4f/APBpB/8AFUf8LH8Ef9Dl4f8A/BpB/wDFVt/2bY/8+dv/AN+l/wAKP7Nsf+fO3/79L/hQBif8LH8Ef9Dl4f8A/BpB/wDFUf8ACx/BH/Q5eH//AAaQf/FVt/2bY/8APnb/APfpf8KP7Nsf+fO3/wC/S/4UAYn/AAsfwR/0OXh//wAGkH/xVH/Cx/BH/Q5eH/8AwaQf/FVt/wBm2P8Az52//fpf8KP7Nsf+fO3/AO/S/wCFAGJ/wsfwR/0OXh//AMGkH/xVH/Cx/BH/AEOXh/8A8GkH/wAVW3/Ztj/z52//AH6X/Cj+zbH/AJ87f/v0v+FAGJ/wsfwR/wBDl4f/APBpB/8AFUf8LH8Ef9Dl4f8A/BpB/wDFVt/2bY/8+dv/AN+l/wAKP7Nsf+fO3/79L/hQBif8LH8Ef9Dl4f8A/BpB/wDFUf8ACx/BH/Q5eH//AAaQf/FVt/2bY/8APnb/APfpf8KP7Nsf+fO3/wC/S/4UAYn/AAsfwR/0OXh//wAGkH/xVH/Cx/BH/Q5eH/8AwaQf/FVt/wBm2P8Az52//fpf8KP7Nsf+fO3/AO/S/wCFAGJ/wsfwR/0OXh//AMGkH/xVH/Cx/BH/AEOXh/8A8GkH/wAVW3/Ztj/z52//AH6X/Cj+zbH/AJ87f/v0v+FAGJ/wsfwR/wBDl4f/APBpB/8AFUf8LH8Ef9Dl4f8A/BpB/wDFVt/2bY/8+dv/AN+l/wAKP7Nsf+fO3/79L/hQBif8LH8Ef9Dl4f8A/BpB/wDFUf8ACx/BH/Q5eH//AAaQf/FVt/2bY/8APnb/APfpf8KP7Nsf+fO3/wC/S/4UAYn/AAsfwR/0OXh//wAGkH/xVH/Cx/BH/Q5eH/8AwaQf/FVt/wBm2P8Az52//fpf8KP7Nsf+fO3/AO/S/wCFAGJ/wsfwR/0OXh//AMGkH/xVH/Cx/BH/AEOXh/8A8GkH/wAVW3/Ztj/z52//AH6X/Cj+zbH/AJ87f/v0v+FAGJ/wsfwR/wBDl4f/APBpB/8AFVgan4q8Pa98RPBcOh67pmpSx3d0zx2d5HMyj7JLyQpOBXdf2bY/8+dv/wB+l/wrlfEdrbweP/BLQQRRE3l0CUQDP+iS+lAHZ0UUUAcl4X/5H7xv/wBftr/6SRV1tcl4X/5H7xv/ANftr/6SRV1tAHnPibV9d8S/EAeCvC+pHR4LS1W71XUYkDTKrHCRR54BPXPaszxB4P8AFHgTRLnxD4U8a69q01ipuJ9P1y5W5iuYxyyr8oKHGcYq14fkXSv2i/FNrevsk1bTrW4tN5/1ix7lYL64z0rrPiBrFpoXw+1q+v3VY1s5EAb+NmUhVHqSSKAE0fx3omqx6En2nybvXbP7XaQNG3zqACw3Y25GehOfatPVNf0zRbiwt9TuvJm1G4FtapsZjLIRnHyg44HU4A9a8j1TQb3w78DfB2uCIrqfhQQXrr3ER/1y/wDfLfpXRWdxF42+NEN5bsJtM8N6crxsDlWubgZ/MR/+hUAdH4n+JPhDwbdJbeJNct7O4kAIh2tI4B6EqgJA9zWrZeJNH1Hw+2uafqEN1pqxtIbmE71CqMt05yMdOteNeDF+Itz4g8XX3hZPCLSPrU8Vy+ri4+0gKcIp8vgJtxgfWuk8PeEvEPhnwj43uPEzaQj6qkt0lto5k8iI+SQ2A4BGSM96AOrtPiX4Pv8AXrHRbPXIZtR1CIS29uiOSyldwyduFO3nDYPtVHUfjL8PtK1Y6be+J7VbpXKMER5FRgcEM6qVGPc0z4P6Zp+k/CDQHtLaOETWUd1Oyry8jLlmPqa5ePW/Gvi3wte3ngzQfCem+GpfORU1VpTJOgJDPsiAVckE4NAHR/F+5hu/g5qlxaSpNDKkLxyRsGV1MiYII6iqvjMn/hYXw0/6+5//AEmauTRi37H9nuJP+iRDk/8ATcV1njP/AJKF8NP+vuf/ANJmoA9Jrj9d+LHgbw1q50vWvEVtb3oO14lV5PLPoxRSF/HFdXds6WczRffWNiuPXHFeefA22s5PhTa3WyOS7vpZpNQdgCzzGRtwf1x0waAE8Z3cF78Q/hrdWUyTW895cPHJG2VdTbMQQfSt3xL8UfBfhC++x+Idft7W6wCYFR5XXPTKopI/GsDxiLVfiF8NF04Qi1F7cCIQY2Bfs7Y244x9KS58R+KNY8Xa7p/w30TQIW02ZIb/AFHWGdfPl2g7QsQ3HAwMk0Ad1pfiLSNa0MaxpN/DeaeVLefCdwAHXI6gj061i2nxR8GX2p6Zp1prsMt5qsayWkKxybnVhkZ+X5Mjs2DXFfChL6Hw78QINVFkt1HqtwJU0/d9nVjCpbyw3IGT3re+BukWGnfB/Q5LK1jiku4ftE7gcySEn5if84oAbp/iXSvBuh+KNY1nxhc6rbQ6rIjNc28pFlIcBbdQASVBI5HHNVvh78bPD/izQYv7R1CKPW4bN7q+tbe0n2RKn3iCVIOBjgMTUvw8/wCPXx5/2HLv/wBBFW/gsiT/AAT8PxuA6NalWHYjcwIoA7LTNWsdZ0e31TTLhbiyuYxLFMAQGU9+eR+NRaHr2m+JNLXUdFuPtNozvGsvlsgYqxU4DAEjIPPQ9q8ag1258E+BfF3gmFv+JjYXotNIXu8V2f3WB/s7m/KvYPC2hQ+GfCmm6LbDEdlbpFn1IHJ/E5NAGtXkc/7QPhax+IV/pWoarBFo9rbhRcCzuDJ9qDsrxnCngADnbj3NeuV53ZEf8NIaqM8nw7b4H/bZ6AOn1Txr4d0WaGPVtUitGntHvIzKrKphXG5t2MD7y8Hk54FUV+KHgxvC8fiI6/bR6VJI0Uc8qshd16qqMAxI9AK5vxdpNjq/x+8Gx6lbJcxwafdzokgyA6lNpx3xmtnx34hm0nVNE0vRNEs9U13UpZPsRvGCRW+1cvIWwT0wMLyaANHwr8RPCnjZ5U8MazDfSxDc8Wx43A9drgHHvil1f4heFdAkvk1nWYLN9PKC4WVWBBcblCjHzkjnC5rzq0j8XJ8f/DUvjZPD6XMun3axHRfOyyALxJ5nXnpj3rd8OaRp918e/GGpXNpFLeWsFokEzrkxBoznb6E4HPWgDtPDXi3QvGGlnUPDepRX9sG2syAqUPoysAVP1ArIt/iv4GuvEo0C38R2smpM/lrEobaz5xtEmNhOe2awtAsIY/jl43soB5MN5plpLKsfGXYOpb6471mWUusfCTSdP0XxNpljrPhWO6SC21O3ws1uWf8AdmaJhhjuI+ZT70Aei6r4w0DQ72W11jVIbKWG2+1yedlVWLdt3bsY68Yzn2qt4W+IHhbxqZl8MaxDfvB/rIwrI6jpna4Bx74xXJatp+l6h+0fpf8AakFvPJDobS2qzYOJBL1UHqQM/SpPFMMMHx88GT6eqLfT292l3sGC8AUEFsdcN0zQBt6/8WvAvhjVG07WvEVvBeI214UR5TGfRtinb+OK3H8TaMvheTxENQik0iOA3DXcWZF8sDJPy5Jx6AZrgIfEXi/xNfayPhxofhq0061vpLW4utZaQG7lXiQ7Ih68ZY81zfhpZo/2X/GEVx5IkjbU1ZbfPlKdzZCZ525zj2oA9UsPiH4V1TxKnh/T9ZhuNUeLzhbxo5wuN3LY2g4PQnPtVLWPi14F0DWv7J1bxJawXoba8YDuIz6Mygqp+pFL4W0u20D4S2cWhWqW5j0vzowi8mUxZLepJJ615p8NbP4l3Hw1sv8AhH4PAkum3sbPJ9uW6M0zMTv87b8pbOc0Ae06h4h0rTNBOtXl7GNN2qwuYwZFIYgKRtByCSOlYbfFbwOviRdBPiSz/tF32CMbiu7+75mNgOeMZzXCa94W1Pwr+zPqOia/LazTxvnFmzmJEe4BCKWAOADitz4n6Bpdh8ANUs7Gxht7eysllt0jQDy3UqQw9/frQB3mu+IdJ8M6W+o6/qENhaIcGWZsAn0A6k+w5rA0v4seCda0m/1LTNdjuLbTojNdbYJQ8SD+LYV3Ee4BrmNWEWo/F/wBbaviW2GlTXMMcoyj3IVcHB4LAZNekXthpl7JLb3UVu1xdWzxNkL5jRHhh67cke2cUATQajaXGlJqUM6vZyQidZh0KYzu/KotF1qw8Q6Pb6ro8/2iyuV3Qy+WybxnGcMAe3pXiMetXum/CnUfh4kh/tqDVBoFtg/MYZTlHH0iJ/KvcNI0yDRtFs9Ms1CwWkKQxgDHCjH9KALlFFFABRRRQAUUUUAFFFFABRRRQAUUUUAFFFFABRRRQAUUUUAFFFFABRRRQAUUUUAcl46/5CPg/wD7GCP/ANJ5662uS8df8hHwf/2MEf8A6Tz11tAGZr+m32q6U1ppmrzaRK7jddQRK8gTuF3ZAJ9cHFeY63p2ufDHxD4evtO8W65rlnqmpx2N5Y6xcC4yHz80Z2jbjGcD/wCtXrN9fWumWE97qE8dta26GSWWRsKijqSa878O2178R/Ftr4y1WB7XQNOLf2FZyrh52PBunHbI+6PTmgCfxhqOr+IPiFY+B9D1WfR4DZNf6le2mPPEe7aiISDtJOfmx2rOtRrHw3+I+haNP4i1PXtC18SQL/a8wmnt7hRuBEmASpHGKtRMLH9pq4+0YX+0fD6C3JH3jHKdwB+hzTviGwvPih8PdOg+e4jv5rx1HVYljILH2ycUAelUUUUAFFFFABRRRQAUUUUAFFFFABRRRQAUUUUAFFFFABRRRQBHc/8AHrL/ALh/lXNfDH/kk/hX/sE23/opa6W5/wCPWX/cP8q5r4Y/8kn8K/8AYJtv/RS0AdTXm+ufDrW7m3utUPxG8SRajEjyQiCVIbRSMkAwqvzDtyTXpFeceNNbvvF2rTeAvB82yVlA1rU15WxhPWMHvKw4A7DmgCla/EzU0/Z7tvF91FG+rzQrDEpXCyTs/lq2B2JwcVU1zwZ4t8PeFLjxTaePddu9es7f7VNa3EqmxlKjc6CHaAoxkA5q38X9GttC+DVraaZAI7HR7uzfYBnbEkgBJ/PJrsPGuq2lp8NdZ1GWVRbf2dIwcHhgyHGPrkUAaHhjW4/EnhXTNZhXal9bJOFH8O5ckfnWpXK/DCym0/4V+G7W6XZLHp8W5T2JXP8AWuqoAKKKKACiiigAooooAKKKKACiiigAooooAKKKKACiiigAooooAK5LxR/yP3gj/r9uv/SSWutrkvFH/I/eCP8Ar9uv/SSWgDraKKKAOS8L/wDI/eN/+v21/wDSSKutrzey0XVtS+I3jOTTPFF9o6Ld2oaK2treQOfskXJMsbH8jW3/AMIn4l/6KHrH/gBY/wDxigC34s8DaJ4zit/7YhlW5tWLWt5aymKe3PqjjkfTpWHp3wf0O31G3vNa1XXvEslq/mW6a5qLXMcLdiEwBn6g1o/8In4l/wCih6x/4AWP/wAYo/4RPxL/ANFD1j/wAsf/AIxQB019ZQajp9xZXab4LiNopF9VYYP86wfA3gPSfh/osum6K91Mk0xmkmu3DyOcAAEgDgAADiq//CJ+Jf8Aooesf+AFj/8AGKP+ET8S/wDRQ9Y/8ALH/wCMUAV/EHwt0jXNam1e01LWtA1C4AFxcaLfG2a4x03jBBPvjNaWk+CNN0fw9f6TBcahcLqAb7VdXd0088hZdpbc2ece2Paqv/CJ+Jf+ih6x/wCAFj/8Yo/4RPxL/wBFD1j/AMALH/4xQBuaDolt4d8OWOi2TSSW1jbrbxtMQWZVGBuIABP4CuNPwU8N/a59l/rkWmXEjSS6LFqTpZMzHJJjHPXtnHtWt/wifiX/AKKHrH/gBY//ABij/hE/Ev8A0UPWP/ACx/8AjFADz8PNIPw7XwYJrtdMRAiuHXzQA+8c7cdfbpV/U/Cljqus6HqVxJcLNokjyWyowCsWQod+QSeD2I5rN/4RPxL/ANFD1j/wAsf/AIxR/wAIn4l/6KHrH/gBY/8AxigDra8/vfg34fudUubqz1HXNKt72QyXen6bqLwW1yx+8WQevfBFaf8AwifiX/ooesf+AFj/APGKP+ET8S/9FD1j/wAALH/4xQBcuPBOkzXvh6eIS2y+HWY2UMLAJgx+XhgQSQAexFZOt/CnRtY8Qz6zBqet6Pc3ePti6TqDW6XeBgeYAOeOOMVa/wCET8S/9FD1j/wAsf8A4xR/wifiX/ooesf+AFj/APGKAJvDPw/0TwjpuqafoizxWupytLJG0m7yyUCEKSM4wM85OSea0/DXh+18K+GbHQ9PkmktrGIRRvOwLke5AAz+ArG/4RPxL/0UPWP/AAAsf/jFH/CJ+Jf+ih6x/wCAFj/8YoA1NC8MWPh86obR5pRql495OJmBAdwAQuAPl475+tZHhf4a6X4Q1iW90fUtYFu+/wAvTJr4vaQljklI8cH3JNP/AOET8S/9FD1j/wAALH/4xR/wifiX/ooesf8AgBY//GKAOR1TQrDxN+0tYXEUGW8P6aJ72Ts0jE+Sp9wCxrofiRo974rk0Tw5aQSrbS3qXl7ehTsgihIbbu6bmbAA+p7Vd/4RPxL/ANFD1j/wAsf/AIxR/wAIn4l/6KHrH/gBY/8AxigDrRwK5HxV8ONL8Vazb6tJqGraTqMEXk/atJvDbvJHnOxiAcjNL/wifiX/AKKHrH/gBY//ABij/hE/Ev8A0UPWP/ACx/8AjFAGjL4TsZvFWma+81z9r0y1ktYV3goyPjJbIyT8o5yKh8X+CNK8aW9suoyXdrc2chktb2wnMM9uxGCVcdMj1Bqp/wAIn4l/6KHrH/gBY/8Axij/AIRPxL/0UPWP/ACx/wDjFAFbQ/hVoeheIbTXY7zVr7VbZHRrzULwzyThhjDlh2xwFwOT1re0/wANWem+JtV12CSdrrVFiWdHYFF8sYG0AZHXnJNZX/CJ+Jf+ih6x/wCAFj/8Yo/4RPxL/wBFD1j/AMALH/4xQBePg3TW8R6vrMj3DzavZpZXMRcCMRpuA24AIJ3HJz+Vc9Z/B3RYNSguL/WfEOsW9rIstvp+p6m01tC6/dITAzjtkmtP/hE/Ev8A0UPWP/ACx/8AjFH/AAifiX/ooesf+AFj/wDGKAOW8UeGdO8U/HSCy1RJQE0EyQzwSGOWCQTcOjjlWGa6rwp8OdI8KalPqcd3qWrapPH5Tahq12biYR5zsDEAAfhSf8In4l/6KHrH/gBY/wDxij/hE/Ev/RQ9Y/8AACx/+MUAZ9/8INCvdcutQg1LXNOivpDLe2Gn6i8NtdMepdBzz3wRWhY/DfQ9N8B6l4RsmuotL1Az7wHXfEJeoQ7cADtkH8aP+ET8S/8ARQ9Y/wDACx/+MUf8In4l/wCih6x/4AWP/wAYoA6TT7GLTdMtrGAs0VtEsKFyCSFGBn34riLv4PaM+ozXOka34i0CK4kMs1npGptBBI56kpg4z7YrT/4RPxL/ANFD1j/wAsf/AIxR/wAIn4l/6KHrH/gBY/8AxigCxeeA9Iu/AreE911Fp7AZdZt8pO/eSXfdkluufWr/AIh8OWniXwreaBfyTR2l5D5MjwsBIF45BIIzx6Vkf8In4l/6KHrH/gBY/wDxij/hE/Ev/RQ9Y/8AACx/+MUAWfEngPRvFOj2dhqQuEaw2m0vLaYxXFuwGNyuOhwPp7Uzwr4C07wpdTXkd9qmq6hNGInvtWvGuJigOQoJwAM+gFQ/8In4l/6KHrH/AIAWP/xij/hE/Ev/AEUPWP8AwAsf/jFAHI2eh2HiH9pjUNZt4MpoNhHFPIeVe6cHGPdYz+or1uuS/wCET8S/9FD1j/wAsf8A4xR/wifiX/ooesf+AFj/APGKAOtorkv+ET8S/wDRQ9Y/8ALH/wCMUf8ACJ+Jf+ih6x/4AWP/AMYoA62iuS/4RPxL/wBFD1j/AMALH/4xR/wifiX/AKKHrH/gBY//ABigDraK5L/hE/Ev/RQ9Y/8AACx/+MUf8In4l/6KHrH/AIAWP/xigDraK5L/AIRPxL/0UPWP/ACx/wDjFH/CJ+Jf+ih6x/4AWP8A8YoA62iuS/4RPxL/ANFD1j/wAsf/AIxR/wAIn4l/6KHrH/gBY/8AxigDraK5L/hE/Ev/AEUPWP8AwAsf/jFH/CJ+Jf8Aooesf+AFj/8AGKAOtorkv+ET8S/9FD1j/wAALH/4xR/wifiX/ooesf8AgBY//GKAOtorkv8AhE/Ev/RQ9Y/8ALH/AOMUf8In4l/6KHrH/gBY/wDxigDraK5L/hE/Ev8A0UPWP/ACx/8AjFH/AAifiX/ooesf+AFj/wDGKAOtorkv+ET8S/8ARQ9Y/wDACx/+MUf8In4l/wCih6x/4AWP/wAYoA62iuS/4RPxL/0UPWP/AAAsf/jFH/CJ+Jf+ih6x/wCAFj/8YoA62iuS/wCET8S/9FD1j/wAsf8A4xR/wifiX/ooesf+AFj/APGKADx1/wAhHwf/ANjBH/6Tz11teV+MfDWvw33hcTeOdUuDJrcaRs9nZjyW8iY7xthGTgEYORyeOldP/wAIn4l/6KHrH/gBY/8AxigC3438F2Pj3w22iard3trbPIsjNZSKjtt6A7lYEfh2rmbf4NrbNF5fxC8ebIiNsZ1v5cDtjZ09q2/+ET8S/wDRQ9Y/8ALH/wCMUf8ACJ+Jf+ih6x/4AWP/AMYoAs+LPAmkeMYbT+0jdW93ZMWtL+ynMNxASMEq49ffNQeFfh3pHhS/m1GO61HVdUmjET6jq10bifYP4QxwAPoBTf8AhE/Ev/RQ9Y/8ALH/AOMUf8In4l/6KHrH/gBY/wDxigDraK5L/hE/Ev8A0UPWP/ACx/8AjFH/AAifiX/ooesf+AFj/wDGKAOtorkv+ET8S/8ARQ9Y/wDACx/+MUf8In4l/wCih6x/4AWP/wAYoA62iuS/4RPxL/0UPWP/AAAsf/jFH/CJ+Jf+ih6x/wCAFj/8YoA62iuS/wCET8S/9FD1j/wAsf8A4xR/wifiX/ooesf+AFj/APGKAOtorkv+ET8S/wDRQ9Y/8ALH/wCMUf8ACJ+Jf+ih6x/4AWP/AMYoA62iuS/4RPxL/wBFD1j/AMALH/4xR/wifiX/AKKHrH/gBY//ABigDraK5L/hE/Ev/RQ9Y/8AACx/+MUf8In4l/6KHrH/AIAWP/xigDraK5L/AIRPxL/0UPWP/ACx/wDjFH/CJ+Jf+ih6x/4AWP8A8YoA62iuS/4RPxL/ANFD1j/wAsf/AIxR/wAIn4l/6KHrH/gBY/8AxigDqbn/AI9Zf9w/yrmvhj/ySfwr/wBgm2/9FLVefwp4kFtKT8QtYI2Hj7DY88f9cKwPh74Z8QXHw18OTW/jrVLSKTTLdkt47KzZYgYxhQWhLEDpySaAPT2G5SMkZGMjtXl9r8CdO0+S5bS/GvjSwFzM00qWmqrEruerECPk+55rpP8AhE/Ev/RQ9Y/8ALH/AOMUf8In4l/6KHrH/gBY/wDxigC5pHg6107wvPoOo6hqWv2txvEr6zc/aJHVhgqWwOPT0rm7T4J+HbeaFLjUtev9Mt3V4NHvNSeSziKnK4jxyB6Emtj/AIRPxL/0UPWP/ACx/wDjFH/CJ+Jf+ih6x/4AWP8A8YoA6wAKoVQAAMADtS1yX/CJ+Jf+ih6x/wCAFj/8Yo/4RPxL/wBFD1j/AMALH/4xQB1tFcl/wifiX/ooesf+AFj/APGKP+ET8S/9FD1j/wAALH/4xQB1tFcl/wAIn4l/6KHrH/gBY/8Axij/AIRPxL/0UPWP/ACx/wDjFAHW0VyX/CJ+Jf8Aooesf+AFj/8AGKP+ET8S/wDRQ9Y/8ALH/wCMUAdbRXJf8In4l/6KHrH/AIAWP/xij/hE/Ev/AEUPWP8AwAsf/jFAHW0VyX/CJ+Jf+ih6x/4AWP8A8Yo/4RPxL/0UPWP/AAAsf/jFAHW0VyX/AAifiX/ooesf+AFj/wDGKP8AhE/Ev/RQ9Y/8ALH/AOMUAdbRXJf8In4l/wCih6x/4AWP/wAYo/4RPxL/ANFD1j/wAsf/AIxQB1tFcl/wifiX/ooesf8AgBY//GKP+ET8S/8ARQ9Y/wDACx/+MUAdbRXJf8In4l/6KHrH/gBY/wDxij/hE/Ev/RQ9Y/8AACx/+MUAdbXJeKP+R+8Ef9ft1/6SS0f8In4l/wCih6x/4AWP/wAYrEvdF1bTfiN4Mk1PxRfawjXd0Fiuba3jCH7JLyDFGp/M0AekUUUUAcl4X/5H7xv/ANftr/6SRV1tcl4X/wCR+8b/APX7a/8ApJFXW0AFFFFABRRRQAUUUUAFFFFABRRRQAUUUUAFFFFABRRRQAUUUUAFFFFABRRRQAUUUUAFFFFABRRRQAUUUUAFFFFABRRRQAUUUUAFFFFABRRRQAUUUUAFFFFABRRRQAUUUUAFFFFABRRRQAUUUUAFFFFABRRRQAUUUUAFFFFABRRRQByXjr/kI+D/APsYI/8A0nnrra5Lx1/yEfB//YwR/wDpPPXW0AFFFFABRRRQAUUUUAFFFFABRRRQAUUUUAFFFFABRRRQAUUUUAFFFFABRRRQBHc/8esv+4f5VzXwx/5JP4V/7BNt/wCilrpbn/j1l/3D/Kua+GP/ACSfwr/2Cbb/ANFLQB1NFFFABRRRQAUUUUAFFFFABRRRQAUUUUAFFFFABRRRQAUUUUAFFFFABRRRQAUUUUAFcl4o/wCR+8Ef9ft1/wCkktdbXJeKP+R+8Ef9ft1/6SS0AdbRRRQByXhf/kfvG/8A1+2v/pJFXW15vZa1q2m/EbxnHpnhe+1hGu7UtLbXNvGEP2SLgiWRT+Qrb/4SzxL/ANE81j/wPsf/AI/QB1tFcl/wlniX/onmsf8AgfY//H6P+Es8S/8ARPNY/wDA+x/+P0AdbRXJf8JZ4l/6J5rH/gfY/wDx+j/hLPEv/RPNY/8AA+x/+P0AdbRXJf8ACWeJf+ieax/4H2P/AMfo/wCEs8S/9E81j/wPsf8A4/QB1tFcl/wlniX/AKJ5rH/gfY//AB+j/hLPEv8A0TzWP/A+x/8Aj9AHW0VyX/CWeJf+ieax/wCB9j/8fo/4SzxL/wBE81j/AMD7H/4/QB1tFcl/wlniX/onmsf+B9j/APH6P+Es8S/9E81j/wAD7H/4/QB1tFcl/wAJZ4l/6J5rH/gfY/8Ax+j/AISzxL/0TzWP/A+x/wDj9AHW0VyX/CWeJf8Aonmsf+B9j/8AH6P+Es8S/wDRPNY/8D7H/wCP0AdbRXJf8JZ4l/6J5rH/AIH2P/x+j/hLPEv/AETzWP8AwPsf/j9AHW0VyX/CWeJf+ieax/4H2P8A8fo/4SzxL/0TzWP/AAPsf/j9AHW0VyX/AAlniX/onmsf+B9j/wDH6P8AhLPEv/RPNY/8D7H/AOP0AdbRXJf8JZ4l/wCieax/4H2P/wAfo/4SzxL/ANE81j/wPsf/AI/QB1tFcl/wlniX/onmsf8AgfY//H6P+Es8S/8ARPNY/wDA+x/+P0AdbRXJf8JZ4l/6J5rH/gfY/wDx+j/hLPEv/RPNY/8AA+x/+P0AdbRXJf8ACWeJf+ieax/4H2P/AMfo/wCEs8S/9E81j/wPsf8A4/QB1tFcl/wlniX/AKJ5rH/gfY//AB+j/hLPEv8A0TzWP/A+x/8Aj9AHW0VyX/CWeJf+ieax/wCB9j/8fo/4SzxL/wBE81j/AMD7H/4/QB1tFcl/wlniX/onmsf+B9j/APH6P+Es8S/9E81j/wAD7H/4/QB1tFcl/wAJZ4l/6J5rH/gfY/8Ax+j/AISzxL/0TzWP/A+x/wDj9AHW0VyX/CWeJf8Aonmsf+B9j/8AH6P+Es8S/wDRPNY/8D7H/wCP0AdbRXJf8JZ4l/6J5rH/AIH2P/x+j/hLPEv/AETzWP8AwPsf/j9AHW0VyX/CWeJf+ieax/4H2P8A8fo/4SzxL/0TzWP/AAPsf/j9AHW0VyX/AAlniX/onmsf+B9j/wDH6P8AhLPEv/RPNY/8D7H/AOP0AdbRXJf8JZ4l/wCieax/4H2P/wAfo/4SzxL/ANE81j/wPsf/AI/QB1tFcl/wlniX/onmsf8AgfY//H6P+Es8S/8ARPNY/wDA+x/+P0AdbRXJf8JZ4l/6J5rH/gfY/wDx+j/hLPEv/RPNY/8AA+x/+P0AdbRXJf8ACWeJf+ieax/4H2P/AMfo/wCEs8S/9E81j/wPsf8A4/QB1tFcl/wlniX/AKJ5rH/gfY//AB+j/hLPEv8A0TzWP/A+x/8Aj9AHW0VyX/CWeJf+ieax/wCB9j/8fo/4SzxL/wBE81j/AMD7H/4/QB1tFcl/wlniX/onmsf+B9j/APH6P+Es8S/9E81j/wAD7H/4/QB1tFcl/wAJZ4l/6J5rH/gfY/8Ax+j/AISzxL/0TzWP/A+x/wDj9AHW0VyX/CWeJf8Aonmsf+B9j/8AH6P+Es8S/wDRPNY/8D7H/wCP0AHjr/kI+D/+xgj/APSeeutryvxj4l1+a+8LmbwNqluY9bjeNXvLM+c3kTDYNsxwcEnJwODz0rp/+Es8S/8ARPNY/wDA+x/+P0AdbRXJf8JZ4l/6J5rH/gfY/wDx+j/hLPEv/RPNY/8AA+x/+P0AdbRXJf8ACWeJf+ieax/4H2P/AMfo/wCEs8S/9E81j/wPsf8A4/QB1tFcl/wlniX/AKJ5rH/gfY//AB+j/hLPEv8A0TzWP/A+x/8Aj9AHW0VyX/CWeJf+ieax/wCB9j/8fo/4SzxL/wBE81j/AMD7H/4/QB1tFcl/wlniX/onmsf+B9j/APH6P+Es8S/9E81j/wAD7H/4/QB1tFcl/wAJZ4l/6J5rH/gfY/8Ax+j/AISzxL/0TzWP/A+x/wDj9AHW0VyX/CWeJf8Aonmsf+B9j/8AH6P+Es8S/wDRPNY/8D7H/wCP0AdbRXJf8JZ4l/6J5rH/AIH2P/x+j/hLPEv/AETzWP8AwPsf/j9AHW0VyX/CWeJf+ieax/4H2P8A8fo/4SzxL/0TzWP/AAPsf/j9AHW0VyX/AAlniX/onmsf+B9j/wDH6P8AhLPEv/RPNY/8D7H/AOP0AdbRXJf8JZ4l/wCieax/4H2P/wAfo/4SzxL/ANE81j/wPsf/AI/QB1Nz/wAesv8AuH+Vc18Mf+ST+Ff+wTbf+ilqvP4r8SG2lB+HusAbDz9useOP+u9YHw98S+ILf4a+HIbfwLql3FHpluqXEd7ZqsoEYwwDTBgD15ANAHqFFcl/wlniX/onmsf+B9j/APH6P+Es8S/9E81j/wAD7H/4/QB1tFcl/wAJZ4l/6J5rH/gfY/8Ax+j/AISzxL/0TzWP/A+x/wDj9AHW0VyX/CWeJf8Aonmsf+B9j/8AH6P+Es8S/wDRPNY/8D7H/wCP0AdbRXJf8JZ4l/6J5rH/AIH2P/x+j/hLPEv/AETzWP8AwPsf/j9AHW0VyX/CWeJf+ieax/4H2P8A8fo/4SzxL/0TzWP/AAPsf/j9AHW0VyX/AAlniX/onmsf+B9j/wDH6P8AhLPEv/RPNY/8D7H/AOP0AdbRXJf8JZ4l/wCieax/4H2P/wAfo/4SzxL/ANE81j/wPsf/AI/QB1tFcl/wlniX/onmsf8AgfY//H6P+Es8S/8ARPNY/wDA+x/+P0AdbRXJf8JZ4l/6J5rH/gfY/wDx+j/hLPEv/RPNY/8AA+x/+P0AdbRXJf8ACWeJf+ieax/4H2P/AMfo/wCEs8S/9E81j/wPsf8A4/QB1tFcl/wlniX/AKJ5rH/gfY//AB+j/hLPEv8A0TzWP/A+x/8Aj9AHW0VyX/CWeJf+ieax/wCB9j/8fo/4SzxL/wBE81j/AMD7H/4/QB1tcl4o/wCR+8Ef9ft1/wCkktH/AAlniX/onmsf+B9j/wDH6xL3WtW1L4jeDI9T8L32jot3dFZbm5t5A5+yS8ARSMfzFAHpFFFFAHJeF/8AkfvG/wD1+2v/AKSRV1tcl4X/AOR+8b/9ftr/AOkkVdbQBHPPDbQPNcypDEgy0kjBVUepJ6Vn6Z4n0DWp3h0bW9N1CVPvx2t3HKy/UKTivPtTsIPiL8Z7zQtbzPoXhu0hmaw3Hy7i4lyQ0g/iCgdDVvx78LfDb+Ery+8OaRZ6HrGnRNdWV7psCwSJIg3DOwDIOMc+tAHpVFedaD8TZLiz8D/2jYfu/E1qQb0S4Edwq52FNvO7Bwcj6V0XiLxaND8RaBo1vZG9u9ZuGjwJdnkxKu55TwcgcDHGc9aAOjorhNW+Ieptrd5pfgrwjdeJZdPcR3swu47WGJyM7A7/AH2APIA49av6L4+tta8LarqaWFxaXukeYl7ptyQskMiLu2kjIwR0YdqAOsorz/wj8SdT8Zz6dcaT4Quv7EukxPqst0iLDJtyVWNgHkUH5dwAGaZqXxC8W2sk9xYfDTUrnSrcv5l1NfwwSlV6ssJyxHGR0zQB2uta1p/h7SZtT1i4+z2cGPMl2M23JAHCgnqR2qO98QaZp+oabY3l15dzqrslmnlsfNZV3EZAwOBnnFcJ8Rtes/E/wDuta0wsbW9hhlj3jDAGVeCPUHipPGf/ACUL4af9fc//AKTNQB6TRQTjrXnDfE/WdVu7lvBHge88Q6XazNBLqH26K2V2U4by1fmQA8Z4oA9Horj9f+IUOiabpOzR7+71nWF/0TR0ULOTjLb8nCBe5PSs/SviVqUfiGx0fxx4RuvDM+pMY7KY3kd1DK452F0+6xHQGgDr4te02fxFcaFFc7tStoEuJYNjDbGxIVt2NpyQeAc1o15BqPiOTQP2gNZSy0q71fULvRLZLWztQBvIdySzthUUDqSfzrrvBvjybxFq9/oeu6FP4f1ywRZZbKWdZ1aNujpIvDDNAHY0VwF98R9WutTu7bwR4Mu/ElvYTGC6vBeRWsQkX7yxl+ZCOhx3q7H8R7O5+G+q+KrSxn36XFMbnT7g+VLHLEPmjY4OD789aAOyorh/CnxA1HxbeW1zZeFbqDw9PCXXWJ7lEBYDJAiI3lc5Ac4Bx0qg/wAT9b1BpLzwl4D1DW9EidlbUReRQGXacFoom+aQZBweM0Aej0Vxuo/EnTrb4Xv420+B7qzVFYwSN5Tqd4Rlbg4KnORg9Kw734vX1hDDrF14J1KHwpIyg6xLPGrqrEAObf74TnqccdqAPTqK5fxd44t/DEdhDa2Nxq+qaoxSw0+1IDzYGSxY8KoHVjTPC/ijX9Turi38VeD7nw48UXmrK15HdQuucEeYnAbvg0AdXRXm5+KOt36vqHhbwFqOs6DGzA6iLyKFpVU4LRRN8zjg4PGa7bw9r1j4n8P2msaU7Na3Sb03rtZexVh2IIINAEur6vY6DpNxqerXAt7O2TfLIVLbR9ACSfYDNQ6v4j0jQNCbWNavo7KwVVYzTAr16DGM5PpjNcd8TnOp+IfBvhg8wajqguLlf70cC+Zg+xbbXN/G7VvEEPiDwrY2fhgX9gurQSwytfRoLycB8QFCMp0zvPFAHqXhvxRo3i/R11Xw5ere2TOUEoRk+YdRhgCPyrWrz/XfiVc+EdF0G98T+GpLG51a7a3ms4Llbh4G2sVwUXEhbaoxx97rxV2Dx5d6f4W1LXfHHh6bw3b2ZHlRvdR3Elwp+7gJ0YnA2nuaAOzorzKf4q+INLtv7W8QfDrUtO8P/KzX4vYpZYkP8bwL8ygd+eK2/GXxHsfCFroV41rJqFnrFx5KSWxLOAYy6lUCkuWIAA469aAOyorzGf4w3Oh6rFbeNvBupaFBeqx0+VZUumuWGMRlI87HORhcn3xV/S/iVqDeLbHRPFXhC98PDVNw064muo5lmKjO1wn+rbHbJoA7+q1lqNlqUcj6deW92kUjRSNBKrhHHVSQeCO4qzXnfgzWdI07wT4n1XQtBXT4rDUL5prdbln+0SRE7n3EfLux0wQKAPRKK8r/AOFx6ndeH4vEOj+A9SvtCSES3d99pSLyxjL+XGw3yheRnCg4NHxY8Zawvwui1bwZZTXFlfwxzNqcF8Ld7VSyFSF+827OODxQB6pRXC23jXxFY+AtY1/xT4QOkvpdqZ4bf+047g3aqmSdyL8nTuD1p3hT4gaj4tvLa5svCt1B4enhLrrE9yiAsBkgREbyucgOcA46UAdxRXm//C0da1aWafwR4Fvdf0mCVom1A30VsspU4YxI/LjPGeM11fg/xbYeM9BXU9OSaErI0M9tcLtlt5VOGRh6igDdoryz44eIvE+h6DZL4d0ydreS7gMuoQaitu0b+aoEO37xD9CegzzXRQeN7/S/B1/r3j/QD4aFo+FtlvUvGmBxt2lABkscBaAOxorzKf4q+INLtv7W8QfDrUtO8P8Ays1+L2KWWJD/ABvAvzKB354r0i1uYb20iurWRZYZkEkbr0ZSMg/lQBLRXF+J/iBcaX4hHh7wv4euPEmtiAXEttFOkEcEZOAXlfhSewxUtt47ez8I6jrfjPQ7vw3/AGc2JoJpFm8zgEeWycPknA96AOvorzGb4q+IdPs/7Y1n4c6pZeHgA7XwvYZJo4z/ABtbj5lAHJ54rb8YfEnT/CWl6HqbW739jrF0sCSW5JZVaNnVlUKS5OANvHXrQB2dFeeWfxO1KHxJp2n+KvBt94ftNWl8nT7ya6jl8yTGQsiJzGSOxJrS8VePpdF1yHQPD2h3HiLXpYTcfY4ZkhSKPOA0kj8KCeB60AdNquqWei6Tdanqc3kWdpE008u0tsRRknABJ/AVLaXUN9Zw3dq/mQTxrJG+CNykZBweelec+Kte1bW/g14w/t/w3deH7u306ZWhmmSZJAYycpInDD19K0n8W/8ACKeDPB2bL7V/ab2lj/rdnl70Hz9DnGOnH1oA7qiue8aeK/8AhENHtb77H9s+0X8Fns83y9vmuF3Zwc4znHf1FZ3ivxzfaPr0Og+GvDk/iLWJLc3TW6XUdskUW7buaR+Mk9BigDq72+tNNs5LvUbqG0tohmSaeQIiD3Y8CpkdZEV0YMrDIYHII9a8+8Y67Be/BvVdT8X+E7hY4UP2nR7m52FirjpKmeOhDDrWx4i8Y6f4O0HTdtjPdXN7st9P0y0AaSZtvCjPQAdSegoA6qivO7T4m6rY6vZWfjvwZdeGodQmEFrefbYrqIyH7quU+4T2zVzxP8SV8OeMofDcWiXep3t1Z/aLWO0bLSvvK7CCNqqAMly2B6UAdxVDTdc07Vrm+t9PuRLNp8/2e6jKMrRPgHBBA7EEEcHtXMeE/iBd6z4kuPDniXw7P4c1qKD7THbyXKXCTQ5xuWROCQcZHbNUDJ/Yf7Qiwx8QeItILyLnjzoGwGx6lWxn2FAHotFFFAHJeOv+Qj4P/wCxgj/9J5662uS8df8AIR8H/wDYwR/+k89dbQA2SVIYmkmdY41GWZjgAepNZ+meJND1qaSHR9Z0/UJYv9YlrdJKyfUKTina3oOmeI9P+wa5Zx3tpvWQwy52sVORkdx7HivLfH/hbQ9A8XeCJPB2l2ek61LqyoBYQLD5luATLvCAZXHc+tAHrl3eW1havc31xFbW8Yy8szhFUe5PAqvpet6VrluZ9F1Oz1GFTgyWlwsqg+mVJFeeeIbK28afHK08PazELrSNH0v7e9nIMxTTO+1S46NgA8Hjmq2u6Fp3gX4u+D9Q8L2MGlwazLLp19bWcYiilGzcjFFwMgjrigD1qiiigAooooAKKKKACiiigAooooAKKKKACiiigAooooAKKKKAI7n/AI9Zf9w/yrmvhj/ySfwr/wBgm2/9FLXS3P8Ax6y/7h/lXNfDH/kk/hX/ALBNt/6KWgDqayrvxRoGn6glhf65ptteSHCW013GkjfRScmtWuD8Q/Dn4f2fhXVZr/w7pcUSwSyzXckCmVTgkt5py2c+9AHeday4/E+gzasdLh1vTZNQBwbRbuMyg/7mc/pXkQ1jXNH/AGV9LMs80WpX0cNlFMSfMRJZNqnPXIQ8fhXQeK/hL4UtPhjew6Xo1paahY2Zmt9RiiC3IlRdwcy/eJJHOTQB6jRXPeAdYn8QfD3QtVu+Z7uxiklJ7tt5P510NABRRRQAUUUUAFFFFABRRRQAUUUUAFFFFABRRRQAUUUUAFFFFABXJeKP+R+8Ef8AX7df+kktdbXJeKP+R+8Ef9ft1/6SS0AdbRRRQByXhf8A5H7xv/1+2v8A6SRV1tcZ4cu7eDx/42WeeKIm8tSA7gZ/0SL1rqv7Ssf+fy3/AO/q/wCNAHl9/qVt8Ovjff6vr5+y6L4ls4Y0v2X93DcRZGxz/DkHOTWh46+J3h9/C91pnhfVbTXdb1OJrWys9NnWd2dxtydhO0DOSTjpXd3U+k3ts9vey2VxA4w8UrI6sPcHg1R0vTPCmhu76JY6NpzP95rSGKIt9doGaAOI8T+CLnTfgRYadZfPqnhuCG9t2TqZYfmYA+/zCj4f6pF8Q/iDf+M4ctYWFlFp1lkceY4EkxH4lV/CvSW1CwdSr3dsysMEGRSCPzqrpqaDo1p9l0hdNsLfcW8m1EcSZPU7VwMmgDwrSND0a08VeJ9O8WfETxD4Rv11Sa4jgh1lbK3nhkO5JE3DDHBwee1dr4b0fwxp3gnxlc+FfE194la5ikF5e3l2LljIsJwBIFAb5SO5+td1qtj4Y11UXW7XSdREf3BeRxS7fpuzirEX9hwWBsYP7PitCpQ26bBGVPUbRxj2oAwvhcSnwf8ADJRckaVCQo7nYK8mh1vTvFHh291nxn8UtX0fU1mmj/sTS79LUw7WKrH5IUvIenPfNe9Ws+k2NpFa2Utlb28KhI4YWRERR0AA4A9qpHTvCx1Y6obPRzqBGDeGKLzv++8Z/WgDyRAR+x/aAjBFrHkf9txXW+M/+ShfDT/r7n/9Jmrs2t/DraV/ZbQ6WdPxj7IVj8rrn7nTrz061JMdEuLi2nuP7PlmtCWt5H2M0JIwShPK5HHHagC7dRtNZzRpwzxso+pFeSfCrx14Z8L/AA5i0TxLq9npGqaM8sF5a3kojlLBydyqTl8g54zXq/8AaVj/AM/lv/39X/Gs2707wtf6jHf31no9zexf6u5miieRPoxGRQB5/wCIPENjpvxS8I+M9T8y00G+0ua1S6uUKC3kcq67/wC5kcZNHj3xDo/jjWvC3h/wlqdtq16mrw300ljKsyW8MRyzOykgZ6Yz3r0y6m0i+tXtr2SyuIJBh4pmR1YehB4NVdKs/DOhRNHoltpOmxucslnHHCG+oXFAHK6V/wAnEeIf+wFa/wDox6WNB/w0TcsAAzeHVBbHJ/fGuxRtFj1GS/Q2C3ssYikuQUEjoDkKW6kAk8UB9FGoG/DWH2wx+UbnKeYUznbu64zzjpQB4D4T0PQrU6rpnir4k+IfCOq2moz+ZYR64tlAys5ZZI1ZcEMCCSCea6yXSPDml/AnxxJ4U1681+G6huZLi+vLgTtJMIgD84UBhgDnn616Rqmm+FdcdH1qy0fUXj+413FFKV+m4HFWGGhPprac409rFkMbWp2GIqeqlOmPagDP0i2e6+GNna2+Fkm0lI07YJiwK8S8DaR4YHhO2tNd+KviXw1qdkDBd6U3iBLRbd1JBCRsv3e4xnrX0JFeabBCkMFzaxRRqFREkUKoHQADoKzdQ0jwjq14t3qun6Le3KfdmuYYpHX6MwJoA841/StC0j9m6/g8K6lcappryeal5cvveVmuBuJbaufmzzjn3rqfi0Afgdr+Rn/iXg/+g11Vz/Yd7YGxvP7PuLQgA28uxoyByBtPHGKddyaNf2MllftY3NrKuySCYo8br6FTwR7UAeZeIb+38M/EXwL4i1thBpB0uSxe7f8A1cErqpUseiggEZPvXXzeLdE8XW+q6D4Y1ODU7s6fIzS2cglij3DaoMinG4k9PY1u3D6Ld2JsrtrCe1ZdpgkKMhHptPGKj02Lw/o1r9m0dNNsIM58q1EcS5+i4FAHgvgjSfCreD7SDW/ix4m8OajaJ5F3pT+IEtBbSLwVSNlzt9MZr2f4c6Xomj+BrK28LahcalpjNJJFd3L73lLOSxJ2rnnPOKtX+keEdUvVvNT0/Rby6X7s9xBFI4+jEE1ppf6fGipHdWyqowFWRQAKAOA8bj7L8avh/eyf6uQ3loDjo7Rgjn/gNHxc/wCQv4C/7GSH/wBAetL4kad/b3h+2uNDuLaTV9JvIr6yQzou9kPzJkkAblLDJPeuklfR9SjtZdSSwllgZZolnMchgkx1U84YZIyKAOP+JYB8X/D3Iz/xPf8A2i9L8a7a4k8BQ3kFu9zHpupW17cRIMloo5AX474HNdlctot7Nby3hsLiS1k82B5SjGF8Y3KT904JGRVg6jYkYN5bkf8AXVf8aAPPfGfxP8HX3w81GPTNcsdTutQtGgtrG1mWSeSSRdqr5Y+YHJ7gYrJ1PS7nRLH4Q6ZfnNzaX8UUuf7wt2Br0O00jwjp+otqFhp+i2t6/LXMMESSN9WAyau3LaLezW8t4bC4ktZPNgeUoxhfGNyk/dOCRkUAcZ8SwP8AhMPh6cc/27/7Rej4lgf8Jh8PTjn+3ev/AGxeuzuW0W9mt5bw2FxJayebA8pRjC+MblJ+6cEjIouW0W9mt5bw2FxJayebA8pRjC+MblJ+6cEjIoA0a8e8Jf8AJIvHv/YR1b/0Jq9Y/tKx/wCfy3/7+r/jVOKLw/BaXFrAmmx29yzvPCgjCSs/3iyjhie+etAHPaAA3wLswwyDoIyD/wBca4m9Df8ADINo6qzCPS7eRgoyQqupJ/IV67HLo8VitlFJYparH5QgVkEYTGNu3pjHGKbbtotpp6WFqbCCzjTy0t4yixqv90KOAPagDi/GPiPRvEXwS8TSaFqlpqCxaRIJPs0yyeWTGcBsHg+x5rotItnuvhjZ2tv8sk2kpGnbBMWBU9tpnhSy0+4sLOy0e3s7rP2i3iiiWObPXcoGGz71oRXmmwQpDBc2sUUahURJFCqB0AA6CgDzL4W+PvC2h/Daw0bXtZsdH1LR0a1vLO9nWGRXUnJCsctnrxnrWl8H43u4PE3iBInisdc1iS6shIhUvEAFD49GIJHtXVX+k+EtUvkvNTsNFvLqP7k9xDFI6/RiCRWmNQsFUBbu2AAwAJV4/WgDhPji3lfDb7QwPlW+o2c0rAZ2osykk+wqj8U9WsPEvw5TVPDV5b61a6Vqlrd3YsZVmAjRwzA7SeQpyR1xXo893plzA8NzcWk0UilXjkdWVgexB6iq2mw+H9GtTa6RHplhbkljDarHEhJ6nC4FAHE+M/if4Ovvh5qMema5Y6ndahaNBbWNrMsk8kki7VXyx8wOT3AxXXeB9LudE8BaHpl8c3NpYxRS/wC8FANJaaR4R0/UW1Cw0/RbW9flrmGCJJG+rAZNav8AaVj/AM/lv/39X/GgDzKz17S/Bvxw8TJ4ou7fTE1i2t57K8u3EccqopVk3tgAg9qZ8StesvGfw2v7vwuW1W10bU7aa4eBS0cyxuruEI++ADyRxxXoepweHtbtxb6zFpmoQg7hHdrHKoPrhsirFtcaTZ2yW9nLZQQRjCRRMiqo9ABwKAOF8VfFTwXd/D+/bT9dsb+e9s2it7C3mV7iR3XaqeUPmBye4rB1HSbrQvDHwj0vUBi5tdUt45V/usIHyPw6V6Ra6R4RstSbUbPT9Ft75jlrqKCJZT9WAzV26bRb6SB702Fw9tJ5sDSlHMT4xuXPQ4J5HPNAHH/FpQbfwsSBkeIrTB9OTWVJrWneDvj9q9z4nuYdOtdZ0y3Fle3ThIi0RIdN54B5B59q9Fu30W/EQvmsLkQyCWITFH2OOjDPQj1HNM1KLQNZtfsusJpt/b5z5V0I5Uz9GyKAON8a+LdG8UfCnxqNAu1vobPTpY5LmH5oWYxk4Vxw2OM445FYvj1xZfC/wRq0wb7Jpt7YXFy6rny49oBY+wzXpYi8PrpTaYsemjT2QxtaAR+UVPVSnTHtipvO0g2f2TzLL7Ns8vyNybNuMbdvTGO1AHlXxW8d+G9c0jR9M0HVYNVuH1iymc2LCZIUEw5kZchMk4APJPatzx5F4Mu/EsUl/wCME8K+JrCAeTdpeJbuYmyQrCT5ZEyPu/yrqoNI8I2tkbO20/RYbUyrMYI4IlQyKcq+0DG4HkHqDUmqaf4X1xkOtWmkaiY/uG7iil2/TcDigDybVfE2p+Kf2a/FNzrE0V49u8ttDqEMXlpexpIoEoXtn244rc8c3sXhzxn4C8T6tlNGtY5bS4nKkpbvLGoR2x0HBGfevRJ10K6006dcjTprFlCG1kCNEVHQbDxj2xUstxpU9q1tPNZyQMu1onZCpHpg8YoA8x+J3ifQ/GmmaV4Y8KarZ6xql7qdvIqWEyziGONwzyOVJ2gAd/Wttxj9oeD/ALF1v/R1dPpen+F9D8z+xLTSNO8zl/skUUW/67QM1ZL6KdQF+WsPtgj8oXOU8wJnO3d1xnnHSgDjNVAH7RXh845OhXWT/wBtEqLxGPtX7Qng+KPlrXTb2eT2Vtqj9a7h20WTUY79zYNexRmKO5JQyIhOSobqASBxXLaDYs3xJ1/xPrEtvAHjjsNOQ3KN+4T5mfgnG5ieDzgCgDuqKrf2lY/8/lv/AN/V/wAaP7Ssf+fy3/7+r/jQBzfjr/kI+D/+xgj/APSeeutrivHF/ZvqPhHbdQNt1+MnEg4H2efmus/tKx/5/Lf/AL+r/jQBl+MvF2m+B/C9zresORDCMJGv3pXP3UHua8+8Da14am1iTxh4w8YeH5PEV+nlwWqapCU0+E9IUG77x/iPc16TqkPh/W7P7JrUemahbbg3k3axypkdDtbIzWQvgz4do4ZPDfhhWU5BFjbgg/8AfNAHLa/qVp4M+PVprutTraaTrWk/YvtkrYijmjfcAzdBkHqeKbrGtaf49+LXhSy8MXsGp22hySajfXdpIJIo8ptRN68Ek9hXo142i6jZtaagbC6tnGGhnKOjfVTxUemxeH9Gtfs2jx6bYQZz5VqscS5+i4FAGrRVb+0rH/n8t/8Av6v+NH9pWP8Az+W//f1f8aALNFVv7Ssf+fy3/wC/q/40f2lY/wDP5b/9/V/xoAs0VW/tKx/5/Lf/AL+r/jR/aVj/AM/lv/39X/GgCzRVb+0rH/n8t/8Av6v+NH9pWP8Az+W//f1f8aALNFVv7Ssf+fy3/wC/q/40f2lY/wDP5b/9/V/xoAs0VW/tKx/5/Lf/AL+r/jR/aVj/AM/lv/39X/GgCzRVb+0rH/n8t/8Av6v+NH9pWP8Az+W//f1f8aALNFVv7Ssf+fy3/wC/q/40f2lY/wDP5b/9/V/xoAs0VW/tKx/5/Lf/AL+r/jR/aVj/AM/lv/39X/GgCW5/49Zf9w/yrmvhj/ySfwr/ANgm2/8ARS1uXOpWP2WX/TLf7h/5ar6fWub+Gd/Zp8KvC6vdwKy6TbAgyAEHy1oA7EkAEk4A6mvEtX8aeHfiT4pl0rU/EmmaV4S0qcefHc30cMuqzKfu4ZgfJB7/AMRr2Q6jYEEG8tyD1Hmr/jXON4M+HbuWfw34YZmOSTY25JP/AHzQBgfFL7J4p+EVzdeEbm11SPTp4bqP7BKsqnyXDMoKHGQueKj8UfFjwrf/AA1un0XWLS/1HUrQwWunQSh7hpZF2hTGPmGCeciu60yHw/oln9k0aPTNPttxbybRY4kyep2rgZqvbaX4Ts9TfUbSx0aC+c5a6ihiWVvq4GT+dACeBtGl8O+AtE0i4/11nZRxSezBef1reqt/aVj/AM/lv/39X/Gj+0rH/n8t/wDv6v8AjQBZoqt/aVj/AM/lv/39X/Gj+0rH/n8t/wDv6v8AjQBZoqt/aVj/AM/lv/39X/Gj+0rH/n8t/wDv6v8AjQBZoqt/aVj/AM/lv/39X/Gj+0rH/n8t/wDv6v8AjQBZoqt/aVj/AM/lv/39X/Gj+0rH/n8t/wDv6v8AjQBZoqt/aVj/AM/lv/39X/Gj+0rH/n8t/wDv6v8AjQBZoqt/aVj/AM/lv/39X/Gj+0rH/n8t/wDv6v8AjQBZoqt/aVj/AM/lv/39X/Gj+0rH/n8t/wDv6v8AjQBZoqt/aVj/AM/lv/39X/Gj+0rH/n8t/wDv6v8AjQBZoqt/aVj/AM/lv/39X/Gj+0rH/n8t/wDv6v8AjQBZrkvFH/I/eCP+v26/9JJa6T+0rH/n8t/+/q/41yviO7t5/H/glYJ4pSLy6JCODj/RJfSgDs6KKKAPPNM8K+Hte+InjSbXNB0zUpY7u1VJLyzjmZR9ki4BYHArf/4Vx4I/6E3w/wD+CuD/AOJqt4X/AOR+8b/9ftr/AOkkVdbQBzf/AArjwR/0Jvh//wAFcH/xNH/CuPBH/Qm+H/8AwVwf/E1Q8aaN4vu5nv8Aw946Xw9Y29uWkt/7IiutxGSWLu2Rx2x2ri/ANl8T/GHhPT/EFz8SjZx3ZLi2/sG2cmMMQPm4xkDPTjPegD0P/hXHgj/oTfD/AP4K4P8A4mj/AIVx4I/6E3w//wCCuD/4mtLUvEGjaEIl1zWbCwaThDeXKQ7z7biM/hUt1rWl2Olf2ne6laW9hgN9rlnVYsHod5OOfrQBkf8ACuPBH/Qm+H//AAVwf/E0f8K48Ef9Cb4f/wDBXB/8TVHwJ8S9F8c2rG2urGC8M8yR2K3ySzPGjECQoMEAgZ6dCOTXRXXiDRrHUotPvdXsbe9m/wBVbTXKJI/0UnJ/CgDL/wCFceCP+hN8P/8Agrg/+Jo/4Vx4I/6E3w//AOCuD/4mr+o67ZW/h/U9RtruGdLCKUyNFIGCOiklTjoR6Vj/AAtbUJfhjotzrN1PdXt1b/aJZLiRnbLksBliTgAgAdqALP8AwrjwR/0Jvh//AMFcH/xNH/CuPBH/AEJvh/8A8FcH/wATXSUUAc3/AMK48Ef9Cb4f/wDBXB/8TR/wrjwR/wBCb4f/APBXB/8AE10lFAHN/wDCuPBH/Qm+H/8AwVwf/E0f8K48Ef8AQm+H/wDwVwf/ABNdJRQBzf8AwrjwR/0Jvh//AMFcH/xNH/CuPBH/AEJvh/8A8FcH/wATXSUUAc3/AMK48Ef9Cb4f/wDBXB/8TR/wrjwR/wBCb4f/APBXB/8AE10lFAHN/wDCuPBH/Qm+H/8AwVwf/E0f8K48Ef8AQm+H/wDwVwf/ABNdJRQBzf8AwrjwR/0Jvh//AMFcH/xNH/CuPBH/AEJvh/8A8FcH/wATXSUUAc3/AMK48Ef9Cb4f/wDBXB/8TR/wrjwR/wBCb4f/APBXB/8AE10lFAHN/wDCuPBH/Qm+H/8AwVwf/E0f8K48Ef8AQm+H/wDwVwf/ABNdJRQBzf8AwrjwR/0Jvh//AMFcH/xNH/CuPBH/AEJvh/8A8FcH/wATXSUUAc3/AMK48Ef9Cb4f/wDBXB/8TR/wrjwR/wBCb4f/APBXB/8AE10lFAHN/wDCuPBH/Qm+H/8AwVwf/E0f8K48Ef8AQm+H/wDwVwf/ABNdJRQBzf8AwrjwR/0Jvh//AMFcH/xNH/CuPBH/AEJvh/8A8FcH/wATXSUUAc3/AMK48Ef9Cb4f/wDBXB/8TR/wrjwR/wBCb4f/APBXB/8AE10lFAHN/wDCuPBH/Qm+H/8AwVwf/E0f8K48Ef8AQm+H/wDwVwf/ABNdJRQBzf8AwrjwR/0Jvh//AMFcH/xNH/CuPBH/AEJvh/8A8FcH/wATXSUUAc3/AMK48Ef9Cb4f/wDBXB/8TR/wrjwR/wBCb4f/APBXB/8AE10lFAHN/wDCuPBH/Qm+H/8AwVwf/E0f8K48Ef8AQm+H/wDwVwf/ABNdJRQBzf8AwrjwR/0Jvh//AMFcH/xNH/CuPBH/AEJvh/8A8FcH/wATXSUUAc3/AMK48Ef9Cb4f/wDBXB/8TR/wrjwR/wBCb4f/APBXB/8AE10lFAHN/wDCuPBH/Qm+H/8AwVwf/E0f8K48Ef8AQm+H/wDwVwf/ABNdJRQBzf8AwrjwR/0Jvh//AMFcH/xNH/CuPBH/AEJvh/8A8FcH/wATXSUUAc3/AMK48Ef9Cb4f/wDBXB/8TR/wrjwR/wBCb4f/APBXB/8AE10lFAHN/wDCuPBH/Qm+H/8AwVwf/E0f8K48Ef8AQm+H/wDwVwf/ABNdJRQBzf8AwrjwR/0Jvh//AMFcH/xNH/CuPBH/AEJvh/8A8FcH/wATXSUUAc3/AMK48Ef9Cb4f/wDBXB/8TR/wrjwR/wBCb4f/APBXB/8AE10lFAHN/wDCuPBH/Qm+H/8AwVwf/E0f8K48Ef8AQm+H/wDwVwf/ABNdJRQBzf8AwrjwR/0Jvh//AMFcH/xNH/CuPBH/AEJvh/8A8FcH/wATXSUUAeZ+MvAfhC1v/Cq23hXRIVn1yOKYR6dCokTyJjtbC8jIBweOBXUf8K48Ef8AQm+H/wDwVwf/ABNVvHX/ACEfB/8A2MEf/pPPXW0Ac3/wrjwR/wBCb4f/APBXB/8AE0f8K48Ef9Cb4f8A/BXB/wDE1v3TyxWkz20PnzKhMcW4LvbHAyemT3ryTxxqHxN8H+G5fF9z4l0lo7Qo0+hxacPJKlgNonYlyRnrgZoA7z/hXHgj/oTfD/8A4K4P/iaP+FceCP8AoTfD/wD4K4P/AIms3xd45u9J0HRk0SzjuNe19kisLWZjsRmXczvjnao5NczrWp/ED4eXOl6v4g8T2ev6Ze38Vpd2S6YtubfzDgNG6klsH+9QB3H/AArjwR/0Jvh//wAFcH/xNH/CuPBH/Qm+H/8AwVwf/E1ieJPE2v6t41Pg7wNNa2dzb24uNS1S5h84Wit9xFTIDOevJxiqfhrXPFeg/ExPBvi/V7fX472wa8tNQjs1tpAVbDIyKduPQ0AdP/wrjwR/0Jvh/wD8FcH/AMTR/wAK48Ef9Cb4f/8ABXB/8TXSUUAc3/wrjwR/0Jvh/wD8FcH/AMTR/wAK48Ef9Cb4f/8ABXB/8TXSUUAc3/wrjwR/0Jvh/wD8FcH/AMTR/wAK48Ef9Cb4f/8ABXB/8TXSUUAc3/wrjwR/0Jvh/wD8FcH/AMTR/wAK48Ef9Cb4f/8ABXB/8TXSUUAc3/wrjwR/0Jvh/wD8FcH/AMTR/wAK48Ef9Cb4f/8ABXB/8TXSUUAc3/wrjwR/0Jvh/wD8FcH/AMTR/wAK48Ef9Cb4f/8ABXB/8TXSUUAc3/wrjwR/0Jvh/wD8FcH/AMTR/wAK48Ef9Cb4f/8ABXB/8TXSUUAc3/wrjwR/0Jvh/wD8FcH/AMTR/wAK48Ef9Cb4f/8ABXB/8TXSUUAcvcfDnwQttKR4O0AEISCNLh44/wB2uf8Ah34C8H33wy8N3V74U0S4uJtLt5JZpdOhd5GMaksSVyST3NeiXP8Ax6y/7h/lXNfDH/kk/hX/ALBNt/6KWgCX/hXHgj/oTfD/AP4K4P8A4mj/AIVx4I/6E3w//wCCuD/4mukrkPEVh461jUZrfw9rVj4bsIlHl3TWYu552xk/KzBUUdOck4oAt/8ACuPBH/Qm+H//AAVwf/E0f8K48Ef9Cb4f/wDBXB/8TXN/DXx5qOp+GfEEnjGa3afw5ey21xewLtSZYxkvt6A+wqjYT/Erxzo48SaTr9n4YsZgZbDTm05bh5ov4TK7n5S3X5RwDQB2X/CuPBH/AEJvh/8A8FcH/wATR/wrjwR/0Jvh/wD8FcH/AMTXJ6f8Wp3+D9p4kubBJtauJzp8VlESFnug5QAdSFyN30rP8T3vxN8D+H38X6r4n07UILZke80SPTFjjRGYBgk27eSM8ZoA7z/hXHgj/oTfD/8A4K4P/iaP+FceCP8AoTfD/wD4K4P/AImt+2nW6tIbhMhZUV1z6EZqWgDm/wDhXHgj/oTfD/8A4K4P/iaP+FceCP8AoTfD/wD4K4P/AImukooA5v8A4Vx4I/6E3w//AOCuD/4mj/hXHgj/AKE3w/8A+CuD/wCJrpKKAOb/AOFceCP+hN8P/wDgrg/+Jo/4Vx4I/wChN8P/APgrg/8Aia6SigDm/wDhXHgj/oTfD/8A4K4P/iaP+FceCP8AoTfD/wD4K4P/AImukooA5v8A4Vx4I/6E3w//AOCuD/4mj/hXHgj/AKE3w/8A+CuD/wCJrpKKAOb/AOFceCP+hN8P/wDgrg/+Jo/4Vx4I/wChN8P/APgrg/8Aia6SigDm/wDhXHgj/oTfD/8A4K4P/iaP+FceCP8AoTfD/wD4K4P/AImukooA5v8A4Vx4I/6E3w//AOCuD/4mj/hXHgj/AKE3w/8A+CuD/wCJrpKKAOb/AOFceCP+hN8P/wDgrg/+JrA1Pwr4e0H4ieC5tD0HTNNlku7pXks7OOFmH2SXglQMivQ65LxR/wAj94I/6/br/wBJJaAOtooooA5Lwv8A8j943/6/bX/0kirra5Lwv/yP3jf/AK/bX/0kirraAOO+LWqto/wp1+5iOJmtWhi93k+Qf+hVd0aGPwd8MrSMr8mlaYpZemSkeT+oo8b+ER400e102S9NpDFew3UuIt/mrG27Z1GMkDnn6Vv3VrDeWc1pcJvhmjMbr6qRgj8qAPLvht4J0bxN4Ti8WeMtNs9b1fXQbqWW/hWYQxknZGgYEKFXHTFc54aGm6f8HPiBJNaQXnh+z1G7OmW9zGJY1CgAbQ2RxJ0966iz+Emu6dY/2Hp/xE1O28MgFF09LOLzkQnJQXH3gOcdK6fU/h7pF78NZvBVkHsNOe3EMbRcsmDndz1ORk560Ac1oWh6N8Nvg5F4gg0WwTVrDRvNlu0tUWaRym4hnA3HJx3qjoXgTwta/CeTxB4402z1LUbyzbUNQ1C9jDy7mXdhXPzIBwBgjpXX6b4Lvn8F3/h7xf4hm8QJexGAzG1jtvLjK7QqhO465JJzXLy/BrU7/wAKy+Htc8dX+oadHCYrG3azjjSDAwjSbSGmK9QCwGQOKAObjgbRv2UILZA63Ov7YwGJZi11N3J5PymvcdOs00/S7WzjGEt4UiUD0UAf0rm9Y8CR6rp3hrT0vvIs9CuobhovJ3faREuFXqNvODnnpXW0AFFFFABRRRQAUUUUAFFFFABRRRQAUUUUAFFFFABRRRQAUUUUAFFFFABRRRQAUUUUAFFFFABRRRQAUUUUAFFFFABRRRQAUUUUAFFFFABRRRQAUUUUAFFFFABRRRQAUUUUAFFFFABRRRQAUUUUAFFFFAHJeOv+Qj4P/wCxgj/9J5662uS8df8AIR8H/wDYwR/+k89dbQAyaaK2gea4kWKKNSzu7YVQOpJ7CvLblZvjJrVukMbxeB9PnErzOCp1aZDwEB/5ZA9+9dB8TPAmo+P9HttNsvEbaLbxy+ZcILQTrc4xtVgWX5QecHIPcVT0TwV490y+szefEtbvTrdl32Mfh62gEiD+AMp+UduBQBTmUaj+0taQuP3WjaA0sS44DSybSR+AxS/Ff/ida94O8KwfPLeaql5Mo6rBB8zMfbOBWx4u+H9xrniC18ReHdfn8O65bwG3+1xW6TpLETna8bcHB6VN4V8BLoOsXGu6zq1zr+vXMYhe/uY1j8uMfwRxrwi55OOtAGD8H/8AT9Q8a65LzNea9NFkjkJEAij+dGn/APE//aK1C+h+e28PaUtmXHI8+VtxX6hR+tTXPww1ez17UL3wX41u/Dtrqk5uLyzWxiuFaQj5mQvyhPtmup8I+EdO8G6ObDTTLK8sjTXN1cNuluZW6u7dzQBu0UUUAFFFFABRRRQAUUUUAFFFFABRRRQAUUUUAFFFFAEdz/x6y/7h/lXNfDH/AJJP4V/7BNt/6KWuluf+PWX/AHD/ACrmvhj/AMkn8K/9gm2/9FLQB1NcP4z8ZXaXp8K+Co1vfE1ynzHrFp8Z/wCW0p7ey9Sa6/Ure4utLubeyuvsdxLEyRXATf5TEYDbcjOOuK8q0H4ReN/DMM8eifFAW/2mUzTyN4egkkmc9WZ3csx+poAh8feGoPAfwBn0HTpXkkv7mGC6um+/PJNKPMc/Xn8MCvR9ZvrTwl4DuruQrFbabYnb2HyphR+eBVTUvBh8R/D9vDfi3VJNTnkjAl1COFIHMgbcsiovyqQcce1c9D8K9W1Fra38b+N73xFpVpIskWnmzitkcr93zWXJkA98ZoA4Xwno01trHwr0TUEKMIbvWp4yP+Wrcrn6bq7v43ym78GWvhy2+e71/UILOOMHkrvDOfoFFbXjTwGviifTdQ0zVZtD1nSmY2d/bxLJsDDDKyNwynjiq/h34eTWPiCPxD4s8QXPibWYIjFbzzW6QRW6nrsiTgE9zk0Adlbwrb20UKcLGgQfQDFSUUUAFFFFABRRRQAUUUUAFFFFABRRRQAUUUUAFFFFABRRRQAVyXij/kfvBH/X7df+kktdbXJeKP8AkfvBH/X7df8ApJLQB1tFFFAHHT+ENfi8T6vquieKI7CLVJIpHt301ZthSJY/vFxnOzPTvUn9geNf+h3t/wDwSp/8crraKAOS/sDxr/0O9v8A+CVP/jlH9geNf+h3t/8AwSp/8crraKAOS/sDxr/0O9v/AOCVP/jlH9geNf8Aod7f/wAEqf8AxyutooA5L+wPGv8A0O9v/wCCVP8A45R/YHjX/od7f/wSp/8AHK62igDkv7A8a/8AQ72//glT/wCOUf2B41/6He3/APBKn/xyutooA5L+wPGv/Q72/wD4JU/+OUf2B41/6He3/wDBKn/xyutooA5L+wPGv/Q72/8A4JU/+OUf2B41/wCh3t//AASp/wDHK62igDkv7A8a/wDQ72//AIJU/wDjlH9geNf+h3t//BKn/wAcrraKAOS/sDxr/wBDvb/+CVP/AI5R/YHjX/od7f8A8Eqf/HK62igDkv7A8a/9Dvb/APglT/45R/YHjX/od7f/AMEqf/HK62igDkv7A8a/9Dvb/wDglT/45R/YHjX/AKHe3/8ABKn/AMcrraKAOS/sDxr/ANDvb/8AglT/AOOUf2B41/6He3/8Eqf/AByutooA5L+wPGv/AEO9v/4JU/8AjlH9geNf+h3t/wDwSp/8crraKAOS/sDxr/0O9v8A+CVP/jlH9geNf+h3t/8AwSp/8crraKAOS/sDxr/0O9v/AOCVP/jlH9geNf8Aod7f/wAEqf8AxyutooA5L+wPGv8A0O9v/wCCVP8A45R/YHjX/od7f/wSp/8AHK62igDkv7A8a/8AQ72//glT/wCOUf2B41/6He3/APBKn/xyutooA5L+wPGv/Q72/wD4JU/+OUf2B41/6He3/wDBKn/xyutooA5L+wPGv/Q72/8A4JU/+OUf2B41/wCh3t//AASp/wDHK62igDkv7A8a/wDQ72//AIJU/wDjlH9geNf+h3t//BKn/wAcrraKAOS/sDxr/wBDvb/+CVP/AI5R/YHjX/od7f8A8Eqf/HK62igDkv7A8a/9Dvb/APglT/45R/YHjX/od7f/AMEqf/HK62igDkv7A8a/9Dvb/wDglT/45R/YHjX/AKHe3/8ABKn/AMcrraKAOS/sDxr/ANDvb/8AglT/AOOUf2B41/6He3/8Eqf/AByutooA5L+wPGv/AEO9v/4JU/8AjlH9geNf+h3t/wDwSp/8crraKAOS/sDxr/0O9v8A+CVP/jlH9geNf+h3t/8AwSp/8crraKAOS/sDxr/0O9v/AOCVP/jlH9geNf8Aod7f/wAEqf8AxyutooA5L+wPGv8A0O9v/wCCVP8A45R/YHjX/od7f/wSp/8AHK62igDkv7A8a/8AQ72//glT/wCOUf2B41/6He3/APBKn/xyutooA5L+wPGv/Q72/wD4JU/+OUf2B41/6He3/wDBKn/xyutooA5L+wPGv/Q72/8A4JU/+OUf2B41/wCh3t//AASp/wDHK62igDkv7A8a/wDQ72//AIJU/wDjlH9geNf+h3t//BKn/wAcrraKAOS/sDxr/wBDvb/+CVP/AI5R/YHjX/od7f8A8Eqf/HK62igDgtT8EeLNWm0+S68bQ7tPuxdw40ZB84Rl5/eejmtD+wPGv/Q72/8A4JU/+OV1tFAHJf2B41/6He3/APBKn/xyj+wPGv8A0O9v/wCCVP8A45XW0UAcl/YHjX/od7f/AMEqf/HKP7A8a/8AQ72//glT/wCOV1tFAHJf2B41/wCh3t//AASp/wDHKP7A8a/9Dvb/APglT/45XW0UAcl/YHjX/od7f/wSp/8AHKP7A8a/9Dvb/wDglT/45XW0UAcl/YHjX/od7f8A8Eqf/HKP7A8a/wDQ72//AIJU/wDjldbRQByX9geNf+h3t/8AwSp/8co/sDxr/wBDvb/+CVP/AI5XW0UAcl/YHjX/AKHe3/8ABKn/AMco/sDxr/0O9v8A+CVP/jldbRQByX9geNf+h3t//BKn/wAco/sDxr/0O9v/AOCVP/jldbRQByX9geNf+h3t/wDwSp/8co/sDxr/ANDvb/8AglT/AOOV1tFAHJf2B41/6He3/wDBKn/xyj+wPGv/AEO9v/4JU/8AjldbRQByX9geNf8Aod7f/wAEqf8Axyj+wPGv/Q72/wD4JU/+OV1tFAHIP4e8aPGyHxvb4YYP/ElT/wCOVT0XwX4t0LQbHSbLxtD9nsbdLeLdoyE7VUAf8tPQV3dFAHJf2B41/wCh3t//AASp/wDHKP7A8a/9Dvb/APglT/45XW0UAcl/YHjX/od7f/wSp/8AHKP7A8a/9Dvb/wDglT/45XW0UAcl/YHjX/od7f8A8Eqf/HKP7A8a/wDQ72//AIJU/wDjldbRQByX9geNf+h3t/8AwSp/8co/sDxr/wBDvb/+CVP/AI5XW0UAcl/YHjX/AKHe3/8ABKn/AMco/sDxr/0O9v8A+CVP/jldbRQByX9geNf+h3t//BKn/wAco/sDxr/0O9v/AOCVP/jldbRQByX9geNf+h3t/wDwSp/8co/sDxr/ANDvb/8AglT/AOOV1tFAHJf2B41/6He3/wDBKn/xyj+wPGv/AEO9v/4JU/8AjldbRQByX9geNf8Aod7f/wAEqf8Axyj+wPGv/Q72/wD4JU/+OV1tFAHJf2B41/6He3/8Eqf/AByj+wPGv/Q72/8A4JU/+OV1tFAHJf2B41/6He3/APBKn/xyj+wPGv8A0O9v/wCCVP8A45XW0UAcl/YHjX/od7f/AMEqf/HKP7A8a/8AQ72//glT/wCOV1tFAHJf2B41/wCh3t//AASp/wDHKjg8Ia/L4n0jVdb8UR38WlySyJbppqw7y8TR/eDnGN+enauxooAKKKKAP//Z)"
      ]
    }
  ]
}