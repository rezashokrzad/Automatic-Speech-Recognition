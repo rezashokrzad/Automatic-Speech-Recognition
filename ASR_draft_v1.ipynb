{
  "nbformat": 4,
  "nbformat_minor": 0,
  "metadata": {
    "colab": {
      "name": "ASR_draft.ipynb",
      "provenance": [],
      "collapsed_sections": []
    },
    "kernelspec": {
      "name": "python3",
      "display_name": "Python 3"
    },
    "language_info": {
      "name": "python"
    },
    "accelerator": "GPU"
  },
  "cells": [
    {
      "cell_type": "code",
      "metadata": {
        "id": "fyX6BwsRPKTw"
      },
      "source": [
        "import numpy as np\n",
        "# feature extracture (mfcc) + load wave files\n",
        "import librosa\n",
        "# walking on the wave files with different names\n",
        "import os \n",
        "from tqdm import tqdm_notebook as tqdm\n",
        "\n",
        "import pickle\n",
        "import matplotlib.pyplot as plt\n",
        "%matplotlib inline\n",
        "import matplotlib\n",
        "matplotlib.rcParams['figure.figsize'] = (20, 12)\n",
        "from IPython import display\n",
        "import tensorflow as tf\n",
        "import tensorflow.keras\n",
        "from tensorflow import keras\n",
        "from tensorflow.keras import layers, models, activations, optimizers, losses\n",
        "from keras.models import Model\n",
        "\n",
        "from sklearn.metrics import confusion_matrix, classification_report"
      ],
      "execution_count": 37,
      "outputs": []
    },
    {
      "cell_type": "code",
      "metadata": {
        "id": "5UkRt4MLmfWl"
      },
      "source": [
        "RANDOM_SEED = 42\n",
        "np.random.seed(RANDOM_SEED)\n",
        "tf.random.set_seed(RANDOM_SEED)"
      ],
      "execution_count": 104,
      "outputs": []
    },
    {
      "cell_type": "code",
      "metadata": {
        "id": "JMdZcrgDqe4k"
      },
      "source": [
        "# getting the name of files without extention\n",
        "# os.path.splitext(os.path.basename('/content/DR1FCJF0SA1.WAV'))[0]"
      ],
      "execution_count": 38,
      "outputs": []
    },
    {
      "cell_type": "code",
      "metadata": {
        "id": "24DOMk2T3d32"
      },
      "source": [
        "#useing to load dataset\n",
        "loadProccedData = True"
      ],
      "execution_count": 39,
      "outputs": []
    },
    {
      "cell_type": "code",
      "metadata": {
        "id": "LE1Whv-PmOit"
      },
      "source": [
        "# download TIMIT DB\n",
        "if loadProccedData == False:\n",
        "  !wget cls.ru.nl/~ltenbosch/TIMIT.tar.gz"
      ],
      "execution_count": 40,
      "outputs": []
    },
    {
      "cell_type": "code",
      "metadata": {
        "id": "FK2o9lpYmc-d"
      },
      "source": [
        "# unzip files\n",
        "if loadProccedData == False:\n",
        "  !tar -zxvf /content/TIMIT.tar.gz"
      ],
      "execution_count": 41,
      "outputs": []
    },
    {
      "cell_type": "code",
      "metadata": {
        "id": "UZywpDIgnS66"
      },
      "source": [
        "if loadProccedData == False:\n",
        "  trainPhonesFeatures = []\n",
        "  trainPhonesLabels = []\n",
        "  trainDialectRegion = []\n",
        "  trainSpeakerID = []\n",
        "  counterCheck = 0\n",
        "  pathBase = '/content/wavfiles16kHz/TRAIN/'\n",
        "  # walking on all files\n",
        "  for path in tqdm(os.listdir(pathBase)):\n",
        "    # counterCheck += 1\n",
        "    # if counterCheck == 10 :\n",
        "    #   break\n",
        "    wavFile, sampleRate = librosa.load(pathBase+path)\n",
        "    sampleRate = 16000\n",
        "    # extracting features \n",
        "    wavMfccFeatures = librosa.feature.mfcc(y=wavFile, sr=sampleRate, n_mfcc=13, hop_length=160)\n",
        "    # path of text files (.PHN)\n",
        "    # print(len(wavFile)/sampleRate * 100)\n",
        "    # print(np.shape(wavMfccFeatures))\n",
        "    pathToPhn = '/content/PHN/TRAIN/' + os.path.splitext(os.path.basename(path))[0] + '.PHN'\n",
        "    dialectRegion = path[0:3]\n",
        "\n",
        "    with open(pathToPhn) as f:\n",
        "      line = f.readline()\n",
        "      while line:\n",
        "        start, end, phoneName = line.split(sep=' ')\n",
        "        trainPhonesLabels.append(phoneName)\n",
        "        trainDialectRegion.append(dialectRegion)\n",
        "        #changing start and end of phones into centi_second\n",
        "        start = np.floor(int(start) / sampleRate * 100).astype(np.int)\n",
        "        end = np.floor(int(end) / sampleRate * 100).astype(np.int)\n",
        "        #getting feature slice\n",
        "        phoneFeatures = wavMfccFeatures[:,start:end]\n",
        "        trainPhonesFeatures.append(phoneFeatures)\n",
        "        #next line\n",
        "        line = f.readline()\n",
        "\n"
      ],
      "execution_count": 42,
      "outputs": []
    },
    {
      "cell_type": "code",
      "metadata": {
        "id": "YpFHYZfq3O-d"
      },
      "source": [
        "if loadProccedData == False:\n",
        "  testPhonesFeatures = []\n",
        "  testPhonesLabels = []\n",
        "  testDialectRegion = []\n",
        "  testSpeakerID = []\n",
        "  counterCheck = 0\n",
        "  pathBase = '/content/wavfiles16kHz/TEST/'\n",
        "  # walking on all files\n",
        "  for path in tqdm(os.listdir(pathBase)):\n",
        "    # counterCheck += 1\n",
        "    # if counterCheck == 10 :\n",
        "    #   break\n",
        "    wavFile, sampleRate = librosa.load(pathBase+path)\n",
        "    sampleRate = 16000\n",
        "    # extracting features \n",
        "    wavMfccFeatures = librosa.feature.mfcc(y=wavFile, sr=sampleRate, n_mfcc=13, hop_length=160)\n",
        "    # path of text files (.PHN)\n",
        "    # print(len(wavFile)/sampleRate * 100)\n",
        "    # print(np.shape(wavMfccFeatures))\n",
        "    pathToPhn = '/content/PHN/TEST/' + os.path.splitext(os.path.basename(path))[0] + '.PHN'\n",
        "    dialectRegion = path[0:3]\n",
        "\n",
        "    with open(pathToPhn) as f:\n",
        "      line = f.readline()\n",
        "      while line:\n",
        "        start, end, phoneName = line.split(sep=' ')\n",
        "        testPhonesLabels.append(phoneName)\n",
        "        testDialectRegion.append(dialectRegion)\n",
        "        #changing start and end of phones into centi_second\n",
        "        start = np.floor(int(start) / sampleRate * 100).astype(np.int)\n",
        "        end = np.floor(int(end) / sampleRate * 100).astype(np.int)\n",
        "        #getting feature slice\n",
        "        phoneFeatures = wavMfccFeatures[:,start:end]\n",
        "        testPhonesFeatures.append(phoneFeatures)\n",
        "        #next line\n",
        "        line = f.readline()\n",
        "\n"
      ],
      "execution_count": 43,
      "outputs": []
    },
    {
      "cell_type": "code",
      "metadata": {
        "colab": {
          "base_uri": "https://localhost:8080/"
        },
        "id": "Shsg3nhZ0JCu",
        "outputId": "abaedce3-6e2a-472c-d95e-879a3755aa41"
      },
      "source": [
        "from google.colab import drive\n",
        "drive.mount('/content/gdrive')"
      ],
      "execution_count": 44,
      "outputs": [
        {
          "output_type": "stream",
          "text": [
            "Drive already mounted at /content/gdrive; to attempt to forcibly remount, call drive.mount(\"/content/gdrive\", force_remount=True).\n"
          ],
          "name": "stdout"
        }
      ]
    },
    {
      "cell_type": "code",
      "metadata": {
        "id": "8becCKQp0igH"
      },
      "source": [
        "#saving the variables\n",
        "if loadProccedData == False:\n",
        "  AllVars = [trainPhonesFeatures, trainPhonesLabels, trainDialectRegion, trainSpeakerID,\n",
        "            testPhonesFeatures, testPhonesLabels, testDialectRegion, testSpeakerID]\n",
        "  with open('/content/gdrive/MyDrive/Dataset/TIMITData/' + 'DS.pckl', 'wb') as f:\n",
        "      pickle.dump(AllVars, f)"
      ],
      "execution_count": 45,
      "outputs": []
    },
    {
      "cell_type": "code",
      "metadata": {
        "id": "wSdhEPEZ2nKh"
      },
      "source": [
        "#load the variables\n",
        "if loadProccedData:\n",
        "  with open('/content/gdrive/MyDrive/Dataset/TIMITData/' + 'DS.pckl', 'rb') as f:\n",
        "    [trainPhonesFeatures, trainPhonesLabels,\n",
        "    trainDialectRegion, trainSpeakerID,\n",
        "    testPhonesFeatures, testPhonesLabels, \n",
        "    testDialectRegion, testSpeakerID] = pickle.load(f)"
      ],
      "execution_count": 46,
      "outputs": []
    },
    {
      "cell_type": "code",
      "metadata": {
        "colab": {
          "base_uri": "https://localhost:8080/"
        },
        "id": "rZhJieu33hwE",
        "outputId": "82008392-a9d4-44e8-8581-34cabd779402"
      },
      "source": [
        "# check the number of phones which have the length less than 7\n",
        "c = 0\n",
        "for ph in trainPhonesFeatures:\n",
        "  if np.size(ph, axis=1) < 7:\n",
        "    c += 1\n",
        "\n",
        "print ('the number of phones with len less than 7 =', c)\n",
        "# as there are almost half of training data with len less than 7 we should use padding"
      ],
      "execution_count": 47,
      "outputs": [
        {
          "output_type": "stream",
          "text": [
            "the number of phones with len less than 7 = 85162\n"
          ],
          "name": "stdout"
        }
      ]
    },
    {
      "cell_type": "code",
      "metadata": {
        "colab": {
          "base_uri": "https://localhost:8080/"
        },
        "id": "SV40HP9VQHvz",
        "outputId": "5f685578-89c4-444c-82af-287fd2d822f6"
      },
      "source": [
        "w = set(trainPhonesLabels)\n",
        "print(w)\n",
        "# the number of training data\n",
        "trainNumbers = len(trainPhonesLabels)\n",
        "# the number of test data\n",
        "testNumbers = len(testPhonesLabels)\n",
        "print('the number of training data = ', trainNumbers)\n",
        "print('the number of test data = ', testNumbers)"
      ],
      "execution_count": 48,
      "outputs": [
        {
          "output_type": "stream",
          "text": [
            "{'aa\\n', 'aw\\n', 'jh\\n', 'uh\\n', 'z\\n', 'eh\\n', 't\\n', 'd\\n', 'el\\n', 'eng\\n', 'ah\\n', 'oy\\n', 'ax-h\\n', 'q\\n', 'zh\\n', 'ix\\n', 'gcl\\n', 'ch\\n', 's\\n', 'f\\n', 'kcl\\n', 'r\\n', 'g\\n', 'tcl\\n', 'ih\\n', 'n\\n', 'th\\n', 'ao\\n', 'ay\\n', 'ae\\n', 'k\\n', 'ey\\n', 'iy\\n', 'dcl\\n', 'w\\n', 'b\\n', 'dx\\n', 'ng\\n', 'sh\\n', 'ux\\n', 'em\\n', 'y\\n', 'axr\\n', 'ax\\n', 'm\\n', 'epi\\n', 'pau\\n', 'er\\n', 'h#\\n', 'en\\n', 'hv\\n', 'l\\n', 'dh\\n', 'v\\n', 'uw\\n', 'nx\\n', 'hh\\n', 'p\\n', 'bcl\\n', 'ow\\n', 'pcl\\n'}\n",
            "the number of training data =  177080\n",
            "the number of test data =  64145\n"
          ],
          "name": "stdout"
        }
      ]
    },
    {
      "cell_type": "code",
      "metadata": {
        "id": "dDl3OS-dPi4L"
      },
      "source": [
        "# #check some parameters\n",
        "# yyy, sr = librosa.load('/content/DR1FCJF0SA1.WAV')\n",
        "# sr = 16000\n",
        "# print('length of first wav file: ', len(yyy))\n",
        "# print('sample rate: ', sr)\n",
        "# print('length of wav file: ', len(yyy)/sr)\n",
        "# print('N is: ', len(yyy)/sr*100)\n",
        "# x = librosa.feature.mfcc(y=yyy, sr=sr)\n",
        "# print('with default hyperparameters: ', np.shape(x))\n",
        "# x = librosa.feature.mfcc(y=yyy, sr=sr , n_mfcc=13, hop_length=160)\n",
        "# print('after tuning hyperparameters: ', np.shape(x))"
      ],
      "execution_count": 49,
      "outputs": []
    },
    {
      "cell_type": "code",
      "metadata": {
        "id": "6EFKPbvNQOV5"
      },
      "source": [
        "# yyy, sr = librosa.load('/content/DR1FCJF0SA2.WAV')\n",
        "# sr = 16000\n",
        "# print(len(yyy)/sr * 100)\n",
        "# x = librosa.feature.mfcc(y=yyy, sr=sr , n_mfcc=13, hop_length=160)\n",
        "# print(np.shape(x))"
      ],
      "execution_count": 50,
      "outputs": []
    },
    {
      "cell_type": "code",
      "metadata": {
        "id": "Mkt9Xsz02G2Q"
      },
      "source": [
        "# yyy, sr = librosa.load('/content/DR1FCJF0SI648.WAV')\n",
        "# sr = 16000\n",
        "# print(len(yyy)/sr * 100)\n",
        "# x = librosa.feature.mfcc(y=yyy, sr=sr , n_mfcc=13, hop_length=160)\n",
        "# print(np.shape(x))"
      ],
      "execution_count": 51,
      "outputs": []
    },
    {
      "cell_type": "markdown",
      "metadata": {
        "id": "n847q3o6nefH"
      },
      "source": [
        "##Labling the phones"
      ]
    },
    {
      "cell_type": "markdown",
      "metadata": {
        "id": "TXxV2R0qEKhs"
      },
      "source": [
        "\\begin{array}{|c|c|c|c}\\hline\n",
        "\\mathcal{\\#} & \\mathcal{Phone Class} & \\mathcal{\\# labels} & \\mathcal{TIMIT labels} \\\\ \\hline\n",
        "  l1 & Vowel/Semivowel(VS) & 25 & aa \\ ae \\ ah \\ ao \\ aw \\ ax \\ axh \\ axr \\ ay \\ eh \\ er \\ ey \\ ih \\ ix \\ iy \\ ow \\ oy \\ uh \\ uw \\ ux \\ el \\ l \\ r \\ w \\ y \\\\ \\hline\n",
        "  l2 & Nasal/Flap(NF) & 8 & em \\ en \\ eng \\ m \\ n \\ ng \\ nx \\ dx \\\\ \\hline\n",
        "  l3 & Strong Fracative(SF) & 6 & s \\ z \\ sh \\ zh \\ ch \\ jh \\\\ \\hline\n",
        "  l4 & Weak Fricative(Wf) & 6 & v \\ f \\ dh \\ th \\ hh \\ hv \\\\ \\hline\n",
        "  l5 & Stop(ST) & 6 & d \\ b \\ g \\ p\\ t\\ k \\\\ \\hline\n",
        "  l6 & Closure (CL) & 9 & bcl \\ dcl \\ gcl \\ pcl \\ tcl \\ kcl \\ epi \\ pau \\ h\\# \\\\ \\hline \\hline\n",
        "  l7 & Sonorant(SON) & 33 & Vowel/Semivowel + Nasal/Flap \\\\ \\hline\n",
        "  l8 & Obstruent (OBS) & 18 & Strong Fric + Weak Fric + Stop\\\\ \\hline\n",
        "  l9 & Silence (SIL) & 9 & Same as Closure\\\\ \\hline\n",
        "  \\end{array}"
      ]
    },
    {
      "cell_type": "code",
      "metadata": {
        "id": "0Y9KVa7FCCJd"
      },
      "source": [
        "phLabels = {0: ['aa\\n', 'ae\\n', 'ah\\n', 'ao\\n', 'aw\\n', 'ax\\n', 'axh\\n', 'axr\\n',\n",
        "                  'ay\\n', 'eh\\n', 'er\\n', 'ey\\n', 'ih\\n', 'ix\\n', 'iy\\n', 'ow\\n', \n",
        "                   'oy\\n', 'uh\\n', 'uw\\n', 'ux\\n', 'el\\n', 'l\\n', 'r\\n', 'w\\n', 'y\\n']\n",
        "            ,1: ['em\\n', 'en\\n', 'eng\\n', 'm\\n', 'n\\n', 'ng\\n', 'nx\\n', 'dx\\n']\n",
        "            ,2: ['s\\n', 'z\\n', 'sh\\n', 'zh\\n', 'ch\\n', 'jh\\n']\n",
        "            ,3: ['v\\n', 'f\\n', 'dh\\n', 'th\\n', 'hh\\n', 'hv\\n']\n",
        "            ,4: ['d\\n', 'b\\n', 'g\\n', 'p\\n', 't\\n', 'k\\n']\n",
        "            ,5: ['bcl\\n', 'dcl\\n', 'gcl\\n', 'pcl\\n', 'tcl\\n', 'kcl\\n', 'epi\\n', 'pau\\n', 'h#\\n']\n",
        "            }"
      ],
      "execution_count": 52,
      "outputs": []
    },
    {
      "cell_type": "code",
      "metadata": {
        "id": "5FlLy7SJ0Wbp"
      },
      "source": [
        "# phLabels[0]"
      ],
      "execution_count": 53,
      "outputs": []
    },
    {
      "cell_type": "code",
      "metadata": {
        "id": "GnND7e1uHEUf"
      },
      "source": [
        "# phLabels = {'l1': ['aa', 'ae', 'ah', 'ao', 'aw', 'ax', 'axh', 'axr', 'ay', 'eh', \n",
        "#                 'er', 'ey', 'ih', 'ix', 'iy', 'ow', 'oy', 'uh', 'uw', 'ux', 'el',\n",
        "#                  'l', 'r', 'w', 'y']\n",
        "#             ,'l2': ['em', 'en', 'eng', 'm', 'n', 'ng', 'nx', 'dx']\n",
        "#             ,'l3': ['s', 'z', 'sh', 'zh', 'ch', 'jh']\n",
        "#             ,'l4': ['v', 'f', 'dh', 'th', 'hh', 'hv']\n",
        "#             ,'l5': ['d', 'b', 'g', 'p', 't', 'k']\n",
        "#             ,'l6': ['bcl', 'dcl', 'gcl', 'pcl', 'tcl', 'kcl', 'epi', 'pau', 'h#']\n",
        "#             }"
      ],
      "execution_count": 54,
      "outputs": []
    },
    {
      "cell_type": "code",
      "metadata": {
        "colab": {
          "base_uri": "https://localhost:8080/"
        },
        "id": "6uz8ZGVrU6-e",
        "outputId": "72cce1bf-2bdf-4b00-e39a-1a211d1ab507"
      },
      "source": [
        "# assigning the labels to one of 6 classes\n",
        "# for training data\n",
        "trainPhoneLabelsConverted = np.zeros((trainNumbers), dtype=np.int)\n",
        "cnt = 0\n",
        "for label in trainPhonesLabels:\n",
        "  for i in range(6):\n",
        "    if label in phLabels[i]:\n",
        "      trainPhoneLabelsConverted[cnt] = i\n",
        "      cnt += 1\n",
        "      break\n",
        "print(set(trainPhoneLabelsConverted))"
      ],
      "execution_count": 55,
      "outputs": [
        {
          "output_type": "stream",
          "text": [
            "{0, 1, 2, 3, 4, 5}\n"
          ],
          "name": "stdout"
        }
      ]
    },
    {
      "cell_type": "code",
      "metadata": {
        "colab": {
          "base_uri": "https://localhost:8080/"
        },
        "id": "UxX18QFWIm-j",
        "outputId": "480da5bd-5422-4b43-e938-e78abab261a2"
      },
      "source": [
        "# for test data\n",
        "testPhoneLabelsConverted = np.zeros((testNumbers), dtype=np.int)\n",
        "cnt = 0\n",
        "for label in testPhonesLabels:\n",
        "  for i in range(6):\n",
        "    if label in phLabels[i]:\n",
        "      testPhoneLabelsConverted[cnt] = i\n",
        "      cnt += 1\n",
        "      break\n",
        "print(set(testPhoneLabelsConverted))"
      ],
      "execution_count": 56,
      "outputs": [
        {
          "output_type": "stream",
          "text": [
            "{0, 1, 2, 3, 4, 5}\n"
          ],
          "name": "stdout"
        }
      ]
    },
    {
      "cell_type": "code",
      "metadata": {
        "colab": {
          "base_uri": "https://localhost:8080/"
        },
        "id": "8UK3zcX857Ui",
        "outputId": "01e63072-f320-4e47-8422-7842e4bc20fe"
      },
      "source": [
        "#preprocessing on mfcc_features stacking size \n",
        "cntTrain = 0\n",
        "for ph in trainPhonesFeatures:\n",
        "  cntTrain += np.size(ph, axis=1) // 7\n",
        "  if np.size(ph, axis=1) % 7 != 0:\n",
        "    cntTrain += 1\n",
        "\n",
        "print(cntTrain)\n",
        "# for instnace for len(ph) = 15 we have 3 frames of size 13*7 = 91\n",
        "\n",
        "cntTest = 0\n",
        "for ph in testPhonesFeatures:\n",
        "  cntTest += np.size(ph, axis=1) // 7\n",
        "  if np.size(ph, axis=1) % 7 != 0:\n",
        "    cntTest += 1\n",
        "\n",
        "print(cntTest)"
      ],
      "execution_count": 57,
      "outputs": [
        {
          "output_type": "stream",
          "text": [
            "277249\n",
            "101012\n"
          ],
          "name": "stdout"
        }
      ]
    },
    {
      "cell_type": "code",
      "metadata": {
        "id": "KS8WO92p8e6X"
      },
      "source": [
        "# we should have 277249 training data with dimention 299391*91\n",
        "Xtr = np.zeros((cntTrain, 91))\n",
        "ytr = np.zeros((cntTrain))\n",
        "i = 0 # for counting train phones (transfering labels)\n",
        "j = 0 # for counting splited training phones\n",
        "\n",
        "for ph in trainPhonesFeatures:\n",
        "  while np.size(ph, axis=1) >= 7:\n",
        "    temp = ph[:, 0:7]\n",
        "    Xtr[j] = temp.flat #adding first 7 columns to Xtrain as supervector\n",
        "    ytr[j] = trainPhoneLabelsConverted[i]\n",
        "    j += 1\n",
        "    ph = np.delete(ph, range(7), axis=1)\n",
        "  if np.size(ph, axis=1) != 0:\n",
        "    temp = ph.flat\n",
        "    Xtr[j, 0:len(temp)] = temp\n",
        "    j += 1\n",
        "  i += 1"
      ],
      "execution_count": 58,
      "outputs": []
    },
    {
      "cell_type": "code",
      "metadata": {
        "id": "kVGfNtBIJHqY"
      },
      "source": [
        "# we should have 101012 test data with dimention 299391*91\n",
        "Xtst = np.zeros((cntTest, 91))\n",
        "ytst = np.zeros((cntTest))\n",
        "i = 0 # for counting test phones (transfering labels)\n",
        "j = 0 # for counting splited test phones\n",
        "\n",
        "for ph in testPhonesFeatures:\n",
        "  while np.size(ph, axis=1) >= 7:\n",
        "    temp = ph[:, 0:7]\n",
        "    Xtst[j] = temp.flat #adding first 7 columns to Xtest as supervector\n",
        "    ytst[j] = trainPhoneLabelsConverted[i]\n",
        "    j += 1\n",
        "    ph = np.delete(ph, range(7), axis=1)\n",
        "  if np.size(ph, axis=1) != 0:\n",
        "    temp = ph.flat\n",
        "    Xtst[j, 0:len(temp)] = temp\n",
        "    j += 1\n",
        "  i += 1"
      ],
      "execution_count": 59,
      "outputs": []
    },
    {
      "cell_type": "markdown",
      "metadata": {
        "id": "q9k6oxVobrxx"
      },
      "source": [
        "##Biulding the Network"
      ]
    },
    {
      "cell_type": "code",
      "metadata": {
        "id": "kTS7mmQp9VCA"
      },
      "source": [
        "#one_hot the labels\n",
        "nClasses = 6\n",
        "ytrOneHot = tf.keras.utils.to_categorical(ytr, num_classes=nClasses, dtype='float32')"
      ],
      "execution_count": 73,
      "outputs": []
    },
    {
      "cell_type": "code",
      "metadata": {
        "colab": {
          "base_uri": "https://localhost:8080/",
          "height": 229
        },
        "id": "k2p69yn1ea9q",
        "outputId": "460b146e-983d-4084-b82a-599e7437a8be"
      },
      "source": [
        "one_hot_labels = np.array(ytrOneHot)\n",
        "count_label = tf.reduce_sum(one_hot_labels, axis=0)\n",
        "print(count_label) \n",
        "fig = plt.figure(figsize=(4, 3))\n",
        "bar_width = 0.9\n",
        "p1 = plt.bar(np.arange(6), count_label, bar_width, color='b', label='John')"
      ],
      "execution_count": 103,
      "outputs": [
        {
          "output_type": "stream",
          "text": [
            "tf.Tensor([209373.  11773.  10912.   6888.  13532.  24771.], shape=(6,), dtype=float32)\n"
          ],
          "name": "stdout"
        },
        {
          "output_type": "display_data",
          "data": {
            "image/png": "[encoded data removed]",
            "text/plain": [
              "<Figure size 288x216 with 1 Axes>"
            ]
          },
          "metadata": {
            "tags": [],
            "needs_background": "light"
          }
        }
      ]
    },
    {
      "cell_type": "code",
      "metadata": {
        "id": "wx6wMA6ibqds"
      },
      "source": [
        "def build_neural_network(data_size_in, n_classes):\n",
        "    \n",
        "    # He is more compatible with relu and Glorot is more adjustable with tanh\n",
        "    initializer = tf.keras.initializers.HeUniform()\n",
        "\n",
        "    inputs = layers.Input(shape=data_size_in)\n",
        "\n",
        "    x = layers.Conv1D(16, kernel_size=5, activation='relu', kernel_initializer=initializer)(inputs)\n",
        "    x = layers.BatchNormalization()(x)\n",
        "    x = layers.Dropout(0.5)(x)\n",
        "    x = layers.MaxPool1D(pool_size=2)(x)\n",
        "    # x = layers.Conv1D(32, kernel_size=5, activation='relu', kernel_initializer=initializer)(x)\n",
        "    # x = layers.BatchNormalization()(x)\n",
        "    # x = layers.Dropout(0.5)(x)\n",
        "    # x = layers.MaxPool1D(pool_size=2)(x)\n",
        "    # x = layers.Conv1D(64, kernel_size=5, activation='relu', kernel_initializer=initializer)(x)\n",
        "    # x = layers.BatchNormalization()(x)\n",
        "    # x = layers.Dropout(0.5)(x)\n",
        "    # x = layers.MaxPool1D(pool_size=2)(x)\n",
        "\n",
        "    x = layers.Flatten()(x)\n",
        "\n",
        "    x = layers.Dense(32, activation='relu', kernel_initializer=initializer)(x)\n",
        "    x = layers.Dropout(0.5)(x)\n",
        "    prediction = layers.Dense(n_classes, activation='softmax')(x)\n",
        "\n",
        "    model = Model(inputs=inputs, outputs=prediction)\n",
        "    print(model.summary())\n",
        "    \n",
        "    return model"
      ],
      "execution_count": 61,
      "outputs": []
    },
    {
      "cell_type": "code",
      "metadata": {
        "colab": {
          "base_uri": "https://localhost:8080/"
        },
        "id": "ku2ODT2sxju5",
        "outputId": "b5a2007d-b522-49ea-c06d-55017a9b497d"
      },
      "source": [
        "#compile the model\n",
        "data_size_in = (91, 1)   #13*7\n",
        "n_classes = 6   #we have 6 different labels\n",
        "ls = 'CategoricalCrossentropy'\n",
        "opt = optimizers.Adam(learning_rate=0.01, beta_1=0.92)\n",
        "\n",
        "network = build_neural_network(data_size_in, n_classes)\n",
        "network.compile(loss=ls, optimizer=opt, metrics=['accuracy'])"
      ],
      "execution_count": 62,
      "outputs": [
        {
          "output_type": "stream",
          "text": [
            "Model: \"model_2\"\n",
            "_________________________________________________________________\n",
            "Layer (type)                 Output Shape              Param #   \n",
            "=================================================================\n",
            "input_3 (InputLayer)         [(None, 91, 1)]           0         \n",
            "_________________________________________________________________\n",
            "conv1d_3 (Conv1D)            (None, 87, 16)            96        \n",
            "_________________________________________________________________\n",
            "batch_normalization_3 (Batch (None, 87, 16)            64        \n",
            "_________________________________________________________________\n",
            "dropout_5 (Dropout)          (None, 87, 16)            0         \n",
            "_________________________________________________________________\n",
            "max_pooling1d_2 (MaxPooling1 (None, 43, 16)            0         \n",
            "_________________________________________________________________\n",
            "flatten_2 (Flatten)          (None, 688)               0         \n",
            "_________________________________________________________________\n",
            "dense_4 (Dense)              (None, 32)                22048     \n",
            "_________________________________________________________________\n",
            "dropout_6 (Dropout)          (None, 32)                0         \n",
            "_________________________________________________________________\n",
            "dense_5 (Dense)              (None, 6)                 198       \n",
            "=================================================================\n",
            "Total params: 22,406\n",
            "Trainable params: 22,374\n",
            "Non-trainable params: 32\n",
            "_________________________________________________________________\n",
            "None\n"
          ],
          "name": "stdout"
        }
      ]
    },
    {
      "cell_type": "code",
      "metadata": {
        "colab": {
          "base_uri": "https://localhost:8080/",
          "height": 1000
        },
        "id": "AD0jl3rt8Mo3",
        "outputId": "a9192371-9d48-4380-a4bd-ab2db785618d"
      },
      "source": [
        "#feed the network\n",
        "# lists where we will be storing values during training, for visualization purposes\n",
        "traLosses = [] # list for training loss\n",
        "traAccs = [] # list for training accuracy\n",
        "valLosses = [] # list for validation loss\n",
        "valAccs = [] # list for validation accuracy\n",
        "batchSize = 128\n",
        "nEpochs = 16\n",
        "\n",
        "# Train your network\n",
        "results = network.fit(Xtr, ytrOneHot, batch_size=batchSize, \n",
        "                      validation_split=0.1, epochs = nEpochs, verbose = 1)\n",
        "\n",
        "# Get training loss and accuracy\n",
        "traLosses = results.history['loss']\n",
        "traAccs = results.history['accuracy']\n",
        "valLosses = results.history['val_loss']\n",
        "valAccs = results.history['val_accuracy']\n",
        "\n",
        "# Visualization of the learning curves\n",
        "fig = plt.figure(figsize=(10, 5))\n",
        "plt.plot(range(len(traLosses)), traLosses, 'b')\n",
        "plt.plot(range(len(valLosses)), valLosses, 'r')\n",
        "plt.xlabel('epoch')\n",
        "plt.ylabel('loss')\n",
        "plt.legend({\"tran_loss\", \"val_loss\"}, \n",
        "          loc='center left', bbox_to_anchor=(1, 0.5))\n",
        "plt.show()\n",
        "\n",
        "fig = plt.figure(figsize=(10, 5))\n",
        "plt.plot(range(len(traAccs)), traAccs, 'b')\n",
        "plt.plot(range(len(valAccs)), valAccs, 'r')\n",
        "plt.xlabel('epoch')\n",
        "plt.ylabel('acc')\n",
        "plt.legend({\"train_acc\", \"val_acc\"}, \n",
        "          loc='center left', bbox_to_anchor=(1, 0.5))\n",
        "# display.display(plt.gcf())"
      ],
      "execution_count": 63,
      "outputs": [
        {
          "output_type": "stream",
          "text": [
            "Epoch 1/16\n",
            "1950/1950 [==============================] - 7s 3ms/step - loss: 0.7156 - accuracy: 0.7453 - val_loss: 0.6102 - val_accuracy: 0.8072\n",
            "Epoch 2/16\n",
            "1950/1950 [==============================] - 6s 3ms/step - loss: 0.6801 - accuracy: 0.7509 - val_loss: 0.6086 - val_accuracy: 0.8072\n",
            "Epoch 3/16\n",
            "1950/1950 [==============================] - 6s 3ms/step - loss: 0.6807 - accuracy: 0.7507 - val_loss: 0.6110 - val_accuracy: 0.8072\n",
            "Epoch 4/16\n",
            "1950/1950 [==============================] - 6s 3ms/step - loss: 0.6825 - accuracy: 0.7494 - val_loss: 0.6120 - val_accuracy: 0.8072\n",
            "Epoch 5/16\n",
            "1950/1950 [==============================] - 6s 3ms/step - loss: 0.6819 - accuracy: 0.7500 - val_loss: 0.6116 - val_accuracy: 0.8072\n",
            "Epoch 6/16\n",
            "1950/1950 [==============================] - 6s 3ms/step - loss: 0.6863 - accuracy: 0.7479 - val_loss: 0.6126 - val_accuracy: 0.8072\n",
            "Epoch 7/16\n",
            "1950/1950 [==============================] - 6s 3ms/step - loss: 0.6846 - accuracy: 0.7482 - val_loss: 0.6074 - val_accuracy: 0.8072\n",
            "Epoch 8/16\n",
            "1950/1950 [==============================] - 6s 3ms/step - loss: 0.6837 - accuracy: 0.7493 - val_loss: 0.6133 - val_accuracy: 0.8072\n",
            "Epoch 9/16\n",
            "1950/1950 [==============================] - 6s 3ms/step - loss: 0.6842 - accuracy: 0.7490 - val_loss: 0.6142 - val_accuracy: 0.8072\n",
            "Epoch 10/16\n",
            "1950/1950 [==============================] - 6s 3ms/step - loss: 0.6819 - accuracy: 0.7501 - val_loss: 0.6116 - val_accuracy: 0.8072\n",
            "Epoch 11/16\n",
            "1950/1950 [==============================] - 6s 3ms/step - loss: 0.6835 - accuracy: 0.7500 - val_loss: 0.6142 - val_accuracy: 0.8072\n",
            "Epoch 12/16\n",
            "1950/1950 [==============================] - 6s 3ms/step - loss: 0.6828 - accuracy: 0.7499 - val_loss: 0.6129 - val_accuracy: 0.8072\n",
            "Epoch 13/16\n",
            "1950/1950 [==============================] - 6s 3ms/step - loss: 0.6851 - accuracy: 0.7492 - val_loss: 0.6137 - val_accuracy: 0.8072\n",
            "Epoch 14/16\n",
            "1950/1950 [==============================] - 6s 3ms/step - loss: 0.6846 - accuracy: 0.7480 - val_loss: 0.6106 - val_accuracy: 0.8072\n",
            "Epoch 15/16\n",
            "1950/1950 [==============================] - 6s 3ms/step - loss: 0.6821 - accuracy: 0.7497 - val_loss: 0.6105 - val_accuracy: 0.8072\n",
            "Epoch 16/16\n",
            "1950/1950 [==============================] - 7s 3ms/step - loss: 0.6809 - accuracy: 0.7505 - val_loss: 0.6084 - val_accuracy: 0.8072\n"
          ],
          "name": "stdout"
        },
        {
          "output_type": "display_data",
          "data": {
            "image/png": "[encoded data removed]",
            "text/plain": [
              "<Figure size 720x360 with 1 Axes>"
            ]
          },
          "metadata": {
            "tags": [],
            "needs_background": "light"
          }
        },
        {
          "output_type": "execute_result",
          "data": {
            "text/plain": [
              "<matplotlib.legend.Legend at 0x7f090bd1fd50>"
            ]
          },
          "metadata": {
            "tags": []
          },
          "execution_count": 63
        },
        {
          "output_type": "display_data",
          "data": {
            "image/png": "[encoded data removed]",
            "text/plain": [
              "<Figure size 720x360 with 1 Axes>"
            ]
          },
          "metadata": {
            "tags": [],
            "needs_background": "light"
          }
        }
      ]
    },
    {
      "cell_type": "code",
      "metadata": {
        "id": "TOZnUf5jR_OB"
      },
      "source": [
        "#prediction phase\n",
        "yPred = network.predict(Xtst)\n",
        "yPred = np.argmax(yPred, axis=1)"
      ],
      "execution_count": 64,
      "outputs": []
    },
    {
      "cell_type": "code",
      "metadata": {
        "colab": {
          "base_uri": "https://localhost:8080/"
        },
        "id": "RxIO1diNTqXT",
        "outputId": "4ce73d53-2124-4667-9f5a-2625ab848481"
      },
      "source": [
        "print(classification_report(ytst, yPred))"
      ],
      "execution_count": 65,
      "outputs": [
        {
          "output_type": "stream",
          "text": [
            "              precision    recall  f1-score   support\n",
            "\n",
            "         0.0       0.75      1.00      0.85     75385\n",
            "         1.0       0.00      0.00      0.00      4286\n",
            "         2.0       0.00      0.00      0.00      4176\n",
            "         3.0       0.00      0.00      0.00      2635\n",
            "         4.0       0.00      0.00      0.00      5161\n",
            "         5.0       0.00      0.00      0.00      9369\n",
            "\n",
            "    accuracy                           0.75    101012\n",
            "   macro avg       0.12      0.17      0.14    101012\n",
            "weighted avg       0.56      0.75      0.64    101012\n",
            "\n"
          ],
          "name": "stdout"
        },
        {
          "output_type": "stream",
          "text": [
            "/usr/local/lib/python3.7/dist-packages/sklearn/metrics/_classification.py:1272: UndefinedMetricWarning: Precision and F-score are ill-defined and being set to 0.0 in labels with no predicted samples. Use `zero_division` parameter to control this behavior.\n",
            "  _warn_prf(average, modifier, msg_start, len(result))\n"
          ],
          "name": "stderr"
        }
      ]
    },
    {
      "cell_type": "code",
      "metadata": {
        "colab": {
          "base_uri": "https://localhost:8080/"
        },
        "id": "oWOUSY5MUOx0",
        "outputId": "a270bdcd-b2c8-4f70-a3f3-44d392dc48b9"
      },
      "source": [
        "print(confusion_matrix(ytst, yPred))"
      ],
      "execution_count": 37,
      "outputs": [
        {
          "output_type": "stream",
          "text": [
            "[[75385     0     0     0     0     0]\n",
            " [ 4286     0     0     0     0     0]\n",
            " [ 4176     0     0     0     0     0]\n",
            " [ 2635     0     0     0     0     0]\n",
            " [ 5161     0     0     0     0     0]\n",
            " [ 9369     0     0     0     0     0]]\n"
          ],
          "name": "stdout"
        }
      ]
    }
  ]
}